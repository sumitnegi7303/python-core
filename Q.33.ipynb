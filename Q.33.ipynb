{
 "cells": [
  {
   "cell_type": "code",
   "execution_count": null,
   "id": "8a7c9d60",
   "metadata": {},
   "outputs": [],
   "source": [
    "33. Define a function which can print a dictionary where the keys are numbers between 1 and 3 \n",
    "(both included) and the values are square of keys. \n",
    "Hints: Use dict[key]=value pattern to put entry into a dictionary."
   ]
  },
  {
   "cell_type": "code",
   "execution_count": 8,
   "id": "e01ceaee",
   "metadata": {
    "scrolled": true
   },
   "outputs": [
    {
     "name": "stdout",
     "output_type": "stream",
     "text": [
      "{1: 1, 2: 4, 3: 9, 4: 16, 5: 25, 6: 36, 7: 49, 8: 64, 9: 81, 10: 100, 11: 121, 12: 144, 13: 169, 14: 196, 15: 225, 16: 256, 17: 289, 18: 324, 19: 361, 20: 400}\n"
     ]
    }
   ],
   "source": [
    "d=dict()\n",
    "\n",
    "for x in range(1,21):\n",
    "    \n",
    "    d[x]=x**2\n",
    "\n",
    "print(d)"
   ]
  }
 ],
 "metadata": {
  "kernelspec": {
   "display_name": "Python 3 (ipykernel)",
   "language": "python",
   "name": "python3"
  },
  "language_info": {
   "codemirror_mode": {
    "name": "ipython",
    "version": 3
   },
   "file_extension": ".py",
   "mimetype": "text/x-python",
   "name": "python",
   "nbconvert_exporter": "python",
   "pygments_lexer": "ipython3",
   "version": "3.9.7"
  }
 },
 "nbformat": 4,
 "nbformat_minor": 5
}
