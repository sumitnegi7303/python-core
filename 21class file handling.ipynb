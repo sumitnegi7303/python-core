{
 "cells": [
  {
   "cell_type": "code",
   "execution_count": null,
   "id": "8c973c3b",
   "metadata": {},
   "outputs": [],
   "source": [
    "#file handling :"
   ]
  },
  {
   "cell_type": "code",
   "execution_count": 3,
   "id": "f03caa20",
   "metadata": {},
   "outputs": [
    {
     "data": {
      "text/plain": [
       "38"
      ]
     },
     "execution_count": 3,
     "metadata": {},
     "output_type": "execute_result"
    }
   ],
   "source": [
    "file = open(\"abc.txt\",\"x\")\n",
    "file.write(\"this is cat\\nthe dog\\nit is hot outside\\n\")"
   ]
  },
  {
   "cell_type": "code",
   "execution_count": 4,
   "id": "a5d3f70d",
   "metadata": {},
   "outputs": [
    {
     "data": {
      "text/plain": [
       "38"
      ]
     },
     "execution_count": 4,
     "metadata": {},
     "output_type": "execute_result"
    }
   ],
   "source": [
    "len(\"this is cat\\nthe dog\\nit is hot outside\\n\")"
   ]
  },
  {
   "cell_type": "code",
   "execution_count": 7,
   "id": "c3c892db",
   "metadata": {},
   "outputs": [
    {
     "name": "stdout",
     "output_type": "stream",
     "text": [
      "this is cat\n",
      "\n",
      "the dog\n",
      "\n",
      "it is hot outside\n",
      "\n"
     ]
    }
   ],
   "source": [
    "file = open(\"abc.txt\",\"r\")\n",
    "for i in file :\n",
    "    print(i)"
   ]
  },
  {
   "cell_type": "code",
   "execution_count": 8,
   "id": "c430ae6d",
   "metadata": {},
   "outputs": [],
   "source": [
    "file = open(\"abc.txt\",\"a\")"
   ]
  },
  {
   "cell_type": "code",
   "execution_count": 9,
   "id": "8f5b274d",
   "metadata": {},
   "outputs": [
    {
     "data": {
      "text/plain": [
       "16"
      ]
     },
     "execution_count": 9,
     "metadata": {},
     "output_type": "execute_result"
    }
   ],
   "source": [
    "file.write(\"today is monday\\n\")"
   ]
  },
  {
   "cell_type": "code",
   "execution_count": 11,
   "id": "50e05090",
   "metadata": {},
   "outputs": [
    {
     "name": "stdout",
     "output_type": "stream",
     "text": [
      "this is cat\n",
      "\n",
      "the dog\n",
      "\n",
      "it is hot outside\n",
      "\n",
      "today is monday\n",
      "\n"
     ]
    }
   ],
   "source": [
    "file = open(\"abc.txt\",\"r\")\n",
    "for i in file:\n",
    "    print(i)"
   ]
  },
  {
   "cell_type": "code",
   "execution_count": 15,
   "id": "29cf6a5b",
   "metadata": {},
   "outputs": [],
   "source": [
    "file = open(\"xyz.txt\",\"w\")"
   ]
  },
  {
   "cell_type": "code",
   "execution_count": 31,
   "id": "7d61217b",
   "metadata": {},
   "outputs": [
    {
     "data": {
      "text/plain": [
       "34"
      ]
     },
     "execution_count": 31,
     "metadata": {},
     "output_type": "execute_result"
    }
   ],
   "source": [
    "f = open(\"xyz.txt\",\"w\")\n",
    "f.write(\"we are team flash\\nthe dog is good\\n\")"
   ]
  },
  {
   "cell_type": "code",
   "execution_count": 33,
   "id": "924f730c",
   "metadata": {},
   "outputs": [
    {
     "name": "stdout",
     "output_type": "stream",
     "text": [
      "we are team flash\n",
      "\n",
      "the dog is good\n",
      "\n"
     ]
    }
   ],
   "source": [
    "f = open(\"xyz.txt\",\"r\")\n",
    "for i in f:\n",
    "    print(i)"
   ]
  },
  {
   "cell_type": "code",
   "execution_count": null,
   "id": "1d29b32e",
   "metadata": {},
   "outputs": [],
   "source": [
    "x = create\n",
    "r = read\n",
    "w = write\n",
    "a = append"
   ]
  },
  {
   "cell_type": "code",
   "execution_count": 34,
   "id": "dcd28f18",
   "metadata": {},
   "outputs": [
    {
     "name": "stdout",
     "output_type": "stream",
     "text": [
      "this is cat\n",
      "the dog\n",
      "it is hot outside\n",
      "today is monday\n",
      "\n"
     ]
    }
   ],
   "source": [
    "with open(\"abc.txt\",\"r\")as f:\n",
    "    print(f.read())"
   ]
  },
  {
   "cell_type": "code",
   "execution_count": 35,
   "id": "546a364f",
   "metadata": {},
   "outputs": [
    {
     "name": "stdout",
     "output_type": "stream",
     "text": [
      "we are team flash\n",
      "the dog is good\n",
      "\n"
     ]
    }
   ],
   "source": [
    "with open(\"xyz.txt\",\"r\")as f :\n",
    "    print(f.read())"
   ]
  },
  {
   "cell_type": "code",
   "execution_count": null,
   "id": "3bb926b1",
   "metadata": {},
   "outputs": [],
   "source": [
    "wap to creat a sports.txt and add five sports personalities."
   ]
  },
  {
   "cell_type": "code",
   "execution_count": 39,
   "id": "e3f359b7",
   "metadata": {},
   "outputs": [
    {
     "name": "stdout",
     "output_type": "stream",
     "text": [
      "33\n"
     ]
    }
   ],
   "source": [
    "with open(\"spots.txt\",\"x\")as f :\n",
    "    print(f.write(\"sachin\\nbumraha\\ndhoni\\njaddu\\n\\nkohli\"))"
   ]
  },
  {
   "cell_type": "code",
   "execution_count": 41,
   "id": "9be405d6",
   "metadata": {},
   "outputs": [
    {
     "name": "stdout",
     "output_type": "stream",
     "text": [
      "sachin\n",
      "bumraha\n",
      "dhoni\n",
      "jaddu\n",
      "\n",
      "kohli\n"
     ]
    }
   ],
   "source": [
    "with open(\"spots.txt\",\"r\")as f :\n",
    "    print(f.read())"
   ]
  },
  {
   "cell_type": "code",
   "execution_count": 43,
   "id": "83ca2419",
   "metadata": {},
   "outputs": [],
   "source": [
    "with open(\"sports.txt\",\"a\")as f :\n",
    "    f.writelines([\"sehwag\\n\",\"dravind\\n\",\"dada\\n\",\"kapil\\m\"])"
   ]
  },
  {
   "cell_type": "code",
   "execution_count": 48,
   "id": "1f5bd3bb",
   "metadata": {},
   "outputs": [
    {
     "name": "stdout",
     "output_type": "stream",
     "text": [
      "enter five more :gayle\\n lara\\n jaya\\n susma\\n komal\\n\n"
     ]
    }
   ],
   "source": [
    "with open(\"sports.txt\",\"a\")as f :\n",
    "    f.writelines(input(\"enter five more :\").split())"
   ]
  },
  {
   "cell_type": "code",
   "execution_count": 50,
   "id": "d4ee1ae9",
   "metadata": {},
   "outputs": [
    {
     "name": "stdout",
     "output_type": "stream",
     "text": [
      "enter five more :gayle\\n lara\\n jaya\\n susma\\n komal\\n\n"
     ]
    },
    {
     "data": {
      "text/plain": [
       "['gayle\\\\n', 'lara\\\\n', 'jaya\\\\n', 'susma\\\\n', 'komal\\\\n']"
      ]
     },
     "execution_count": 50,
     "metadata": {},
     "output_type": "execute_result"
    }
   ],
   "source": [
    "input(\"enter five more :\").split()"
   ]
  },
  {
   "cell_type": "code",
   "execution_count": 51,
   "id": "ba0fe1a7",
   "metadata": {},
   "outputs": [
    {
     "name": "stdout",
     "output_type": "stream",
     "text": [
      "sehwag\n",
      "dravind\n",
      "dada\n",
      "kapil\\mgayle\\n lara\\n jaya\\n susma\\n komal\\ngayle\\n lara\\n jaya\\n susma\\n komal\\ngayle\\nlara\\njaya\\nsusma\\nkomal\\n\n"
     ]
    }
   ],
   "source": [
    "with open(\"sports.txt\",\"r\")as f:\n",
    "    print(f.read())"
   ]
  },
  {
   "cell_type": "code",
   "execution_count": 56,
   "id": "b6ad0093",
   "metadata": {},
   "outputs": [
    {
     "name": "stdout",
     "output_type": "stream",
     "text": [
      "enter the 5 sports personalities :sachin\n",
      "enter the 5 sports personalities :dhoni\n",
      "enter the 5 sports personalities :ronaldo\n",
      "enter the 5 sports personalities :messi\n",
      "enter the 5 sports personalities :neymar\n"
     ]
    }
   ],
   "source": [
    "with open(\"sports1.txt\",\"x\")as f :\n",
    "    for i in range(5):\n",
    "        f.write(input(\"enter the 5 sports personalities :\"))\n",
    "        f.write(\"\\n\")"
   ]
  },
  {
   "cell_type": "code",
   "execution_count": 57,
   "id": "8ebb2f4d",
   "metadata": {},
   "outputs": [
    {
     "name": "stdout",
     "output_type": "stream",
     "text": [
      "sachin\n",
      "dhoni\n",
      "ronaldo\n",
      "messi\n",
      "neymar\n",
      "\n"
     ]
    }
   ],
   "source": [
    "with open(\"sports1.txt\",\"r\")as f :\n",
    "    print(f.read())"
   ]
  },
  {
   "cell_type": "code",
   "execution_count": 58,
   "id": "3dcaa40d",
   "metadata": {},
   "outputs": [
    {
     "name": "stdout",
     "output_type": "stream",
     "text": [
      "['sachin\\n', 'dhoni\\n', 'ronaldo\\n', 'messi\\n', 'neymar\\n']\n"
     ]
    }
   ],
   "source": [
    "with open(\"sports1.txt\",\"r\")as f :\n",
    "    print(f.readlines())"
   ]
  },
  {
   "cell_type": "code",
   "execution_count": 69,
   "id": "93c542bd",
   "metadata": {},
   "outputs": [
    {
     "name": "stdout",
     "output_type": "stream",
     "text": [
      "sachin\n",
      "dhoni\n",
      "ronaldo\n"
     ]
    }
   ],
   "source": [
    "with open(\"sports1.txt\",\"r\")as f :\n",
    "    print(f.read(20))"
   ]
  },
  {
   "cell_type": "code",
   "execution_count": 71,
   "id": "d6123197",
   "metadata": {},
   "outputs": [
    {
     "data": {
      "text/plain": [
       "'ronaldo\\n'"
      ]
     },
     "execution_count": 71,
     "metadata": {},
     "output_type": "execute_result"
    }
   ],
   "source": [
    "with open(\"sports1.txt\",\"r\")as f :\n",
    "    l=f.readlines()\n",
    "l[2]"
   ]
  },
  {
   "cell_type": "code",
   "execution_count": null,
   "id": "5e9b8017",
   "metadata": {},
   "outputs": [],
   "source": [
    "wap to create two files one will be the game and other file will be the sports personality plays \n",
    "and print the corresponding game with personality name in a dictionery."
   ]
  },
  {
   "cell_type": "code",
   "execution_count": 34,
   "id": "19d5e94b",
   "metadata": {},
   "outputs": [
    {
     "name": "stdout",
     "output_type": "stream",
     "text": [
      "41\n"
     ]
    }
   ],
   "source": [
    "with open(\"sports.txt\",\"w\")as f :\n",
    "    print(f.write(\"football\\ncricket\\nbollyball\\ntennis\\ncycling\"))"
   ]
  },
  {
   "cell_type": "code",
   "execution_count": 31,
   "id": "be66a0c9",
   "metadata": {},
   "outputs": [
    {
     "name": "stdout",
     "output_type": "stream",
     "text": [
      "33\n"
     ]
    }
   ],
   "source": [
    "with open(\"sports.txt\",\"w\")as f :\n",
    "    print(f.write(\"sachin\\ndhoni\\nronaldo\\nmessi\\nneymar\"))"
   ]
  }
 ],
 "metadata": {
  "kernelspec": {
   "display_name": "Python 3 (ipykernel)",
   "language": "python",
   "name": "python3"
  },
  "language_info": {
   "codemirror_mode": {
    "name": "ipython",
    "version": 3
   },
   "file_extension": ".py",
   "mimetype": "text/x-python",
   "name": "python",
   "nbconvert_exporter": "python",
   "pygments_lexer": "ipython3",
   "version": "3.9.7"
  }
 },
 "nbformat": 4,
 "nbformat_minor": 5
}
