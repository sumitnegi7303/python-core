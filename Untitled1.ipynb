{
 "cells": [
  {
   "cell_type": "code",
   "execution_count": 1,
   "id": "fed7663d",
   "metadata": {},
   "outputs": [],
   "source": [
    "class Animals:\n",
    "    def __init__(self):\n",
    "        self.iswild=True\n",
    "        print('i am a parent class constructor')\n",
    "        \n",
    "    def wild(self):\n",
    "        if self.iswild:\n",
    "            print('it is for wild animal')\n",
    "            \n",
    "        else:\n",
    "            pass \n",
    "class Lion(Animals):\n",
    "    def __init__(self,country):\n",
    "        self.country=country\n",
    "        print(' i am a child class constructor')\n",
    "        super().__init__()\n",
    "        \n",
    "    def wild(self):\n",
    "        print(' i am a child class method')\n",
    "        print('country of lion is ',self.country)\n",
    "        super().wild()"
   ]
  },
  {
   "cell_type": "code",
   "execution_count": 3,
   "id": "98d37c62",
   "metadata": {},
   "outputs": [
    {
     "name": "stdout",
     "output_type": "stream",
     "text": [
      " i am a child class constructor\n",
      "i am a parent class constructor\n",
      " i am a child class method\n",
      "country of lion is  Africa\n",
      "it is for wild animal\n"
     ]
    }
   ],
   "source": [
    "li = Lion('Africa')\n",
    "li.wild()"
   ]
  },
  {
   "cell_type": "code",
   "execution_count": null,
   "id": "b4ac02cb",
   "metadata": {},
   "outputs": [],
   "source": []
  }
 ],
 "metadata": {
  "kernelspec": {
   "display_name": "Python 3 (ipykernel)",
   "language": "python",
   "name": "python3"
  },
  "language_info": {
   "codemirror_mode": {
    "name": "ipython",
    "version": 3
   },
   "file_extension": ".py",
   "mimetype": "text/x-python",
   "name": "python",
   "nbconvert_exporter": "python",
   "pygments_lexer": "ipython3",
   "version": "3.9.7"
  }
 },
 "nbformat": 4,
 "nbformat_minor": 5
}
