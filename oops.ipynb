{
 "cells": [
  {
   "cell_type": "code",
   "execution_count": 4,
   "id": "89cba60b",
   "metadata": {},
   "outputs": [
    {
     "name": "stdout",
     "output_type": "stream",
     "text": [
      "10\n",
      "constructor calls\n"
     ]
    }
   ],
   "source": [
    "class person:\n",
    "    x = 10 # class variable\n",
    "    print(x)\n",
    "    \n",
    "    def __init__(self,name,age):\n",
    "        self.name = name\n",
    "        self.age = age\n",
    "        print('constructor calls')\n",
    "        \n",
    "        \n",
    "ob=person(\"sumit\",19)"
   ]
  },
  {
   "cell_type": "code",
   "execution_count": 5,
   "id": "1b4ec261",
   "metadata": {},
   "outputs": [
    {
     "name": "stdout",
     "output_type": "stream",
     "text": [
      "10\n",
      "constructor calls\n",
      "My name is  sumit and my age is  19\n"
     ]
    }
   ],
   "source": [
    "class person:\n",
    "    x = 10 # class variable\n",
    "    print(x)\n",
    "    \n",
    "    def __init__(self,name,age):\n",
    "        self.name = name\n",
    "        self.age = age\n",
    "        print('constructor calls')\n",
    "        \n",
    "    def info(self):\n",
    "        print('My name is ',self.name,'and my age is ',self.age)\n",
    "        \n",
    "        \n",
    "        \n",
    "        \n",
    "ob=person(\"sumit\",19)\n",
    "ob.info()"
   ]
  },
  {
   "cell_type": "code",
   "execution_count": null,
   "id": "930f7f3e",
   "metadata": {},
   "outputs": [],
   "source": []
  },
  {
   "cell_type": "code",
   "execution_count": 12,
   "id": "a1f66e45",
   "metadata": {},
   "outputs": [],
   "source": [
    "class Animal: # parent class or base class\n",
    "    def __init__(self):\n",
    "        self.iswild = True\n",
    "        print('i am a parent class constructor')\n",
    "        \n",
    "    def wild(self):\n",
    "        if self.iswild:\n",
    "            print('it is for wild animal')\n",
    "            \n",
    "        else:\n",
    "            pass\n",
    "        \n",
    "class Lion(Animal): # child class or derived class\n",
    "    def __init__(self,country):\n",
    "        self.country = country\n",
    "        print('i am a child class const')\n",
    "        super().__init__()\n",
    "        \n",
    "    def wild(self):\n",
    "        print('i am a child class method')\n",
    "        print('country of lion is ',self.country)"
   ]
  },
  {
   "cell_type": "code",
   "execution_count": 13,
   "id": "aff8a1c9",
   "metadata": {},
   "outputs": [
    {
     "name": "stdout",
     "output_type": "stream",
     "text": [
      "i am a child class const\n",
      "i am a parent class constructor\n",
      "i am a child class method\n",
      "country of lion is  Africa\n"
     ]
    }
   ],
   "source": [
    "li = Lion('Africa')\n",
    "li.wild()"
   ]
  },
  {
   "cell_type": "code",
   "execution_count": null,
   "id": "8bc5295e",
   "metadata": {},
   "outputs": [],
   "source": []
  },
  {
   "cell_type": "code",
   "execution_count": null,
   "id": "724582bc",
   "metadata": {},
   "outputs": [],
   "source": []
  },
  {
   "cell_type": "code",
   "execution_count": 36,
   "id": "b0010a19",
   "metadata": {},
   "outputs": [
    {
     "ename": "TypeError",
     "evalue": "Bank() takes no arguments",
     "output_type": "error",
     "traceback": [
      "\u001b[1;31m---------------------------------------------------------------------------\u001b[0m",
      "\u001b[1;31mTypeError\u001b[0m                                 Traceback (most recent call last)",
      "\u001b[1;32mC:\\Users\\GOURAV~1\\AppData\\Local\\Temp/ipykernel_14792/71390746.py\u001b[0m in \u001b[0;36m<module>\u001b[1;34m\u001b[0m\n\u001b[0;32m     11\u001b[0m         \u001b[0mprint\u001b[0m\u001b[1;33m(\u001b[0m\u001b[1;34m'i want to withdraw'\u001b[0m\u001b[1;33m,\u001b[0m \u001b[0mself\u001b[0m\u001b[1;33m.\u001b[0m\u001b[0m__withdraw\u001b[0m\u001b[1;33m)\u001b[0m\u001b[1;33m\u001b[0m\u001b[1;33m\u001b[0m\u001b[0m\n\u001b[0;32m     12\u001b[0m \u001b[1;33m\u001b[0m\u001b[0m\n\u001b[1;32m---> 13\u001b[1;33m \u001b[0mSBI\u001b[0m \u001b[1;33m=\u001b[0m \u001b[0mBank\u001b[0m\u001b[1;33m(\u001b[0m\u001b[1;36m2000\u001b[0m\u001b[1;33m,\u001b[0m\u001b[1;36m100\u001b[0m\u001b[1;33m,\u001b[0m\u001b[1;36m300\u001b[0m\u001b[1;33m)\u001b[0m\u001b[1;33m\u001b[0m\u001b[1;33m\u001b[0m\u001b[0m\n\u001b[0m\u001b[0;32m     14\u001b[0m \u001b[0mSBI\u001b[0m\u001b[1;33m.\u001b[0m\u001b[0maction\u001b[0m\u001b[1;33m(\u001b[0m\u001b[1;33m)\u001b[0m\u001b[1;33m\u001b[0m\u001b[1;33m\u001b[0m\u001b[0m\n",
      "\u001b[1;31mTypeError\u001b[0m: Bank() takes no arguments"
     ]
    }
   ],
   "source": [
    "# Encapsulation\n",
    "class Bank:\n",
    "    def __inti__(self,balance,withdraw,Deposit):\n",
    "        self._balance=balance # protected\n",
    "        self.Deposit = Deposit\n",
    "        self.__withdraw = withdraw# private\n",
    "        \n",
    "    def action(self):\n",
    "        print(f'my balance is {self._balance}')\n",
    "        print('i am depositing{}'. format(self.Deposit))\n",
    "        print('i want to withdraw', self.__withdraw)\n",
    "        \n",
    "SBI = Bank(2000,100,300)\n",
    "SBI.action()"
   ]
  },
  {
   "cell_type": "code",
   "execution_count": 38,
   "id": "219f9a98",
   "metadata": {},
   "outputs": [
    {
     "ename": "TypeError",
     "evalue": "Bank() takes no arguments",
     "output_type": "error",
     "traceback": [
      "\u001b[1;31m---------------------------------------------------------------------------\u001b[0m",
      "\u001b[1;31mTypeError\u001b[0m                                 Traceback (most recent call last)",
      "\u001b[1;32mC:\\Users\\GOURAV~1\\AppData\\Local\\Temp/ipykernel_14792/213803732.py\u001b[0m in \u001b[0;36m<module>\u001b[1;34m\u001b[0m\n\u001b[0;32m     11\u001b[0m         \u001b[0mprint\u001b[0m\u001b[1;33m(\u001b[0m\u001b[1;34m'i want to withdraw ,(self.__withdraw)'\u001b[0m\u001b[1;33m)\u001b[0m\u001b[1;33m\u001b[0m\u001b[1;33m\u001b[0m\u001b[0m\n\u001b[0;32m     12\u001b[0m \u001b[1;33m\u001b[0m\u001b[0m\n\u001b[1;32m---> 13\u001b[1;33m \u001b[0mSbi\u001b[0m \u001b[1;33m=\u001b[0m \u001b[0mBank\u001b[0m\u001b[1;33m(\u001b[0m\u001b[1;36m2000\u001b[0m\u001b[1;33m,\u001b[0m\u001b[1;36m100\u001b[0m\u001b[1;33m,\u001b[0m\u001b[1;36m300\u001b[0m\u001b[1;33m)\u001b[0m\u001b[1;33m\u001b[0m\u001b[1;33m\u001b[0m\u001b[0m\n\u001b[0m\u001b[0;32m     14\u001b[0m \u001b[0mSbi\u001b[0m\u001b[1;33m.\u001b[0m\u001b[0maction\u001b[0m\u001b[1;33m(\u001b[0m\u001b[1;33m)\u001b[0m\u001b[1;33m\u001b[0m\u001b[1;33m\u001b[0m\u001b[0m\n",
      "\u001b[1;31mTypeError\u001b[0m: Bank() takes no arguments"
     ]
    }
   ],
   "source": [
    "# Encapsulation\n",
    "class Bank:\n",
    "    def __inti__(self,balance,Deposit,withdraw):\n",
    "        self._balance=balance # protected\n",
    "        self.Deposit = Deposit\n",
    "        self.__withdraw = withdraw# private\n",
    "        \n",
    "    def action(self):\n",
    "        print('my balance is ,(self._balance)')\n",
    "        print('i am depositing ,(self.Deposit)')\n",
    "        print('i want to withdraw ,(self.__withdraw)')\n",
    "        \n",
    "Sbi = Bank(2000,100,300)\n",
    "Sbi.action()"
   ]
  },
  {
   "cell_type": "code",
   "execution_count": 43,
   "id": "f70e31de",
   "metadata": {},
   "outputs": [
    {
     "name": "stdout",
     "output_type": "stream",
     "text": [
      "my balance is 2000\n",
      "i am depositing 100\n",
      "i want to withdraw 300\n"
     ]
    }
   ],
   "source": [
    "class Bank:\n",
    "    def __init__(self,balance,Deposit,withdraw):\n",
    "        self._balance = balance # protected\n",
    "        self.Deposit = Deposit\n",
    "        self.__withdraw = withdraw # private\n",
    "        \n",
    "    def action(self):\n",
    "        print('my balance is',self._balance)\n",
    "        print('i am depositing',self.Deposit)\n",
    "        print('i want to withdraw',self.__withdraw)\n",
    "        \n",
    "Sbi = Bank(2000,100,300)\n",
    "Sbi.action()"
   ]
  },
  {
   "cell_type": "code",
   "execution_count": 45,
   "id": "f6907491",
   "metadata": {},
   "outputs": [
    {
     "data": {
      "text/plain": [
       "2000"
      ]
     },
     "execution_count": 45,
     "metadata": {},
     "output_type": "execute_result"
    }
   ],
   "source": [
    "Sbi._balance"
   ]
  },
  {
   "cell_type": "code",
   "execution_count": 46,
   "id": "9fc40027",
   "metadata": {},
   "outputs": [
    {
     "data": {
      "text/plain": [
       "100"
      ]
     },
     "execution_count": 46,
     "metadata": {},
     "output_type": "execute_result"
    }
   ],
   "source": [
    "Sbi.Deposit"
   ]
  },
  {
   "cell_type": "code",
   "execution_count": 48,
   "id": "882d77e6",
   "metadata": {},
   "outputs": [
    {
     "ename": "AttributeError",
     "evalue": "'Bank' object has no attribute '__withdraw'",
     "output_type": "error",
     "traceback": [
      "\u001b[1;31m---------------------------------------------------------------------------\u001b[0m",
      "\u001b[1;31mAttributeError\u001b[0m                            Traceback (most recent call last)",
      "\u001b[1;32mC:\\Users\\GOURAV~1\\AppData\\Local\\Temp/ipykernel_14792/391335462.py\u001b[0m in \u001b[0;36m<module>\u001b[1;34m\u001b[0m\n\u001b[1;32m----> 1\u001b[1;33m \u001b[0mSbi\u001b[0m\u001b[1;33m.\u001b[0m\u001b[0m__withdraw\u001b[0m \u001b[1;31m#\u001b[0m\u001b[1;33m\u001b[0m\u001b[1;33m\u001b[0m\u001b[0m\n\u001b[0m",
      "\u001b[1;31mAttributeError\u001b[0m: 'Bank' object has no attribute '__withdraw'"
     ]
    }
   ],
   "source": [
    "Sbi.__withdraw # "
   ]
  },
  {
   "cell_type": "code",
   "execution_count": 49,
   "id": "64fa4821",
   "metadata": {},
   "outputs": [
    {
     "data": {
      "text/plain": [
       "300"
      ]
     },
     "execution_count": 49,
     "metadata": {},
     "output_type": "execute_result"
    }
   ],
   "source": [
    "Sbi._Bank__withdraw  # name mangling "
   ]
  },
  {
   "cell_type": "code",
   "execution_count": null,
   "id": "d8bab180",
   "metadata": {},
   "outputs": [],
   "source": []
  },
  {
   "cell_type": "code",
   "execution_count": 75,
   "id": "6e6e1589",
   "metadata": {},
   "outputs": [
    {
     "name": "stdout",
     "output_type": "stream",
     "text": [
      "it name is obama\n",
      "it age is 34\n",
      "it gender is male\n",
      "him category is gay\n",
      "him color is BLack\n"
     ]
    }
   ],
   "source": [
    "class men:\n",
    "    def __init__(self,name,age,gender,category,color):    \n",
    "        self.name = name\n",
    "        self.age = age\n",
    "        self.gender = gender\n",
    "        self.category = category\n",
    "        self.color = color\n",
    "    def info(self):\n",
    "        print('it name is',self.name)\n",
    "        print('it age is',self.age)\n",
    "        print('it gender is',self.gender)\n",
    "        print('him category is',self.category)\n",
    "        print('him color is',self.color)\n",
    "        \n",
    "ob = men('obama',34,'male','gay','BLack')\n",
    "ob.info()"
   ]
  },
  {
   "cell_type": "code",
   "execution_count": null,
   "id": "57cfd3d5",
   "metadata": {},
   "outputs": [],
   "source": []
  },
  {
   "cell_type": "code",
   "execution_count": 18,
   "id": "c89809ec",
   "metadata": {},
   "outputs": [
    {
     "name": "stdout",
     "output_type": "stream",
     "text": [
      "i am a tomato class \n",
      " i am  a Apple constructor\n"
     ]
    }
   ],
   "source": [
    "# polymorphism\n",
    "\n",
    "class Tomato:\n",
    "    def __init__(self):\n",
    "        print('i am a tomato class ')\n",
    "    def category(self):\n",
    "        print('tomato is a vegetable')\n",
    "        \n",
    "    def color(self):\n",
    "        print('tomato is orange color')\n",
    "        \n",
    "class Apple:\n",
    "    def __init__(self):\n",
    "        print(' i am  a Apple constructor')\n",
    "        \n",
    "    def category(self):\n",
    "        print('Apple is a fruit ')\n",
    "        \n",
    "    def colour(self):\n",
    "        print('Apple is red color')\n",
    "        \n",
    "        \n",
    "tom=Tomato()\n",
    "app=Apple()"
   ]
  },
  {
   "cell_type": "code",
   "execution_count": 20,
   "id": "866c3f9e",
   "metadata": {},
   "outputs": [
    {
     "name": "stdout",
     "output_type": "stream",
     "text": [
      "tomato is a vegetable\n",
      "tomato is orange color\n"
     ]
    }
   ],
   "source": [
    "tom.category()\n",
    "tom.color()"
   ]
  },
  {
   "cell_type": "code",
   "execution_count": 22,
   "id": "eba17abe",
   "metadata": {},
   "outputs": [
    {
     "name": "stdout",
     "output_type": "stream",
     "text": [
      "Apple is a fruit \n",
      "Apple is red color\n"
     ]
    }
   ],
   "source": [
    "app.category()\n",
    "app.colour()"
   ]
  },
  {
   "cell_type": "code",
   "execution_count": null,
   "id": "4ce3c284",
   "metadata": {},
   "outputs": [],
   "source": []
  },
  {
   "cell_type": "code",
   "execution_count": null,
   "id": "fef94a95",
   "metadata": {},
   "outputs": [],
   "source": [
    "# by abstraction we hide the abstract class"
   ]
  },
  {
   "cell_type": "code",
   "execution_count": 23,
   "id": "35e1fd60",
   "metadata": {},
   "outputs": [],
   "source": [
    "class shape:\n",
    "    def area(self):\n",
    "        pass\n",
    "    def parameter(self):\n",
    "        pass"
   ]
  },
  {
   "cell_type": "code",
   "execution_count": 24,
   "id": "ab859a02",
   "metadata": {},
   "outputs": [],
   "source": [
    "class square(shape):\n",
    "    def __init__(self,s):\n",
    "        self.side=s"
   ]
  },
  {
   "cell_type": "code",
   "execution_count": 27,
   "id": "5ec6ba78",
   "metadata": {},
   "outputs": [],
   "source": [
    "s = square(5)"
   ]
  },
  {
   "cell_type": "code",
   "execution_count": 28,
   "id": "6aa39768",
   "metadata": {},
   "outputs": [],
   "source": [
    "sh=shape()"
   ]
  },
  {
   "cell_type": "code",
   "execution_count": null,
   "id": "9b4d76aa",
   "metadata": {},
   "outputs": [],
   "source": []
  },
  {
   "cell_type": "code",
   "execution_count": null,
   "id": "7011a910",
   "metadata": {},
   "outputs": [],
   "source": [
    "## for using the abstract method of parent class we have to "
   ]
  },
  {
   "cell_type": "code",
   "execution_count": 29,
   "id": "953dc4ff",
   "metadata": {},
   "outputs": [],
   "source": [
    "from abc import ABC, abstractmethod #Abstract base class\n",
    "class shape(ABC):\n",
    "    @abstractmethod\n",
    "    def area(self):\n",
    "        pass\n",
    "        print('it is a area method')\n",
    "    @abstractmethod\n",
    "    def perimeter(self):\n",
    "        print('it is a perimeter method')\n",
    "        \n",
    "    def square(shape):\n",
    "        def __init__(self,s):\n",
    "            self.side=s\n",
    "        def area(self):\n",
    "            return self.side*self.side\n",
    "        def perimeter(self):\n",
    "            return 4*self.side\n",
    "        "
   ]
  },
  {
   "cell_type": "code",
   "execution_count": 30,
   "id": "8d63565e",
   "metadata": {},
   "outputs": [
    {
     "ename": "TypeError",
     "evalue": "Can't instantiate abstract class shape with abstract methods area, perimeter",
     "output_type": "error",
     "traceback": [
      "\u001b[1;31m---------------------------------------------------------------------------\u001b[0m",
      "\u001b[1;31mTypeError\u001b[0m                                 Traceback (most recent call last)",
      "\u001b[1;32mC:\\Users\\GOURAV~1\\AppData\\Local\\Temp/ipykernel_6204/1691106482.py\u001b[0m in \u001b[0;36m<module>\u001b[1;34m\u001b[0m\n\u001b[1;32m----> 1\u001b[1;33m \u001b[0msh\u001b[0m \u001b[1;33m=\u001b[0m \u001b[0mshape\u001b[0m\u001b[1;33m(\u001b[0m\u001b[1;33m)\u001b[0m\u001b[1;33m\u001b[0m\u001b[1;33m\u001b[0m\u001b[0m\n\u001b[0m",
      "\u001b[1;31mTypeError\u001b[0m: Can't instantiate abstract class shape with abstract methods area, perimeter"
     ]
    }
   ],
   "source": [
    "sh = shape()"
   ]
  },
  {
   "cell_type": "code",
   "execution_count": 31,
   "id": "7778d002",
   "metadata": {},
   "outputs": [],
   "source": [
    "s = square(5)"
   ]
  },
  {
   "cell_type": "code",
   "execution_count": 33,
   "id": "1118bb2f",
   "metadata": {},
   "outputs": [
    {
     "name": "stdout",
     "output_type": "stream",
     "text": [
      "None\n"
     ]
    },
    {
     "ename": "AttributeError",
     "evalue": "'square' object has no attribute 'perimeter'",
     "output_type": "error",
     "traceback": [
      "\u001b[1;31m---------------------------------------------------------------------------\u001b[0m",
      "\u001b[1;31mAttributeError\u001b[0m                            Traceback (most recent call last)",
      "\u001b[1;32mC:\\Users\\GOURAV~1\\AppData\\Local\\Temp/ipykernel_6204/2533552812.py\u001b[0m in \u001b[0;36m<module>\u001b[1;34m\u001b[0m\n\u001b[0;32m      1\u001b[0m \u001b[0mprint\u001b[0m\u001b[1;33m(\u001b[0m\u001b[0ms\u001b[0m\u001b[1;33m.\u001b[0m\u001b[0marea\u001b[0m\u001b[1;33m(\u001b[0m\u001b[1;33m)\u001b[0m\u001b[1;33m)\u001b[0m\u001b[1;33m\u001b[0m\u001b[1;33m\u001b[0m\u001b[0m\n\u001b[1;32m----> 2\u001b[1;33m \u001b[0mprint\u001b[0m\u001b[1;33m(\u001b[0m\u001b[0ms\u001b[0m\u001b[1;33m.\u001b[0m\u001b[0mperimeter\u001b[0m\u001b[1;33m(\u001b[0m\u001b[1;33m)\u001b[0m\u001b[1;33m)\u001b[0m\u001b[1;33m\u001b[0m\u001b[1;33m\u001b[0m\u001b[0m\n\u001b[0m",
      "\u001b[1;31mAttributeError\u001b[0m: 'square' object has no attribute 'perimeter'"
     ]
    }
   ],
   "source": [
    "print(s.area())\n",
    "print(s.perimeter())"
   ]
  },
  {
   "cell_type": "code",
   "execution_count": 34,
   "id": "e9ad42e1",
   "metadata": {},
   "outputs": [],
   "source": [
    "import __main__"
   ]
  },
  {
   "cell_type": "code",
   "execution_count": 35,
   "id": "a06dd3c1",
   "metadata": {},
   "outputs": [
    {
     "name": "stdout",
     "output_type": "stream",
     "text": [
      "Help on module __main__:\n",
      "\n",
      "NAME\n",
      "    __main__ - Automatically created module for IPython interactive environment\n",
      "\n",
      "CLASSES\n",
      "    shape(builtins.object)\n",
      "        square\n",
      "    abc.ABC(builtins.object)\n",
      "        shape\n",
      "    builtins.object\n",
      "        Animal\n",
      "            Lion\n",
      "        Apple\n",
      "        Bank\n",
      "        Tomato\n",
      "        person\n",
      "    \n",
      "    class Animal(builtins.object)\n",
      "     |  Methods defined here:\n",
      "     |  \n",
      "     |  __init__(self)\n",
      "     |      Initialize self.  See help(type(self)) for accurate signature.\n",
      "     |  \n",
      "     |  wild(self)\n",
      "     |  \n",
      "     |  ----------------------------------------------------------------------\n",
      "     |  Data descriptors defined here:\n",
      "     |  \n",
      "     |  __dict__\n",
      "     |      dictionary for instance variables (if defined)\n",
      "     |  \n",
      "     |  __weakref__\n",
      "     |      list of weak references to the object (if defined)\n",
      "    \n",
      "    class Apple(builtins.object)\n",
      "     |  Methods defined here:\n",
      "     |  \n",
      "     |  __init__(self)\n",
      "     |      Initialize self.  See help(type(self)) for accurate signature.\n",
      "     |  \n",
      "     |  category(self)\n",
      "     |  \n",
      "     |  colour(self)\n",
      "     |  \n",
      "     |  ----------------------------------------------------------------------\n",
      "     |  Data descriptors defined here:\n",
      "     |  \n",
      "     |  __dict__\n",
      "     |      dictionary for instance variables (if defined)\n",
      "     |  \n",
      "     |  __weakref__\n",
      "     |      list of weak references to the object (if defined)\n",
      "    \n",
      "    class Bank(builtins.object)\n",
      "     |  Methods defined here:\n",
      "     |  \n",
      "     |  __inti__(self, balance, withdraw, Deposit)\n",
      "     |  \n",
      "     |  action(self)\n",
      "     |  \n",
      "     |  ----------------------------------------------------------------------\n",
      "     |  Data descriptors defined here:\n",
      "     |  \n",
      "     |  __dict__\n",
      "     |      dictionary for instance variables (if defined)\n",
      "     |  \n",
      "     |  __weakref__\n",
      "     |      list of weak references to the object (if defined)\n",
      "    \n",
      "    class Lion(Animal)\n",
      "     |  Lion(country)\n",
      "     |  \n",
      "     |  Method resolution order:\n",
      "     |      Lion\n",
      "     |      Animal\n",
      "     |      builtins.object\n",
      "     |  \n",
      "     |  Methods defined here:\n",
      "     |  \n",
      "     |  __init__(self, country)\n",
      "     |      Initialize self.  See help(type(self)) for accurate signature.\n",
      "     |  \n",
      "     |  wild(self)\n",
      "     |  \n",
      "     |  ----------------------------------------------------------------------\n",
      "     |  Data descriptors inherited from Animal:\n",
      "     |  \n",
      "     |  __dict__\n",
      "     |      dictionary for instance variables (if defined)\n",
      "     |  \n",
      "     |  __weakref__\n",
      "     |      list of weak references to the object (if defined)\n",
      "    \n",
      "    class Tomato(builtins.object)\n",
      "     |  Methods defined here:\n",
      "     |  \n",
      "     |  __init__(self)\n",
      "     |      Initialize self.  See help(type(self)) for accurate signature.\n",
      "     |  \n",
      "     |  category(self)\n",
      "     |  \n",
      "     |  color(self)\n",
      "     |  \n",
      "     |  ----------------------------------------------------------------------\n",
      "     |  Data descriptors defined here:\n",
      "     |  \n",
      "     |  __dict__\n",
      "     |      dictionary for instance variables (if defined)\n",
      "     |  \n",
      "     |  __weakref__\n",
      "     |      list of weak references to the object (if defined)\n",
      "    \n",
      "    class person(builtins.object)\n",
      "     |  person(name, age)\n",
      "     |  \n",
      "     |  Methods defined here:\n",
      "     |  \n",
      "     |  __init__(self, name, age)\n",
      "     |      Initialize self.  See help(type(self)) for accurate signature.\n",
      "     |  \n",
      "     |  info(self)\n",
      "     |  \n",
      "     |  ----------------------------------------------------------------------\n",
      "     |  Data descriptors defined here:\n",
      "     |  \n",
      "     |  __dict__\n",
      "     |      dictionary for instance variables (if defined)\n",
      "     |  \n",
      "     |  __weakref__\n",
      "     |      list of weak references to the object (if defined)\n",
      "     |  \n",
      "     |  ----------------------------------------------------------------------\n",
      "     |  Data and other attributes defined here:\n",
      "     |  \n",
      "     |  x = 10\n",
      "    \n",
      "    class shape(abc.ABC)\n",
      "     |  Method resolution order:\n",
      "     |      shape\n",
      "     |      abc.ABC\n",
      "     |      builtins.object\n",
      "     |  \n",
      "     |  Methods defined here:\n",
      "     |  \n",
      "     |  area(self)\n",
      "     |  \n",
      "     |  perimeter(self)\n",
      "     |  \n",
      "     |  square(shape)\n",
      "     |  \n",
      "     |  ----------------------------------------------------------------------\n",
      "     |  Data descriptors defined here:\n",
      "     |  \n",
      "     |  __dict__\n",
      "     |      dictionary for instance variables (if defined)\n",
      "     |  \n",
      "     |  __weakref__\n",
      "     |      list of weak references to the object (if defined)\n",
      "     |  \n",
      "     |  ----------------------------------------------------------------------\n",
      "     |  Data and other attributes defined here:\n",
      "     |  \n",
      "     |  __abstractmethods__ = frozenset({'area', 'perimeter'})\n",
      "    \n",
      "    class square(shape)\n",
      "     |  square(s)\n",
      "     |  \n",
      "     |  Method resolution order:\n",
      "     |      square\n",
      "     |      shape\n",
      "     |      builtins.object\n",
      "     |  \n",
      "     |  Methods defined here:\n",
      "     |  \n",
      "     |  __init__(self, s)\n",
      "     |      Initialize self.  See help(type(self)) for accurate signature.\n",
      "     |  \n",
      "     |  ----------------------------------------------------------------------\n",
      "     |  Methods inherited from shape:\n",
      "     |  \n",
      "     |  area(self)\n",
      "     |  \n",
      "     |  parameter(self)\n",
      "     |  \n",
      "     |  ----------------------------------------------------------------------\n",
      "     |  Data descriptors inherited from shape:\n",
      "     |  \n",
      "     |  __dict__\n",
      "     |      dictionary for instance variables (if defined)\n",
      "     |  \n",
      "     |  __weakref__\n",
      "     |      list of weak references to the object (if defined)\n",
      "\n",
      "DATA\n",
      "    In = ['', 'class person:\\n    x = 10 # class variable\\n    pr...x)\\n  ...\n",
      "    Out = {}\n",
      "    __ = ''\n",
      "    ___ = ''\n",
      "    app = <__main__.Apple object>\n",
      "    exit = <IPython.core.autocall.ZMQExitAutocall object>\n",
      "    li = <__main__.Lion object>\n",
      "    ob = <__main__.person object>\n",
      "    quit = <IPython.core.autocall.ZMQExitAutocall object>\n",
      "    s = <__main__.square object>\n",
      "    sh = <__main__.shape object>\n",
      "    tom = <__main__.Tomato object>\n",
      "\n",
      "FILE\n",
      "    (built-in)\n",
      "\n",
      "\n"
     ]
    }
   ],
   "source": [
    "help(__main__)"
   ]
  },
  {
   "cell_type": "code",
   "execution_count": null,
   "id": "6aa625a7",
   "metadata": {},
   "outputs": [],
   "source": []
  }
 ],
 "metadata": {
  "kernelspec": {
   "display_name": "Python 3 (ipykernel)",
   "language": "python",
   "name": "python3"
  },
  "language_info": {
   "codemirror_mode": {
    "name": "ipython",
    "version": 3
   },
   "file_extension": ".py",
   "mimetype": "text/x-python",
   "name": "python",
   "nbconvert_exporter": "python",
   "pygments_lexer": "ipython3",
   "version": "3.9.7"
  }
 },
 "nbformat": 4,
 "nbformat_minor": 5
}
