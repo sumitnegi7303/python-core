{
 "cells": [
  {
   "cell_type": "code",
   "execution_count": 1,
   "id": "9a054327",
   "metadata": {},
   "outputs": [
    {
     "name": "stdout",
     "output_type": "stream",
     "text": [
      "The sum is 80\n"
     ]
    }
   ],
   "source": [
    "#Python program to add two numbers using function\n",
    "def add_num(a,b):#function for addition\n",
    "    sum=a+b;\n",
    "    return sum; #return value\n",
    "num1=25  #variable declaration\n",
    "num2=55\n",
    "print(\"The sum is\",add_num(num1,num2))#call the function"
   ]
  }
 ],
 "metadata": {
  "kernelspec": {
   "display_name": "Python 3 (ipykernel)",
   "language": "python",
   "name": "python3"
  },
  "language_info": {
   "codemirror_mode": {
    "name": "ipython",
    "version": 3
   },
   "file_extension": ".py",
   "mimetype": "text/x-python",
   "name": "python",
   "nbconvert_exporter": "python",
   "pygments_lexer": "ipython3",
   "version": "3.9.7"
  }
 },
 "nbformat": 4,
 "nbformat_minor": 5
}
