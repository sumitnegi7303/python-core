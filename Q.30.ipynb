{
 "cells": [
  {
   "cell_type": "code",
   "execution_count": null,
   "id": "58ce55c0",
   "metadata": {},
   "outputs": [],
   "source": [
    "30. Define a function that can accept two strings as input and concatenate them and then print it in console. \n",
    "Hints: Use + to concatenate the strings "
   ]
  },
  {
   "cell_type": "code",
   "execution_count": 6,
   "id": "ffa13e64",
   "metadata": {},
   "outputs": [
    {
     "name": "stdout",
     "output_type": "stream",
     "text": [
      "34\n"
     ]
    }
   ],
   "source": [
    "def printValue(s1,s2):\n",
    "    print (s1+s2)\n",
    "\n",
    "printValue(\"3\",\"4\")"
   ]
  }
 ],
 "metadata": {
  "kernelspec": {
   "display_name": "Python 3 (ipykernel)",
   "language": "python",
   "name": "python3"
  },
  "language_info": {
   "codemirror_mode": {
    "name": "ipython",
    "version": 3
   },
   "file_extension": ".py",
   "mimetype": "text/x-python",
   "name": "python",
   "nbconvert_exporter": "python",
   "pygments_lexer": "ipython3",
   "version": "3.9.7"
  }
 },
 "nbformat": 4,
 "nbformat_minor": 5
}
