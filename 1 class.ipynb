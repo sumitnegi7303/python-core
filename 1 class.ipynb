{
 "cells": [
  {
   "cell_type": "code",
   "execution_count": null,
   "id": "256c9cf5",
   "metadata": {},
   "outputs": [],
   "source": [
    "#phython data types:\n",
    "1 = Numeric\n",
    "2 = sequence Type\n",
    "3 = Boolean\n",
    "4 = Set\n",
    "5 = Dictionery"
   ]
  },
  {
   "cell_type": "code",
   "execution_count": null,
   "id": "36136220",
   "metadata": {},
   "outputs": [],
   "source": [
    "#Numeric: \n",
    "numeric has a 3 part:\n",
    "    1-Integer\n",
    "    2_Float \n",
    "    3_complex\n",
    "    "
   ]
  },
  {
   "cell_type": "code",
   "execution_count": 2,
   "id": "4103c515",
   "metadata": {},
   "outputs": [
    {
     "data": {
      "text/plain": [
       "int"
      ]
     },
     "execution_count": 2,
     "metadata": {},
     "output_type": "execute_result"
    }
   ],
   "source": [
    "a = 123333\n",
    "type(a)"
   ]
  },
  {
   "cell_type": "code",
   "execution_count": 1,
   "id": "79633d86",
   "metadata": {},
   "outputs": [
    {
     "data": {
      "text/plain": [
       "int"
      ]
     },
     "execution_count": 1,
     "metadata": {},
     "output_type": "execute_result"
    }
   ],
   "source": [
    "a = 123444\n",
    "type(a)"
   ]
  },
  {
   "cell_type": "code",
   "execution_count": 2,
   "id": "ef98c1b4",
   "metadata": {},
   "outputs": [
    {
     "data": {
      "text/plain": [
       "str"
      ]
     },
     "execution_count": 2,
     "metadata": {},
     "output_type": "execute_result"
    }
   ],
   "source": [
    "b = \"ojgpfd;fegf\"\n",
    "type(b)"
   ]
  },
  {
   "cell_type": "code",
   "execution_count": 3,
   "id": "20d45b20",
   "metadata": {},
   "outputs": [
    {
     "data": {
      "text/plain": [
       "tuple"
      ]
     },
     "execution_count": 3,
     "metadata": {},
     "output_type": "execute_result"
    }
   ],
   "source": [
    "z = (1331,134,134,134)\n",
    "type(z)"
   ]
  },
  {
   "cell_type": "code",
   "execution_count": 4,
   "id": "c7430d8a",
   "metadata": {},
   "outputs": [
    {
     "data": {
      "text/plain": [
       "list"
      ]
     },
     "execution_count": 4,
     "metadata": {},
     "output_type": "execute_result"
    }
   ],
   "source": [
    "d = [235,235,46,13,5,35]\n",
    "type(d)"
   ]
  },
  {
   "cell_type": "code",
   "execution_count": 5,
   "id": "7668bf67",
   "metadata": {},
   "outputs": [
    {
     "data": {
      "text/plain": [
       "set"
      ]
     },
     "execution_count": 5,
     "metadata": {},
     "output_type": "execute_result"
    }
   ],
   "source": [
    "g = {13,4534,64,6,35}\n",
    "type(g)"
   ]
  },
  {
   "cell_type": "code",
   "execution_count": 7,
   "id": "2bf22e76",
   "metadata": {},
   "outputs": [
    {
     "data": {
      "text/plain": [
       "float"
      ]
     },
     "execution_count": 7,
     "metadata": {},
     "output_type": "execute_result"
    }
   ],
   "source": [
    "a = 45.3235\n",
    "type(a)"
   ]
  },
  {
   "cell_type": "code",
   "execution_count": 8,
   "id": "2fb89095",
   "metadata": {},
   "outputs": [
    {
     "data": {
      "text/plain": [
       "complex"
      ]
     },
     "execution_count": 8,
     "metadata": {},
     "output_type": "execute_result"
    }
   ],
   "source": [
    "a = 2513523j\n",
    "type(a)"
   ]
  },
  {
   "cell_type": "code",
   "execution_count": 9,
   "id": "4b8a32d5",
   "metadata": {},
   "outputs": [
    {
     "data": {
      "text/plain": [
       "str"
      ]
     },
     "execution_count": 9,
     "metadata": {},
     "output_type": "execute_result"
    }
   ],
   "source": [
    "a = \"@$$#$#$@#@\"\n",
    "type(a)"
   ]
  },
  {
   "cell_type": "code",
   "execution_count": 10,
   "id": "7a151365",
   "metadata": {},
   "outputs": [
    {
     "data": {
      "text/plain": [
       "bool"
      ]
     },
     "execution_count": 10,
     "metadata": {},
     "output_type": "execute_result"
    }
   ],
   "source": [
    "a = True\n",
    "type(a)"
   ]
  },
  {
   "cell_type": "code",
   "execution_count": 3,
   "id": "fa2e598c",
   "metadata": {},
   "outputs": [
    {
     "data": {
      "text/plain": [
       "int"
      ]
     },
     "execution_count": 3,
     "metadata": {},
     "output_type": "execute_result"
    }
   ],
   "source": [
    "b = 1233456\n",
    "type(b)"
   ]
  },
  {
   "cell_type": "code",
   "execution_count": 4,
   "id": "5317dd94",
   "metadata": {},
   "outputs": [
    {
     "data": {
      "text/plain": [
       "float"
      ]
     },
     "execution_count": 4,
     "metadata": {},
     "output_type": "execute_result"
    }
   ],
   "source": [
    "a = 12.3\n",
    "type(a)"
   ]
  },
  {
   "cell_type": "code",
   "execution_count": 5,
   "id": "168dd3ef",
   "metadata": {},
   "outputs": [
    {
     "data": {
      "text/plain": [
       "float"
      ]
     },
     "execution_count": 5,
     "metadata": {},
     "output_type": "execute_result"
    }
   ],
   "source": [
    "b = 13211.231\n",
    "type(b)"
   ]
  },
  {
   "cell_type": "code",
   "execution_count": 7,
   "id": "561f87e8",
   "metadata": {},
   "outputs": [
    {
     "data": {
      "text/plain": [
       "complex"
      ]
     },
     "execution_count": 7,
     "metadata": {},
     "output_type": "execute_result"
    }
   ],
   "source": [
    "a =2212j\n",
    "type(a)"
   ]
  },
  {
   "cell_type": "code",
   "execution_count": 8,
   "id": "6fcc1b1c",
   "metadata": {},
   "outputs": [
    {
     "data": {
      "text/plain": [
       "complex"
      ]
     },
     "execution_count": 8,
     "metadata": {},
     "output_type": "execute_result"
    }
   ],
   "source": [
    "b = 132132j\n",
    "type(b)"
   ]
  },
  {
   "cell_type": "code",
   "execution_count": null,
   "id": "1a84c681",
   "metadata": {},
   "outputs": [],
   "source": [
    "#this is complete:Numeric"
   ]
  },
  {
   "cell_type": "code",
   "execution_count": null,
   "id": "b920e731",
   "metadata": {},
   "outputs": [],
   "source": [
    "#sequence Type:\n",
    "thir has 3 type;\n",
    "1 - string\n",
    "2 - Tuple\n",
    "3 - List"
   ]
  },
  {
   "cell_type": "code",
   "execution_count": null,
   "id": "e780c06b",
   "metadata": {},
   "outputs": [],
   "source": [
    "#String:"
   ]
  },
  {
   "cell_type": "code",
   "execution_count": 11,
   "id": "bfd0470f",
   "metadata": {},
   "outputs": [
    {
     "data": {
      "text/plain": [
       "str"
      ]
     },
     "execution_count": 11,
     "metadata": {},
     "output_type": "execute_result"
    }
   ],
   "source": [
    "a = \"1@#$%%^&*%#@^\"\n",
    "type(a)"
   ]
  },
  {
   "cell_type": "code",
   "execution_count": 12,
   "id": "d41a7d49",
   "metadata": {},
   "outputs": [
    {
     "data": {
      "text/plain": [
       "str"
      ]
     },
     "execution_count": 12,
     "metadata": {},
     "output_type": "execute_result"
    }
   ],
   "source": [
    "b = \"@@#$^%^%#%$&@&#\"\n",
    "type(b)"
   ]
  },
  {
   "cell_type": "code",
   "execution_count": null,
   "id": "71f108c6",
   "metadata": {},
   "outputs": [],
   "source": [
    "string means only special characters;"
   ]
  },
  {
   "cell_type": "code",
   "execution_count": null,
   "id": "e081d31b",
   "metadata": {},
   "outputs": [],
   "source": [
    "#Tuple:"
   ]
  },
  {
   "cell_type": "code",
   "execution_count": 9,
   "id": "c340e960",
   "metadata": {},
   "outputs": [
    {
     "data": {
      "text/plain": [
       "tuple"
      ]
     },
     "execution_count": 9,
     "metadata": {},
     "output_type": "execute_result"
    }
   ],
   "source": [
    "a =(23 ,34 ,34)\n",
    "type(a)"
   ]
  },
  {
   "cell_type": "code",
   "execution_count": 10,
   "id": "0740d02a",
   "metadata": {},
   "outputs": [
    {
     "data": {
      "text/plain": [
       "tuple"
      ]
     },
     "execution_count": 10,
     "metadata": {},
     "output_type": "execute_result"
    }
   ],
   "source": [
    "b =(342,313,23)\n",
    "type(b)"
   ]
  },
  {
   "cell_type": "code",
   "execution_count": null,
   "id": "585b48f3",
   "metadata": {},
   "outputs": [],
   "source": [
    "tuple mean bracket;"
   ]
  },
  {
   "cell_type": "code",
   "execution_count": null,
   "id": "e5a11896",
   "metadata": {},
   "outputs": [],
   "source": [
    "#List:"
   ]
  },
  {
   "cell_type": "code",
   "execution_count": 14,
   "id": "8c71bd6c",
   "metadata": {},
   "outputs": [
    {
     "data": {
      "text/plain": [
       "list"
      ]
     },
     "execution_count": 14,
     "metadata": {},
     "output_type": "execute_result"
    }
   ],
   "source": [
    "a =[1,1,1,2,4,4,3,23]\n",
    "type(a)"
   ]
  },
  {
   "cell_type": "code",
   "execution_count": 15,
   "id": "761dd997",
   "metadata": {},
   "outputs": [
    {
     "data": {
      "text/plain": [
       "list"
      ]
     },
     "execution_count": 15,
     "metadata": {},
     "output_type": "execute_result"
    }
   ],
   "source": [
    "b =[14,413,1413434,32421]\n",
    "type(b)"
   ]
  },
  {
   "cell_type": "code",
   "execution_count": null,
   "id": "3c7f94ab",
   "metadata": {},
   "outputs": [],
   "source": [
    "list mean [] this bracket"
   ]
  },
  {
   "cell_type": "code",
   "execution_count": null,
   "id": "04d2e8a6",
   "metadata": {},
   "outputs": [],
   "source": [
    "`#Boolean:"
   ]
  },
  {
   "cell_type": "code",
   "execution_count": 17,
   "id": "0f2a7f2a",
   "metadata": {},
   "outputs": [
    {
     "data": {
      "text/plain": [
       "bool"
      ]
     },
     "execution_count": 17,
     "metadata": {},
     "output_type": "execute_result"
    }
   ],
   "source": [
    "a = True\n",
    "type(a)"
   ]
  },
  {
   "cell_type": "code",
   "execution_count": 18,
   "id": "4dd2f1ad",
   "metadata": {},
   "outputs": [
    {
     "data": {
      "text/plain": [
       "bool"
      ]
     },
     "execution_count": 18,
     "metadata": {},
     "output_type": "execute_result"
    }
   ],
   "source": [
    "b = False\n",
    "type(b)"
   ]
  },
  {
   "cell_type": "code",
   "execution_count": null,
   "id": "0a837b6b",
   "metadata": {},
   "outputs": [],
   "source": [
    "Boolean mean capital letter word only True OR False"
   ]
  },
  {
   "cell_type": "code",
   "execution_count": null,
   "id": "a3962802",
   "metadata": {},
   "outputs": [],
   "source": [
    "#Set:"
   ]
  },
  {
   "cell_type": "code",
   "execution_count": 21,
   "id": "2cd50af6",
   "metadata": {},
   "outputs": [
    {
     "data": {
      "text/plain": [
       "set"
      ]
     },
     "execution_count": 21,
     "metadata": {},
     "output_type": "execute_result"
    }
   ],
   "source": [
    "a = {1,3,4,2,6}\n",
    "type(a)"
   ]
  },
  {
   "cell_type": "code",
   "execution_count": 22,
   "id": "56523759",
   "metadata": {},
   "outputs": [
    {
     "data": {
      "text/plain": [
       "set"
      ]
     },
     "execution_count": 22,
     "metadata": {},
     "output_type": "execute_result"
    }
   ],
   "source": [
    "b = {132,24,132,34,4}\n",
    "type(b)"
   ]
  },
  {
   "cell_type": "code",
   "execution_count": null,
   "id": "95a99ea7",
   "metadata": {},
   "outputs": [],
   "source": [
    "Set means {} this special bracket;"
   ]
  },
  {
   "cell_type": "code",
   "execution_count": null,
   "id": "0a830ca4",
   "metadata": {},
   "outputs": [],
   "source": [
    "#Dictionery:"
   ]
  },
  {
   "cell_type": "code",
   "execution_count": 30,
   "id": "d470a9ed",
   "metadata": {},
   "outputs": [
    {
     "data": {
      "text/plain": [
       "set"
      ]
     },
     "execution_count": 30,
     "metadata": {},
     "output_type": "execute_result"
    }
   ],
   "source": [
    "b = {\"1342:23535:34:35:253\"}\n",
    "type(b)"
   ]
  },
  {
   "cell_type": "code",
   "execution_count": 45,
   "id": "003f6d45",
   "metadata": {},
   "outputs": [
    {
     "name": "stdout",
     "output_type": "stream",
     "text": [
      "Empty Dictionery: \n",
      "{}\n"
     ]
    }
   ],
   "source": [
    "dict = {}\n",
    "print(\"Empty Dictionery: \" )\n",
    "print(dict)"
   ]
  },
  {
   "cell_type": "code",
   "execution_count": null,
   "id": "26231f57",
   "metadata": {},
   "outputs": [],
   "source": [
    "#Typeing castin:\n",
    "changing one datatype to another datatype"
   ]
  },
  {
   "cell_type": "code",
   "execution_count": 50,
   "id": "20ea961a",
   "metadata": {},
   "outputs": [
    {
     "data": {
      "text/plain": [
       "int"
      ]
     },
     "execution_count": 50,
     "metadata": {},
     "output_type": "execute_result"
    }
   ],
   "source": [
    "a =13414\n",
    "type(a)\n",
    "a= str(a)\n",
    "type(a)\n",
    "a =float(a)\n",
    "type(a)\n",
    "a =int(a)\n",
    "type(a)"
   ]
  },
  {
   "cell_type": "code",
   "execution_count": 56,
   "id": "1cf18036",
   "metadata": {},
   "outputs": [
    {
     "data": {
      "text/plain": [
       "float"
      ]
     },
     "execution_count": 56,
     "metadata": {},
     "output_type": "execute_result"
    }
   ],
   "source": [
    "b =13334\n",
    "type(b)\n",
    "b =str(b)\n",
    "type(b)\n",
    "b=int(b)\n",
    "type(b)\n",
    "b=float(b)\n",
    "type(b)"
   ]
  },
  {
   "cell_type": "code",
   "execution_count": 57,
   "id": "946fa300",
   "metadata": {},
   "outputs": [
    {
     "name": "stdout",
     "output_type": "stream",
     "text": [
      "13414.0\n"
     ]
    },
    {
     "data": {
      "text/plain": [
       "float"
      ]
     },
     "execution_count": 57,
     "metadata": {},
     "output_type": "execute_result"
    }
   ],
   "source": [
    "a = float(a)\n",
    "print(a)\n",
    "type(a)"
   ]
  },
  {
   "cell_type": "code",
   "execution_count": 58,
   "id": "299859d0",
   "metadata": {},
   "outputs": [
    {
     "data": {
      "text/plain": [
       "float"
      ]
     },
     "execution_count": 58,
     "metadata": {},
     "output_type": "execute_result"
    }
   ],
   "source": [
    "b =float(b)\n",
    "type(b)"
   ]
  },
  {
   "cell_type": "code",
   "execution_count": null,
   "id": "77224a1c",
   "metadata": {},
   "outputs": [],
   "source": [
    "question:\n",
    "    solve this question;\n",
    "    WAP to convet a float number to str and then to int?"
   ]
  },
  {
   "cell_type": "code",
   "execution_count": 15,
   "id": "6d1829a4",
   "metadata": {},
   "outputs": [
    {
     "data": {
      "text/plain": [
       "int"
      ]
     },
     "execution_count": 15,
     "metadata": {},
     "output_type": "execute_result"
    }
   ],
   "source": [
    "a = 123.32\n",
    "b = (2321)\n",
    "c = 3423\n",
    "a = float(a)\n",
    "type(a)\n",
    "b = str(b)\n",
    "type(b)\n",
    "c = int(c)\n",
    "type(c)"
   ]
  },
  {
   "cell_type": "code",
   "execution_count": 63,
   "id": "6e0265e5",
   "metadata": {},
   "outputs": [
    {
     "data": {
      "text/plain": [
       "float"
      ]
     },
     "execution_count": 63,
     "metadata": {},
     "output_type": "execute_result"
    }
   ],
   "source": [
    "a = 242.243\n",
    "type(a)"
   ]
  },
  {
   "cell_type": "code",
   "execution_count": 64,
   "id": "fa9adb04",
   "metadata": {},
   "outputs": [
    {
     "data": {
      "text/plain": [
       "str"
      ]
     },
     "execution_count": 64,
     "metadata": {},
     "output_type": "execute_result"
    }
   ],
   "source": [
    "a = \"343462435\"\n",
    "type(a)"
   ]
  },
  {
   "cell_type": "code",
   "execution_count": 65,
   "id": "0b323773",
   "metadata": {},
   "outputs": [
    {
     "data": {
      "text/plain": [
       "int"
      ]
     },
     "execution_count": 65,
     "metadata": {},
     "output_type": "execute_result"
    }
   ],
   "source": [
    "a =24544\n",
    "type(a)"
   ]
  },
  {
   "cell_type": "code",
   "execution_count": 69,
   "id": "c95704cd",
   "metadata": {},
   "outputs": [
    {
     "name": "stdout",
     "output_type": "stream",
     "text": [
      "<class 'str'>\n"
     ]
    }
   ],
   "source": [
    "a = 133.242\n",
    "a = str(a)\n",
    "print(type(a))\n"
   ]
  },
  {
   "cell_type": "code",
   "execution_count": 83,
   "id": "467c3ef8",
   "metadata": {},
   "outputs": [
    {
     "name": "stdout",
     "output_type": "stream",
     "text": [
      "24225\n"
     ]
    },
    {
     "data": {
      "text/plain": [
       "int"
      ]
     },
     "execution_count": 83,
     "metadata": {},
     "output_type": "execute_result"
    }
   ],
   "source": [
    "a =24225.2435\n",
    "a = int(float(str(a)))\n",
    "print(a)\n",
    "type(a)"
   ]
  },
  {
   "cell_type": "code",
   "execution_count": 21,
   "id": "b8384eba",
   "metadata": {},
   "outputs": [
    {
     "name": "stdout",
     "output_type": "stream",
     "text": [
      "4523\n"
     ]
    },
    {
     "data": {
      "text/plain": [
       "str"
      ]
     },
     "execution_count": 21,
     "metadata": {},
     "output_type": "execute_result"
    }
   ],
   "source": [
    "a = 4523.24\n",
    "a = str(int(float(a)))\n",
    "print(a)\n",
    "type(a)"
   ]
  },
  {
   "cell_type": "code",
   "execution_count": 23,
   "id": "95ac19a5",
   "metadata": {},
   "outputs": [
    {
     "name": "stdout",
     "output_type": "stream",
     "text": [
      "1352\n"
     ]
    },
    {
     "data": {
      "text/plain": [
       "str"
      ]
     },
     "execution_count": 23,
     "metadata": {},
     "output_type": "execute_result"
    }
   ],
   "source": [
    "a = 1352.4545\n",
    "a = str(int(float(a)))\n",
    "print(a)\n",
    "type(a)"
   ]
  },
  {
   "cell_type": "code",
   "execution_count": 24,
   "id": "4ce8b34a",
   "metadata": {},
   "outputs": [
    {
     "name": "stdout",
     "output_type": "stream",
     "text": [
      "245\n"
     ]
    },
    {
     "data": {
      "text/plain": [
       "str"
      ]
     },
     "execution_count": 24,
     "metadata": {},
     "output_type": "execute_result"
    }
   ],
   "source": [
    "a = 245.246\n",
    "a = str(int(float(str(float(int(a))))))\n",
    "print(a)\n",
    "type(a)"
   ]
  },
  {
   "cell_type": "code",
   "execution_count": 1,
   "id": "2232b137",
   "metadata": {},
   "outputs": [
    {
     "name": "stdout",
     "output_type": "stream",
     "text": [
      "334\n"
     ]
    },
    {
     "data": {
      "text/plain": [
       "str"
      ]
     },
     "execution_count": 1,
     "metadata": {},
     "output_type": "execute_result"
    }
   ],
   "source": [
    "a=334.134\n",
    "a=str(int(float(str(int(a)))))\n",
    "print(a)\n",
    "type(a)"
   ]
  },
  {
   "cell_type": "code",
   "execution_count": 2,
   "id": "0deb07b6",
   "metadata": {},
   "outputs": [
    {
     "name": "stdout",
     "output_type": "stream",
     "text": [
      "334\n"
     ]
    },
    {
     "data": {
      "text/plain": [
       "str"
      ]
     },
     "execution_count": 2,
     "metadata": {},
     "output_type": "execute_result"
    }
   ],
   "source": [
    "c = 2424.3\n",
    "c = str(int(float(str(int(a)))))\n",
    "print(c)\n",
    "type(c)"
   ]
  },
  {
   "cell_type": "code",
   "execution_count": 25,
   "id": "4d5324dc",
   "metadata": {},
   "outputs": [
    {
     "name": "stdout",
     "output_type": "stream",
     "text": [
      "34545\n"
     ]
    },
    {
     "data": {
      "text/plain": [
       "int"
      ]
     },
     "execution_count": 25,
     "metadata": {},
     "output_type": "execute_result"
    }
   ],
   "source": [
    "a = 34545.35\n",
    "a = int(float(str(a)))\n",
    "print(a)\n",
    "type(a)"
   ]
  },
  {
   "cell_type": "code",
   "execution_count": null,
   "id": "2ff21806",
   "metadata": {},
   "outputs": [],
   "source": [
    "a =\"124.546\"\n",
    "first convert it float ,then to int then to str."
   ]
  },
  {
   "cell_type": "code",
   "execution_count": 88,
   "id": "3b24ee9c",
   "metadata": {},
   "outputs": [
    {
     "name": "stdout",
     "output_type": "stream",
     "text": [
      "124\n"
     ]
    },
    {
     "data": {
      "text/plain": [
       "str"
      ]
     },
     "execution_count": 88,
     "metadata": {},
     "output_type": "execute_result"
    }
   ],
   "source": [
    "a = 124.546\n",
    "a = str(int(float(a)))\n",
    "print(a)\n",
    "type(a)"
   ]
  },
  {
   "cell_type": "code",
   "execution_count": null,
   "id": "beb83c6f",
   "metadata": {},
   "outputs": [],
   "source": [
    "z =9999.9999\n",
    "convert it to float,int,float,str,float,int,str"
   ]
  },
  {
   "cell_type": "code",
   "execution_count": 95,
   "id": "8e4652b5",
   "metadata": {},
   "outputs": [
    {
     "name": "stdout",
     "output_type": "stream",
     "text": [
      "9999\n"
     ]
    },
    {
     "data": {
      "text/plain": [
       "str"
      ]
     },
     "execution_count": 95,
     "metadata": {},
     "output_type": "execute_result"
    }
   ],
   "source": [
    "z = 9999.9999\n",
    "z =str(int(float(str(float(int(float(z)))))))\n",
    "print(z)\n",
    "type(z)"
   ]
  },
  {
   "cell_type": "code",
   "execution_count": null,
   "id": "9098b627",
   "metadata": {},
   "outputs": [],
   "source": [
    "j = (1,2,3,4,5,6,6,3,2,7)\n",
    "     convert this to a tuple first then to a set "
   ]
  },
  {
   "cell_type": "code",
   "execution_count": 3,
   "id": "6d0cc322",
   "metadata": {},
   "outputs": [
    {
     "name": "stdout",
     "output_type": "stream",
     "text": [
      "{1, 2, 3, 4, 5, 6, 7}\n"
     ]
    },
    {
     "data": {
      "text/plain": [
       "set"
      ]
     },
     "execution_count": 3,
     "metadata": {},
     "output_type": "execute_result"
    }
   ],
   "source": [
    "j = 1,2,3,4,5,6,6,3,2,7\n",
    "j = set(tuple(j))\n",
    "print(j)\n",
    "type(j)"
   ]
  },
  {
   "cell_type": "code",
   "execution_count": 97,
   "id": "985c8f2f",
   "metadata": {},
   "outputs": [
    {
     "name": "stdout",
     "output_type": "stream",
     "text": [
      "{1, 2, 3, 4, 5, 6, 7}\n"
     ]
    },
    {
     "data": {
      "text/plain": [
       "set"
      ]
     },
     "execution_count": 97,
     "metadata": {},
     "output_type": "execute_result"
    }
   ],
   "source": [
    "j = 1,2,3,4,5,6,6,3,2,7\n",
    "j = set(tuple(j))\n",
    "print(j)\n",
    "type(j)"
   ]
  },
  {
   "cell_type": "code",
   "execution_count": 103,
   "id": "3e8c9367",
   "metadata": {},
   "outputs": [
    {
     "name": "stdout",
     "output_type": "stream",
     "text": [
      "enter the number124243\n",
      "124243\n"
     ]
    },
    {
     "data": {
      "text/plain": [
       "int"
      ]
     },
     "execution_count": 103,
     "metadata": {},
     "output_type": "execute_result"
    }
   ],
   "source": [
    "a = int(input(\"enter the number\"))\n",
    "print(a)\n",
    "type(a)"
   ]
  },
  {
   "cell_type": "code",
   "execution_count": 4,
   "id": "5c8bf0fe",
   "metadata": {},
   "outputs": [
    {
     "name": "stdout",
     "output_type": "stream",
     "text": [
      "enter the number 244542\n",
      "244542\n"
     ]
    },
    {
     "data": {
      "text/plain": [
       "int"
      ]
     },
     "execution_count": 4,
     "metadata": {},
     "output_type": "execute_result"
    }
   ],
   "source": [
    "a = int(input(\"enter the number \"))\n",
    "print(a)\n",
    "type(a)"
   ]
  },
  {
   "cell_type": "code",
   "execution_count": 1,
   "id": "67858135",
   "metadata": {},
   "outputs": [
    {
     "name": "stdout",
     "output_type": "stream",
     "text": [
      "enter the number 4\n",
      "4\n"
     ]
    },
    {
     "data": {
      "text/plain": [
       "int"
      ]
     },
     "execution_count": 1,
     "metadata": {},
     "output_type": "execute_result"
    }
   ],
   "source": [
    "b = int(input(\"enter the number \"))\n",
    "print(b)\n",
    "type(b)"
   ]
  },
  {
   "cell_type": "code",
   "execution_count": 8,
   "id": "45ed1f28",
   "metadata": {},
   "outputs": [
    {
     "name": "stdout",
     "output_type": "stream",
     "text": [
      "enter the number2444\n",
      "2444\n"
     ]
    },
    {
     "data": {
      "text/plain": [
       "int"
      ]
     },
     "execution_count": 8,
     "metadata": {},
     "output_type": "execute_result"
    }
   ],
   "source": [
    "b = int(input(\"enter the number\"))\n",
    "print(b)\n",
    "type(b)"
   ]
  },
  {
   "cell_type": "code",
   "execution_count": 9,
   "id": "c3cc9d93",
   "metadata": {},
   "outputs": [
    {
     "name": "stdout",
     "output_type": "stream",
     "text": [
      "enter the number 2434r2\n",
      "2434r2\n"
     ]
    },
    {
     "data": {
      "text/plain": [
       "str"
      ]
     },
     "execution_count": 9,
     "metadata": {},
     "output_type": "execute_result"
    }
   ],
   "source": [
    "z = str(input(\"enter the number \"))\n",
    "print(z)\n",
    "type(z)"
   ]
  },
  {
   "cell_type": "code",
   "execution_count": 106,
   "id": "b0ec63b5",
   "metadata": {},
   "outputs": [
    {
     "name": "stdout",
     "output_type": "stream",
     "text": [
      "enter the weight60.5\n",
      "60.5\n"
     ]
    },
    {
     "data": {
      "text/plain": [
       "float"
      ]
     },
     "execution_count": 106,
     "metadata": {},
     "output_type": "execute_result"
    }
   ],
   "source": [
    "w = float(input(\"enter the weight\"))\n",
    "print(w)\n",
    "type(w)"
   ]
  },
  {
   "cell_type": "code",
   "execution_count": null,
   "id": "816e8b2d",
   "metadata": {},
   "outputs": [],
   "source": [
    "#add"
   ]
  },
  {
   "cell_type": "code",
   "execution_count": 107,
   "id": "00777a3f",
   "metadata": {},
   "outputs": [
    {
     "data": {
      "text/plain": [
       "24754"
      ]
     },
     "execution_count": 107,
     "metadata": {},
     "output_type": "execute_result"
    }
   ],
   "source": [
    "a =242\n",
    "b =24512\n",
    "a+b\n"
   ]
  },
  {
   "cell_type": "code",
   "execution_count": 108,
   "id": "d233f0a7",
   "metadata": {},
   "outputs": [
    {
     "data": {
      "text/plain": [
       "4444"
      ]
     },
     "execution_count": 108,
     "metadata": {},
     "output_type": "execute_result"
    }
   ],
   "source": [
    "a = 1111\n",
    "b = 1111\n",
    "c = 1111\n",
    "d = 1111\n",
    "a+b+c+d"
   ]
  },
  {
   "cell_type": "code",
   "execution_count": 109,
   "id": "c1960276",
   "metadata": {},
   "outputs": [
    {
     "data": {
      "text/plain": [
       "True"
      ]
     },
     "execution_count": 109,
     "metadata": {},
     "output_type": "execute_result"
    }
   ],
   "source": [
    "a==b==c==d"
   ]
  },
  {
   "cell_type": "code",
   "execution_count": 110,
   "id": "6e257cd1",
   "metadata": {},
   "outputs": [
    {
     "data": {
      "text/plain": [
       "-3198"
      ]
     },
     "execution_count": 110,
     "metadata": {},
     "output_type": "execute_result"
    }
   ],
   "source": [
    "a = 1334\n",
    "b = 4532\n",
    "a - b "
   ]
  },
  {
   "cell_type": "code",
   "execution_count": 111,
   "id": "7cb2afe9",
   "metadata": {},
   "outputs": [
    {
     "data": {
      "text/plain": [
       "False"
      ]
     },
     "execution_count": 111,
     "metadata": {},
     "output_type": "execute_result"
    }
   ],
   "source": [
    "a==b"
   ]
  },
  {
   "cell_type": "code",
   "execution_count": 112,
   "id": "d797549d",
   "metadata": {},
   "outputs": [
    {
     "name": "stdout",
     "output_type": "stream",
     "text": [
      "-3198\n",
      "6045688\n",
      "0.294351279788173\n"
     ]
    }
   ],
   "source": [
    "c = a+b\n",
    "d = a-b\n",
    "print(d)\n",
    "m =a*b\n",
    "print(m)\n",
    "div = a/b\n",
    "print(div)"
   ]
  },
  {
   "cell_type": "code",
   "execution_count": null,
   "id": "16cc9993",
   "metadata": {},
   "outputs": [],
   "source": [
    "#floor division:"
   ]
  },
  {
   "cell_type": "code",
   "execution_count": 113,
   "id": "59b05047",
   "metadata": {},
   "outputs": [
    {
     "data": {
      "text/plain": [
       "1"
      ]
     },
     "execution_count": 113,
     "metadata": {},
     "output_type": "execute_result"
    }
   ],
   "source": [
    "a = 90 \n",
    "b = 60\n",
    "a//b"
   ]
  },
  {
   "cell_type": "code",
   "execution_count": 114,
   "id": "186c064e",
   "metadata": {},
   "outputs": [
    {
     "data": {
      "text/plain": [
       "1.5"
      ]
     },
     "execution_count": 114,
     "metadata": {},
     "output_type": "execute_result"
    }
   ],
   "source": [
    "a = 90\n",
    "b = 60\n",
    "a/b"
   ]
  },
  {
   "cell_type": "code",
   "execution_count": 115,
   "id": "10b4f98b",
   "metadata": {},
   "outputs": [
    {
     "data": {
      "text/plain": [
       "0"
      ]
     },
     "execution_count": 115,
     "metadata": {},
     "output_type": "execute_result"
    }
   ],
   "source": [
    "e =2442\n",
    "f =4424\n",
    "e//f"
   ]
  },
  {
   "cell_type": "code",
   "execution_count": null,
   "id": "f71025c6",
   "metadata": {},
   "outputs": [],
   "source": [
    "#moduler:"
   ]
  },
  {
   "cell_type": "code",
   "execution_count": 116,
   "id": "b33bf721",
   "metadata": {},
   "outputs": [
    {
     "data": {
      "text/plain": [
       "0"
      ]
     },
     "execution_count": 116,
     "metadata": {},
     "output_type": "execute_result"
    }
   ],
   "source": [
    "a = 10\n",
    "b = 5\n",
    "a%b"
   ]
  },
  {
   "cell_type": "code",
   "execution_count": null,
   "id": "83f6e162",
   "metadata": {},
   "outputs": [],
   "source": [
    "#PEMDAS rule mean BODMAS\n",
    "p = prenthesis()\n",
    "E = Expo\n",
    "m = multipley\n",
    "D = divide\n",
    "m/d sath mai late hai m ka matlab pahlai jo hoga vo he liya jayega \n",
    "A = add\n",
    "s = sub\n"
   ]
  },
  {
   "cell_type": "code",
   "execution_count": null,
   "id": "e5038bbe",
   "metadata": {},
   "outputs": [],
   "source": [
    "#5multipley:"
   ]
  },
  {
   "cell_type": "code",
   "execution_count": 117,
   "id": "83511afd",
   "metadata": {},
   "outputs": [
    {
     "data": {
      "text/plain": [
       "400000"
      ]
     },
     "execution_count": 117,
     "metadata": {},
     "output_type": "execute_result"
    }
   ],
   "source": [
    "400*1000\n"
   ]
  },
  {
   "cell_type": "code",
   "execution_count": 118,
   "id": "5b6ffa55",
   "metadata": {},
   "outputs": [
    {
     "data": {
      "text/plain": [
       "2"
      ]
     },
     "execution_count": 118,
     "metadata": {},
     "output_type": "execute_result"
    }
   ],
   "source": [
    "8-3*2-1+1"
   ]
  },
  {
   "cell_type": "code",
   "execution_count": 119,
   "id": "e066b437",
   "metadata": {},
   "outputs": [
    {
     "data": {
      "text/plain": [
       "0"
      ]
     },
     "execution_count": 119,
     "metadata": {},
     "output_type": "execute_result"
    }
   ],
   "source": [
    "8 -(3*2)-(1+1)"
   ]
  },
  {
   "cell_type": "code",
   "execution_count": 120,
   "id": "e2cd1987",
   "metadata": {},
   "outputs": [
    {
     "data": {
      "text/plain": [
       "3"
      ]
     },
     "execution_count": 120,
     "metadata": {},
     "output_type": "execute_result"
    }
   ],
   "source": [
    "33%5"
   ]
  },
  {
   "cell_type": "code",
   "execution_count": 11,
   "id": "c9a863b4",
   "metadata": {},
   "outputs": [
    {
     "data": {
      "text/plain": [
       "7"
      ]
     },
     "execution_count": 11,
     "metadata": {},
     "output_type": "execute_result"
    }
   ],
   "source": [
    "3*3-4+2"
   ]
  }
 ],
 "metadata": {
  "kernelspec": {
   "display_name": "Python 3 (ipykernel)",
   "language": "python",
   "name": "python3"
  },
  "language_info": {
   "codemirror_mode": {
    "name": "ipython",
    "version": 3
   },
   "file_extension": ".py",
   "mimetype": "text/x-python",
   "name": "python",
   "nbconvert_exporter": "python",
   "pygments_lexer": "ipython3",
   "version": "3.9.7"
  }
 },
 "nbformat": 4,
 "nbformat_minor": 5
}
