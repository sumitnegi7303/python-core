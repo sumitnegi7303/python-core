{
 "cells": [
  {
   "cell_type": "code",
   "execution_count": null,
   "id": "792111a7",
   "metadata": {},
   "outputs": [],
   "source": [
    "#OOPS:\n",
    "object oriented programing sysetm\n",
    "class is used to creat a class is python"
   ]
  },
  {
   "cell_type": "code",
   "execution_count": 2,
   "id": "0a26855f",
   "metadata": {},
   "outputs": [],
   "source": [
    "class car :\n",
    "    pass"
   ]
  },
  {
   "cell_type": "code",
   "execution_count": 7,
   "id": "121e70ae",
   "metadata": {},
   "outputs": [
    {
     "data": {
      "text/plain": [
       "'sedan'"
      ]
     },
     "execution_count": 7,
     "metadata": {},
     "output_type": "execute_result"
    }
   ],
   "source": [
    "class car :\n",
    "    car_type = \"sedan\"\n",
    "c = car\n",
    "c.car_type"
   ]
  },
  {
   "cell_type": "code",
   "execution_count": 27,
   "id": "4e57ec87",
   "metadata": {},
   "outputs": [
    {
     "name": "stdout",
     "output_type": "stream",
     "text": [
      "the sedan ofblack is having14km/1 mileage and top speed is 150 car\n"
     ]
    }
   ],
   "source": [
    "class car:\n",
    "    car_type = \"sedan\"\n",
    "    def __init__(self,color,mileage,ts,ft):\n",
    "        self.color = color\n",
    "        self.mileage = mileage\n",
    "        self.ts = ts\n",
    "        self.ft = ft\n",
    "    def describe(self):\n",
    "            print(f\"the sedan of{self.color} is having{self.mileage}km/1 mileage and top speed is {self.ts} car\")\n",
    "c = car(\"black\",14,150,\"petrol\")\n",
    "\n",
    "c.describe()"
   ]
  },
  {
   "cell_type": "code",
   "execution_count": null,
   "id": "de7e3a72",
   "metadata": {},
   "outputs": [],
   "source": [
    "n = 5\n",
    "for i in range(1,11):\n",
    "    print(\"{}x{}={}.format(n,i,n*i)\")"
   ]
  },
  {
   "cell_type": "code",
   "execution_count": 24,
   "id": "80f8c1d4",
   "metadata": {},
   "outputs": [
    {
     "name": "stdout",
     "output_type": "stream",
     "text": [
      "5*1=5\n",
      "5*2=10\n",
      "5*3=15\n",
      "5*4=20\n",
      "5*5=25\n",
      "5*6=30\n",
      "5*7=35\n",
      "5*8=40\n",
      "5*9=45\n",
      "5*10=50\n"
     ]
    }
   ],
   "source": [
    "n = 5 \n",
    "for i in range(1,11):\n",
    "    print(f\"{n}*{i}={n*i}\")"
   ]
  },
  {
   "cell_type": "code",
   "execution_count": null,
   "id": "79f0908f",
   "metadata": {},
   "outputs": [],
   "source": [
    "WAC to employe , add a constructor to it , take the details of \n",
    "employee as , name , id , department,gender,mailid,phone number,\n",
    "write a method to show the details of employee,\n",
    "and create and object to access the details of the employee."
   ]
  },
  {
   "cell_type": "code",
   "execution_count": 33,
   "id": "0cb017e5",
   "metadata": {},
   "outputs": [
    {
     "ename": "SyntaxError",
     "evalue": "invalid syntax (Temp/ipykernel_3392/446273123.py, line 9)",
     "output_type": "error",
     "traceback": [
      "\u001b[1;36m  File \u001b[1;32m\"C:\\Users\\GOURAV~1\\AppData\\Local\\Temp/ipykernel_3392/446273123.py\"\u001b[1;36m, line \u001b[1;32m9\u001b[0m\n\u001b[1;33m    details.phone number = phonenumber\u001b[0m\n\u001b[1;37m                  ^\u001b[0m\n\u001b[1;31mSyntaxError\u001b[0m\u001b[1;31m:\u001b[0m invalid syntax\n"
     ]
    }
   ],
   "source": [
    "class employe :\n",
    "    employe_type = \"\"\n",
    "    def _init_(details,name,id,department,gender,mailid,phonenumber):\n",
    "        details.name = name \n",
    "        details.id = id \n",
    "        details.department = department\n",
    "        details.gender = gender\n",
    "        details.mailid = mailid\n",
    "        details.phone number = phonenumber\n",
    "e = employe(4,\"sumit\" , \"it\" , \"male\" , \"4444\")\n",
    "print(e.id,e.name,e.department,e.gender,e.mailid,e.phonenumber)"
   ]
  },
  {
   "cell_type": "code",
   "execution_count": 37,
   "id": "ab700e68",
   "metadata": {
    "scrolled": true
   },
   "outputs": [
    {
     "ename": "TypeError",
     "evalue": "Employee() takes no arguments",
     "output_type": "error",
     "traceback": [
      "\u001b[1;31m---------------------------------------------------------------------------\u001b[0m",
      "\u001b[1;31mTypeError\u001b[0m                                 Traceback (most recent call last)",
      "\u001b[1;32mC:\\Users\\GOURAV~1\\AppData\\Local\\Temp/ipykernel_3392/2029218428.py\u001b[0m in \u001b[0;36m<module>\u001b[1;34m\u001b[0m\n\u001b[0;32m      5\u001b[0m     \u001b[1;32mdef\u001b[0m \u001b[0mshow_details\u001b[0m\u001b[1;33m(\u001b[0m\u001b[0mself\u001b[0m\u001b[1;33m)\u001b[0m\u001b[1;33m:\u001b[0m\u001b[1;33m\u001b[0m\u001b[1;33m\u001b[0m\u001b[0m\n\u001b[0;32m      6\u001b[0m         \u001b[0mprint\u001b[0m\u001b[1;33m(\u001b[0m\u001b[1;34mF\"{self.name} is having id {self.id1}\"\u001b[0m\u001b[1;33m)\u001b[0m\u001b[1;33m\u001b[0m\u001b[1;33m\u001b[0m\u001b[0m\n\u001b[1;32m----> 7\u001b[1;33m \u001b[0memp\u001b[0m \u001b[1;33m=\u001b[0m \u001b[0mEmployee\u001b[0m\u001b[1;33m(\u001b[0m\u001b[1;34m\"aman\"\u001b[0m\u001b[1;33m,\u001b[0m\u001b[1;36m123345\u001b[0m\u001b[1;33m)\u001b[0m\u001b[1;33m\u001b[0m\u001b[1;33m\u001b[0m\u001b[0m\n\u001b[0m\u001b[0;32m      8\u001b[0m \u001b[0memp\u001b[0m\u001b[1;33m.\u001b[0m\u001b[0mshow_details\u001b[0m\u001b[1;33m(\u001b[0m\u001b[1;33m)\u001b[0m\u001b[1;33m\u001b[0m\u001b[1;33m\u001b[0m\u001b[0m\n",
      "\u001b[1;31mTypeError\u001b[0m: Employee() takes no arguments"
     ]
    }
   ],
   "source": [
    "class Employee :\n",
    "    def _init_(self,name,id1,):\n",
    "        self.name = name\n",
    "        self.id1 = id1\n",
    "    def show_details(self):\n",
    "        print(F\"{self.name} is having id {self.id1}\")\n",
    "emp = Employee(\"aman\",123345)\n",
    "emp.show_details()"
   ]
  }
 ],
 "metadata": {
  "kernelspec": {
   "display_name": "Python 3 (ipykernel)",
   "language": "python",
   "name": "python3"
  },
  "language_info": {
   "codemirror_mode": {
    "name": "ipython",
    "version": 3
   },
   "file_extension": ".py",
   "mimetype": "text/x-python",
   "name": "python",
   "nbconvert_exporter": "python",
   "pygments_lexer": "ipython3",
   "version": "3.9.7"
  }
 },
 "nbformat": 4,
 "nbformat_minor": 5
}
