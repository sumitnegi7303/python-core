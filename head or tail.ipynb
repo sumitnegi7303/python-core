{
 "cells": [
  {
   "cell_type": "code",
   "execution_count": 10,
   "id": "09d88a83",
   "metadata": {},
   "outputs": [
    {
     "ename": "SyntaxError",
     "evalue": "EOL while scanning string literal (Temp/ipykernel_11972/3232492166.py, line 17)",
     "output_type": "error",
     "traceback": [
      "\u001b[1;36m  File \u001b[1;32m\"C:\\Users\\GOURAV~1\\AppData\\Local\\Temp/ipykernel_11972/3232492166.py\"\u001b[1;36m, line \u001b[1;32m17\u001b[0m\n\u001b[1;33m    print(\"Score , end=\" \"):\u001b[0m\n\u001b[1;37m                            ^\u001b[0m\n\u001b[1;31mSyntaxError\u001b[0m\u001b[1;31m:\u001b[0m EOL while scanning string literal\n"
     ]
    }
   ],
   "source": [
    "from random import randint\n",
    "\n",
    "heads_or_tails = \" \"\n",
    "computer_win = 0\n",
    "human_win = 0\n",
    "\n",
    "while heads_or_tails != \"no\":\n",
    "    your_number = int(input(\"Enter number 0(heads) or 1(tails): \"))\n",
    "    random_number = randint(0 ,1 )\n",
    "    if your_number == random_number:\n",
    "        human_wins+=1\n",
    "        print(\"you win\")\n",
    "    else:\n",
    "        computer_win+=1\n",
    "        print(\"computer win\")\n",
    "        \n",
    "    print(\"Score , end=\" \"):\n",
    "    print(\"your win = \" +str(human)win)+\",computer win = \" +str(computer_win)\n",
    "          \n",
    "    heads_or_tails = input(\"Did you wanna continue? (yes/no)\")"
   ]
  },
  {
   "cell_type": "code",
   "execution_count": 11,
   "id": "4041e210",
   "metadata": {},
   "outputs": [
    {
     "name": "stdout",
     "output_type": "stream",
     "text": [
      "Enter number 0(heads) or 1(tails): head\n"
     ]
    },
    {
     "ename": "ValueError",
     "evalue": "invalid literal for int() with base 10: 'head'",
     "output_type": "error",
     "traceback": [
      "\u001b[1;31m---------------------------------------------------------------------------\u001b[0m",
      "\u001b[1;31mValueError\u001b[0m                                Traceback (most recent call last)",
      "\u001b[1;32mC:\\Users\\GOURAV~1\\AppData\\Local\\Temp/ipykernel_11972/2799065655.py\u001b[0m in \u001b[0;36m<module>\u001b[1;34m\u001b[0m\n\u001b[0;32m      6\u001b[0m \u001b[1;33m\u001b[0m\u001b[0m\n\u001b[0;32m      7\u001b[0m \u001b[1;32mwhile\u001b[0m \u001b[0mheads_or_tails\u001b[0m \u001b[1;33m!=\u001b[0m \u001b[1;34m\"no\"\u001b[0m\u001b[1;33m:\u001b[0m\u001b[1;33m\u001b[0m\u001b[1;33m\u001b[0m\u001b[0m\n\u001b[1;32m----> 8\u001b[1;33m     \u001b[0myour_number\u001b[0m \u001b[1;33m=\u001b[0m \u001b[0mint\u001b[0m\u001b[1;33m(\u001b[0m\u001b[0minput\u001b[0m\u001b[1;33m(\u001b[0m\u001b[1;34m\"Enter number 0(heads) or 1(tails): \"\u001b[0m\u001b[1;33m)\u001b[0m\u001b[1;33m)\u001b[0m\u001b[1;33m\u001b[0m\u001b[1;33m\u001b[0m\u001b[0m\n\u001b[0m\u001b[0;32m      9\u001b[0m     \u001b[0mrandom_number\u001b[0m \u001b[1;33m=\u001b[0m \u001b[0mrandint\u001b[0m\u001b[1;33m(\u001b[0m\u001b[1;36m0\u001b[0m\u001b[1;33m,\u001b[0m \u001b[1;36m1\u001b[0m\u001b[1;33m)\u001b[0m\u001b[1;33m\u001b[0m\u001b[1;33m\u001b[0m\u001b[0m\n\u001b[0;32m     10\u001b[0m     \u001b[1;32mif\u001b[0m \u001b[0myour_number\u001b[0m \u001b[1;33m==\u001b[0m \u001b[0mrandom_number\u001b[0m\u001b[1;33m:\u001b[0m\u001b[1;33m\u001b[0m\u001b[1;33m\u001b[0m\u001b[0m\n",
      "\u001b[1;31mValueError\u001b[0m: invalid literal for int() with base 10: 'head'"
     ]
    }
   ],
   "source": [
    "from random import randint\n",
    "\n",
    "heads_or_tails = \" \"\n",
    "Computer_win = 0\n",
    "human_win = 0\n",
    "\n",
    "while heads_or_tails != \"no\":\n",
    "    your_number = int(input(\"Enter number 0(heads) or 1(tails): \"))\n",
    "    random_number = randint(0, 1)\n",
    "    if your_number == random_number:\n",
    "        human_win+=1\n",
    "        print(\"you win\")\n",
    "    else:\n",
    "        computer_win+=1\n",
    "        print(\"computer wins\")\n",
    "        \n",
    "    print(\"score\" , end=\" \")\n",
    "    print(\"your win = \" +str(human_win)+ \", computer win = \"+str(computer_win))\n",
    "    \n",
    "    heads_or_tails = input(\"Did you wanana continue? (yes/no)\")"
   ]
  }
 ],
 "metadata": {
  "kernelspec": {
   "display_name": "Python 3 (ipykernel)",
   "language": "python",
   "name": "python3"
  },
  "language_info": {
   "codemirror_mode": {
    "name": "ipython",
    "version": 3
   },
   "file_extension": ".py",
   "mimetype": "text/x-python",
   "name": "python",
   "nbconvert_exporter": "python",
   "pygments_lexer": "ipython3",
   "version": "3.9.7"
  }
 },
 "nbformat": 4,
 "nbformat_minor": 5
}
