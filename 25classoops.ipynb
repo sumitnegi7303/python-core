{
 "cells": [
  {
   "cell_type": "code",
   "execution_count": null,
   "id": "4281efde",
   "metadata": {},
   "outputs": [],
   "source": [
    "#properties of oop\n",
    "1)Inheritance\n",
    "2)polymor phism\n",
    "3)data abstraction\n",
    "4)data Encapsulation"
   ]
  },
  {
   "cell_type": "code",
   "execution_count": null,
   "id": "1cc1bbf3",
   "metadata": {},
   "outputs": [],
   "source": [
    "wac shape , take instance variable as sides , and then calc area and perimeter of that particular shape."
   ]
  },
  {
   "cell_type": "code",
   "execution_count": 5,
   "id": "cf259c26",
   "metadata": {},
   "outputs": [
    {
     "name": "stdout",
     "output_type": "stream",
     "text": [
      "enter the side as 1 or 2 :4\n"
     ]
    },
    {
     "ename": "AttributeError",
     "evalue": "'shape' object has no attribute 'areapr'",
     "output_type": "error",
     "traceback": [
      "\u001b[1;31m---------------------------------------------------------------------------\u001b[0m",
      "\u001b[1;31mAttributeError\u001b[0m                            Traceback (most recent call last)",
      "\u001b[1;32mC:\\Users\\GOURAV~1\\AppData\\Local\\Temp/ipykernel_12916/442393577.py\u001b[0m in \u001b[0;36m<module>\u001b[1;34m\u001b[0m\n\u001b[0;32m     18\u001b[0m \u001b[1;33m\u001b[0m\u001b[0m\n\u001b[0;32m     19\u001b[0m \u001b[0msh\u001b[0m \u001b[1;33m=\u001b[0m \u001b[0mshape\u001b[0m\u001b[1;33m(\u001b[0m\u001b[1;33m)\u001b[0m\u001b[1;33m\u001b[0m\u001b[1;33m\u001b[0m\u001b[0m\n\u001b[1;32m---> 20\u001b[1;33m \u001b[0msh\u001b[0m\u001b[1;33m.\u001b[0m\u001b[0mareapr\u001b[0m\u001b[1;33m(\u001b[0m\u001b[1;33m)\u001b[0m\u001b[1;33m\u001b[0m\u001b[1;33m\u001b[0m\u001b[0m\n\u001b[0m",
      "\u001b[1;31mAttributeError\u001b[0m: 'shape' object has no attribute 'areapr'"
     ]
    }
   ],
   "source": [
    "class shape :\n",
    "    def __init__(self):\n",
    "        self.sides = int(input(\"enter the side as 1 or 2 :\"))\n",
    "        def areapr(self):\n",
    "            if self.sides==2:\n",
    "                l = int(input(\"enter the length :\"))\n",
    "                b = int(input(\"enter the breadth :\"))\n",
    "                ar = l*b\n",
    "                pr = 2*(l+b)\n",
    "                print(\"area of rec is \",ar)\n",
    "                print(\"pr of rec is \",pr)\n",
    "            elif sides ==1 :\n",
    "                a = int(input(\"enter the side of a square :\"))\n",
    "                ar = a**2\n",
    "                pr = 4*a\n",
    "                print(\"area of square is \",ar)\n",
    "                print(\"pr of square is \",pr)\n",
    "                \n",
    "sh = shape()\n",
    "sh.areapr()"
   ]
  },
  {
   "cell_type": "code",
   "execution_count": null,
   "id": "7c80872c",
   "metadata": {},
   "outputs": [],
   "source": [
    "define a class vehicle, define constructor of the class, take instance variable as wheeler of veh,type of wheeler\n",
    "petrol,desel or electricity. define a method of the class to print the details of the vehicle also define a method \n",
    "sitting capacity . and if the wheeler is two - sitting capacity should be printed as 2 if the wheeler is 3 sitting \n",
    "capacity should be 3 and if it four , ask user whether its a car , bus if its a car print 6 , if its is bus say 50."
   ]
  },
  {
   "cell_type": "code",
   "execution_count": null,
   "id": "69aa0419",
   "metadata": {},
   "outputs": [],
   "source": [
    "class vehicle :\n",
    "    def __init__(self,wheeler,petrol,desel,electricity):\n",
    "        self.wheeler = wheeler\n",
    "        self.petrol = petrol\n",
    "        self.desel = desel\n",
    "        self.electricity = electricity\n",
    "    def describe(self):\n",
    "        print(f\"the vehicle of {self.wheeler}\")"
   ]
  },
  {
   "cell_type": "code",
   "execution_count": 6,
   "id": "7a6686f1",
   "metadata": {},
   "outputs": [
    {
     "name": "stdout",
     "output_type": "stream",
     "text": [
      "enter the wheeler :4\n",
      "fuel type :electric\n"
     ]
    },
    {
     "ename": "AttributeError",
     "evalue": "'vehicle' object has no attribute 'details'",
     "output_type": "error",
     "traceback": [
      "\u001b[1;31m---------------------------------------------------------------------------\u001b[0m",
      "\u001b[1;31mAttributeError\u001b[0m                            Traceback (most recent call last)",
      "\u001b[1;32mC:\\Users\\GOURAV~1\\AppData\\Local\\Temp/ipykernel_12916/2172410723.py\u001b[0m in \u001b[0;36m<module>\u001b[1;34m\u001b[0m\n\u001b[0;32m     18\u001b[0m                     \u001b[0mprint\u001b[0m\u001b[1;33m(\u001b[0m\u001b[1;34m\"sitting capa is 50\"\u001b[0m\u001b[1;33m)\u001b[0m\u001b[1;33m\u001b[0m\u001b[1;33m\u001b[0m\u001b[0m\n\u001b[0;32m     19\u001b[0m \u001b[0mveh\u001b[0m \u001b[1;33m=\u001b[0m \u001b[0mvehicle\u001b[0m\u001b[1;33m(\u001b[0m\u001b[0mint\u001b[0m\u001b[1;33m(\u001b[0m\u001b[0minput\u001b[0m\u001b[1;33m(\u001b[0m\u001b[1;34m\"enter the wheeler :\"\u001b[0m\u001b[1;33m)\u001b[0m\u001b[1;33m)\u001b[0m\u001b[1;33m,\u001b[0m\u001b[0minput\u001b[0m\u001b[1;33m(\u001b[0m\u001b[1;34m\"fuel type :\"\u001b[0m\u001b[1;33m)\u001b[0m\u001b[1;33m)\u001b[0m\u001b[1;33m\u001b[0m\u001b[1;33m\u001b[0m\u001b[0m\n\u001b[1;32m---> 20\u001b[1;33m \u001b[0mveh\u001b[0m\u001b[1;33m.\u001b[0m\u001b[0mdetails\u001b[0m\u001b[1;33m(\u001b[0m\u001b[1;33m)\u001b[0m\u001b[1;33m\u001b[0m\u001b[1;33m\u001b[0m\u001b[0m\n\u001b[0m\u001b[0;32m     21\u001b[0m \u001b[0mveh\u001b[0m\u001b[1;33m.\u001b[0m\u001b[0msitting_capacity\u001b[0m\u001b[1;33m(\u001b[0m\u001b[1;33m)\u001b[0m\u001b[1;33m\u001b[0m\u001b[1;33m\u001b[0m\u001b[0m\n",
      "\u001b[1;31mAttributeError\u001b[0m: 'vehicle' object has no attribute 'details'"
     ]
    }
   ],
   "source": [
    "class vehicle :\n",
    "    def __init__(self,wov,type1):\n",
    "        self.wov = wov\n",
    "        self.type1 = type1\n",
    "        def details(self):\n",
    "            print(f\"the wheeler of the vehicle is{self.wov} and it is a {self.type1} vehicle\")\n",
    "            \n",
    "        def sitting_capacity(self):\n",
    "            if self.wov ==2:\n",
    "                print(\"sitting capa is 2\")\n",
    "            elif self.wov==3:\n",
    "                print(\"sitting capa is 3\")\n",
    "            elif self.wov==4:\n",
    "                ask = input(\"bus or car :\")\n",
    "                if ask==\"car\":\n",
    "                    print(\"sitting capa is 6\")\n",
    "                else:\n",
    "                    print(\"sitting capa is 50\")\n",
    "veh = vehicle(int(input(\"enter the wheeler :\")),input(\"fuel type :\"))\n",
    "veh.details()\n",
    "veh.sitting_capacity()\n"
   ]
  },
  {
   "cell_type": "code",
   "execution_count": null,
   "id": "dfdf2bb6",
   "metadata": {},
   "outputs": [],
   "source": []
  }
 ],
 "metadata": {
  "kernelspec": {
   "display_name": "Python 3 (ipykernel)",
   "language": "python",
   "name": "python3"
  },
  "language_info": {
   "codemirror_mode": {
    "name": "ipython",
    "version": 3
   },
   "file_extension": ".py",
   "mimetype": "text/x-python",
   "name": "python",
   "nbconvert_exporter": "python",
   "pygments_lexer": "ipython3",
   "version": "3.9.7"
  }
 },
 "nbformat": 4,
 "nbformat_minor": 5
}
