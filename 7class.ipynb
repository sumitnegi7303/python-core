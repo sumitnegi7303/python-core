{
 "cells": [
  {
   "cell_type": "code",
   "execution_count": 2,
   "id": "d79affb6",
   "metadata": {},
   "outputs": [
    {
     "name": "stdout",
     "output_type": "stream",
     "text": [
      "enter the type of rain heavy or slow : slow\n",
      "yes or no : yes \n",
      "yes or no : no\n",
      "stay back and enjoy the rain\n"
     ]
    }
   ],
   "source": [
    "rain_type = input(\"enter the type of rain heavy or slow : \")\n",
    "unb = input(\"yes or no : \")\n",
    "wd = input(\"yes or no : \")\n",
    "if wd==\"yes\":\n",
    "    if rain_type==\"heavy\":\n",
    "        if umb==\"yes\":\n",
    "            print(\"safe\")\n",
    "        else:\n",
    "            print(\"not safe\")\n",
    "    elif rain_type==\"slow\":\n",
    "            hood = input(\"yes or no : \")\n",
    "            if hood==\"yes\":\n",
    "                print(\"safe\")\n",
    "else:\n",
    "    print(\"stay back and enjoy the rain\")"
   ]
  },
  {
   "cell_type": "code",
   "execution_count": null,
   "id": "63b76444",
   "metadata": {},
   "outputs": [],
   "source": [
    "w = float(input(\"enter the weight :\"))\n",
    "h = float(input(\"enter the height :\"))\n",
    "BMI = w/h**2\n",
    "if BMI<=18.5:\n",
    "    print(\"underweight\" , BMI, \"please add carts \")"
   ]
  },
  {
   "cell_type": "code",
   "execution_count": null,
   "id": "1853b91c",
   "metadata": {},
   "outputs": [],
   "source": [
    "no_cr = int(input(\"enter the number of criminal records : \"))\n",
    "past_min = input(\"yes or no : \")\n",
    "age = int(input(\"enter the age : \"))\n",
    "if no_cr==0 and past_min==\"yes\" and age>45:\n",
    "    print(\"he is eligible \")"
   ]
  },
  {
   "cell_type": "code",
   "execution_count": null,
   "id": "6aec207c",
   "metadata": {},
   "outputs": [],
   "source": [
    "wap to check the students eligibility for sports captain :\n",
    "    1) both males and femails would be considers if they fulfill the following conditions \n",
    "    "
   ]
  },
  {
   "cell_type": "code",
   "execution_count": null,
   "id": "ef644299",
   "metadata": {},
   "outputs": [],
   "source": [
    "1) he or she should be student of class 9 and above\n",
    "2) atleast 2 achievements in the field of sports .\n",
    "3) have grade in last class greater than B+.\n",
    "4) should have exp of leading a team of students \n",
    "5) he/she should be staying somewhere near school only , and should check on condition of kits , playgound\n",
    "and decide teams for various other sports.\n"
   ]
  },
  {
   "cell_type": "code",
   "execution_count": 13,
   "id": "c780d69d",
   "metadata": {
    "scrolled": true
   },
   "outputs": [
    {
     "ename": "SyntaxError",
     "evalue": "invalid syntax (Temp/ipykernel_9424/344552415.py, line 3)",
     "output_type": "error",
     "traceback": [
      "\u001b[1;36m  File \u001b[1;32m\"C:\\Users\\GOURAV~1\\AppData\\Local\\Temp/ipykernel_9424/344552415.py\"\u001b[1;36m, line \u001b[1;32m3\u001b[0m\n\u001b[1;33m    classint(input(\"he or she are , class \"9\" and above :\u001b[0m\n\u001b[1;37m                                           ^\u001b[0m\n\u001b[1;31mSyntaxError\u001b[0m\u001b[1;31m:\u001b[0m invalid syntax\n"
     ]
    }
   ],
   "source": [
    "s = int(input(\"enter the eligible student for sports captain :\"))\n",
    "s = input(\"yes or no : \")\n",
    "class==int(input(\"he or she are , class \"9\" and above :\n",
    "        print=input(\"atleast 2 achievement in the field of sports \")\n",
    "grade==input(\"grade in the last class is greater than B+\")                 \n",
    "exp==input(\"should have exp of leading a team of students :\")\n",
    "          else:\n",
    "                 print(\"he/she should be staying somewhere near school only \")"
   ]
  },
  {
   "cell_type": "code",
   "execution_count": 15,
   "id": "a5fe3ccc",
   "metadata": {},
   "outputs": [
    {
     "name": "stdout",
     "output_type": "stream",
     "text": [
      "enter the students are boys and girls : boy\n",
      "enter the class 10\n",
      "enter the achivements in the fild of sports 8\n",
      "enter the gtade in the last class a\n",
      "enter the leading a team of students boy\n",
      "yes or no yes\n",
      "yes or no : yes\n",
      "yes or no : yes\n"
     ]
    },
    {
     "ename": "TypeError",
     "evalue": "'<=' not supported between instances of 'str' and 'int'",
     "output_type": "error",
     "traceback": [
      "\u001b[1;31m---------------------------------------------------------------------------\u001b[0m",
      "\u001b[1;31mTypeError\u001b[0m                                 Traceback (most recent call last)",
      "\u001b[1;32mC:\\Users\\GOURAV~1\\AppData\\Local\\Temp/ipykernel_9424/354351300.py\u001b[0m in \u001b[0;36m<module>\u001b[1;34m\u001b[0m\n\u001b[0;32m      7\u001b[0m \u001b[0mstay\u001b[0m \u001b[1;33m=\u001b[0m \u001b[0minput\u001b[0m\u001b[1;33m(\u001b[0m\u001b[1;34m\"yes or no : \"\u001b[0m\u001b[1;33m)\u001b[0m\u001b[1;33m\u001b[0m\u001b[1;33m\u001b[0m\u001b[0m\n\u001b[0;32m      8\u001b[0m \u001b[0mcheck\u001b[0m \u001b[1;33m=\u001b[0m \u001b[0minput\u001b[0m\u001b[1;33m(\u001b[0m\u001b[1;34m\"yes or no : \"\u001b[0m\u001b[1;33m)\u001b[0m\u001b[1;33m\u001b[0m\u001b[1;33m\u001b[0m\u001b[0m\n\u001b[1;32m----> 9\u001b[1;33m \u001b[1;32mif\u001b[0m \u001b[0mc\u001b[0m\u001b[1;33m<=\u001b[0m\u001b[1;36m9\u001b[0m \u001b[1;32mand\u001b[0m \u001b[0ma\u001b[0m\u001b[1;33m>=\u001b[0m\u001b[1;36m2\u001b[0m \u001b[1;32mand\u001b[0m \u001b[1;33m(\u001b[0m\u001b[0mg\u001b[0m\u001b[1;33m==\u001b[0m\u001b[1;34m\"a\"\u001b[0m \u001b[1;32mor\u001b[0m \u001b[0mg\u001b[0m\u001b[1;33m==\u001b[0m\u001b[1;34m\"a+\"\u001b[0m\u001b[1;33m)\u001b[0m \u001b[1;32mand\u001b[0m \u001b[0mexp\u001b[0m\u001b[1;33m==\u001b[0m\u001b[1;34m\"yes\"\u001b[0m \u001b[1;32mand\u001b[0m \u001b[0mstay\u001b[0m\u001b[1;33m==\u001b[0m\u001b[1;34m\"yes\"\u001b[0m \u001b[1;32mand\u001b[0m \u001b[0mcheck\u001b[0m\u001b[1;33m==\u001b[0m\u001b[1;34m\"yes\"\u001b[0m \u001b[1;33m:\u001b[0m\u001b[1;33m\u001b[0m\u001b[1;33m\u001b[0m\u001b[0m\n\u001b[0m\u001b[0;32m     10\u001b[0m     \u001b[0mprint\u001b[0m\u001b[1;33m(\u001b[0m\u001b[1;34m\"eligible\"\u001b[0m\u001b[1;33m)\u001b[0m\u001b[1;33m\u001b[0m\u001b[1;33m\u001b[0m\u001b[0m\n\u001b[0;32m     11\u001b[0m \u001b[1;32melse\u001b[0m\u001b[1;33m:\u001b[0m\u001b[1;33m\u001b[0m\u001b[1;33m\u001b[0m\u001b[0m\n",
      "\u001b[1;31mTypeError\u001b[0m: '<=' not supported between instances of 'str' and 'int'"
     ]
    }
   ],
   "source": [
    "s = input(\"enter the students are boys and girls : \")\n",
    "c = input(\"enter the class \")\n",
    "a = input(\"enter the achivements in the fild of sports \")\n",
    "g = input(\"enter the gtade in the last class \")\n",
    "l = input(\"enter the leading a team of students \")\n",
    "e = input(\"yes or no \")\n",
    "stay = input(\"yes or no : \")\n",
    "check = input(\"yes or no : \")\n",
    "if c<=9 and a>=2 and (g==\"a\" or g==\"a+\") and exp==\"yes\" and stay==\"yes\" and check==\"yes\" :\n",
    "    print(\"eligible\")\n",
    "else:\n",
    "        print(\"not eligible\")"
   ]
  },
  {
   "cell_type": "code",
   "execution_count": null,
   "id": "452765f9",
   "metadata": {},
   "outputs": [],
   "source": [
    "#loops :\n",
    "for and while"
   ]
  },
  {
   "cell_type": "code",
   "execution_count": null,
   "id": "69c8faab",
   "metadata": {},
   "outputs": [],
   "source": [
    "for loop :\n",
    "    1) start and stop ,swap"
   ]
  },
  {
   "cell_type": "code",
   "execution_count": null,
   "id": "ec5f60c1",
   "metadata": {},
   "outputs": [],
   "source": [
    "for i in range()"
   ]
  },
  {
   "cell_type": "code",
   "execution_count": null,
   "id": "506a3c9d",
   "metadata": {},
   "outputs": [],
   "source": [
    "for i in range()"
   ]
  },
  {
   "cell_type": "code",
   "execution_count": 25,
   "id": "95b2374b",
   "metadata": {
    "scrolled": true
   },
   "outputs": [
    {
     "name": "stdout",
     "output_type": "stream",
     "text": [
      "5\n",
      "4\n",
      "3\n",
      "2\n",
      "1\n"
     ]
    }
   ],
   "source": [
    "for i in range(5,0,-1):\n",
    "    print(i)"
   ]
  },
  {
   "cell_type": "code",
   "execution_count": 27,
   "id": "078f9d5a",
   "metadata": {},
   "outputs": [
    {
     "name": "stdout",
     "output_type": "stream",
     "text": [
      "5\n",
      "10\n",
      "15\n",
      "20\n",
      "25\n",
      "30\n",
      "35\n",
      "40\n",
      "45\n",
      "50\n"
     ]
    }
   ],
   "source": [
    "for i in range(5,55,5):\n",
    "    print(i)"
   ]
  },
  {
   "cell_type": "code",
   "execution_count": 5,
   "id": "ac453d44",
   "metadata": {},
   "outputs": [
    {
     "name": "stdout",
     "output_type": "stream",
     "text": [
      "enter the nunber :5\n",
      "5\n",
      "10\n",
      "15\n",
      "20\n",
      "25\n",
      "30\n",
      "35\n",
      "40\n",
      "45\n",
      "50\n"
     ]
    }
   ],
   "source": [
    "n = int(input(\"enter the nunber :\"))\n",
    "for i in range(1,11):\n",
    "    print(n*i)"
   ]
  },
  {
   "cell_type": "code",
   "execution_count": 1,
   "id": "b4b25d91",
   "metadata": {},
   "outputs": [
    {
     "name": "stdout",
     "output_type": "stream",
     "text": [
      "2\n",
      "2222222222"
     ]
    }
   ],
   "source": [
    "n = int(input())\n",
    "for i in range(1,11):\n",
    "    print(n*1,end=\"\")"
   ]
  },
  {
   "cell_type": "code",
   "execution_count": null,
   "id": "be072afc",
   "metadata": {},
   "outputs": [],
   "source": [
    "n = table revers order \n",
    "2) sq of no s from 1 to 20 "
   ]
  },
  {
   "cell_type": "code",
   "execution_count": null,
   "id": "4e4938f7",
   "metadata": {},
   "outputs": [],
   "source": [
    "#print table in reverse order "
   ]
  },
  {
   "cell_type": "code",
   "execution_count": 6,
   "id": "27b9a744",
   "metadata": {
    "scrolled": false
   },
   "outputs": [
    {
     "name": "stdout",
     "output_type": "stream",
     "text": [
      "enter the number : 15\n",
      "150\n",
      "135\n",
      "120\n",
      "105\n",
      "90\n",
      "75\n",
      "60\n",
      "45\n",
      "30\n",
      "15\n"
     ]
    }
   ],
   "source": [
    "n = int(input(\"enter the number : \"))\n",
    "for i in range(10,0,-1):\n",
    "    print(n*i)"
   ]
  },
  {
   "cell_type": "code",
   "execution_count": null,
   "id": "cf2b91b7",
   "metadata": {},
   "outputs": [],
   "source": [
    "#print square of number from 1 to 20"
   ]
  },
  {
   "cell_type": "code",
   "execution_count": 9,
   "id": "69d5ae76",
   "metadata": {},
   "outputs": [
    {
     "name": "stdout",
     "output_type": "stream",
     "text": [
      "1\n",
      "4\n",
      "9\n",
      "16\n",
      "25\n",
      "36\n",
      "49\n",
      "64\n",
      "81\n",
      "100\n"
     ]
    }
   ],
   "source": [
    "for i in range(1,11):\n",
    "    print(i**2)"
   ]
  },
  {
   "cell_type": "code",
   "execution_count": 9,
   "id": "21864eed",
   "metadata": {},
   "outputs": [
    {
     "name": "stdout",
     "output_type": "stream",
     "text": [
      "1\n",
      "4\n",
      "9\n",
      "16\n",
      "25\n",
      "36\n",
      "49\n",
      "64\n"
     ]
    }
   ],
   "source": [
    "for i in range(1,9):\n",
    "    print(i**2)"
   ]
  },
  {
   "cell_type": "code",
   "execution_count": 14,
   "id": "49326f36",
   "metadata": {},
   "outputs": [
    {
     "name": "stdout",
     "output_type": "stream",
     "text": [
      "enter the number :5\n",
      "5\n",
      "10\n",
      "15\n",
      "20\n",
      "25\n",
      "30\n",
      "35\n",
      "40\n",
      "45\n",
      "50\n"
     ]
    }
   ],
   "source": [
    "n = int(input(\"enter the number :\"))\n",
    "for i in range(1,11):\n",
    "    print(n*i)"
   ]
  },
  {
   "cell_type": "code",
   "execution_count": 21,
   "id": "ddff4855",
   "metadata": {},
   "outputs": [
    {
     "name": "stdout",
     "output_type": "stream",
     "text": [
      "enter the number : 2\n",
      "20\n",
      "18\n",
      "16\n",
      "14\n",
      "12\n",
      "10\n",
      "8\n",
      "6\n",
      "4\n",
      "2\n"
     ]
    }
   ],
   "source": [
    "n = int(input(\"enter the number : \"))\n",
    "for i in range(10,0,-1):\n",
    "    print(i*n)"
   ]
  },
  {
   "cell_type": "code",
   "execution_count": 22,
   "id": "ac82ae68",
   "metadata": {},
   "outputs": [
    {
     "name": "stdout",
     "output_type": "stream",
     "text": [
      "1\n",
      "2\n",
      "3\n",
      "4\n",
      "5\n",
      "6\n",
      "7\n",
      "8\n",
      "9\n",
      "10\n",
      "11\n",
      "12\n",
      "13\n",
      "14\n",
      "15\n",
      "16\n",
      "17\n",
      "18\n",
      "19\n",
      "20\n",
      "21\n",
      "22\n",
      "23\n",
      "24\n",
      "25\n",
      "26\n",
      "27\n",
      "28\n",
      "29\n",
      "30\n",
      "31\n",
      "32\n",
      "33\n",
      "34\n",
      "35\n",
      "36\n",
      "37\n",
      "38\n",
      "39\n",
      "40\n",
      "41\n",
      "42\n",
      "43\n",
      "44\n",
      "45\n",
      "46\n",
      "47\n",
      "48\n",
      "49\n",
      "50\n"
     ]
    }
   ],
   "source": [
    "for i in range (1,51):\n",
    "    print(i)"
   ]
  },
  {
   "cell_type": "code",
   "execution_count": 23,
   "id": "0467090e",
   "metadata": {},
   "outputs": [
    {
     "name": "stdout",
     "output_type": "stream",
     "text": [
      "enter the nuber : 2\n",
      "20\n",
      "18\n",
      "16\n",
      "14\n",
      "12\n",
      "10\n",
      "8\n",
      "6\n",
      "4\n",
      "2\n"
     ]
    }
   ],
   "source": [
    "n = int(input(\"enter the nuber : \"))\n",
    "for i in range(10,0,-1):\n",
    "    print(i*n)"
   ]
  },
  {
   "cell_type": "code",
   "execution_count": 17,
   "id": "5cd11bfe",
   "metadata": {},
   "outputs": [
    {
     "name": "stdout",
     "output_type": "stream",
     "text": [
      "enter the number : 20\n",
      "200\n",
      "180\n",
      "160\n",
      "140\n",
      "120\n",
      "100\n",
      "80\n",
      "60\n",
      "40\n",
      "20\n"
     ]
    }
   ],
   "source": [
    "n = int(input(\"enter the number : \"))\n",
    "for i in range(10,0,-1):\n",
    "    print(n*i)"
   ]
  },
  {
   "cell_type": "code",
   "execution_count": 50,
   "id": "d9ef0afd",
   "metadata": {},
   "outputs": [
    {
     "name": "stdout",
     "output_type": "stream",
     "text": [
      "enter the number : 1\n",
      "1\n",
      "2\n",
      "3\n",
      "4\n",
      "5\n",
      "6\n",
      "7\n",
      "8\n",
      "9\n",
      "10\n",
      "11\n",
      "12\n",
      "13\n",
      "14\n",
      "15\n",
      "16\n",
      "17\n",
      "18\n",
      "19\n",
      "20\n"
     ]
    }
   ],
   "source": [
    "n = int(input(\"enter the number : \"))\n",
    "for i in range(1,21):\n",
    "    print(i)"
   ]
  },
  {
   "cell_type": "code",
   "execution_count": 59,
   "id": "29ea2608",
   "metadata": {},
   "outputs": [
    {
     "name": "stdout",
     "output_type": "stream",
     "text": [
      "enter the number : 1\n",
      "1\n",
      "2\n",
      "3\n",
      "4\n",
      "5\n",
      "6\n",
      "7\n",
      "8\n",
      "9\n",
      "10\n"
     ]
    }
   ],
   "source": [
    "n = int(input(\"enter the number : \"))\n",
    "for i in range(1,11):\n",
    "    print(i)"
   ]
  },
  {
   "cell_type": "code",
   "execution_count": 57,
   "id": "c420586a",
   "metadata": {},
   "outputs": [
    {
     "name": "stdout",
     "output_type": "stream",
     "text": [
      "1\n",
      "2\n",
      "3\n",
      "4\n",
      "5\n",
      "6\n",
      "7\n",
      "8\n",
      "9\n",
      "10\n"
     ]
    }
   ],
   "source": [
    "for i in range(1,11):\n",
    "    print(i)"
   ]
  },
  {
   "cell_type": "code",
   "execution_count": 65,
   "id": "949a48a3",
   "metadata": {},
   "outputs": [
    {
     "name": "stdout",
     "output_type": "stream",
     "text": [
      "1\n",
      "2\n",
      "3\n",
      "4\n",
      "5\n",
      "6\n",
      "7\n",
      "8\n",
      "9\n",
      "10\n"
     ]
    }
   ],
   "source": [
    "for i in range(1,11):\n",
    "    print(i)"
   ]
  },
  {
   "cell_type": "code",
   "execution_count": 36,
   "id": "b9d394cf",
   "metadata": {},
   "outputs": [
    {
     "name": "stdout",
     "output_type": "stream",
     "text": [
      "1\n",
      "4\n",
      "9\n",
      "16\n",
      "25\n",
      "36\n",
      "49\n",
      "64\n",
      "81\n",
      "100\n",
      "121\n",
      "144\n",
      "169\n",
      "196\n",
      "225\n",
      "256\n",
      "289\n",
      "324\n",
      "361\n",
      "400\n",
      "441\n",
      "484\n",
      "529\n",
      "576\n",
      "625\n",
      "676\n",
      "729\n",
      "784\n",
      "841\n",
      "900\n",
      "961\n",
      "1024\n",
      "1089\n",
      "1156\n",
      "1225\n",
      "1296\n",
      "1369\n",
      "1444\n",
      "1521\n",
      "1600\n",
      "1681\n",
      "1764\n",
      "1849\n",
      "1936\n",
      "2025\n",
      "2116\n",
      "2209\n",
      "2304\n",
      "2401\n",
      "2500\n"
     ]
    }
   ],
   "source": [
    "for  i in range(1,51):\n",
    "    print(i**2)"
   ]
  },
  {
   "cell_type": "code",
   "execution_count": 39,
   "id": "c93ce667",
   "metadata": {},
   "outputs": [
    {
     "name": "stdout",
     "output_type": "stream",
     "text": [
      "enter the nuber :31\n",
      "10\n",
      "9\n",
      "8\n",
      "7\n",
      "6\n",
      "5\n",
      "4\n",
      "3\n",
      "2\n",
      "1\n"
     ]
    }
   ],
   "source": [
    "n = int(input(\"enter the nuber :\"))\n",
    "for  i in range(10,0,-1):\n",
    "    print(i)"
   ]
  },
  {
   "cell_type": "code",
   "execution_count": 10,
   "id": "5665e023",
   "metadata": {},
   "outputs": [
    {
     "name": "stdout",
     "output_type": "stream",
     "text": [
      "1\n",
      "4\n",
      "27\n",
      "16\n",
      "125\n",
      "36\n",
      "343\n",
      "64\n",
      "729\n",
      "100\n",
      "1331\n",
      "144\n",
      "2197\n",
      "196\n",
      "3375\n",
      "256\n",
      "4913\n",
      "324\n",
      "6859\n",
      "400\n"
     ]
    }
   ],
   "source": [
    "for i in range(1,21):\n",
    "    if i%2==0:\n",
    "        print(i**2)\n",
    "    else:\n",
    "        print(i**3)"
   ]
  },
  {
   "cell_type": "code",
   "execution_count": null,
   "id": "af3a673a",
   "metadata": {},
   "outputs": [],
   "source": [
    "wap to print all the factors of a number entered by the user \n"
   ]
  },
  {
   "cell_type": "code",
   "execution_count": 11,
   "id": "6c501116",
   "metadata": {
    "scrolled": true
   },
   "outputs": [
    {
     "name": "stdout",
     "output_type": "stream",
     "text": [
      "enter the number : 10\n",
      "10\n",
      "100\n",
      "1000\n",
      "10000\n",
      "100000\n",
      "1000000\n",
      "10000000\n",
      "100000000\n",
      "1000000000\n",
      "10000000000\n"
     ]
    }
   ],
   "source": [
    "n = 10\n",
    "n = int(input(\"enter the number : \"))\n",
    "for i in range(1,11):\n",
    "    if \n",
    "    print(n**i)"
   ]
  },
  {
   "cell_type": "code",
   "execution_count": null,
   "id": "8e2e799e",
   "metadata": {},
   "outputs": [],
   "source": [
    "# this is the loop:"
   ]
  },
  {
   "cell_type": "code",
   "execution_count": 16,
   "id": "9b521145",
   "metadata": {},
   "outputs": [
    {
     "name": "stdout",
     "output_type": "stream",
     "text": [
      "enter the number : 10\n",
      "1\n",
      "2\n",
      "5\n",
      "10\n"
     ]
    }
   ],
   "source": [
    "n = 10 \n",
    "n = int(input(\"enter the number : \"))\n",
    "for i in range(1,n+1):\n",
    "    if n%i==0:\n",
    "        print(i)"
   ]
  },
  {
   "cell_type": "code",
   "execution_count": 45,
   "id": "e1ea4f6e",
   "metadata": {},
   "outputs": [
    {
     "name": "stdout",
     "output_type": "stream",
     "text": [
      "enter the number : 20\n",
      "1\n",
      "2\n",
      "4\n",
      "5\n",
      "10\n",
      "20\n"
     ]
    }
   ],
   "source": [
    "n = 10\n",
    "n = int(input(\"enter the number : \"))\n",
    "for  i in range(1,n+1):\n",
    "    if n%i==0:\n",
    "        print(i)"
   ]
  },
  {
   "cell_type": "code",
   "execution_count": null,
   "id": "f5dd9a7b",
   "metadata": {},
   "outputs": [],
   "source": [
    "(n-1)(n+1)"
   ]
  },
  {
   "cell_type": "code",
   "execution_count": null,
   "id": "c239f1b7",
   "metadata": {},
   "outputs": [],
   "source": [
    "this is the loop :"
   ]
  },
  {
   "cell_type": "code",
   "execution_count": null,
   "id": "d3099834",
   "metadata": {},
   "outputs": [],
   "source": [
    "#list :"
   ]
  },
  {
   "cell_type": "code",
   "execution_count": 11,
   "id": "88fe0bd7",
   "metadata": {},
   "outputs": [
    {
     "name": "stdout",
     "output_type": "stream",
     "text": [
      "1\n",
      "2\n",
      "3\n",
      "4\n",
      "5\n"
     ]
    }
   ],
   "source": [
    "l = [1,2,3,4,5]\n",
    "for i in l :\n",
    "    print(i)"
   ]
  },
  {
   "cell_type": "code",
   "execution_count": null,
   "id": "e823cff5",
   "metadata": {},
   "outputs": [],
   "source": [
    "l = []\n",
    "for i in l :\n",
    "    print()"
   ]
  },
  {
   "cell_type": "code",
   "execution_count": 17,
   "id": "faed3571",
   "metadata": {},
   "outputs": [
    {
     "name": "stdout",
     "output_type": "stream",
     "text": [
      "1\n",
      "2\n",
      "3\n",
      "4\n"
     ]
    }
   ],
   "source": [
    "l = [1,2,3,4]\n",
    "for i in l :\n",
    "    print(i)"
   ]
  },
  {
   "cell_type": "code",
   "execution_count": 50,
   "id": "775f816e",
   "metadata": {},
   "outputs": [
    {
     "name": "stdout",
     "output_type": "stream",
     "text": [
      "1\n",
      "3\n",
      "4\n",
      "44\n",
      "24\n",
      "24\n"
     ]
    }
   ],
   "source": [
    "l = [1,3,4,44,24,24,]\n",
    "for  i in l :\n",
    "    print(i)"
   ]
  },
  {
   "cell_type": "code",
   "execution_count": 51,
   "id": "be970ede",
   "metadata": {
    "scrolled": true
   },
   "outputs": [
    {
     "name": "stdout",
     "output_type": "stream",
     "text": [
      "23456\n",
      "235\n",
      "34\n",
      "63\n",
      "54\n"
     ]
    }
   ],
   "source": [
    "l = [23456,235,34,63,54]\n",
    "for i in l:\n",
    "    print(i)"
   ]
  },
  {
   "cell_type": "code",
   "execution_count": 12,
   "id": "ff0823fc",
   "metadata": {},
   "outputs": [
    {
     "name": "stdout",
     "output_type": "stream",
     "text": [
      "0\n"
     ]
    }
   ],
   "source": [
    "l = []\n",
    "c = 0\n",
    "for i in l:\n",
    "    c = c+i\n",
    "print(c)"
   ]
  },
  {
   "cell_type": "code",
   "execution_count": 13,
   "id": "5a276b1b",
   "metadata": {},
   "outputs": [
    {
     "name": "stdout",
     "output_type": "stream",
     "text": [
      "12\n"
     ]
    }
   ],
   "source": [
    "l = [2,2,2,2,2,2]\n",
    "c = 0\n",
    "for i in l :\n",
    "    c = c+i\n",
    "print(c)"
   ]
  },
  {
   "cell_type": "code",
   "execution_count": null,
   "id": "5b5de21b",
   "metadata": {},
   "outputs": [],
   "source": [
    "for loops in string"
   ]
  },
  {
   "cell_type": "code",
   "execution_count": 14,
   "id": "21e8cd61",
   "metadata": {},
   "outputs": [
    {
     "name": "stdout",
     "output_type": "stream",
     "text": [
      "sumit"
     ]
    }
   ],
   "source": [
    "s = \"sumit\"\n",
    "for i in s :\n",
    "    print(i,end = \"\")"
   ]
  },
  {
   "cell_type": "code",
   "execution_count": 15,
   "id": "4c950794",
   "metadata": {},
   "outputs": [
    {
     "name": "stdout",
     "output_type": "stream",
     "text": [
      "tiger"
     ]
    }
   ],
   "source": [
    "t = \"tiger\"\n",
    "for i in t :\n",
    "    print(i,end = \"\")"
   ]
  },
  {
   "cell_type": "code",
   "execution_count": 49,
   "id": "204f8c94",
   "metadata": {},
   "outputs": [
    {
     "name": "stdout",
     "output_type": "stream",
     "text": [
      "madrid"
     ]
    }
   ],
   "source": [
    "s = \"madrid\"\n",
    "for i in s :\n",
    "    print(i,end = \"\")"
   ]
  },
  {
   "cell_type": "code",
   "execution_count": null,
   "id": "3a60c78c",
   "metadata": {},
   "outputs": [],
   "source": [
    "wap to find vowels and consonants in a given string :\n",
    "    s = \"the cat is eating and the dog is sleeping on the coach\"\n",
    "    "
   ]
  },
  {
   "cell_type": "code",
   "execution_count": 17,
   "id": "35422312",
   "metadata": {},
   "outputs": [
    {
     "name": "stdout",
     "output_type": "stream",
     "text": [
      "t is consonant\n",
      "h is consonant\n",
      "e is vowels\n",
      "c is consonant\n",
      "a is vowels\n",
      "t is consonant\n",
      "i is vowels\n",
      "s is consonant\n",
      "e is vowels\n",
      "a is vowels\n",
      "t is consonant\n",
      "i is vowels\n",
      "n is consonant\n",
      "g is consonant\n",
      "a is vowels\n",
      "n is consonant\n",
      "d is consonant\n",
      "t is consonant\n",
      "h is consonant\n",
      "e is vowels\n",
      "d is consonant\n",
      "o is vowels\n",
      "g is consonant\n",
      "i is vowels\n",
      "s is consonant\n",
      "s is consonant\n",
      "l is consonant\n",
      "e is vowels\n",
      "e is vowels\n",
      "p is consonant\n",
      "i is vowels\n",
      "n is consonant\n",
      "g is consonant\n",
      "o is vowels\n",
      "n is consonant\n",
      "t is consonant\n",
      "h is consonant\n",
      "e is vowels\n",
      "c is consonant\n",
      "o is vowels\n",
      "a is vowels\n",
      "c is consonant\n",
      "h is consonant\n"
     ]
    }
   ],
   "source": [
    "s = \"the cat is eating and the dog is sleeping on the coach\"\n",
    "for i in s :\n",
    "    if i==\"a\" or i==\"e\" or i==\"i\" or i==\"o\" or i==\"u\" :\n",
    "        print(i, \"is vowels\")\n",
    "    elif i!=\" \" :\n",
    "        print(i,\"is consonant\")"
   ]
  },
  {
   "cell_type": "code",
   "execution_count": null,
   "id": "3ef0b646",
   "metadata": {},
   "outputs": [],
   "source": [
    "wap to count the number of vowelas and no of consolent"
   ]
  },
  {
   "cell_type": "code",
   "execution_count": 8,
   "id": "ec30676d",
   "metadata": {},
   "outputs": [
    {
     "name": "stdout",
     "output_type": "stream",
     "text": [
      "0\n",
      "t is consonant\n",
      "0\n",
      "h is consonant\n",
      "0\n",
      "e is vowel\n",
      "0\n",
      "0\n",
      "c is consonant\n",
      "0\n",
      "a is vowel\n",
      "0\n",
      "t is consonant\n",
      "0\n",
      "0\n",
      "i is vowel\n",
      "0\n",
      "s is consonant\n",
      "0\n"
     ]
    }
   ],
   "source": [
    "s =  \"the cat is \"\n",
    "c = 0\n",
    "for i in s :\n",
    "    print(c)\n",
    "    if i==\"a\" or i==\"e\" or i==\"i\" or i==\"o\" or i==\"u\":\n",
    "        print(i, \"is vowel\")\n",
    "    elif i!=\" \":\n",
    "        print(i,\"is consonant\")"
   ]
  },
  {
   "cell_type": "code",
   "execution_count": 18,
   "id": "3ffc0902",
   "metadata": {},
   "outputs": [
    {
     "name": "stdout",
     "output_type": "stream",
     "text": [
      "15\n"
     ]
    }
   ],
   "source": [
    "l = [1,2,3,4,5]\n",
    "c = 0\n",
    "for i in l :\n",
    "    c = c+i\n",
    "print(c)"
   ]
  },
  {
   "cell_type": "code",
   "execution_count": 85,
   "id": "e6c29d11",
   "metadata": {},
   "outputs": [
    {
     "name": "stdout",
     "output_type": "stream",
     "text": [
      "2 12\n"
     ]
    }
   ],
   "source": [
    "s = \"ndkqonfckpkesn\"\n",
    "v,c= 0,0\n",
    "for i in s :\n",
    "    if i in \"aeiou\":\n",
    "         v = v+1\n",
    "         #print(i,\"is vowel\")\n",
    "    else:\n",
    "            c =c+1\n",
    "            #print(\"consonant\")\n",
    "print(v,c)"
   ]
  },
  {
   "cell_type": "code",
   "execution_count": null,
   "id": "7504fc5f",
   "metadata": {},
   "outputs": [],
   "source": [
    "wap to find a number is prime number or composite :   "
   ]
  },
  {
   "cell_type": "code",
   "execution_count": null,
   "id": "57f2e915",
   "metadata": {},
   "outputs": [],
   "source": [
    "n = int(input(\"enter the nuber :\"))\n",
    "c = 0 \n",
    "for i in range()"
   ]
  },
  {
   "cell_type": "code",
   "execution_count": 1,
   "id": "caa66d89",
   "metadata": {},
   "outputs": [
    {
     "name": "stdout",
     "output_type": "stream",
     "text": [
      "enter the number : 4\n",
      "1 is factor of :  4\n",
      "2 is factor of :  4\n",
      "4 is factor of :  4\n",
      "4 is composite\n"
     ]
    }
   ],
   "source": [
    "# prime or composite no :\n",
    "n = int(input(\"enter the number : \"))\n",
    "c=0\n",
    "for i in range(1,n+1):\n",
    "    if n%i==0:\n",
    "        print(i,\"is factor of : \",n)\n",
    "        c=c+1\n",
    "if c==2:\n",
    "    print(n,\"is prime\")\n",
    "else:\n",
    "    print(n,\"is composite\")"
   ]
  },
  {
   "cell_type": "code",
   "execution_count": 65,
   "id": "1a0ee5f7",
   "metadata": {},
   "outputs": [
    {
     "name": "stdout",
     "output_type": "stream",
     "text": [
      "enter the number :12\n",
      "1 is factor of : 12\n",
      "12 is composite\n",
      "2 is factor of : 12\n",
      "12 is prime\n",
      "3 is factor of : 12\n",
      "12 is composite\n",
      "4 is factor of : 12\n",
      "12 is composite\n",
      "6 is factor of : 12\n",
      "12 is composite\n",
      "12 is factor of : 12\n",
      "12 is composite\n"
     ]
    }
   ],
   "source": [
    "n = int(input(\"enter the number :\"))\n",
    "c=0\n",
    "for i in range(1,n+1):\n",
    "    if n%i==0:\n",
    "        print(i,\"is factor of :\",n)\n",
    "        c=c+1\n",
    "        if c==2:\n",
    "            print(n,\"is prime\")\n",
    "        else:\n",
    "            print(n,\"is composite\")"
   ]
  }
 ],
 "metadata": {
  "kernelspec": {
   "display_name": "Python 3 (ipykernel)",
   "language": "python",
   "name": "python3"
  },
  "language_info": {
   "codemirror_mode": {
    "name": "ipython",
    "version": 3
   },
   "file_extension": ".py",
   "mimetype": "text/x-python",
   "name": "python",
   "nbconvert_exporter": "python",
   "pygments_lexer": "ipython3",
   "version": "3.9.7"
  }
 },
 "nbformat": 4,
 "nbformat_minor": 5
}
