{
 "cells": [
  {
   "cell_type": "code",
   "execution_count": null,
   "id": "f6fff40a",
   "metadata": {},
   "outputs": [],
   "source": [
    "#nested if else :"
   ]
  },
  {
   "cell_type": "code",
   "execution_count": 9,
   "id": "124e70c3",
   "metadata": {
    "scrolled": false
   },
   "outputs": [
    {
     "name": "stdout",
     "output_type": "stream",
     "text": [
      "enter the weather:sunny\n",
      "enter the temperature:46\n",
      "too hot to  go outside\n"
     ]
    }
   ],
   "source": [
    "w = input(\"enter the weather:\")\n",
    "if w==\"sunny\":\n",
    "    temp = int(input(\"enter the temperature:\"))\n",
    "    if temp<45:\n",
    "        print(\"play\")\n",
    "    else: \n",
    "        print(\"too hot to  go outside\")\n",
    "        "
   ]
  },
  {
   "cell_type": "code",
   "execution_count": 1,
   "id": "75c33126",
   "metadata": {},
   "outputs": [
    {
     "name": "stdout",
     "output_type": "stream",
     "text": [
      "enter the weather :sunny\n",
      "enter the temperature :54\n",
      "too hot to go outside\n"
     ]
    }
   ],
   "source": [
    "w = input(\"enter the weather :\")\n",
    "if w==\"sunny\":\n",
    "    temp = int(input(\"enter the temperature :\"))\n",
    "    if temp<45:\n",
    "        print(\"play\")\n",
    "    else:\n",
    "        print(\"too hot to go outside\")"
   ]
  },
  {
   "cell_type": "code",
   "execution_count": 2,
   "id": "94db324f",
   "metadata": {},
   "outputs": [
    {
     "name": "stdout",
     "output_type": "stream",
     "text": [
      "enter the weatgher :sunny\n",
      "enter the temperature :16\n",
      "play\n"
     ]
    }
   ],
   "source": [
    "w = input(\"enter the weatgher :\")\n",
    "if w==\"sunny\":\n",
    "    temp = int(input(\"enter the temperature :\"))\n",
    "    if temp<45:\n",
    "        print(\"play\")\n",
    "    else:\n",
    "        print(\"too hot to go outside\")"
   ]
  },
  {
   "cell_type": "code",
   "execution_count": 3,
   "id": "fb63be6a",
   "metadata": {},
   "outputs": [
    {
     "name": "stdout",
     "output_type": "stream",
     "text": [
      "enter the temperature :sunny\n",
      "enter the temperature :43\n",
      "play\n"
     ]
    }
   ],
   "source": [
    "w = input(\"enter the temperature :\")\n",
    "if w==\"sunny\":\n",
    "    temp = int(input(\"enter the temperature :\"))\n",
    "    if temp<45 :\n",
    "        print(\"play\")\n",
    "    else:\n",
    "        print(\"too hot to go outside\")"
   ]
  },
  {
   "cell_type": "code",
   "execution_count": 2,
   "id": "342eca6f",
   "metadata": {},
   "outputs": [
    {
     "name": "stdout",
     "output_type": "stream",
     "text": [
      "enter the weather : sunny\n",
      "enter the temperature 43\n",
      "play\n"
     ]
    }
   ],
   "source": [
    "w = input(\"enter the weather : \")\n",
    "if w==\"sunny\" :\n",
    "    tem = int(input(\"enter the temperature \"))\n",
    "    if tem<45:\n",
    "        print(\"play\")\n",
    "    else:\n",
    "        print(\"too hot to go outside\")\n",
    "        "
   ]
  },
  {
   "cell_type": "code",
   "execution_count": 30,
   "id": "c93cee32",
   "metadata": {
    "scrolled": true
   },
   "outputs": [
    {
     "name": "stdout",
     "output_type": "stream",
     "text": [
      "enter the weather:sunny\n",
      "enter the temperature:30\n",
      "enter the yes or no : yes\n",
      "not play at all\n"
     ]
    }
   ],
   "source": [
    "w = input(\"enter the weather:\")\n",
    "if w==\"sunny\":\n",
    "    temp = int(input(\"enter the temperature:\"))\n",
    "    if temp<45:\n",
    "        humid = input(\"enter the yes or no : \")\n",
    "        if humid==\"yes\":\n",
    "            print(\"not play at all\")\n",
    "        else: \n",
    "            print(\"go for play\")\n",
    "    else:\n",
    "        print(\"too hot to go outside\")\n"
   ]
  },
  {
   "cell_type": "code",
   "execution_count": 4,
   "id": "d4f02193",
   "metadata": {},
   "outputs": [
    {
     "name": "stdout",
     "output_type": "stream",
     "text": [
      "enter the weather:sunny\n",
      "enter the temperature:34\n",
      "enter the yes or no : yes\n",
      "not play at all\n"
     ]
    }
   ],
   "source": [
    "w = input(\"enter the weather:\")\n",
    "if w==\"sunny\":\n",
    "    temp = int(input(\"enter the temperature:\"))\n",
    "    if temp<45:\n",
    "        humid = input(\"enter the yes or no : \")\n",
    "        if humid==\"yes\":\n",
    "            print(\"not play at all\")\n",
    "        else: \n",
    "            print(\"go for play\")\n",
    "    else:\n",
    "        print(\"too hot to go outside\")\n"
   ]
  },
  {
   "cell_type": "code",
   "execution_count": null,
   "id": "3c2c97b6",
   "metadata": {},
   "outputs": [],
   "source": [
    "wap to take input from the user regarding toss   heads or tails\n",
    "if it is heads india wins toss now ask india what india wants bat or bowl ,\n",
    "if india choose to bat - \"rahul\" will open . \n",
    "if it is bowl \"bhummra \""
   ]
  },
  {
   "cell_type": "code",
   "execution_count": 8,
   "id": "4a8dbe1c",
   "metadata": {},
   "outputs": [
    {
     "name": "stdout",
     "output_type": "stream",
     "text": [
      " head or tails : tail\n",
      "pak wins the toss\n",
      "bat or bowl : bowl\n",
      "rahul will open\n"
     ]
    }
   ],
   "source": [
    "toss = input(\" head or tails : \")\n",
    "if toss==\"head\":\n",
    "    print(\"india wins the toss!\")\n",
    "    ch == input(\"bat or bowl: \") \n",
    "    if ch==\"bat\":\n",
    "        print(\"rahul will open\")\n",
    "    else: \n",
    "        print(\"bumrah will bowl\")\n",
    "else:\n",
    "    print(\"pak wins the toss\")\n",
    "    ch = input(\"bat or bowl : \")\n",
    "    if ch==\"bat\":\n",
    "        print(\"bumrah will bowl\")\n",
    "    else:\n",
    "        print(\"rahul will open\")"
   ]
  },
  {
   "cell_type": "code",
   "execution_count": null,
   "id": "9a8120cb",
   "metadata": {},
   "outputs": [],
   "source": [
    "lets say you can a restraunt :\n",
    "    menu : 1)chill potato \n",
    "           2)ice cream\n",
    "           3)burger\n",
    "           4)rolls\n",
    "chilli potato : two types :\n",
    "        1)honey chilli\n",
    "        2)spicy cheese chilli potato\n",
    "ice-cream : vanilla\n",
    "            butterscotch\n",
    "            blueberry\n",
    "            chocolate\n",
    "burger : veg or non-veg :\n",
    "        veg : fillings : 1)cheese\n",
    "                         2)paneer\n",
    "        non-veg:fillings:1)sausage,roasted tandoori\n",
    "rolls :\n",
    "    1)veg or non-veg\n",
    "        veg : paneer roll , chaap roll,\n",
    "        non-veg: egg roll,chicken roll , mutton roll,\n",
    "            "
   ]
  },
  {
   "cell_type": "code",
   "execution_count": 10,
   "id": "af120214",
   "metadata": {
    "scrolled": true
   },
   "outputs": [
    {
     "ename": "IndentationError",
     "evalue": "unexpected indent (Temp/ipykernel_6764/3134367317.py, line 3)",
     "output_type": "error",
     "traceback": [
      "\u001b[1;36m  File \u001b[1;32m\"C:\\Users\\GOURAV~1\\AppData\\Local\\Temp/ipykernel_6764/3134367317.py\"\u001b[1;36m, line \u001b[1;32m3\u001b[0m\n\u001b[1;33m    m = int(input(\"enter the price\"))\u001b[0m\n\u001b[1;37m    ^\u001b[0m\n\u001b[1;31mIndentationError\u001b[0m\u001b[1;31m:\u001b[0m unexpected indent\n"
     ]
    }
   ],
   "source": [
    "m = input(\"chilly potato,ice-cream,burger,rools\")\n",
    "if menu==\"chilli_potao\":\n",
    "    ch = \n",
    "    ch = input(\"honey chilli\")\n",
    "    m = int(input(\"enter the price\"))\n",
    "if chilly potato==\"choose\":\n",
    "    print(\"honey chilli,spicy cheese chlli potato\")\n",
    "    ch== input(\"honey chilli and chilli potato : \")\n",
    "    if ch==\"honey chilli\":\n",
    "        print(\" the price of honey chilly is :rs 120 \")    \n",
    "        else:\n",
    "            print(\"the pric of spicy_cheese_potato is : rs 70 \")\n",
    "            elif menu == \"ice cream \"\n",
    "            "
   ]
  },
  {
   "cell_type": "code",
   "execution_count": 10,
   "id": "c503e1bf",
   "metadata": {},
   "outputs": [
    {
     "ename": "SyntaxError",
     "evalue": "EOL while scanning string literal (Temp/ipykernel_19992/2548982755.py, line 1)",
     "output_type": "error",
     "traceback": [
      "\u001b[1;36m  File \u001b[1;32m\"C:\\Users\\GOURAV~1\\AppData\\Local\\Temp/ipykernel_19992/2548982755.py\"\u001b[1;36m, line \u001b[1;32m1\u001b[0m\n\u001b[1;33m    menu=input(\"enter the menu :\\n\u001b[0m\n\u001b[1;37m                                  ^\u001b[0m\n\u001b[1;31mSyntaxError\u001b[0m\u001b[1;31m:\u001b[0m EOL while scanning string literal\n"
     ]
    }
   ],
   "source": [
    "menu=input(\"enter the menu :\\n\n",
    "1.chilli_potato\\n 2.ice_cream\\n 3. burger\\n 4. rolls\\n\")\n",
    "if menu==\"chilli_potato\":\n",
    "    choice=input(\"enter the choice:\\n 1.honey_chilli\\n 2.spicy_chilli\\n\" )\n",
    "    if choice==\"honey_chilli\":\n",
    "        print(\"the price of honey_chili is : Rs 150\")\n",
    "        else:\n",
    "            print(\"the price of spicy_cheese_poato is : Rs 250\")\n",
    "            elif menu==\"ice_cream\":\n",
    "                choice=input(\"enter the choicde:\\n\n",
    "                1.vanilla\\n 2.butterscotch\\n \n",
    "                3.bluberry\\n 4.choclate\\n\")\n",
    "                             if choice==\"vanilla\":\n",
    "                             print(\"the price of vanilla ice_cream is : 40\")\n",
    "                             elif choice==\"butterscotch\":\n",
    "                             print(\"the price of butterscotch ice _cream is: Rs50\")\n",
    "                             elif choice==\"bluberry\":\n",
    "                             print(\"the price of blueberry ice_cream is;Rs 60\")\n",
    "                             else:\n",
    "                             print(\"the price of choclate ice_cream: is Rs70\")\n",
    "                             elif menu==\"burger\":\n",
    "                             choice=input(\"enter the choice:\\n\n",
    "                             1.veg\\n 2.non_veg\")\n",
    "                             if choice ==\"veg\":\n",
    "                             tooping=input(\"enter the toppings:\n",
    "                             \\n1. cheese\\n 2.panner\\n\")\n",
    "                             if toppings==\"cheese\":\n",
    "                             print(\"the price of cheese burger is: Rs 130\")\n",
    "                             else:\n",
    "                             print(\"The price of paneer burger is: Rs 140\")\n",
    "                             elif choice==\"non_veg\":\n",
    "                             topping=input(\"enter the toppings:\n",
    "                             \\n 1. sausages\\n 2. roasted tandoori\\n\") \n",
    "                             if toppingd==\"sausages\":\n",
    "                             print(\"the price of susages_burger is :Rs 100\")\n",
    "                             else:\n",
    "                             print(\"the price of roasted_tandoori_burger is: Rs 200\")\n",
    "                            elif menu ==\"rolls\"\n",
    "                            choice=input(\"enter the choice:\\n\n",
    "                            1.veg\\n 2.no_veg\\n\")\n",
    "                            if choice==\"veg\":\n",
    "                            topping=input(\"enter the toppings :\n",
    "                            n\\1. panner\\n 2 .chaap\\n\")\n",
    "                            if toppings==\"paneer\":\n",
    "                            print(\"the price of paneer_roll is : Rs60\")\n",
    "                       else :\n",
    "                           print(\"the price of chaap_roll is : Rs70\")\n",
    "                           elif choice==\"non_veg\n",
    "                           toppings=input(\"enter the toppings:\n",
    "                           n\\1. egg\\n 2.chicken\\n3.mutton\\n\")\n",
    "                           if toppings==\"egg\":\n",
    "                           print(\"the price of egg_roll is: Rs 50\")\n",
    "                           elif toppings==\"chicken\":\n",
    "                           print(\"the price of chicken_roll is : Rs 60\")\n",
    "                           elif toppings==\"mutton\":\n",
    "                           print(\"the price of mutton_roll is : Rs 70\")"
   ]
  },
  {
   "cell_type": "code",
   "execution_count": null,
   "id": "98f78156",
   "metadata": {},
   "outputs": [],
   "source": [
    "wap to check the eligibiity of a candidate for pm post,\n",
    "if the no,of criminal records is zero and he is a past_minister , plus his age is greater than 45 so he is eligible for pm.\n"
   ]
  },
  {
   "cell_type": "code",
   "execution_count": null,
   "id": "d56eb6f9",
   "metadata": {},
   "outputs": [],
   "source": [
    "w = input(\"enter the weather:\")\n",
    "if w==\"sunny\":\n",
    "    temp = int(input(\"enter the temperature:\"))\n",
    "    if temp<45:\n",
    "        print(\"play\")\n",
    "    else: \n",
    "        print(\"too hot to  go outside\")\n",
    "        "
   ]
  },
  {
   "cell_type": "code",
   "execution_count": 6,
   "id": "b791a52a",
   "metadata": {},
   "outputs": [
    {
     "name": "stdout",
     "output_type": "stream",
     "text": [
      "enter the type of rain heavy or slow : slow\n",
      "yes or no : yes\n",
      "yes or no : no\n",
      "stay back and enjoy the rain\n"
     ]
    }
   ],
   "source": [
    "rain_type = input(\"enter the type of rain heavy or slow : \")\n",
    "unb = input(\"yes or no : \")\n",
    "wd = input(\"yes or no : \")\n",
    "if wd==\"yes\":\n",
    "    if rain_type==\"heavy\":\n",
    "        if umb==\"yes\":\n",
    "            print(\"safe\")\n",
    "        else:\n",
    "            print(\"not safe\")\n",
    "    elif rain_type==\"slow\":\n",
    "            hood = input(\"yes or no : \")\n",
    "            if hood==\"yes\":\n",
    "                print(\"safe\")\n",
    "else:\n",
    "    print(\"stay back and enjoy the rain\")"
   ]
  },
  {
   "cell_type": "code",
   "execution_count": null,
   "id": "edebbbcc",
   "metadata": {},
   "outputs": [],
   "source": [
    "big sales :\n",
    "    product cat = electroni,"
   ]
  },
  {
   "cell_type": "code",
   "execution_count": null,
   "id": "3239308f",
   "metadata": {},
   "outputs": [],
   "source": [
    "criminal_record=int(input(\"enter the criminal records : \"))\n",
    "past_minister=input(\"enter the past position: \\n 1. yes\\n 2. no\\n\")\n",
    "age = int(input(\"enter the age : \"))\n",
    "if criminal "
   ]
  }
 ],
 "metadata": {
  "kernelspec": {
   "display_name": "Python 3 (ipykernel)",
   "language": "python",
   "name": "python3"
  },
  "language_info": {
   "codemirror_mode": {
    "name": "ipython",
    "version": 3
   },
   "file_extension": ".py",
   "mimetype": "text/x-python",
   "name": "python",
   "nbconvert_exporter": "python",
   "pygments_lexer": "ipython3",
   "version": "3.9.7"
  }
 },
 "nbformat": 4,
 "nbformat_minor": 5
}
