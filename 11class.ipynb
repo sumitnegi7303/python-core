{
 "cells": [
  {
   "cell_type": "code",
   "execution_count": null,
   "id": "4ba7a42e",
   "metadata": {},
   "outputs": [],
   "source": [
    "#while loops:\n",
    "for loops = range,string,list,tuple,dct.\n",
    "#while....condition based \n"
   ]
  },
  {
   "cell_type": "code",
   "execution_count": 5,
   "id": "6152c7e0",
   "metadata": {
    "scrolled": true
   },
   "outputs": [
    {
     "name": "stdout",
     "output_type": "stream",
     "text": [
      "0\n",
      "1\n",
      "2\n",
      "3\n",
      "4\n"
     ]
    }
   ],
   "source": [
    "i = 0 \n",
    "while i<5 :\n",
    "    print(i)\n",
    "    i=i+1"
   ]
  },
  {
   "cell_type": "code",
   "execution_count": 40,
   "id": "ebea1f4e",
   "metadata": {},
   "outputs": [
    {
     "name": "stdout",
     "output_type": "stream",
     "text": [
      "enter the number : 10\n",
      "100\n",
      "90\n",
      "80\n",
      "70\n",
      "60\n",
      "50\n",
      "40\n",
      "30\n",
      "20\n",
      "10\n"
     ]
    }
   ],
   "source": [
    "n = int(input(\"enter the number : \"))\n",
    "i = 10 \n",
    "while i>0 :\n",
    "    print(n*i)\n",
    "    i=i-1"
   ]
  },
  {
   "cell_type": "code",
   "execution_count": 43,
   "id": "2ab295fd",
   "metadata": {},
   "outputs": [
    {
     "name": "stdout",
     "output_type": "stream",
     "text": [
      "60\n",
      "54\n",
      "48\n",
      "42\n",
      "36\n",
      "30\n",
      "24\n",
      "18\n",
      "12\n",
      "6\n",
      "********\n",
      "50\n",
      "45\n",
      "40\n",
      "35\n",
      "30\n",
      "25\n",
      "20\n",
      "15\n",
      "10\n",
      "5\n",
      "********\n",
      "40\n",
      "36\n",
      "32\n",
      "28\n",
      "24\n",
      "20\n",
      "16\n",
      "12\n",
      "8\n",
      "4\n",
      "********\n",
      "30\n",
      "27\n",
      "24\n",
      "21\n",
      "18\n",
      "15\n",
      "12\n",
      "9\n",
      "6\n",
      "3\n",
      "********\n",
      "20\n",
      "18\n",
      "16\n",
      "14\n",
      "12\n",
      "10\n",
      "8\n",
      "6\n",
      "4\n",
      "2\n",
      "********\n"
     ]
    }
   ],
   "source": [
    "for i in range(6,1,-1):\n",
    "    j=10\n",
    "    while j>0:\n",
    "        print(i*j)\n",
    "        j=j-1\n",
    "    print(\"********\")"
   ]
  },
  {
   "cell_type": "code",
   "execution_count": 44,
   "id": "fee40f5d",
   "metadata": {},
   "outputs": [
    {
     "name": "stdout",
     "output_type": "stream",
     "text": [
      "50\n",
      "45\n",
      "40\n",
      "35\n",
      "30\n",
      "25\n",
      "20\n",
      "15\n",
      "10\n",
      "5\n",
      "******\n",
      "40\n",
      "36\n",
      "32\n",
      "28\n",
      "24\n",
      "20\n",
      "16\n",
      "12\n",
      "8\n",
      "4\n",
      "******\n",
      "30\n",
      "27\n",
      "24\n",
      "21\n",
      "18\n",
      "15\n",
      "12\n",
      "9\n",
      "6\n",
      "3\n",
      "******\n",
      "20\n",
      "18\n",
      "16\n",
      "14\n",
      "12\n",
      "10\n",
      "8\n",
      "6\n",
      "4\n",
      "2\n",
      "******\n"
     ]
    }
   ],
   "source": [
    "i = 6\n",
    "while i>2:\n",
    "    i=i-1\n",
    "    j=10\n",
    "    while j>0:\n",
    "        print(i*j)\n",
    "        j=j-1\n",
    "    print(\"******\")    "
   ]
  },
  {
   "cell_type": "code",
   "execution_count": null,
   "id": "223b2b12",
   "metadata": {},
   "outputs": [],
   "source": [
    "#jumping statement\n",
    "1)break\n",
    "2)continue\n",
    "3)pass"
   ]
  },
  {
   "cell_type": "code",
   "execution_count": 45,
   "id": "e218bbd8",
   "metadata": {},
   "outputs": [
    {
     "name": "stdout",
     "output_type": "stream",
     "text": [
      "M\n",
      "a\n",
      "d\n"
     ]
    }
   ],
   "source": [
    "s = \"Madrid\"\n",
    "for i in s:\n",
    "    if i==\"r\":\n",
    "        break\n",
    "    else:\n",
    "        print(i)"
   ]
  },
  {
   "cell_type": "code",
   "execution_count": 46,
   "id": "46fc725d",
   "metadata": {},
   "outputs": [
    {
     "name": "stdout",
     "output_type": "stream",
     "text": [
      "s\n",
      "u\n",
      "m\n"
     ]
    }
   ],
   "source": [
    "s = \"sumit\"\n",
    "for i in s :\n",
    "    if i==\"i\":\n",
    "        break\n",
    "    else:\n",
    "        print(i)\n",
    "    "
   ]
  },
  {
   "cell_type": "code",
   "execution_count": null,
   "id": "9adf46a0",
   "metadata": {},
   "outputs": [],
   "source": [
    "wap to print the square of number from 1-10 except for 3 and 9 \n"
   ]
  },
  {
   "cell_type": "code",
   "execution_count": 59,
   "id": "41ac9a06",
   "metadata": {},
   "outputs": [
    {
     "name": "stdout",
     "output_type": "stream",
     "text": [
      "1\n",
      "4\n",
      "16\n",
      "25\n",
      "36\n",
      "49\n",
      "64\n",
      "100\n"
     ]
    }
   ],
   "source": [
    "for i in range(1,11):\n",
    "    if i==3 or i==9:\n",
    "        continue\n",
    "    else:\n",
    "        print(i**2)"
   ]
  },
  {
   "cell_type": "code",
   "execution_count": null,
   "id": "10b4a936",
   "metadata": {},
   "outputs": [],
   "source": [
    "using while i have to print which no.s are even and which are odd in the range of 10 to 30"
   ]
  },
  {
   "cell_type": "code",
   "execution_count": 70,
   "id": "44a423d8",
   "metadata": {},
   "outputs": [
    {
     "name": "stdout",
     "output_type": "stream",
     "text": [
      "10 even\n",
      "11 odd\n",
      "12 even\n",
      "13 odd\n",
      "14 even\n",
      "15 odd\n",
      "16 even\n",
      "17 odd\n",
      "18 even\n",
      "19 odd\n",
      "20 even\n"
     ]
    }
   ],
   "source": [
    "i = 9 \n",
    "while i<20:\n",
    "    i=i+1\n",
    "    if i%2==0:\n",
    "        print(i,\"even\")\n",
    "    else:\n",
    "        print(i,\"odd\")\n",
    "        "
   ]
  }
 ],
 "metadata": {
  "kernelspec": {
   "display_name": "Python 3 (ipykernel)",
   "language": "python",
   "name": "python3"
  },
  "language_info": {
   "codemirror_mode": {
    "name": "ipython",
    "version": 3
   },
   "file_extension": ".py",
   "mimetype": "text/x-python",
   "name": "python",
   "nbconvert_exporter": "python",
   "pygments_lexer": "ipython3",
   "version": "3.9.7"
  }
 },
 "nbformat": 4,
 "nbformat_minor": 5
}
