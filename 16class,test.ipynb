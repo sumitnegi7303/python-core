{
 "cells": [
  {
   "cell_type": "code",
   "execution_count": null,
   "id": "ffd377cd",
   "metadata": {},
   "outputs": [],
   "source": [
    "#Test:"
   ]
  },
  {
   "cell_type": "code",
   "execution_count": 24,
   "id": "fbd5ed9d",
   "metadata": {},
   "outputs": [
    {
     "name": "stdout",
     "output_type": "stream",
     "text": [
      "enter the names to check palindrone :nitin Anna bob ava madam boby\n",
      "nitin : is palindrone \n",
      "Anna : is not palindrone\n",
      "bob : is palindrone \n",
      "ava : is palindrone \n",
      "madam : is palindrone \n",
      "boby : is not palindrone\n"
     ]
    }
   ],
   "source": [
    "names = input(\"enter the names to check palindrone :\").split()\n",
    "for i in names :\n",
    "    if i==i[::-1]:\n",
    "        print(i,\": is palindrone \")\n",
    "    else:\n",
    "        print(i,\": is not palindrone\")\n",
    "        "
   ]
  },
  {
   "cell_type": "code",
   "execution_count": 1,
   "id": "1df0abd4",
   "metadata": {},
   "outputs": [
    {
     "name": "stdout",
     "output_type": "stream",
     "text": [
      "enter the number :444\n",
      "pelindrone 444\n"
     ]
    }
   ],
   "source": [
    "z = str(int(input(\"enter the number :\"))).split()\n",
    "for i in z :\n",
    "    if i==i[::-1]:\n",
    "        print(\"pelindrone\",i)\n",
    "    else:\n",
    "        print(\"not\")"
   ]
  },
  {
   "cell_type": "code",
   "execution_count": null,
   "id": "2381f61e",
   "metadata": {},
   "outputs": [],
   "source": [
    "from math import pi "
   ]
  },
  {
   "cell_type": "code",
   "execution_count": 1,
   "id": "6f4dad3e",
   "metadata": {},
   "outputs": [
    {
     "name": "stdout",
     "output_type": "stream",
     "text": [
      "enter the shape :circle\n",
      "{'r': 5}\n",
      "78.5\n"
     ]
    }
   ],
   "source": [
    "def area(**a):\n",
    "        shape = input(\"enter the shape :\")\n",
    "        if shape ==\"circle\":\n",
    "            print(a)\n",
    "            ar=3.14*a['r']**2\n",
    "            print(ar)\n",
    "area(r=5)"
   ]
  },
  {
   "cell_type": "code",
   "execution_count": 42,
   "id": "6fcc5c6a",
   "metadata": {},
   "outputs": [
    {
     "name": "stdout",
     "output_type": "stream",
     "text": [
      "input the radious of the circle : 4.4\n"
     ]
    },
    {
     "ename": "NameError",
     "evalue": "name 'pi' is not defined",
     "output_type": "error",
     "traceback": [
      "\u001b[1;31m---------------------------------------------------------------------------\u001b[0m",
      "\u001b[1;31mNameError\u001b[0m                                 Traceback (most recent call last)",
      "\u001b[1;32mC:\\Users\\GOURAV~1\\AppData\\Local\\Temp/ipykernel_19096/577566935.py\u001b[0m in \u001b[0;36m<module>\u001b[1;34m\u001b[0m\n\u001b[0;32m      1\u001b[0m \u001b[0mr\u001b[0m \u001b[1;33m=\u001b[0m \u001b[0mfloat\u001b[0m\u001b[1;33m(\u001b[0m\u001b[0minput\u001b[0m\u001b[1;33m(\u001b[0m\u001b[1;34m\"input the radious of the circle : \"\u001b[0m\u001b[1;33m)\u001b[0m\u001b[1;33m)\u001b[0m\u001b[1;33m\u001b[0m\u001b[1;33m\u001b[0m\u001b[0m\n\u001b[1;32m----> 2\u001b[1;33m \u001b[0mprint\u001b[0m\u001b[1;33m(\u001b[0m\u001b[1;34m\"the are of the circle with radious \"\u001b[0m\u001b[1;33m+\u001b[0m \u001b[0mstr\u001b[0m\u001b[1;33m(\u001b[0m\u001b[0mr\u001b[0m\u001b[1;33m)\u001b[0m \u001b[1;33m+\u001b[0m\u001b[1;34m\"is:\"\u001b[0m \u001b[1;33m+\u001b[0m\u001b[0mstr\u001b[0m\u001b[1;33m(\u001b[0m\u001b[0mpi\u001b[0m\u001b[1;33m*\u001b[0m\u001b[0mr\u001b[0m\u001b[1;33m**\u001b[0m\u001b[1;36m2\u001b[0m\u001b[1;33m)\u001b[0m\u001b[1;33m)\u001b[0m\u001b[1;33m\u001b[0m\u001b[1;33m\u001b[0m\u001b[0m\n\u001b[0m",
      "\u001b[1;31mNameError\u001b[0m: name 'pi' is not defined"
     ]
    }
   ],
   "source": [
    "r = float(input(\"input the radious of the circle : \"))\n",
    "print(\"the are of the circle with radious \"+ str(r) +\"is:\" +str(pi*r**2))"
   ]
  },
  {
   "cell_type": "code",
   "execution_count": 46,
   "id": "23f07da2",
   "metadata": {},
   "outputs": [
    {
     "name": "stdout",
     "output_type": "stream",
     "text": [
      " enter the number456\n",
      "654\n"
     ]
    }
   ],
   "source": [
    "Q.3\n",
    "def reverse():\n",
    "    z = input(\" enter the number\")\n",
    "    a = z[::-1]\n",
    "    print(a)\n",
    "    \n",
    "reverse()"
   ]
  },
  {
   "cell_type": "code",
   "execution_count": 25,
   "id": "3b4901fb",
   "metadata": {},
   "outputs": [
    {
     "data": {
      "text/plain": [
       "'%!$@#'"
      ]
     },
     "execution_count": 25,
     "metadata": {},
     "output_type": "execute_result"
    }
   ],
   "source": [
    "a = \"DSFASF#@$!%324566732cadnkw\"\n",
    "a[-16:-21:-1]"
   ]
  },
  {
   "cell_type": "code",
   "execution_count": 35,
   "id": "c75ca9d7",
   "metadata": {},
   "outputs": [
    {
     "name": "stdout",
     "output_type": "stream",
     "text": [
      "#@$!%\n"
     ]
    }
   ],
   "source": [
    "z = \"DSFASF#@$!%324566732cadnkw\"\n",
    "a = z[6:11]\n",
    "print(a)"
   ]
  },
  {
   "cell_type": "code",
   "execution_count": 19,
   "id": "b0e6c86f",
   "metadata": {},
   "outputs": [
    {
     "name": "stdout",
     "output_type": "stream",
     "text": [
      "names : mohit tanya ariana justin jordan mikey denver\n",
      "its ok mohit\n",
      "lucky : tanya\n",
      "lucky : ariana\n",
      "its ok justin\n",
      "lucky : jordan\n",
      "its ok mikey\n",
      "its ok denver\n"
     ]
    }
   ],
   "source": [
    "def meet():\n",
    "    names = input(\"names : \").split()\n",
    "    for i in names :\n",
    "        if \"a\" in i :\n",
    "            print(\"lucky :\",i)\n",
    "        else:\n",
    "            print(\"its ok\",i)\n",
    "meet()"
   ]
  },
  {
   "cell_type": "code",
   "execution_count": 3,
   "id": "6b364adc",
   "metadata": {},
   "outputs": [
    {
     "name": "stdout",
     "output_type": "stream",
     "text": [
      "enter the names : mohit tanya ariana justin jordan mikey denver\n",
      "its ok mohit\n",
      "its ok tanya\n",
      "lucky  ariana\n",
      "its ok justin\n",
      "its ok jordan\n",
      "its ok mikey\n",
      "its ok denver\n"
     ]
    }
   ],
   "source": [
    "z = input(\"enter the names :\").split()\n",
    "for i in z :\n",
    "    if \"a\" in i[0] or \"A\" in i[0]:\n",
    "        print(\"lucky \",i)\n",
    "    else:\n",
    "        print(\"its ok\",i)"
   ]
  },
  {
   "cell_type": "code",
   "execution_count": 9,
   "id": "9417e0b2",
   "metadata": {},
   "outputs": [
    {
     "ename": "SyntaxError",
     "evalue": "invalid syntax (Temp/ipykernel_19096/2991725956.py, line 8)",
     "output_type": "error",
     "traceback": [
      "\u001b[1;36m  File \u001b[1;32m\"C:\\Users\\GOURAV~1\\AppData\\Local\\Temp/ipykernel_19096/2991725956.py\"\u001b[1;36m, line \u001b[1;32m8\u001b[0m\n\u001b[1;33m    if i!==\"a\" or i!==\"A\":\u001b[0m\n\u001b[1;37m          ^\u001b[0m\n\u001b[1;31mSyntaxError\u001b[0m\u001b[1;31m:\u001b[0m invalid syntax\n"
     ]
    }
   ],
   "source": [
    "def meet():\n",
    "    names = input(\"names : \").split()\n",
    "    for i in names :\n",
    "        if i\n",
    "        if \"a\" in i :\n",
    "            print(\"lucky :\",i)\n",
    "        else:\n",
    "            print(\"its ok\",i)\n",
    "            if i!==\"a\" or i!==\"A\":\n",
    "        print(change)\n",
    "meet()"
   ]
  }
 ],
 "metadata": {
  "kernelspec": {
   "display_name": "Python 3 (ipykernel)",
   "language": "python",
   "name": "python3"
  },
  "language_info": {
   "codemirror_mode": {
    "name": "ipython",
    "version": 3
   },
   "file_extension": ".py",
   "mimetype": "text/x-python",
   "name": "python",
   "nbconvert_exporter": "python",
   "pygments_lexer": "ipython3",
   "version": "3.9.7"
  }
 },
 "nbformat": 4,
 "nbformat_minor": 5
}
