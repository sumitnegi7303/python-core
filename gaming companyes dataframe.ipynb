{
 "cells": [
  {
   "cell_type": "code",
   "execution_count": 1,
   "id": "57429a5a",
   "metadata": {},
   "outputs": [],
   "source": [
    "import numpy as np\n",
    "import pandas as pd\n",
    "import seaborn as sns\n",
    "import matplotlib.pyplot as plt"
   ]
  },
  {
   "cell_type": "code",
   "execution_count": 12,
   "id": "96b7624e",
   "metadata": {},
   "outputs": [
    {
     "data": {
      "text/html": [
       "<div>\n",
       "<style scoped>\n",
       "    .dataframe tbody tr th:only-of-type {\n",
       "        vertical-align: middle;\n",
       "    }\n",
       "\n",
       "    .dataframe tbody tr th {\n",
       "        vertical-align: top;\n",
       "    }\n",
       "\n",
       "    .dataframe thead th {\n",
       "        text-align: right;\n",
       "    }\n",
       "</style>\n",
       "<table border=\"1\" class=\"dataframe\">\n",
       "  <thead>\n",
       "    <tr style=\"text-align: right;\">\n",
       "      <th></th>\n",
       "      <th>Name</th>\n",
       "      <th>marketcap</th>\n",
       "      <th>earnings</th>\n",
       "      <th>employeeCount</th>\n",
       "      <th>OperatingMargin</th>\n",
       "      <th>PERatio</th>\n",
       "      <th>Revenue</th>\n",
       "      <th>country</th>\n",
       "    </tr>\n",
       "  </thead>\n",
       "  <tbody>\n",
       "    <tr>\n",
       "      <th>0</th>\n",
       "      <td>11 bit studios</td>\n",
       "      <td>2.600171e+08</td>\n",
       "      <td>8147710</td>\n",
       "      <td>192</td>\n",
       "      <td>4583.070</td>\n",
       "      <td>40.888100</td>\n",
       "      <td>1.777785e+07</td>\n",
       "      <td>Poland</td>\n",
       "    </tr>\n",
       "    <tr>\n",
       "      <th>1</th>\n",
       "      <td>Activision Blizzard</td>\n",
       "      <td>5.835960e+10</td>\n",
       "      <td>2972000000</td>\n",
       "      <td>9500</td>\n",
       "      <td>3582.020</td>\n",
       "      <td>23.471700</td>\n",
       "      <td>8.297000e+09</td>\n",
       "      <td>United States</td>\n",
       "    </tr>\n",
       "    <tr>\n",
       "      <th>2</th>\n",
       "      <td>Appirits</td>\n",
       "      <td>3.008261e+07</td>\n",
       "      <td>1591300</td>\n",
       "      <td>411</td>\n",
       "      <td>372.253</td>\n",
       "      <td>31.000000</td>\n",
       "      <td>4.274776e+07</td>\n",
       "      <td>Japan</td>\n",
       "    </tr>\n",
       "    <tr>\n",
       "      <th>3</th>\n",
       "      <td>Aristocrat</td>\n",
       "      <td>1.551363e+10</td>\n",
       "      <td>778411000</td>\n",
       "      <td>7000</td>\n",
       "      <td>2266.820</td>\n",
       "      <td>14.297000</td>\n",
       "      <td>3.433941e+09</td>\n",
       "      <td>Australia</td>\n",
       "    </tr>\n",
       "    <tr>\n",
       "      <th>4</th>\n",
       "      <td>ATARI</td>\n",
       "      <td>4.923000e+07</td>\n",
       "      <td>-13476800</td>\n",
       "      <td>26</td>\n",
       "      <td>-6296.300</td>\n",
       "      <td>-3.000000</td>\n",
       "      <td>2.140430e+07</td>\n",
       "      <td>France</td>\n",
       "    </tr>\n",
       "    <tr>\n",
       "      <th>...</th>\n",
       "      <td>...</td>\n",
       "      <td>...</td>\n",
       "      <td>...</td>\n",
       "      <td>...</td>\n",
       "      <td>...</td>\n",
       "      <td>...</td>\n",
       "      <td>...</td>\n",
       "      <td>...</td>\n",
       "    </tr>\n",
       "    <tr>\n",
       "      <th>74</th>\n",
       "      <td>Unity Software</td>\n",
       "      <td>9.993398e+09</td>\n",
       "      <td>-590918000</td>\n",
       "      <td>4934</td>\n",
       "      <td>-4941.280</td>\n",
       "      <td>-16.076200</td>\n",
       "      <td>1.195880e+09</td>\n",
       "      <td>United States</td>\n",
       "    </tr>\n",
       "    <tr>\n",
       "      <th>75</th>\n",
       "      <td>Versus Systems</td>\n",
       "      <td>1.169109e+07</td>\n",
       "      <td>-11545800</td>\n",
       "      <td>0</td>\n",
       "      <td>-153192.000</td>\n",
       "      <td>-0.823529</td>\n",
       "      <td>7.536780e+05</td>\n",
       "      <td>Canada</td>\n",
       "    </tr>\n",
       "    <tr>\n",
       "      <th>76</th>\n",
       "      <td>Webzen</td>\n",
       "      <td>5.007477e+08</td>\n",
       "      <td>0</td>\n",
       "      <td>0</td>\n",
       "      <td>0.000</td>\n",
       "      <td>0.000000</td>\n",
       "      <td>0.000000e+00</td>\n",
       "      <td>South Korea</td>\n",
       "    </tr>\n",
       "    <tr>\n",
       "      <th>77</th>\n",
       "      <td>Wemade</td>\n",
       "      <td>8.686795e+08</td>\n",
       "      <td>0</td>\n",
       "      <td>0</td>\n",
       "      <td>0.000</td>\n",
       "      <td>0.000000</td>\n",
       "      <td>0.000000e+00</td>\n",
       "      <td>South Korea</td>\n",
       "    </tr>\n",
       "    <tr>\n",
       "      <th>78</th>\n",
       "      <td>WonderPlanet</td>\n",
       "      <td>3.043914e+07</td>\n",
       "      <td>-1386590</td>\n",
       "      <td>0</td>\n",
       "      <td>-498.975</td>\n",
       "      <td>4.037680</td>\n",
       "      <td>2.778869e+07</td>\n",
       "      <td>Japan</td>\n",
       "    </tr>\n",
       "  </tbody>\n",
       "</table>\n",
       "<p>79 rows × 8 columns</p>\n",
       "</div>"
      ],
      "text/plain": [
       "                   Name     marketcap    earnings  employeeCount  \\\n",
       "0        11 bit studios  2.600171e+08     8147710            192   \n",
       "1   Activision Blizzard  5.835960e+10  2972000000           9500   \n",
       "2              Appirits  3.008261e+07     1591300            411   \n",
       "3            Aristocrat  1.551363e+10   778411000           7000   \n",
       "4                 ATARI  4.923000e+07   -13476800             26   \n",
       "..                  ...           ...         ...            ...   \n",
       "74       Unity Software  9.993398e+09  -590918000           4934   \n",
       "75       Versus Systems  1.169109e+07   -11545800              0   \n",
       "76               Webzen  5.007477e+08           0              0   \n",
       "77               Wemade  8.686795e+08           0              0   \n",
       "78         WonderPlanet  3.043914e+07    -1386590              0   \n",
       "\n",
       "    OperatingMargin    PERatio       Revenue        country  \n",
       "0          4583.070  40.888100  1.777785e+07         Poland  \n",
       "1          3582.020  23.471700  8.297000e+09  United States  \n",
       "2           372.253  31.000000  4.274776e+07          Japan  \n",
       "3          2266.820  14.297000  3.433941e+09      Australia  \n",
       "4         -6296.300  -3.000000  2.140430e+07         France  \n",
       "..              ...        ...           ...            ...  \n",
       "74        -4941.280 -16.076200  1.195880e+09  United States  \n",
       "75      -153192.000  -0.823529  7.536780e+05         Canada  \n",
       "76            0.000   0.000000  0.000000e+00    South Korea  \n",
       "77            0.000   0.000000  0.000000e+00    South Korea  \n",
       "78         -498.975   4.037680  2.778869e+07          Japan  \n",
       "\n",
       "[79 rows x 8 columns]"
      ]
     },
     "execution_count": 12,
     "metadata": {},
     "output_type": "execute_result"
    }
   ],
   "source": [
    "df  = pd.read_csv(\"C:\\\\Users\\\\GOURAV NEGI\\\\Downloads\\\\archive (5)\\\\GamingCompanies-Main.csv\")\n",
    "df"
   ]
  },
  {
   "cell_type": "code",
   "execution_count": 5,
   "id": "2d5b7a51",
   "metadata": {},
   "outputs": [
    {
     "data": {
      "text/html": [
       "<div>\n",
       "<style scoped>\n",
       "    .dataframe tbody tr th:only-of-type {\n",
       "        vertical-align: middle;\n",
       "    }\n",
       "\n",
       "    .dataframe tbody tr th {\n",
       "        vertical-align: top;\n",
       "    }\n",
       "\n",
       "    .dataframe thead th {\n",
       "        text-align: right;\n",
       "    }\n",
       "</style>\n",
       "<table border=\"1\" class=\"dataframe\">\n",
       "  <thead>\n",
       "    <tr style=\"text-align: right;\">\n",
       "      <th></th>\n",
       "      <th>Name</th>\n",
       "      <th>marketcap</th>\n",
       "      <th>earnings</th>\n",
       "      <th>employeeCount</th>\n",
       "      <th>OperatingMargin</th>\n",
       "      <th>PERatio</th>\n",
       "      <th>Revenue</th>\n",
       "      <th>country</th>\n",
       "    </tr>\n",
       "  </thead>\n",
       "  <tbody>\n",
       "    <tr>\n",
       "      <th>0</th>\n",
       "      <td>11 bit studios</td>\n",
       "      <td>2.600171e+08</td>\n",
       "      <td>8147710</td>\n",
       "      <td>192</td>\n",
       "      <td>4583.070</td>\n",
       "      <td>40.8881</td>\n",
       "      <td>1.777785e+07</td>\n",
       "      <td>Poland</td>\n",
       "    </tr>\n",
       "    <tr>\n",
       "      <th>1</th>\n",
       "      <td>Activision Blizzard</td>\n",
       "      <td>5.835960e+10</td>\n",
       "      <td>2972000000</td>\n",
       "      <td>9500</td>\n",
       "      <td>3582.020</td>\n",
       "      <td>23.4717</td>\n",
       "      <td>8.297000e+09</td>\n",
       "      <td>United States</td>\n",
       "    </tr>\n",
       "    <tr>\n",
       "      <th>2</th>\n",
       "      <td>Appirits</td>\n",
       "      <td>3.008261e+07</td>\n",
       "      <td>1591300</td>\n",
       "      <td>411</td>\n",
       "      <td>372.253</td>\n",
       "      <td>31.0000</td>\n",
       "      <td>4.274776e+07</td>\n",
       "      <td>Japan</td>\n",
       "    </tr>\n",
       "    <tr>\n",
       "      <th>3</th>\n",
       "      <td>Aristocrat</td>\n",
       "      <td>1.551363e+10</td>\n",
       "      <td>778411000</td>\n",
       "      <td>7000</td>\n",
       "      <td>2266.820</td>\n",
       "      <td>14.2970</td>\n",
       "      <td>3.433941e+09</td>\n",
       "      <td>Australia</td>\n",
       "    </tr>\n",
       "    <tr>\n",
       "      <th>4</th>\n",
       "      <td>ATARI</td>\n",
       "      <td>4.923000e+07</td>\n",
       "      <td>-13476800</td>\n",
       "      <td>26</td>\n",
       "      <td>-6296.300</td>\n",
       "      <td>-3.0000</td>\n",
       "      <td>2.140430e+07</td>\n",
       "      <td>France</td>\n",
       "    </tr>\n",
       "  </tbody>\n",
       "</table>\n",
       "</div>"
      ],
      "text/plain": [
       "                  Name     marketcap    earnings  employeeCount  \\\n",
       "0       11 bit studios  2.600171e+08     8147710            192   \n",
       "1  Activision Blizzard  5.835960e+10  2972000000           9500   \n",
       "2             Appirits  3.008261e+07     1591300            411   \n",
       "3           Aristocrat  1.551363e+10   778411000           7000   \n",
       "4                ATARI  4.923000e+07   -13476800             26   \n",
       "\n",
       "   OperatingMargin  PERatio       Revenue        country  \n",
       "0         4583.070  40.8881  1.777785e+07         Poland  \n",
       "1         3582.020  23.4717  8.297000e+09  United States  \n",
       "2          372.253  31.0000  4.274776e+07          Japan  \n",
       "3         2266.820  14.2970  3.433941e+09      Australia  \n",
       "4        -6296.300  -3.0000  2.140430e+07         France  "
      ]
     },
     "execution_count": 5,
     "metadata": {},
     "output_type": "execute_result"
    }
   ],
   "source": [
    "df.head()"
   ]
  },
  {
   "cell_type": "code",
   "execution_count": 6,
   "id": "9e9ebbff",
   "metadata": {},
   "outputs": [
    {
     "data": {
      "text/html": [
       "<div>\n",
       "<style scoped>\n",
       "    .dataframe tbody tr th:only-of-type {\n",
       "        vertical-align: middle;\n",
       "    }\n",
       "\n",
       "    .dataframe tbody tr th {\n",
       "        vertical-align: top;\n",
       "    }\n",
       "\n",
       "    .dataframe thead th {\n",
       "        text-align: right;\n",
       "    }\n",
       "</style>\n",
       "<table border=\"1\" class=\"dataframe\">\n",
       "  <thead>\n",
       "    <tr style=\"text-align: right;\">\n",
       "      <th></th>\n",
       "      <th>Name</th>\n",
       "      <th>marketcap</th>\n",
       "      <th>earnings</th>\n",
       "      <th>employeeCount</th>\n",
       "      <th>OperatingMargin</th>\n",
       "      <th>PERatio</th>\n",
       "      <th>Revenue</th>\n",
       "      <th>country</th>\n",
       "    </tr>\n",
       "  </thead>\n",
       "  <tbody>\n",
       "    <tr>\n",
       "      <th>74</th>\n",
       "      <td>Unity Software</td>\n",
       "      <td>9.993398e+09</td>\n",
       "      <td>-590918000</td>\n",
       "      <td>4934</td>\n",
       "      <td>-4941.280</td>\n",
       "      <td>-16.076200</td>\n",
       "      <td>1.195880e+09</td>\n",
       "      <td>United States</td>\n",
       "    </tr>\n",
       "    <tr>\n",
       "      <th>75</th>\n",
       "      <td>Versus Systems</td>\n",
       "      <td>1.169109e+07</td>\n",
       "      <td>-11545800</td>\n",
       "      <td>0</td>\n",
       "      <td>-153192.000</td>\n",
       "      <td>-0.823529</td>\n",
       "      <td>7.536780e+05</td>\n",
       "      <td>Canada</td>\n",
       "    </tr>\n",
       "    <tr>\n",
       "      <th>76</th>\n",
       "      <td>Webzen</td>\n",
       "      <td>5.007477e+08</td>\n",
       "      <td>0</td>\n",
       "      <td>0</td>\n",
       "      <td>0.000</td>\n",
       "      <td>0.000000</td>\n",
       "      <td>0.000000e+00</td>\n",
       "      <td>South Korea</td>\n",
       "    </tr>\n",
       "    <tr>\n",
       "      <th>77</th>\n",
       "      <td>Wemade</td>\n",
       "      <td>8.686795e+08</td>\n",
       "      <td>0</td>\n",
       "      <td>0</td>\n",
       "      <td>0.000</td>\n",
       "      <td>0.000000</td>\n",
       "      <td>0.000000e+00</td>\n",
       "      <td>South Korea</td>\n",
       "    </tr>\n",
       "    <tr>\n",
       "      <th>78</th>\n",
       "      <td>WonderPlanet</td>\n",
       "      <td>3.043914e+07</td>\n",
       "      <td>-1386590</td>\n",
       "      <td>0</td>\n",
       "      <td>-498.975</td>\n",
       "      <td>4.037680</td>\n",
       "      <td>2.778869e+07</td>\n",
       "      <td>Japan</td>\n",
       "    </tr>\n",
       "  </tbody>\n",
       "</table>\n",
       "</div>"
      ],
      "text/plain": [
       "              Name     marketcap   earnings  employeeCount  OperatingMargin  \\\n",
       "74  Unity Software  9.993398e+09 -590918000           4934        -4941.280   \n",
       "75  Versus Systems  1.169109e+07  -11545800              0      -153192.000   \n",
       "76          Webzen  5.007477e+08          0              0            0.000   \n",
       "77          Wemade  8.686795e+08          0              0            0.000   \n",
       "78    WonderPlanet  3.043914e+07   -1386590              0         -498.975   \n",
       "\n",
       "      PERatio       Revenue        country  \n",
       "74 -16.076200  1.195880e+09  United States  \n",
       "75  -0.823529  7.536780e+05         Canada  \n",
       "76   0.000000  0.000000e+00    South Korea  \n",
       "77   0.000000  0.000000e+00    South Korea  \n",
       "78   4.037680  2.778869e+07          Japan  "
      ]
     },
     "execution_count": 6,
     "metadata": {},
     "output_type": "execute_result"
    }
   ],
   "source": [
    "df.tail()"
   ]
  },
  {
   "cell_type": "code",
   "execution_count": 8,
   "id": "bf112a94",
   "metadata": {},
   "outputs": [
    {
     "data": {
      "text/html": [
       "<div>\n",
       "<style scoped>\n",
       "    .dataframe tbody tr th:only-of-type {\n",
       "        vertical-align: middle;\n",
       "    }\n",
       "\n",
       "    .dataframe tbody tr th {\n",
       "        vertical-align: top;\n",
       "    }\n",
       "\n",
       "    .dataframe thead th {\n",
       "        text-align: right;\n",
       "    }\n",
       "</style>\n",
       "<table border=\"1\" class=\"dataframe\">\n",
       "  <thead>\n",
       "    <tr style=\"text-align: right;\">\n",
       "      <th></th>\n",
       "      <th>Name</th>\n",
       "      <th>marketcap</th>\n",
       "      <th>earnings</th>\n",
       "      <th>employeeCount</th>\n",
       "      <th>OperatingMargin</th>\n",
       "      <th>PERatio</th>\n",
       "      <th>Revenue</th>\n",
       "      <th>country</th>\n",
       "    </tr>\n",
       "  </thead>\n",
       "  <tbody>\n",
       "    <tr>\n",
       "      <th>0</th>\n",
       "      <td>False</td>\n",
       "      <td>False</td>\n",
       "      <td>False</td>\n",
       "      <td>False</td>\n",
       "      <td>False</td>\n",
       "      <td>False</td>\n",
       "      <td>False</td>\n",
       "      <td>False</td>\n",
       "    </tr>\n",
       "    <tr>\n",
       "      <th>1</th>\n",
       "      <td>False</td>\n",
       "      <td>False</td>\n",
       "      <td>False</td>\n",
       "      <td>False</td>\n",
       "      <td>False</td>\n",
       "      <td>False</td>\n",
       "      <td>False</td>\n",
       "      <td>False</td>\n",
       "    </tr>\n",
       "    <tr>\n",
       "      <th>2</th>\n",
       "      <td>False</td>\n",
       "      <td>False</td>\n",
       "      <td>False</td>\n",
       "      <td>False</td>\n",
       "      <td>False</td>\n",
       "      <td>False</td>\n",
       "      <td>False</td>\n",
       "      <td>False</td>\n",
       "    </tr>\n",
       "    <tr>\n",
       "      <th>3</th>\n",
       "      <td>False</td>\n",
       "      <td>False</td>\n",
       "      <td>False</td>\n",
       "      <td>False</td>\n",
       "      <td>False</td>\n",
       "      <td>False</td>\n",
       "      <td>False</td>\n",
       "      <td>False</td>\n",
       "    </tr>\n",
       "    <tr>\n",
       "      <th>4</th>\n",
       "      <td>False</td>\n",
       "      <td>False</td>\n",
       "      <td>False</td>\n",
       "      <td>False</td>\n",
       "      <td>False</td>\n",
       "      <td>False</td>\n",
       "      <td>False</td>\n",
       "      <td>False</td>\n",
       "    </tr>\n",
       "    <tr>\n",
       "      <th>...</th>\n",
       "      <td>...</td>\n",
       "      <td>...</td>\n",
       "      <td>...</td>\n",
       "      <td>...</td>\n",
       "      <td>...</td>\n",
       "      <td>...</td>\n",
       "      <td>...</td>\n",
       "      <td>...</td>\n",
       "    </tr>\n",
       "    <tr>\n",
       "      <th>74</th>\n",
       "      <td>False</td>\n",
       "      <td>False</td>\n",
       "      <td>False</td>\n",
       "      <td>False</td>\n",
       "      <td>False</td>\n",
       "      <td>False</td>\n",
       "      <td>False</td>\n",
       "      <td>False</td>\n",
       "    </tr>\n",
       "    <tr>\n",
       "      <th>75</th>\n",
       "      <td>False</td>\n",
       "      <td>False</td>\n",
       "      <td>False</td>\n",
       "      <td>False</td>\n",
       "      <td>False</td>\n",
       "      <td>False</td>\n",
       "      <td>False</td>\n",
       "      <td>False</td>\n",
       "    </tr>\n",
       "    <tr>\n",
       "      <th>76</th>\n",
       "      <td>False</td>\n",
       "      <td>False</td>\n",
       "      <td>False</td>\n",
       "      <td>False</td>\n",
       "      <td>False</td>\n",
       "      <td>False</td>\n",
       "      <td>False</td>\n",
       "      <td>False</td>\n",
       "    </tr>\n",
       "    <tr>\n",
       "      <th>77</th>\n",
       "      <td>False</td>\n",
       "      <td>False</td>\n",
       "      <td>False</td>\n",
       "      <td>False</td>\n",
       "      <td>False</td>\n",
       "      <td>False</td>\n",
       "      <td>False</td>\n",
       "      <td>False</td>\n",
       "    </tr>\n",
       "    <tr>\n",
       "      <th>78</th>\n",
       "      <td>False</td>\n",
       "      <td>False</td>\n",
       "      <td>False</td>\n",
       "      <td>False</td>\n",
       "      <td>False</td>\n",
       "      <td>False</td>\n",
       "      <td>False</td>\n",
       "      <td>False</td>\n",
       "    </tr>\n",
       "  </tbody>\n",
       "</table>\n",
       "<p>79 rows × 8 columns</p>\n",
       "</div>"
      ],
      "text/plain": [
       "     Name  marketcap  earnings  employeeCount  OperatingMargin  PERatio  \\\n",
       "0   False      False     False          False            False    False   \n",
       "1   False      False     False          False            False    False   \n",
       "2   False      False     False          False            False    False   \n",
       "3   False      False     False          False            False    False   \n",
       "4   False      False     False          False            False    False   \n",
       "..    ...        ...       ...            ...              ...      ...   \n",
       "74  False      False     False          False            False    False   \n",
       "75  False      False     False          False            False    False   \n",
       "76  False      False     False          False            False    False   \n",
       "77  False      False     False          False            False    False   \n",
       "78  False      False     False          False            False    False   \n",
       "\n",
       "    Revenue  country  \n",
       "0     False    False  \n",
       "1     False    False  \n",
       "2     False    False  \n",
       "3     False    False  \n",
       "4     False    False  \n",
       "..      ...      ...  \n",
       "74    False    False  \n",
       "75    False    False  \n",
       "76    False    False  \n",
       "77    False    False  \n",
       "78    False    False  \n",
       "\n",
       "[79 rows x 8 columns]"
      ]
     },
     "execution_count": 8,
     "metadata": {},
     "output_type": "execute_result"
    }
   ],
   "source": [
    "df.isnull()"
   ]
  },
  {
   "cell_type": "code",
   "execution_count": 20,
   "id": "4eb9108f",
   "metadata": {},
   "outputs": [
    {
     "name": "stdout",
     "output_type": "stream",
     "text": [
      "<class 'pandas.core.frame.DataFrame'>\n",
      "RangeIndex: 79 entries, 0 to 78\n",
      "Data columns (total 8 columns):\n",
      " #   Column           Non-Null Count  Dtype  \n",
      "---  ------           --------------  -----  \n",
      " 0   Name             79 non-null     object \n",
      " 1   marketcap        79 non-null     float64\n",
      " 2   earnings         79 non-null     int64  \n",
      " 3   employeeCount    79 non-null     int64  \n",
      " 4   OperatingMargin  78 non-null     float64\n",
      " 5   PERatio          79 non-null     float64\n",
      " 6   Revenue          79 non-null     float64\n",
      " 7   country          79 non-null     object \n",
      "dtypes: float64(4), int64(2), object(2)\n",
      "memory usage: 5.1+ KB\n"
     ]
    }
   ],
   "source": [
    "df.info()"
   ]
  },
  {
   "cell_type": "code",
   "execution_count": 25,
   "id": "b4b6e569",
   "metadata": {},
   "outputs": [
    {
     "data": {
      "text/html": [
       "<div>\n",
       "<style scoped>\n",
       "    .dataframe tbody tr th:only-of-type {\n",
       "        vertical-align: middle;\n",
       "    }\n",
       "\n",
       "    .dataframe tbody tr th {\n",
       "        vertical-align: top;\n",
       "    }\n",
       "\n",
       "    .dataframe thead th {\n",
       "        text-align: right;\n",
       "    }\n",
       "</style>\n",
       "<table border=\"1\" class=\"dataframe\">\n",
       "  <thead>\n",
       "    <tr style=\"text-align: right;\">\n",
       "      <th></th>\n",
       "      <th>Name</th>\n",
       "      <th>marketcap</th>\n",
       "      <th>earnings</th>\n",
       "      <th>employeeCount</th>\n",
       "      <th>OperatingMargin</th>\n",
       "      <th>PERatio</th>\n",
       "      <th>Revenue</th>\n",
       "      <th>country</th>\n",
       "    </tr>\n",
       "  </thead>\n",
       "  <tbody>\n",
       "  </tbody>\n",
       "</table>\n",
       "</div>"
      ],
      "text/plain": [
       "Empty DataFrame\n",
       "Columns: [Name, marketcap, earnings, employeeCount, OperatingMargin, PERatio, Revenue, country]\n",
       "Index: []"
      ]
     },
     "execution_count": 25,
     "metadata": {},
     "output_type": "execute_result"
    }
   ],
   "source": [
    "df.iloc[[]]"
   ]
  },
  {
   "cell_type": "code",
   "execution_count": 28,
   "id": "e54dd21f",
   "metadata": {},
   "outputs": [
    {
     "data": {
      "text/plain": [
       "Name               79\n",
       "marketcap          79\n",
       "earnings           75\n",
       "employeeCount      61\n",
       "OperatingMargin    75\n",
       "PERatio            75\n",
       "Revenue            75\n",
       "country            18\n",
       "dtype: int64"
      ]
     },
     "execution_count": 28,
     "metadata": {},
     "output_type": "execute_result"
    }
   ],
   "source": [
    "df.nunique()"
   ]
  },
  {
   "cell_type": "code",
   "execution_count": 32,
   "id": "d5f8ff77",
   "metadata": {},
   "outputs": [
    {
     "data": {
      "text/plain": [
       "Name               0\n",
       "marketcap          0\n",
       "earnings           0\n",
       "employeeCount      0\n",
       "OperatingMargin    1\n",
       "PERatio            0\n",
       "Revenue            0\n",
       "country            0\n",
       "dtype: int64"
      ]
     },
     "execution_count": 32,
     "metadata": {},
     "output_type": "execute_result"
    }
   ],
   "source": [
    "df.isnull().sum()"
   ]
  },
  {
   "cell_type": "code",
   "execution_count": 38,
   "id": "efc59e77",
   "metadata": {},
   "outputs": [
    {
     "data": {
      "text/html": [
       "<div>\n",
       "<style scoped>\n",
       "    .dataframe tbody tr th:only-of-type {\n",
       "        vertical-align: middle;\n",
       "    }\n",
       "\n",
       "    .dataframe tbody tr th {\n",
       "        vertical-align: top;\n",
       "    }\n",
       "\n",
       "    .dataframe thead th {\n",
       "        text-align: right;\n",
       "    }\n",
       "</style>\n",
       "<table border=\"1\" class=\"dataframe\">\n",
       "  <thead>\n",
       "    <tr style=\"text-align: right;\">\n",
       "      <th></th>\n",
       "      <th>Name</th>\n",
       "      <th>marketcap</th>\n",
       "      <th>earnings</th>\n",
       "      <th>employeeCount</th>\n",
       "      <th>OperatingMargin</th>\n",
       "      <th>PERatio</th>\n",
       "      <th>Revenue</th>\n",
       "      <th>country</th>\n",
       "    </tr>\n",
       "  </thead>\n",
       "  <tbody>\n",
       "    <tr>\n",
       "      <th>0</th>\n",
       "      <td>11 bit studios</td>\n",
       "      <td>2.600171e+08</td>\n",
       "      <td>8147710</td>\n",
       "      <td>192</td>\n",
       "      <td>4583.070</td>\n",
       "      <td>40.8881</td>\n",
       "      <td>1.777785e+07</td>\n",
       "      <td>Poland</td>\n",
       "    </tr>\n",
       "    <tr>\n",
       "      <th>1</th>\n",
       "      <td>Activision Blizzard</td>\n",
       "      <td>5.835960e+10</td>\n",
       "      <td>2972000000</td>\n",
       "      <td>9500</td>\n",
       "      <td>3582.020</td>\n",
       "      <td>23.4717</td>\n",
       "      <td>8.297000e+09</td>\n",
       "      <td>United States</td>\n",
       "    </tr>\n",
       "    <tr>\n",
       "      <th>2</th>\n",
       "      <td>Appirits</td>\n",
       "      <td>3.008261e+07</td>\n",
       "      <td>1591300</td>\n",
       "      <td>411</td>\n",
       "      <td>372.253</td>\n",
       "      <td>31.0000</td>\n",
       "      <td>4.274776e+07</td>\n",
       "      <td>Japan</td>\n",
       "    </tr>\n",
       "    <tr>\n",
       "      <th>3</th>\n",
       "      <td>Aristocrat</td>\n",
       "      <td>1.551363e+10</td>\n",
       "      <td>778411000</td>\n",
       "      <td>7000</td>\n",
       "      <td>2266.820</td>\n",
       "      <td>14.2970</td>\n",
       "      <td>3.433941e+09</td>\n",
       "      <td>Australia</td>\n",
       "    </tr>\n",
       "    <tr>\n",
       "      <th>4</th>\n",
       "      <td>ATARI</td>\n",
       "      <td>4.923000e+07</td>\n",
       "      <td>-13476800</td>\n",
       "      <td>26</td>\n",
       "      <td>-6296.300</td>\n",
       "      <td>-3.0000</td>\n",
       "      <td>2.140430e+07</td>\n",
       "      <td>France</td>\n",
       "    </tr>\n",
       "  </tbody>\n",
       "</table>\n",
       "</div>"
      ],
      "text/plain": [
       "                  Name     marketcap    earnings  employeeCount  \\\n",
       "0       11 bit studios  2.600171e+08     8147710            192   \n",
       "1  Activision Blizzard  5.835960e+10  2972000000           9500   \n",
       "2             Appirits  3.008261e+07     1591300            411   \n",
       "3           Aristocrat  1.551363e+10   778411000           7000   \n",
       "4                ATARI  4.923000e+07   -13476800             26   \n",
       "\n",
       "   OperatingMargin  PERatio       Revenue        country  \n",
       "0         4583.070  40.8881  1.777785e+07         Poland  \n",
       "1         3582.020  23.4717  8.297000e+09  United States  \n",
       "2          372.253  31.0000  4.274776e+07          Japan  \n",
       "3         2266.820  14.2970  3.433941e+09      Australia  \n",
       "4        -6296.300  -3.0000  2.140430e+07         France  "
      ]
     },
     "execution_count": 38,
     "metadata": {},
     "output_type": "execute_result"
    }
   ],
   "source": [
    "df.head()"
   ]
  },
  {
   "cell_type": "code",
   "execution_count": 48,
   "id": "41e3d32c",
   "metadata": {},
   "outputs": [
    {
     "data": {
      "text/plain": [
       "(79, 8)"
      ]
     },
     "execution_count": 48,
     "metadata": {},
     "output_type": "execute_result"
    }
   ],
   "source": [
    "df.shape"
   ]
  },
  {
   "cell_type": "code",
   "execution_count": 49,
   "id": "591bb0be",
   "metadata": {},
   "outputs": [
    {
     "data": {
      "text/plain": [
       "1984251123.9240506"
      ]
     },
     "execution_count": 49,
     "metadata": {},
     "output_type": "execute_result"
    }
   ],
   "source": [
    "df[\"earnings\"].mean()"
   ]
  },
  {
   "cell_type": "code",
   "execution_count": 50,
   "id": "78267d12",
   "metadata": {},
   "outputs": [
    {
     "data": {
      "text/plain": [
       "0    0\n",
       "dtype: int64"
      ]
     },
     "execution_count": 50,
     "metadata": {},
     "output_type": "execute_result"
    }
   ],
   "source": [
    "df[\"earnings\"].mode()"
   ]
  },
  {
   "cell_type": "code",
   "execution_count": 51,
   "id": "26379255",
   "metadata": {},
   "outputs": [
    {
     "data": {
      "text/plain": [
       "84754000000"
      ]
     },
     "execution_count": 51,
     "metadata": {},
     "output_type": "execute_result"
    }
   ],
   "source": [
    "df[\"earnings\"].max()"
   ]
  },
  {
   "cell_type": "code",
   "execution_count": 54,
   "id": "82f250a6",
   "metadata": {},
   "outputs": [
    {
     "data": {
      "text/plain": [
       "41661100.0"
      ]
     },
     "execution_count": 54,
     "metadata": {},
     "output_type": "execute_result"
    }
   ],
   "source": [
    "df[\"earnings\"].median()"
   ]
  },
  {
   "cell_type": "code",
   "execution_count": 60,
   "id": "1c0ec8e9",
   "metadata": {},
   "outputs": [
    {
     "data": {
      "text/plain": [
       "11 bit studios            1\n",
       "Pearl Abyss               1\n",
       "Razer                     1\n",
       "PlayWay                   1\n",
       "Playtika                  1\n",
       "                         ..\n",
       "GameStop                  1\n",
       "Frontier Developments     1\n",
       "Focus Home Interactive    1\n",
       "Entain                    1\n",
       "WonderPlanet              1\n",
       "Name: Name, Length: 79, dtype: int64"
      ]
     },
     "execution_count": 60,
     "metadata": {},
     "output_type": "execute_result"
    }
   ],
   "source": [
    "df[\"Name\"].value_counts()"
   ]
  },
  {
   "cell_type": "code",
   "execution_count": 61,
   "id": "1814ae48",
   "metadata": {},
   "outputs": [
    {
     "data": {
      "text/plain": [
       "0.000000e+00    5\n",
       "1.777785e+07    1\n",
       "1.749410e+08    1\n",
       "5.906182e+07    1\n",
       "2.621000e+09    1\n",
       "               ..\n",
       "6.010700e+09    1\n",
       "1.224140e+08    1\n",
       "1.936535e+08    1\n",
       "5.169877e+09    1\n",
       "2.778869e+07    1\n",
       "Name: Revenue, Length: 75, dtype: int64"
      ]
     },
     "execution_count": 61,
     "metadata": {},
     "output_type": "execute_result"
    }
   ],
   "source": [
    "df[\"Revenue\"].value_counts()"
   ]
  },
  {
   "cell_type": "code",
   "execution_count": 62,
   "id": "b99ef94c",
   "metadata": {},
   "outputs": [
    {
     "data": {
      "text/plain": [
       "Japan             24\n",
       "United States     14\n",
       "South Korea        9\n",
       "Poland             6\n",
       "China              6\n",
       "France             4\n",
       "Sweden             3\n",
       "United Kingdom     2\n",
       "Isle of Man        2\n",
       "Italy              1\n",
       "Australia          1\n",
       "Ireland            1\n",
       "India              1\n",
       "Cyprus             1\n",
       "Israel             1\n",
       "Finland            1\n",
       "Singapore          1\n",
       "Canada             1\n",
       "Name: country, dtype: int64"
      ]
     },
     "execution_count": 62,
     "metadata": {},
     "output_type": "execute_result"
    }
   ],
   "source": [
    "df[\"country\"].value_counts()"
   ]
  },
  {
   "cell_type": "code",
   "execution_count": 64,
   "id": "22cb8427",
   "metadata": {},
   "outputs": [
    {
     "data": {
      "text/plain": [
       " 0            5\n",
       " 8147710      1\n",
       " 47011200     1\n",
       " 39553600     1\n",
       " 547100000    1\n",
       "             ..\n",
       "-368500000    1\n",
       " 26883400     1\n",
       " 22909400     1\n",
       " 634828000    1\n",
       "-1386590      1\n",
       "Name: earnings, Length: 75, dtype: int64"
      ]
     },
     "execution_count": 64,
     "metadata": {},
     "output_type": "execute_result"
    }
   ],
   "source": [
    "df[\"earnings\"].value_counts()"
   ]
  },
  {
   "cell_type": "code",
   "execution_count": 65,
   "id": "70f11d4c",
   "metadata": {},
   "outputs": [
    {
     "data": {
      "text/plain": [
       "0       17\n",
       "7000     2\n",
       "281      2\n",
       "192      1\n",
       "6574     1\n",
       "        ..\n",
       "357      1\n",
       "279      1\n",
       "1543     1\n",
       "866      1\n",
       "4934     1\n",
       "Name: employeeCount, Length: 61, dtype: int64"
      ]
     },
     "execution_count": 65,
     "metadata": {},
     "output_type": "execute_result"
    }
   ],
   "source": [
    "df[\"employeeCount\"].value_counts()"
   ]
  },
  {
   "cell_type": "code",
   "execution_count": 67,
   "id": "3610c20c",
   "metadata": {
    "scrolled": true
   },
   "outputs": [
    {
     "data": {
      "text/plain": [
       "0       21.518987\n",
       "7000     2.531646\n",
       "281      2.531646\n",
       "192      1.265823\n",
       "6574     1.265823\n",
       "          ...    \n",
       "357      1.265823\n",
       "279      1.265823\n",
       "1543     1.265823\n",
       "866      1.265823\n",
       "4934     1.265823\n",
       "Name: employeeCount, Length: 61, dtype: float64"
      ]
     },
     "execution_count": 67,
     "metadata": {},
     "output_type": "execute_result"
    }
   ],
   "source": [
    "df[\"employeeCount\"].value_counts()/df[\"employeeCount\"].count()*100"
   ]
  },
  {
   "cell_type": "code",
   "execution_count": 68,
   "id": "fbf06ac7",
   "metadata": {},
   "outputs": [
    {
     "data": {
      "text/html": [
       "<div>\n",
       "<style scoped>\n",
       "    .dataframe tbody tr th:only-of-type {\n",
       "        vertical-align: middle;\n",
       "    }\n",
       "\n",
       "    .dataframe tbody tr th {\n",
       "        vertical-align: top;\n",
       "    }\n",
       "\n",
       "    .dataframe thead th {\n",
       "        text-align: right;\n",
       "    }\n",
       "</style>\n",
       "<table border=\"1\" class=\"dataframe\">\n",
       "  <thead>\n",
       "    <tr style=\"text-align: right;\">\n",
       "      <th></th>\n",
       "      <th>Name</th>\n",
       "      <th>marketcap</th>\n",
       "      <th>earnings</th>\n",
       "      <th>employeeCount</th>\n",
       "      <th>OperatingMargin</th>\n",
       "      <th>PERatio</th>\n",
       "      <th>Revenue</th>\n",
       "      <th>country</th>\n",
       "    </tr>\n",
       "  </thead>\n",
       "  <tbody>\n",
       "    <tr>\n",
       "      <th>0</th>\n",
       "      <td>11 bit studios</td>\n",
       "      <td>2.600171e+08</td>\n",
       "      <td>8147710</td>\n",
       "      <td>192</td>\n",
       "      <td>4583.07</td>\n",
       "      <td>40.8881</td>\n",
       "      <td>1.777785e+07</td>\n",
       "      <td>Poland</td>\n",
       "    </tr>\n",
       "    <tr>\n",
       "      <th>1</th>\n",
       "      <td>Activision Blizzard</td>\n",
       "      <td>5.835960e+10</td>\n",
       "      <td>2972000000</td>\n",
       "      <td>9500</td>\n",
       "      <td>3582.02</td>\n",
       "      <td>23.4717</td>\n",
       "      <td>8.297000e+09</td>\n",
       "      <td>United States</td>\n",
       "    </tr>\n",
       "  </tbody>\n",
       "</table>\n",
       "</div>"
      ],
      "text/plain": [
       "                  Name     marketcap    earnings  employeeCount  \\\n",
       "0       11 bit studios  2.600171e+08     8147710            192   \n",
       "1  Activision Blizzard  5.835960e+10  2972000000           9500   \n",
       "\n",
       "   OperatingMargin  PERatio       Revenue        country  \n",
       "0          4583.07  40.8881  1.777785e+07         Poland  \n",
       "1          3582.02  23.4717  8.297000e+09  United States  "
      ]
     },
     "execution_count": 68,
     "metadata": {},
     "output_type": "execute_result"
    }
   ],
   "source": [
    "df.head(2)"
   ]
  },
  {
   "cell_type": "code",
   "execution_count": 69,
   "id": "c495f54d",
   "metadata": {},
   "outputs": [
    {
     "data": {
      "text/plain": [
       "Japan             30.379747\n",
       "United States     17.721519\n",
       "South Korea       11.392405\n",
       "Poland             7.594937\n",
       "China              7.594937\n",
       "France             5.063291\n",
       "Sweden             3.797468\n",
       "United Kingdom     2.531646\n",
       "Isle of Man        2.531646\n",
       "Italy              1.265823\n",
       "Australia          1.265823\n",
       "Ireland            1.265823\n",
       "India              1.265823\n",
       "Cyprus             1.265823\n",
       "Israel             1.265823\n",
       "Finland            1.265823\n",
       "Singapore          1.265823\n",
       "Canada             1.265823\n",
       "Name: country, dtype: float64"
      ]
     },
     "execution_count": 69,
     "metadata": {},
     "output_type": "execute_result"
    }
   ],
   "source": [
    "df[\"country\"].value_counts()/df[\"country\"].count()*100"
   ]
  },
  {
   "cell_type": "code",
   "execution_count": 70,
   "id": "9d8dfff8",
   "metadata": {},
   "outputs": [
    {
     "data": {
      "text/plain": [
       "11 bit studios            1.265823\n",
       "Pearl Abyss               1.265823\n",
       "Razer                     1.265823\n",
       "PlayWay                   1.265823\n",
       "Playtika                  1.265823\n",
       "                            ...   \n",
       "GameStop                  1.265823\n",
       "Frontier Developments     1.265823\n",
       "Focus Home Interactive    1.265823\n",
       "Entain                    1.265823\n",
       "WonderPlanet              1.265823\n",
       "Name: Name, Length: 79, dtype: float64"
      ]
     },
     "execution_count": 70,
     "metadata": {},
     "output_type": "execute_result"
    }
   ],
   "source": [
    "df[\"Name\"].value_counts()/df[\"Name\"].count()*100"
   ]
  }
 ],
 "metadata": {
  "kernelspec": {
   "display_name": "Python 3 (ipykernel)",
   "language": "python",
   "name": "python3"
  },
  "language_info": {
   "codemirror_mode": {
    "name": "ipython",
    "version": 3
   },
   "file_extension": ".py",
   "mimetype": "text/x-python",
   "name": "python",
   "nbconvert_exporter": "python",
   "pygments_lexer": "ipython3",
   "version": "3.9.7"
  }
 },
 "nbformat": 4,
 "nbformat_minor": 5
}
