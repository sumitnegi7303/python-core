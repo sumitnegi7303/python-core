{
 "cells": [
  {
   "cell_type": "code",
   "execution_count": null,
   "id": "6ff9891e",
   "metadata": {},
   "outputs": [],
   "source": [
    "Q1.create an array of shape (3,3,3)and find the dimension,size of the array"
   ]
  },
  {
   "cell_type": "code",
   "execution_count": 2,
   "id": "e1694f0a",
   "metadata": {},
   "outputs": [],
   "source": [
    "import numpy as np"
   ]
  },
  {
   "cell_type": "code",
   "execution_count": 3,
   "id": "d3b39164",
   "metadata": {},
   "outputs": [
    {
     "data": {
      "text/plain": [
       "array([[[1, 2, 3],\n",
       "        [4, 5, 6],\n",
       "        [7, 8, 9]]])"
      ]
     },
     "execution_count": 3,
     "metadata": {},
     "output_type": "execute_result"
    }
   ],
   "source": [
    "a = np.array([[[1,2,3],[4,5,6],[7,8,9]]])\n",
    "a"
   ]
  },
  {
   "cell_type": "code",
   "execution_count": 4,
   "id": "39bd3057",
   "metadata": {},
   "outputs": [
    {
     "data": {
      "text/plain": [
       "3"
      ]
     },
     "execution_count": 4,
     "metadata": {},
     "output_type": "execute_result"
    }
   ],
   "source": [
    "a.ndim"
   ]
  },
  {
   "cell_type": "code",
   "execution_count": 6,
   "id": "2052d7f2",
   "metadata": {},
   "outputs": [
    {
     "data": {
      "text/plain": [
       "9"
      ]
     },
     "execution_count": 6,
     "metadata": {},
     "output_type": "execute_result"
    }
   ],
   "source": [
    "a.size"
   ]
  },
  {
   "cell_type": "code",
   "execution_count": null,
   "id": "34e9a714",
   "metadata": {},
   "outputs": [],
   "source": []
  },
  {
   "cell_type": "code",
   "execution_count": null,
   "id": "d29a40fe",
   "metadata": {},
   "outputs": [],
   "source": [
    "Q2.create an identify array, add 100 to the array elements,and then divide it with 3."
   ]
  },
  {
   "cell_type": "code",
   "execution_count": 6,
   "id": "7071fc63",
   "metadata": {},
   "outputs": [],
   "source": [
    " a = np.tri(6,6)"
   ]
  },
  {
   "cell_type": "code",
   "execution_count": 7,
   "id": "ab649b8f",
   "metadata": {},
   "outputs": [
    {
     "data": {
      "text/plain": [
       "array([[1., 0., 0., 0., 0., 0.],\n",
       "       [1., 1., 0., 0., 0., 0.],\n",
       "       [1., 1., 1., 0., 0., 0.],\n",
       "       [1., 1., 1., 1., 0., 0.],\n",
       "       [1., 1., 1., 1., 1., 0.],\n",
       "       [1., 1., 1., 1., 1., 1.]])"
      ]
     },
     "execution_count": 7,
     "metadata": {},
     "output_type": "execute_result"
    }
   ],
   "source": [
    "a"
   ]
  },
  {
   "cell_type": "code",
   "execution_count": 8,
   "id": "98541a5b",
   "metadata": {},
   "outputs": [
    {
     "data": {
      "text/plain": [
       "array([[101., 100., 100., 100., 100., 100.],\n",
       "       [101., 101., 100., 100., 100., 100.],\n",
       "       [101., 101., 101., 100., 100., 100.],\n",
       "       [101., 101., 101., 101., 100., 100.],\n",
       "       [101., 101., 101., 101., 101., 100.],\n",
       "       [101., 101., 101., 101., 101., 101.]])"
      ]
     },
     "execution_count": 8,
     "metadata": {},
     "output_type": "execute_result"
    }
   ],
   "source": [
    "a+100"
   ]
  },
  {
   "cell_type": "code",
   "execution_count": 9,
   "id": "6d189605",
   "metadata": {},
   "outputs": [
    {
     "data": {
      "text/plain": [
       "array([[1., 0., 0., 0., 0., 0.],\n",
       "       [1., 1., 0., 0., 0., 0.],\n",
       "       [1., 1., 1., 0., 0., 0.],\n",
       "       [1., 1., 1., 1., 0., 0.],\n",
       "       [1., 1., 1., 1., 1., 0.],\n",
       "       [1., 1., 1., 1., 1., 1.]])"
      ]
     },
     "execution_count": 9,
     "metadata": {},
     "output_type": "execute_result"
    }
   ],
   "source": [
    "a"
   ]
  },
  {
   "cell_type": "code",
   "execution_count": 10,
   "id": "ff848c9a",
   "metadata": {},
   "outputs": [
    {
     "data": {
      "text/plain": [
       "array([[0.33333333, 0.        , 0.        , 0.        , 0.        ,\n",
       "        0.        ],\n",
       "       [0.33333333, 0.33333333, 0.        , 0.        , 0.        ,\n",
       "        0.        ],\n",
       "       [0.33333333, 0.33333333, 0.33333333, 0.        , 0.        ,\n",
       "        0.        ],\n",
       "       [0.33333333, 0.33333333, 0.33333333, 0.33333333, 0.        ,\n",
       "        0.        ],\n",
       "       [0.33333333, 0.33333333, 0.33333333, 0.33333333, 0.33333333,\n",
       "        0.        ],\n",
       "       [0.33333333, 0.33333333, 0.33333333, 0.33333333, 0.33333333,\n",
       "        0.33333333]])"
      ]
     },
     "execution_count": 10,
     "metadata": {},
     "output_type": "execute_result"
    }
   ],
   "source": [
    "a/3"
   ]
  },
  {
   "cell_type": "code",
   "execution_count": null,
   "id": "b320659a",
   "metadata": {},
   "outputs": [],
   "source": [
    "Q3.create an array and a matrix and show any three difference using puthon."
   ]
  },
  {
   "cell_type": "code",
   "execution_count": null,
   "id": "38b044f7",
   "metadata": {},
   "outputs": [],
   "source": []
  },
  {
   "cell_type": "code",
   "execution_count": null,
   "id": "55e3999a",
   "metadata": {},
   "outputs": [],
   "source": []
  },
  {
   "cell_type": "code",
   "execution_count": null,
   "id": "ca9384de",
   "metadata": {},
   "outputs": [],
   "source": []
  },
  {
   "cell_type": "code",
   "execution_count": null,
   "id": "65705a29",
   "metadata": {},
   "outputs": [],
   "source": [
    "Q4.create a random arary of int , of shape 5,6.find the max , mean ,std,var of that array."
   ]
  },
  {
   "cell_type": "code",
   "execution_count": 9,
   "id": "b1546aec",
   "metadata": {},
   "outputs": [],
   "source": [
    "from numpy import random  as rd"
   ]
  },
  {
   "cell_type": "code",
   "execution_count": 10,
   "id": "f39cd526",
   "metadata": {},
   "outputs": [
    {
     "data": {
      "text/plain": [
       "array([[0.54739883, 0.82097038, 0.7972211 , 0.42250527, 0.13868445,\n",
       "        0.34526646],\n",
       "       [0.68015443, 0.2417373 , 0.46405843, 0.02936253, 0.59583004,\n",
       "        0.73433383],\n",
       "       [0.01883513, 0.6668773 , 0.97886119, 0.72862586, 0.47430398,\n",
       "        0.11602073],\n",
       "       [0.90112708, 0.12774768, 0.80492186, 0.24413561, 0.17376217,\n",
       "        0.81529794],\n",
       "       [0.01324202, 0.32844358, 0.13030632, 0.44820297, 0.97922172,\n",
       "        0.79490768]])"
      ]
     },
     "execution_count": 10,
     "metadata": {},
     "output_type": "execute_result"
    }
   ],
   "source": [
    "rd.rand(5,6)"
   ]
  },
  {
   "cell_type": "code",
   "execution_count": 11,
   "id": "739640a7",
   "metadata": {},
   "outputs": [
    {
     "data": {
      "text/plain": [
       "9"
      ]
     },
     "execution_count": 11,
     "metadata": {},
     "output_type": "execute_result"
    }
   ],
   "source": [
    "a.max()"
   ]
  },
  {
   "cell_type": "code",
   "execution_count": 13,
   "id": "605fe78f",
   "metadata": {},
   "outputs": [
    {
     "data": {
      "text/plain": [
       "5.0"
      ]
     },
     "execution_count": 13,
     "metadata": {},
     "output_type": "execute_result"
    }
   ],
   "source": [
    "a.mean()"
   ]
  },
  {
   "cell_type": "code",
   "execution_count": 17,
   "id": "3b386bef",
   "metadata": {},
   "outputs": [
    {
     "data": {
      "text/plain": [
       "2.581988897471611"
      ]
     },
     "execution_count": 17,
     "metadata": {},
     "output_type": "execute_result"
    }
   ],
   "source": [
    "a.std()"
   ]
  },
  {
   "cell_type": "code",
   "execution_count": 16,
   "id": "5133011d",
   "metadata": {},
   "outputs": [
    {
     "data": {
      "text/plain": [
       "2.581988897471611"
      ]
     },
     "execution_count": 16,
     "metadata": {},
     "output_type": "execute_result"
    }
   ],
   "source": [
    "np.std(a)"
   ]
  },
  {
   "cell_type": "code",
   "execution_count": 18,
   "id": "500ce240",
   "metadata": {},
   "outputs": [
    {
     "data": {
      "text/plain": [
       "6.666666666666667"
      ]
     },
     "execution_count": 18,
     "metadata": {},
     "output_type": "execute_result"
    }
   ],
   "source": [
    "a.var()"
   ]
  },
  {
   "cell_type": "code",
   "execution_count": 20,
   "id": "dd247de1",
   "metadata": {},
   "outputs": [
    {
     "data": {
      "text/plain": [
       "6.666666666666667"
      ]
     },
     "execution_count": 20,
     "metadata": {},
     "output_type": "execute_result"
    }
   ],
   "source": [
    "np.var(a)"
   ]
  },
  {
   "cell_type": "code",
   "execution_count": null,
   "id": "d9e8babf",
   "metadata": {},
   "outputs": [],
   "source": []
  },
  {
   "cell_type": "code",
   "execution_count": null,
   "id": "774a615e",
   "metadata": {},
   "outputs": [],
   "source": [
    "Q5.using linspace creat an array betwwen 100 to 102,and that array should have 50 elements in it."
   ]
  },
  {
   "cell_type": "code",
   "execution_count": 3,
   "id": "faa81620",
   "metadata": {},
   "outputs": [
    {
     "data": {
      "text/plain": [
       "array([100.        , 100.04081633, 100.08163265, 100.12244898,\n",
       "       100.16326531, 100.20408163, 100.24489796, 100.28571429,\n",
       "       100.32653061, 100.36734694, 100.40816327, 100.44897959,\n",
       "       100.48979592, 100.53061224, 100.57142857, 100.6122449 ,\n",
       "       100.65306122, 100.69387755, 100.73469388, 100.7755102 ,\n",
       "       100.81632653, 100.85714286, 100.89795918, 100.93877551,\n",
       "       100.97959184, 101.02040816, 101.06122449, 101.10204082,\n",
       "       101.14285714, 101.18367347, 101.2244898 , 101.26530612,\n",
       "       101.30612245, 101.34693878, 101.3877551 , 101.42857143,\n",
       "       101.46938776, 101.51020408, 101.55102041, 101.59183673,\n",
       "       101.63265306, 101.67346939, 101.71428571, 101.75510204,\n",
       "       101.79591837, 101.83673469, 101.87755102, 101.91836735,\n",
       "       101.95918367, 102.        ])"
      ]
     },
     "execution_count": 3,
     "metadata": {},
     "output_type": "execute_result"
    }
   ],
   "source": [
    "np.linspace(100,102,50)"
   ]
  },
  {
   "cell_type": "code",
   "execution_count": null,
   "id": "563b21b4",
   "metadata": {},
   "outputs": [],
   "source": []
  },
  {
   "cell_type": "code",
   "execution_count": null,
   "id": "f83d9bc9",
   "metadata": {},
   "outputs": [],
   "source": [
    "Q6.what is the diffence between arange and range,show it using python code."
   ]
  },
  {
   "cell_type": "code",
   "execution_count": null,
   "id": "d52cb71b",
   "metadata": {},
   "outputs": [],
   "source": [
    "np.arrange()"
   ]
  },
  {
   "cell_type": "code",
   "execution_count": null,
   "id": "3f1750a0",
   "metadata": {},
   "outputs": [],
   "source": []
  },
  {
   "cell_type": "code",
   "execution_count": null,
   "id": "a41e2535",
   "metadata": {},
   "outputs": [],
   "source": [
    "Q7.create an array of 3,3, but the values of the array should be between 0to1."
   ]
  },
  {
   "cell_type": "code",
   "execution_count": 5,
   "id": "963194da",
   "metadata": {},
   "outputs": [
    {
     "data": {
      "text/plain": [
       "array([[1., 0., 0.],\n",
       "       [1., 1., 0.],\n",
       "       [1., 1., 1.]])"
      ]
     },
     "execution_count": 5,
     "metadata": {},
     "output_type": "execute_result"
    }
   ],
   "source": [
    "np.tri(3)"
   ]
  },
  {
   "cell_type": "code",
   "execution_count": null,
   "id": "e814cf13",
   "metadata": {},
   "outputs": [],
   "source": []
  },
  {
   "cell_type": "code",
   "execution_count": null,
   "id": "e03ae5e7",
   "metadata": {},
   "outputs": [],
   "source": [
    "Q8.create an array of shape (3,4)the values in the array should be between 10 to 50 .\n",
    "then filter out the values which are greater 20 but less than 50."
   ]
  },
  {
   "cell_type": "code",
   "execution_count": 13,
   "id": "50746bf0",
   "metadata": {},
   "outputs": [],
   "source": [
    "tom=np.array([[[[10,20,30],[40,50,22],[32,31,24],[12,34,45]]]])\n"
   ]
  },
  {
   "cell_type": "code",
   "execution_count": 14,
   "id": "6f3b6fba",
   "metadata": {},
   "outputs": [
    {
     "data": {
      "text/plain": [
       "array([[[[10, 20, 30],\n",
       "         [40, 50, 22],\n",
       "         [32, 31, 24],\n",
       "         [12, 34, 45]]]])"
      ]
     },
     "execution_count": 14,
     "metadata": {},
     "output_type": "execute_result"
    }
   ],
   "source": [
    "tom"
   ]
  },
  {
   "cell_type": "code",
   "execution_count": 17,
   "id": "4ebdd8fc",
   "metadata": {},
   "outputs": [
    {
     "data": {
      "text/plain": [
       "(array([30, 40, 50, 22, 32, 31, 24, 34, 45]), 'greater')"
      ]
     },
     "execution_count": 17,
     "metadata": {},
     "output_type": "execute_result"
    }
   ],
   "source": [
    "tom[tom>20],\"greater\""
   ]
  },
  {
   "cell_type": "code",
   "execution_count": 18,
   "id": "6737b1e7",
   "metadata": {},
   "outputs": [
    {
     "data": {
      "text/plain": [
       "(array([10, 20, 30, 40, 22, 32, 31, 24, 12, 34, 45]), 'lower')"
      ]
     },
     "execution_count": 18,
     "metadata": {},
     "output_type": "execute_result"
    }
   ],
   "source": [
    "tom[tom<50],\"lower\""
   ]
  },
  {
   "cell_type": "code",
   "execution_count": null,
   "id": "5f4fed6b",
   "metadata": {},
   "outputs": [],
   "source": [
    "Q9.using python prove that a.a-1 = identity array"
   ]
  },
  {
   "cell_type": "code",
   "execution_count": null,
   "id": "c9ebbff2",
   "metadata": {},
   "outputs": [],
   "source": []
  },
  {
   "cell_type": "code",
   "execution_count": null,
   "id": "568df39d",
   "metadata": {},
   "outputs": [],
   "source": [
    "Q10.wap to label a number even or odd in the range of 100,400.provide each digit"
   ]
  },
  {
   "cell_type": "code",
   "execution_count": null,
   "id": "5bd09fe5",
   "metadata": {},
   "outputs": [],
   "source": []
  },
  {
   "cell_type": "code",
   "execution_count": 2,
   "id": "a1ab3ef4",
   "metadata": {},
   "outputs": [
    {
     "name": "stdout",
     "output_type": "stream",
     "text": [
      "1\n",
      "[2, 3, 4, 5, 6, 7]\n",
      "2\n",
      "[3, 4, 5, 6, 7]\n",
      "3\n",
      "[4, 5, 6, 7]\n",
      "4\n",
      "[5, 6, 7]\n",
      "5\n",
      "[6, 7]\n",
      "6\n",
      "[7]\n"
     ]
    }
   ],
   "source": [
    "l = [1,2,3,4,5,6,7]\n",
    "n =len(l)\n",
    "while n-1:\n",
    "    a = int(input())\n",
    "    for i in l:\n",
    "        if i ==a:\n",
    "            l.remove(a)\n",
    "            print(l)\n",
    "            n-=1"
   ]
  },
  {
   "cell_type": "code",
   "execution_count": 7,
   "id": "ccc3719a",
   "metadata": {},
   "outputs": [],
   "source": [
    "import numpy as np"
   ]
  },
  {
   "cell_type": "code",
   "execution_count": 8,
   "id": "adcb8df7",
   "metadata": {},
   "outputs": [
    {
     "data": {
      "text/plain": [
       "array([1, 2, 3, 3, 4, 5, 6, 7, 8, 9])"
      ]
     },
     "execution_count": 8,
     "metadata": {},
     "output_type": "execute_result"
    }
   ],
   "source": [
    "arr = np.array([1,2,3,3,4,5,6,7,8,9])\n",
    "arr"
   ]
  },
  {
   "cell_type": "code",
   "execution_count": 9,
   "id": "9f130493",
   "metadata": {},
   "outputs": [
    {
     "ename": "ValueError",
     "evalue": "invalid literal for int() with base 10: 'odd'",
     "output_type": "error",
     "traceback": [
      "\u001b[1;31m---------------------------------------------------------------------------\u001b[0m",
      "\u001b[1;31mValueError\u001b[0m                                Traceback (most recent call last)",
      "\u001b[1;32mC:\\Users\\GOURAV~1\\AppData\\Local\\Temp/ipykernel_1012/3805383557.py\u001b[0m in \u001b[0;36m<module>\u001b[1;34m\u001b[0m\n\u001b[0;32m      3\u001b[0m         \u001b[0marr\u001b[0m\u001b[1;33m[\u001b[0m\u001b[0mi\u001b[0m\u001b[1;33m]\u001b[0m\u001b[1;33m=\u001b[0m\u001b[1;34m\"even\"\u001b[0m\u001b[1;33m\u001b[0m\u001b[1;33m\u001b[0m\u001b[0m\n\u001b[0;32m      4\u001b[0m     \u001b[1;32melse\u001b[0m\u001b[1;33m:\u001b[0m\u001b[1;33m\u001b[0m\u001b[1;33m\u001b[0m\u001b[0m\n\u001b[1;32m----> 5\u001b[1;33m         \u001b[0marr\u001b[0m\u001b[1;33m[\u001b[0m\u001b[0mi\u001b[0m\u001b[1;33m]\u001b[0m\u001b[1;33m=\u001b[0m\u001b[1;34m\"odd\"\u001b[0m\u001b[1;33m\u001b[0m\u001b[1;33m\u001b[0m\u001b[0m\n\u001b[0m\u001b[0;32m      6\u001b[0m \u001b[0mprint\u001b[0m\u001b[1;33m(\u001b[0m\u001b[0marr\u001b[0m\u001b[1;33m)\u001b[0m\u001b[1;33m\u001b[0m\u001b[1;33m\u001b[0m\u001b[0m\n",
      "\u001b[1;31mValueError\u001b[0m: invalid literal for int() with base 10: 'odd'"
     ]
    }
   ],
   "source": [
    "for i in range(len(arr)):\n",
    "    if arr[i]%2==0:\n",
    "        arr[i]=\"even\"\n",
    "    else:\n",
    "        arr[i]=\"odd\"\n",
    "print(arr)"
   ]
  }
 ],
 "metadata": {
  "kernelspec": {
   "display_name": "Python 3 (ipykernel)",
   "language": "python",
   "name": "python3"
  },
  "language_info": {
   "codemirror_mode": {
    "name": "ipython",
    "version": 3
   },
   "file_extension": ".py",
   "mimetype": "text/x-python",
   "name": "python",
   "nbconvert_exporter": "python",
   "pygments_lexer": "ipython3",
   "version": "3.9.7"
  }
 },
 "nbformat": 4,
 "nbformat_minor": 5
}
