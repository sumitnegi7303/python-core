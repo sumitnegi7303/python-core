{
 "cells": [
  {
   "cell_type": "code",
   "execution_count": null,
   "id": "81689dc8",
   "metadata": {},
   "outputs": [],
   "source": [
    "# import the necessary packages\n",
    "import numpy as np\n",
    "import pandas as pd\n",
    "from sklearn.model_selection import train_test_split\n",
    "from sklearn.tree import DecisionTreeClassifier\n",
    "from sklearn.metrics importaccuracy_score\n",
    "from sklearn import tree\n",
    "\n",
    "# Loading data file\n",
    "fullFileName = (\"\")\n",
    "balance_data=pd.read_csv(fullFileName,sep = ',', header = 0)"
   ]
  },
  {
   "cell_type": "code",
   "execution_count": null,
   "id": "72027646",
   "metadata": {},
   "outputs": [],
   "source": [
    "print(\"Dataset Length::\", len(balance_data))\n",
    "print(\"Dataset shape::\", balance_data.shape)"
   ]
  },
  {
   "cell_type": "code",
   "execution_count": null,
   "id": "e5cf1c93",
   "metadata": {},
   "outputs": [],
   "source": [
    "print(\"Dataset:: \")\n",
    "balance_data.head()"
   ]
  },
  {
   "cell_type": "code",
   "execution_count": null,
   "id": "b1584361",
   "metadata": {},
   "outputs": [],
   "source": [
    "#Seprating Target variable\n",
    "X = balance_data.values[:, 1:5]\n",
    "y = balance_data.value[:, 0]\n",
    "#Spliting Dataset into Test and Train\n",
    "X_train, X_test, y_train, y_test = train_test_split(X, y, test_size = 0.3, random_state = 100)\n",
    "# Function to perform training with Entropy\n",
    "clf_entropy = DecisionTreeClassifier(criterion = \"entropy\", random_state = 100,\n",
    "max_depth=3, min_samples_leaf=5)\n",
    "clf_entropy.fit(X_train, y_train)"
   ]
  },
  {
   "cell_type": "code",
   "execution_count": null,
   "id": "63039091",
   "metadata": {},
   "outputs": [],
   "source": [
    "# Function to make predictions\n",
    "y_pred_en = clf_entropy.predict(X_test)\n",
    "print(y_pred_en)"
   ]
  },
  {
   "cell_type": "code",
   "execution_count": null,
   "id": "60f02b89",
   "metadata": {},
   "outputs": [],
   "source": [
    "#Checking Accuracy\n",
    "print(\"Accuracy is \", accuracy_score(y_test,y_pred_en)*100)"
   ]
  },
  {
   "cell_type": "code",
   "execution_count": null,
   "id": "7a4743bf",
   "metadata": {},
   "outputs": [],
   "source": []
  },
  {
   "cell_type": "code",
   "execution_count": null,
   "id": "0e977b39",
   "metadata": {},
   "outputs": [],
   "source": []
  },
  {
   "cell_type": "code",
   "execution_count": null,
   "id": "8da32de5",
   "metadata": {},
   "outputs": [],
   "source": [
    "#Checking Accuracy\n",
    "print(\"Accuracy is \", accuracy_score(y_test))"
   ]
  }
 ],
 "metadata": {
  "kernelspec": {
   "display_name": "Python 3 (ipykernel)",
   "language": "python",
   "name": "python3"
  },
  "language_info": {
   "codemirror_mode": {
    "name": "ipython",
    "version": 3
   },
   "file_extension": ".py",
   "mimetype": "text/x-python",
   "name": "python",
   "nbconvert_exporter": "python",
   "pygments_lexer": "ipython3",
   "version": "3.9.7"
  }
 },
 "nbformat": 4,
 "nbformat_minor": 5
}
