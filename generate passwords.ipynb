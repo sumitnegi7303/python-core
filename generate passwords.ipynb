{
 "cells": [
  {
   "cell_type": "code",
   "execution_count": 1,
   "id": "37b87d1e",
   "metadata": {},
   "outputs": [
    {
     "name": "stdout",
     "output_type": "stream",
     "text": [
      "&}_(@4}oDR/C!`raKM\n"
     ]
    }
   ],
   "source": [
    "import secrets\n",
    "import string as s\n",
    "length = secrets.choice(range(18,21))\n",
    "symbols = s.ascii_letters + s.digits + s.punctuation\n",
    "password = \"\".join(secrets.choice(symbols)for i in range(length))\n",
    "print(password)"
   ]
  },
  {
   "cell_type": "code",
   "execution_count": 2,
   "id": "806c4336",
   "metadata": {},
   "outputs": [
    {
     "name": "stdout",
     "output_type": "stream",
     "text": [
      "~;hz?Am_7E&j\"y3hxC:Y\n"
     ]
    }
   ],
   "source": [
    "import secrets\n",
    "import string as s \n",
    "lenght = secrets.choice(range(18,21))\n",
    "symbols = s.ascii_letters + s.digits + s.punctuation\n",
    "passwords = \"\".join(secrets.choice(symbols)for i in range(lenght))\n",
    "print(passwords)"
   ]
  },
  {
   "cell_type": "code",
   "execution_count": 6,
   "id": "acda34c4",
   "metadata": {},
   "outputs": [
    {
     "name": "stdout",
     "output_type": "stream",
     "text": [
      "C@v=}$auv`jq;\"J47Jc\n"
     ]
    }
   ],
   "source": [
    "import secrets \n",
    "import string as s\n",
    "length = secrets.choice(range(18,21))\n",
    "symbols = s.ascii_letters + s.digits + s.punctuation\n",
    "passwords = \"\".join(secrets.choice(symbols)for i in range(length))\n",
    "print(passwords)"
   ]
  },
  {
   "cell_type": "code",
   "execution_count": 7,
   "id": "7a549888",
   "metadata": {},
   "outputs": [
    {
     "name": "stdout",
     "output_type": "stream",
     "text": [
      "NB_dS&\\Qp*9-R9qb.ui|\n"
     ]
    }
   ],
   "source": [
    "import secrets\n",
    "import string as s\n",
    "length = secrets.choice(range(18,21))\n",
    "symbols = s.ascii_letters + s.digits + s.punctuation\n",
    "passwords = \"\".join(secrets.choice(symbols)for i in range(length))\n",
    "print(passwords)"
   ]
  }
 ],
 "metadata": {
  "kernelspec": {
   "display_name": "Python 3 (ipykernel)",
   "language": "python",
   "name": "python3"
  },
  "language_info": {
   "codemirror_mode": {
    "name": "ipython",
    "version": 3
   },
   "file_extension": ".py",
   "mimetype": "text/x-python",
   "name": "python",
   "nbconvert_exporter": "python",
   "pygments_lexer": "ipython3",
   "version": "3.9.7"
  }
 },
 "nbformat": 4,
 "nbformat_minor": 5
}
