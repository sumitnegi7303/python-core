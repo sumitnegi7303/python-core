{
 "cells": [
  {
   "cell_type": "code",
   "execution_count": null,
   "id": "b6be19ee",
   "metadata": {},
   "outputs": [],
   "source": [
    "#Dictionery :\n",
    "     it is container object which holds elements in form of key :value pair and it is denoted\n",
    "        by curly brackets."
   ]
  },
  {
   "cell_type": "code",
   "execution_count": 1,
   "id": "63422d70",
   "metadata": {},
   "outputs": [
    {
     "data": {
      "text/plain": [
       "dict"
      ]
     },
     "execution_count": 1,
     "metadata": {},
     "output_type": "execute_result"
    }
   ],
   "source": [
    "d = {}\n",
    "type (d)"
   ]
  },
  {
   "cell_type": "code",
   "execution_count": 2,
   "id": "8eabd07b",
   "metadata": {},
   "outputs": [
    {
     "data": {
      "text/plain": [
       "{1: 'one', 2: 'two'}"
      ]
     },
     "execution_count": 2,
     "metadata": {},
     "output_type": "execute_result"
    }
   ],
   "source": [
    "d[1] = \"one\"\n",
    "d[2] = \"two\"\n",
    "d"
   ]
  },
  {
   "cell_type": "code",
   "execution_count": 3,
   "id": "484ed9de",
   "metadata": {},
   "outputs": [
    {
     "data": {
      "text/plain": [
       "{1: [1, 2, 3], 'aman': 'sing', 3: True, 5: (12, 14, 16)}"
      ]
     },
     "execution_count": 3,
     "metadata": {},
     "output_type": "execute_result"
    }
   ],
   "source": [
    "d1 = {1:[1,2,3],\"aman\":\"sing\",3:True,5:(12,14,16)}\n",
    "d1"
   ]
  },
  {
   "cell_type": "code",
   "execution_count": 4,
   "id": "636c9e33",
   "metadata": {},
   "outputs": [
    {
     "data": {
      "text/plain": [
       "'sing'"
      ]
     },
     "execution_count": 4,
     "metadata": {},
     "output_type": "execute_result"
    }
   ],
   "source": [
    "d1[\"aman\"]"
   ]
  },
  {
   "cell_type": "code",
   "execution_count": 5,
   "id": "4a6452e9",
   "metadata": {},
   "outputs": [
    {
     "data": {
      "text/plain": [
       "(12, 14, 16)"
      ]
     },
     "execution_count": 5,
     "metadata": {},
     "output_type": "execute_result"
    }
   ],
   "source": [
    "d1[5]"
   ]
  },
  {
   "cell_type": "code",
   "execution_count": 6,
   "id": "4e3c6ec3",
   "metadata": {},
   "outputs": [
    {
     "data": {
      "text/plain": [
       "(14, 16)"
      ]
     },
     "execution_count": 6,
     "metadata": {},
     "output_type": "execute_result"
    }
   ],
   "source": [
    "d1[5][1:]"
   ]
  },
  {
   "cell_type": "code",
   "execution_count": 7,
   "id": "87e5bef0",
   "metadata": {},
   "outputs": [
    {
     "data": {
      "text/plain": [
       "dict_keys([1, 'aman', 3, 5])"
      ]
     },
     "execution_count": 7,
     "metadata": {},
     "output_type": "execute_result"
    }
   ],
   "source": [
    "d1.keys()"
   ]
  },
  {
   "cell_type": "code",
   "execution_count": 8,
   "id": "55b444e7",
   "metadata": {},
   "outputs": [
    {
     "data": {
      "text/plain": [
       "dict_values([[1, 2, 3], 'sing', True, (12, 14, 16)])"
      ]
     },
     "execution_count": 8,
     "metadata": {},
     "output_type": "execute_result"
    }
   ],
   "source": [
    "d1.values()"
   ]
  },
  {
   "cell_type": "code",
   "execution_count": 9,
   "id": "8c3d92a0",
   "metadata": {},
   "outputs": [
    {
     "data": {
      "text/plain": [
       "dict_items([(1, [1, 2, 3]), ('aman', 'sing'), (3, True), (5, (12, 14, 16))])"
      ]
     },
     "execution_count": 9,
     "metadata": {},
     "output_type": "execute_result"
    }
   ],
   "source": [
    "d1.items()"
   ]
  },
  {
   "cell_type": "code",
   "execution_count": 10,
   "id": "a9c753a4",
   "metadata": {},
   "outputs": [
    {
     "name": "stdout",
     "output_type": "stream",
     "text": [
      "1\n",
      "aman\n",
      "3\n",
      "5\n"
     ]
    }
   ],
   "source": [
    "for i in d1:\n",
    "    print(i)"
   ]
  },
  {
   "cell_type": "code",
   "execution_count": 12,
   "id": "6719a489",
   "metadata": {},
   "outputs": [
    {
     "name": "stdout",
     "output_type": "stream",
     "text": [
      "1 : [1, 2, 3]\n",
      "aman : sing\n",
      "3 : True\n",
      "5 : (12, 14, 16)\n"
     ]
    }
   ],
   "source": [
    "for i,j in d1.items():\n",
    "    print(i,\":\",j)"
   ]
  },
  {
   "cell_type": "code",
   "execution_count": 25,
   "id": "d163b7ef",
   "metadata": {},
   "outputs": [
    {
     "name": "stdout",
     "output_type": "stream",
     "text": [
      "golu : young\n",
      "molu : old\n",
      "ela : young\n",
      "bholu : old\n",
      "jenny : young\n",
      "zayn : old\n"
     ]
    }
   ],
   "source": [
    "age = {\"golu\":34,\"molu\":44,\"ela\":23,\"bholu\":56,\"jenny\":26,\"zayn\":67}\n",
    "for i,j in age.items():\n",
    "    if j>40:\n",
    "        print(i,\":\",\"old\")\n",
    "    else:\n",
    "        print(i,\":\",\"young\")"
   ]
  },
  {
   "cell_type": "code",
   "execution_count": 29,
   "id": "70c8b8a5",
   "metadata": {},
   "outputs": [
    {
     "data": {
      "text/plain": [
       "{1: 'old', 2: 'old', 3: 'old'}"
      ]
     },
     "execution_count": 29,
     "metadata": {},
     "output_type": "execute_result"
    }
   ],
   "source": [
    "d1.fromkeys([1,2,3],\"old\")"
   ]
  },
  {
   "cell_type": "code",
   "execution_count": 31,
   "id": "75edbfe7",
   "metadata": {},
   "outputs": [
    {
     "data": {
      "text/plain": [
       "{1: [3, 4, 5], 2: [3, 4, 5], 3: [3, 4, 5]}"
      ]
     },
     "execution_count": 31,
     "metadata": {},
     "output_type": "execute_result"
    }
   ],
   "source": [
    "d1.fromkeys([1,2,3],[3,4,5])"
   ]
  },
  {
   "cell_type": "code",
   "execution_count": 32,
   "id": "bfb35bff",
   "metadata": {},
   "outputs": [],
   "source": [
    "d1[2] = \"aman singh\""
   ]
  },
  {
   "cell_type": "code",
   "execution_count": 33,
   "id": "1b183080",
   "metadata": {},
   "outputs": [],
   "source": [
    "d1[2] = [1,2,3,4,5]"
   ]
  },
  {
   "cell_type": "code",
   "execution_count": 34,
   "id": "29be35cf",
   "metadata": {},
   "outputs": [
    {
     "data": {
      "text/plain": [
       "{1: [1, 2, 3], 'aman': 'sing', 3: True, 5: (12, 14, 16), 2: [1, 2, 3, 4, 5]}"
      ]
     },
     "execution_count": 34,
     "metadata": {},
     "output_type": "execute_result"
    }
   ],
   "source": [
    "d1"
   ]
  },
  {
   "cell_type": "code",
   "execution_count": 35,
   "id": "3ab424e4",
   "metadata": {},
   "outputs": [
    {
     "data": {
      "text/plain": [
       "'sing'"
      ]
     },
     "execution_count": 35,
     "metadata": {},
     "output_type": "execute_result"
    }
   ],
   "source": [
    "d1.get(\"aman\")"
   ]
  },
  {
   "cell_type": "code",
   "execution_count": 36,
   "id": "9c071d09",
   "metadata": {},
   "outputs": [
    {
     "data": {
      "text/plain": [
       "'sing'"
      ]
     },
     "execution_count": 36,
     "metadata": {},
     "output_type": "execute_result"
    }
   ],
   "source": [
    "d1.pop(\"aman\")"
   ]
  },
  {
   "cell_type": "code",
   "execution_count": 37,
   "id": "25356004",
   "metadata": {},
   "outputs": [
    {
     "data": {
      "text/plain": [
       "{1: [1, 2, 3], 3: True, 5: (12, 14, 16), 2: [1, 2, 3, 4, 5]}"
      ]
     },
     "execution_count": 37,
     "metadata": {},
     "output_type": "execute_result"
    }
   ],
   "source": [
    "d1"
   ]
  },
  {
   "cell_type": "code",
   "execution_count": 38,
   "id": "8c6d25df",
   "metadata": {},
   "outputs": [
    {
     "data": {
      "text/plain": [
       "(2, [1, 2, 3, 4, 5])"
      ]
     },
     "execution_count": 38,
     "metadata": {},
     "output_type": "execute_result"
    }
   ],
   "source": [
    "d1.popitem()"
   ]
  },
  {
   "cell_type": "code",
   "execution_count": 39,
   "id": "ead1014b",
   "metadata": {},
   "outputs": [
    {
     "data": {
      "text/plain": [
       "(12, 14, 16)"
      ]
     },
     "execution_count": 39,
     "metadata": {},
     "output_type": "execute_result"
    }
   ],
   "source": [
    "d1.setdefault(5)"
   ]
  },
  {
   "cell_type": "code",
   "execution_count": 40,
   "id": "1bb99751",
   "metadata": {},
   "outputs": [],
   "source": [
    "d1.setdefault(6)"
   ]
  },
  {
   "cell_type": "code",
   "execution_count": 41,
   "id": "cdcb0fc4",
   "metadata": {},
   "outputs": [
    {
     "data": {
      "text/plain": [
       "{1: [1, 2, 3], 3: True, 5: (12, 14, 16), 6: None}"
      ]
     },
     "execution_count": 41,
     "metadata": {},
     "output_type": "execute_result"
    }
   ],
   "source": [
    "d1"
   ]
  },
  {
   "cell_type": "code",
   "execution_count": 42,
   "id": "9f41dd58",
   "metadata": {},
   "outputs": [
    {
     "data": {
      "text/plain": [
       "{1: [1, 2, 3], 3: True, 5: 12, 6: None, 4: 'try', 7: 45}"
      ]
     },
     "execution_count": 42,
     "metadata": {},
     "output_type": "execute_result"
    }
   ],
   "source": [
    "d2 = {4:\"try\",5:12,7:45}\n",
    "d1.update(d2)\n",
    "d1"
   ]
  },
  {
   "cell_type": "code",
   "execution_count": null,
   "id": "97a1cf7b",
   "metadata": {},
   "outputs": [],
   "source": [
    "wap take a dictionary , and the first key : value pair has to be integer \n",
    "    then subtract 120 from the value , if it is positive difference , multiply \n",
    "    it with 2 , if it is negative differnence square the value and replace it with the existing valueb"
   ]
  },
  {
   "cell_type": "code",
   "execution_count": 46,
   "id": "33c7fe8c",
   "metadata": {},
   "outputs": [
    {
     "data": {
      "text/plain": [
       "{1: 6672}"
      ]
     },
     "execution_count": 46,
     "metadata": {},
     "output_type": "execute_result"
    }
   ],
   "source": [
    "d = {1:3456}\n",
    "x = d[1]-120\n",
    "x = x*2\n",
    "d[1] = x\n",
    "d"
   ]
  },
  {
   "cell_type": "code",
   "execution_count": 48,
   "id": "0a363c5f",
   "metadata": {},
   "outputs": [],
   "source": [
    "d = {\"key\":{\"nesgedkey\":{\"subnestkey\":\"value\"}}}"
   ]
  },
  {
   "cell_type": "code",
   "execution_count": 49,
   "id": "8bb0e50c",
   "metadata": {},
   "outputs": [
    {
     "data": {
      "text/plain": [
       "5"
      ]
     },
     "execution_count": 49,
     "metadata": {},
     "output_type": "execute_result"
    }
   ],
   "source": [
    "len(d[\"key\"][\"nesgedkey\"][\"subnestkey\"])"
   ]
  }
 ],
 "metadata": {
  "kernelspec": {
   "display_name": "Python 3 (ipykernel)",
   "language": "python",
   "name": "python3"
  },
  "language_info": {
   "codemirror_mode": {
    "name": "ipython",
    "version": 3
   },
   "file_extension": ".py",
   "mimetype": "text/x-python",
   "name": "python",
   "nbconvert_exporter": "python",
   "pygments_lexer": "ipython3",
   "version": "3.9.7"
  }
 },
 "nbformat": 4,
 "nbformat_minor": 5
}
