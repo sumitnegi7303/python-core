{
 "cells": [
  {
   "cell_type": "code",
   "execution_count": 4,
   "id": "12faeb41",
   "metadata": {},
   "outputs": [
    {
     "name": "stdout",
     "output_type": "stream",
     "text": [
      "Least common multple is:40.0\n"
     ]
    }
   ],
   "source": [
    "def gcd(a, b):\n",
    "    if a ==0:\n",
    "        return b \n",
    "    elif b == 0:\n",
    "        return a\n",
    "    elif a > b :\n",
    "        return gcd(a - b, b)\n",
    "    else:\n",
    "        return gcd(a, b - a)\n",
    "    \n",
    "def lcm(a, b ):\n",
    "    return a * b / gcd(a, b)\n",
    "\n",
    "a,b = 20 , 8\n",
    "\n",
    "print(\"Least common multple is:\" + str(lcm(a, b )))"
   ]
  }
 ],
 "metadata": {
  "kernelspec": {
   "display_name": "Python 3 (ipykernel)",
   "language": "python",
   "name": "python3"
  },
  "language_info": {
   "codemirror_mode": {
    "name": "ipython",
    "version": 3
   },
   "file_extension": ".py",
   "mimetype": "text/x-python",
   "name": "python",
   "nbconvert_exporter": "python",
   "pygments_lexer": "ipython3",
   "version": "3.9.7"
  }
 },
 "nbformat": 4,
 "nbformat_minor": 5
}
