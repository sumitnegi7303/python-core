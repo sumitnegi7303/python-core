{
 "cells": [
  {
   "cell_type": "code",
   "execution_count": null,
   "id": "bc7abcae",
   "metadata": {},
   "outputs": [],
   "source": [
    "27. Define a function that can convert a integer into a string and print it in console. \n",
    "Hints: Use str() to convert a number to string. "
   ]
  },
  {
   "cell_type": "code",
   "execution_count": 2,
   "id": "2d744081",
   "metadata": {},
   "outputs": [
    {
     "name": "stdout",
     "output_type": "stream",
     "text": [
      "Data type of \"num\" before conversion: <class 'int'>\n",
      "Data type of \"num\" after conversion: <class 'str'>\n"
     ]
    }
   ],
   "source": [
    "num = 5\n",
    "\n",
    "# Checking the data type of variable \"num\"\n",
    "print('Data type of \"num\" before conversion:', type(num))\n",
    "\n",
    "# Converting \"num\" from an integer to a string\n",
    "converted_num = str(num)\n",
    "\n",
    "# Checking the data of variable \"num\" after int to string conversion\n",
    "print('Data type of \"num\" after conversion:', type(converted_num))"
   ]
  }
 ],
 "metadata": {
  "kernelspec": {
   "display_name": "Python 3 (ipykernel)",
   "language": "python",
   "name": "python3"
  },
  "language_info": {
   "codemirror_mode": {
    "name": "ipython",
    "version": 3
   },
   "file_extension": ".py",
   "mimetype": "text/x-python",
   "name": "python",
   "nbconvert_exporter": "python",
   "pygments_lexer": "ipython3",
   "version": "3.9.7"
  }
 },
 "nbformat": 4,
 "nbformat_minor": 5
}
