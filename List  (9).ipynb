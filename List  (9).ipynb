{
 "cells": [
  {
   "cell_type": "markdown",
   "id": "fc916def",
   "metadata": {},
   "source": [
    "# List\n",
    "is my mutable datatype  which is used to store the elements in a sequence manner. list always represents in square bracket["
   ]
  },
  {
   "cell_type": "code",
   "execution_count": null,
   "id": "8e3a2792",
   "metadata": {},
   "outputs": [],
   "source": [
    "# list are my sequece of character which are seperated by commas but i always represents OR identifies by square braces []. \n",
    "# The foremost thing about it  is mutable in nature."
   ]
  },
  {
   "cell_type": "code",
   "execution_count": 1,
   "id": "2c4e972e",
   "metadata": {},
   "outputs": [
    {
     "name": "stdout",
     "output_type": "stream",
     "text": [
      "9\n"
     ]
    }
   ],
   "source": [
    "li=['a','quick','brown','fox','jumps','over','the','lazy','dog']\n",
    "print(len(li))"
   ]
  },
  {
   "cell_type": "code",
   "execution_count": 3,
   "id": "5ef0140b",
   "metadata": {
    "scrolled": true
   },
   "outputs": [
    {
     "name": "stdout",
     "output_type": "stream",
     "text": [
      "['THE', 'quick', 'brown', 'fox', 'jumps', 'over', 'the', 'lazy', 'dog']\n"
     ]
    }
   ],
   "source": [
    "# Tuples afre immutable in nature\n",
    "li=['a','quick','brown','fox','jumps','over','the','lazy','dog']\n",
    "li[0]='THE'\n",
    "\n",
    "print(li)"
   ]
  },
  {
   "cell_type": "code",
   "execution_count": 111,
   "id": "a298d9a0",
   "metadata": {},
   "outputs": [
    {
     "name": "stdout",
     "output_type": "stream",
     "text": [
      "['a', 'jaldi', 'brown', 'fox', 'jumps', 'over', 'the', 'lazy', 'dog']\n"
     ]
    }
   ],
   "source": [
    "# mutability of list\n",
    "li[1]='jaldi'\n",
    "print(li)"
   ]
  },
  {
   "cell_type": "code",
   "execution_count": 114,
   "id": "2246e6df",
   "metadata": {},
   "outputs": [
    {
     "name": "stdout",
     "output_type": "stream",
     "text": [
      "[]\n"
     ]
    }
   ],
   "source": [
    "li=['a','quick','brown','fox','jumps','over','the','lazy','dog']\n",
    "# print(len(li))\n",
    "# print(li[5])\n",
    "# print(li[7])\n",
    "# print(li[0:4])\n",
    "# print(li[:21])\n",
    "# print(li[0:41])\n",
    "# print(li[0:])\n",
    "# print(li[100])\n",
    "# print(li[0:100])\n",
    "# print(li[0:42:2])\n",
    "# print(li[0:42:10])\n",
    "# print(li[0:42:100])\n",
    "# print(li[::])\n",
    "# print(li[0:41:1])\n",
    "# print(li[::1])\n",
    "# print(li[::2])\n",
    "# print(li[::50])\n",
    "print(li[19:5])\n"
   ]
  },
  {
   "cell_type": "code",
   "execution_count": 115,
   "id": "1afb8fee",
   "metadata": {},
   "outputs": [
    {
     "name": "stdout",
     "output_type": "stream",
     "text": [
      "['dog', 'fox']\n"
     ]
    }
   ],
   "source": [
    "li=['a','quick','brown','fox','jumps','over','the','lazy','dog']\n",
    "# print(li[19:-5])\n",
    "# print(li[-3])\n",
    "# print(li[-3:])\n",
    "# print(li[0:-3])\n",
    "# print(li[-3:-2])\n",
    "# print(li[-27:-24])\n",
    "# print(li[-3:-11])\n",
    "# print(li[14:17])\n",
    "# print(li[::-1])\n",
    "print(li[::-5])"
   ]
  },
  {
   "cell_type": "markdown",
   "id": "a807d94e",
   "metadata": {},
   "source": [
    "## List Functions"
   ]
  },
  {
   "cell_type": "code",
   "execution_count": 20,
   "id": "78e70579",
   "metadata": {},
   "outputs": [
    {
     "name": "stdout",
     "output_type": "stream",
     "text": [
      "7\n"
     ]
    }
   ],
   "source": [
    "l=[1,2,3,[4,5,6],7,8,9]\n",
    "print(len(l))"
   ]
  },
  {
   "cell_type": "code",
   "execution_count": 116,
   "id": "ced7ba43",
   "metadata": {},
   "outputs": [
    {
     "name": "stdout",
     "output_type": "stream",
     "text": [
      "1\n"
     ]
    }
   ],
   "source": [
    "l1=[[1,2,3,[4,5,6],7,8,9]]\n",
    "print(len(l1))"
   ]
  },
  {
   "cell_type": "code",
   "execution_count": 120,
   "id": "c8b5f283",
   "metadata": {},
   "outputs": [
    {
     "name": "stdout",
     "output_type": "stream",
     "text": [
      "['a', 'quick', 'brown', 'fox', 'jumps', 'over', 'the', 'lazy', 'dog']\n"
     ]
    }
   ],
   "source": [
    "# typecasting into list\n",
    "mystr='a quick brown fox jumps over the lazy dog'\n",
    "# print(len(mystr))\n",
    "# print(list(mystr))\n",
    "print(mystr.split(' '))\n",
    "# print(len(list(mystr)))"
   ]
  },
  {
   "cell_type": "code",
   "execution_count": 123,
   "id": "748deda0",
   "metadata": {},
   "outputs": [
    {
     "name": "stdout",
     "output_type": "stream",
     "text": [
      "6\n",
      "['a', ' ', 'm', ' ', 'a', 'n']\n",
      "6\n"
     ]
    }
   ],
   "source": [
    "u='a m an'\n",
    "print(len(u))\n",
    "print(list(u))\n",
    "print(len(list(u)))"
   ]
  },
  {
   "cell_type": "code",
   "execution_count": 127,
   "id": "38552893",
   "metadata": {},
   "outputs": [
    {
     "name": "stdout",
     "output_type": "stream",
     "text": [
      "4\n",
      "[1, 2, (3, 4), 5]\n",
      "4\n"
     ]
    }
   ],
   "source": [
    "tup=((1),2,(3,4),5)\n",
    "print(len(tup))\n",
    "print(list(tup))\n",
    "print(len(list(tup)))"
   ]
  },
  {
   "cell_type": "code",
   "execution_count": 28,
   "id": "f6651bed",
   "metadata": {},
   "outputs": [
    {
     "name": "stdout",
     "output_type": "stream",
     "text": [
      "3\n"
     ]
    }
   ],
   "source": [
    "# index\n",
    "li=['a','quick','brown','fox','jumps','over','the','lazy','dog']\n",
    "print(li.index('fox'))"
   ]
  },
  {
   "cell_type": "code",
   "execution_count": 8,
   "id": "a2d4ed61",
   "metadata": {},
   "outputs": [
    {
     "name": "stdout",
     "output_type": "stream",
     "text": [
      "[1, 2, 3, 1000]\n"
     ]
    }
   ],
   "source": [
    "j=[1,2,3]\n",
    "j.append(1000)\n",
    "print(j)"
   ]
  },
  {
   "cell_type": "code",
   "execution_count": 128,
   "id": "a86dc2c6",
   "metadata": {},
   "outputs": [
    {
     "name": "stdout",
     "output_type": "stream",
     "text": [
      "['a', 'quick', 'brown', 'fox', 'jumps', 'over', 'the', 'lazy', 'dog', 'house']\n"
     ]
    }
   ],
   "source": [
    "# append\n",
    "li=['a','quick','brown','fox','jumps','over','the','lazy','dog']\n",
    "li.append('house')\n",
    "print(li)"
   ]
  },
  {
   "cell_type": "code",
   "execution_count": 129,
   "id": "4423a428",
   "metadata": {},
   "outputs": [
    {
     "name": "stdout",
     "output_type": "stream",
     "text": [
      "[[1, 2, 3, [4, 5, 6], 7, 8, 9], 10]\n"
     ]
    }
   ],
   "source": [
    "l1=[[1,2,3,[4,5,6],7,8,9]]\n",
    "# print(len(l1))\n",
    "l1.append(10)\n",
    "print(l1)\n",
    "# print(len(l1))"
   ]
  },
  {
   "cell_type": "code",
   "execution_count": 130,
   "id": "b87801a9",
   "metadata": {},
   "outputs": [
    {
     "name": "stdout",
     "output_type": "stream",
     "text": [
      "[[1, 2, 3, [4, 5, 6], 7, 8, 9], 10, [11, 12, 13]]\n"
     ]
    }
   ],
   "source": [
    "l1.append([11,12,13])\n",
    "print(l1)\n",
    "# print(len(l1))"
   ]
  },
  {
   "cell_type": "code",
   "execution_count": 131,
   "id": "4afc0818",
   "metadata": {},
   "outputs": [
    {
     "name": "stdout",
     "output_type": "stream",
     "text": [
      "[[1, 2, 3, [4, 5, 6], 7, 8, 9], 10, [11, 12, 13], 14]\n"
     ]
    }
   ],
   "source": [
    "l1.extend([14])\n",
    "print(l1)"
   ]
  },
  {
   "cell_type": "code",
   "execution_count": 132,
   "id": "0c584192",
   "metadata": {},
   "outputs": [
    {
     "name": "stdout",
     "output_type": "stream",
     "text": [
      "[[1, 2, 3, [4, 5, 6], 7, 8, 9], 10, [11, 12, 13], 14, 15, 16, 17]\n"
     ]
    }
   ],
   "source": [
    "# extend\n",
    "l1.extend([15,16,17])\n",
    "print(l1)\n",
    "# print(len(l1))"
   ]
  },
  {
   "cell_type": "code",
   "execution_count": 133,
   "id": "9b1614c1",
   "metadata": {},
   "outputs": [
    {
     "name": "stdout",
     "output_type": "stream",
     "text": [
      "['a', 'quick', 'brown', 'fox', 'jumps', 'over', 'the', 'lazy', 'dog', 'house']\n"
     ]
    }
   ],
   "source": [
    "print(li)"
   ]
  },
  {
   "cell_type": "code",
   "execution_count": 134,
   "id": "bfd76408",
   "metadata": {},
   "outputs": [
    {
     "name": "stdout",
     "output_type": "stream",
     "text": [
      "['a', 'quick', 'brown', 'fox', 'jumps', 'over', 'the', 'lazy', 'dog', 'house', 'in']\n"
     ]
    }
   ],
   "source": [
    "li.extend(['in'])\n",
    "print(li)"
   ]
  },
  {
   "cell_type": "code",
   "execution_count": 135,
   "id": "5e0959e4",
   "metadata": {},
   "outputs": [
    {
     "name": "stdout",
     "output_type": "stream",
     "text": [
      "['a', 'quick', 'brown', 'fox', 'jumps', 'over', 'the', 'lazy', 'dog', 'house', 'in', 'the', 'evening']\n"
     ]
    }
   ],
   "source": [
    "li.extend(['the','evening'])\n",
    "print(li)"
   ]
  },
  {
   "cell_type": "code",
   "execution_count": 38,
   "id": "d946cd26",
   "metadata": {},
   "outputs": [
    {
     "name": "stdout",
     "output_type": "stream",
     "text": [
      "['a', 'quick', 'brown', 'fox', 'jumps', 'over', 'the', 'lazy', 'dog', 'house', 'in', 'the', 'evening', 'i', 'n']\n"
     ]
    }
   ],
   "source": [
    "li.extend('in')\n",
    "print(li)"
   ]
  },
  {
   "cell_type": "code",
   "execution_count": 13,
   "id": "241a6620",
   "metadata": {},
   "outputs": [
    {
     "name": "stdout",
     "output_type": "stream",
     "text": [
      "['a', 'quick', 'brown', 'fox', 'jumps', 'over', 'the', 'lazy', 'labra', 'dog', 'house', 'in', 'the', 'evening', 'i', 'n']\n"
     ]
    }
   ],
   "source": [
    "# # insert \n",
    "li.insert(8,'labra')\n",
    "print(li)"
   ]
  },
  {
   "cell_type": "code",
   "execution_count": 136,
   "id": "56cce89b",
   "metadata": {},
   "outputs": [],
   "source": [
    "L=['a','b','c']\n"
   ]
  },
  {
   "cell_type": "code",
   "execution_count": 137,
   "id": "f57cda80",
   "metadata": {},
   "outputs": [],
   "source": [
    "L.insert(1,'dee')"
   ]
  },
  {
   "cell_type": "code",
   "execution_count": 41,
   "id": "16f8a8cf",
   "metadata": {},
   "outputs": [
    {
     "name": "stdout",
     "output_type": "stream",
     "text": [
      "['a', 'dee', 'b', 'c']\n"
     ]
    }
   ],
   "source": [
    "print(L)"
   ]
  },
  {
   "cell_type": "code",
   "execution_count": 51,
   "id": "4e5079c4",
   "metadata": {},
   "outputs": [],
   "source": [
    "l2=[10,30,50,70,90]"
   ]
  },
  {
   "cell_type": "code",
   "execution_count": 52,
   "id": "ffb596a1",
   "metadata": {},
   "outputs": [
    {
     "name": "stdout",
     "output_type": "stream",
     "text": [
      "[10, 30, 50, 55, 70, 90]\n"
     ]
    }
   ],
   "source": [
    "l2.insert(3,55)\n",
    "print(l2)"
   ]
  },
  {
   "cell_type": "code",
   "execution_count": 53,
   "id": "227f21b1",
   "metadata": {},
   "outputs": [
    {
     "name": "stdout",
     "output_type": "stream",
     "text": [
      "[0, 10, 30, 50, 55, 70, 90]\n"
     ]
    }
   ],
   "source": [
    "l2.insert(-100,0)\n",
    "print(l2)"
   ]
  },
  {
   "cell_type": "code",
   "execution_count": 54,
   "id": "8abec48c",
   "metadata": {},
   "outputs": [
    {
     "name": "stdout",
     "output_type": "stream",
     "text": [
      "[0, 10, 30, 50, 55, 70, 90, 100]\n"
     ]
    }
   ],
   "source": [
    "l2.insert(100,100)\n",
    "print(l2)"
   ]
  },
  {
   "cell_type": "code",
   "execution_count": 139,
   "id": "c9bd204f",
   "metadata": {},
   "outputs": [],
   "source": [
    "k=[0, 10, 30, 50, 55, 70, 90, 100]"
   ]
  },
  {
   "cell_type": "code",
   "execution_count": 140,
   "id": "5fe94b15",
   "metadata": {},
   "outputs": [
    {
     "name": "stdout",
     "output_type": "stream",
     "text": [
      "[0, 10, 30, 55, 70, 90, 100]\n"
     ]
    }
   ],
   "source": [
    "k.pop(3)\n",
    "print(k)"
   ]
  },
  {
   "cell_type": "code",
   "execution_count": 141,
   "id": "2ff6b05e",
   "metadata": {},
   "outputs": [
    {
     "name": "stdout",
     "output_type": "stream",
     "text": [
      "90\n",
      "[0, 10, 30, 55, 70, 100]\n"
     ]
    }
   ],
   "source": [
    "print(k.pop(5))\n",
    "print(k)"
   ]
  },
  {
   "cell_type": "code",
   "execution_count": 142,
   "id": "f65bd55e",
   "metadata": {},
   "outputs": [
    {
     "name": "stdout",
     "output_type": "stream",
     "text": [
      "100\n",
      "[0, 10, 30, 55, 70]\n"
     ]
    }
   ],
   "source": [
    "print(k.pop())\n",
    "print(k)"
   ]
  },
  {
   "cell_type": "code",
   "execution_count": 26,
   "id": "3673a200",
   "metadata": {},
   "outputs": [
    {
     "name": "stdout",
     "output_type": "stream",
     "text": [
      "['a', 'quick', 'brown', 'fox', 'jumps', 'over', 'the', 'lazy', 'labra', 'dog', 'house', 'in', 'the', 'evening', 'in']\n"
     ]
    }
   ],
   "source": [
    "print(li)"
   ]
  },
  {
   "cell_type": "code",
   "execution_count": 49,
   "id": "bcde6262",
   "metadata": {},
   "outputs": [
    {
     "name": "stdout",
     "output_type": "stream",
     "text": [
      "in\n"
     ]
    }
   ],
   "source": [
    "print(li.pop(8))"
   ]
  },
  {
   "cell_type": "code",
   "execution_count": 50,
   "id": "60a9affe",
   "metadata": {},
   "outputs": [
    {
     "name": "stdout",
     "output_type": "stream",
     "text": [
      "['a', 'quick', 'brown', 'fox', 'jumps', 'over', 'the', 'lazy', 'the', 'evening', 'i', 'n']\n"
     ]
    }
   ],
   "source": [
    "print(li)"
   ]
  },
  {
   "cell_type": "code",
   "execution_count": 51,
   "id": "389db07c",
   "metadata": {},
   "outputs": [
    {
     "name": "stdout",
     "output_type": "stream",
     "text": [
      "n\n"
     ]
    }
   ],
   "source": [
    "print(li.pop())"
   ]
  },
  {
   "cell_type": "code",
   "execution_count": 32,
   "id": "92e9145c",
   "metadata": {},
   "outputs": [
    {
     "name": "stdout",
     "output_type": "stream",
     "text": [
      "['a', 'quick', 'brown', 'fox', 'jumps', 'over', 'the', 'lazy', 'dog', 'house', 'in', 'the']\n"
     ]
    }
   ],
   "source": [
    "print(li)"
   ]
  },
  {
   "cell_type": "code",
   "execution_count": 33,
   "id": "05b46267",
   "metadata": {},
   "outputs": [
    {
     "name": "stdout",
     "output_type": "stream",
     "text": [
      "[0, 10, 30, 50, 55, 70, 90, 100]\n"
     ]
    }
   ],
   "source": [
    "print(l2)"
   ]
  },
  {
   "cell_type": "code",
   "execution_count": 34,
   "id": "759c516b",
   "metadata": {},
   "outputs": [
    {
     "name": "stdout",
     "output_type": "stream",
     "text": [
      "0\n"
     ]
    }
   ],
   "source": [
    "#pop\n",
    "print(l2.pop(0))\n"
   ]
  },
  {
   "cell_type": "code",
   "execution_count": 35,
   "id": "0cc36d3c",
   "metadata": {},
   "outputs": [
    {
     "name": "stdout",
     "output_type": "stream",
     "text": [
      "[10, 30, 50, 55, 70, 90, 100]\n"
     ]
    }
   ],
   "source": [
    "print(l2)"
   ]
  },
  {
   "cell_type": "code",
   "execution_count": 36,
   "id": "af817c90",
   "metadata": {},
   "outputs": [
    {
     "name": "stdout",
     "output_type": "stream",
     "text": [
      "100\n",
      "[10, 30, 50, 55, 70, 90]\n"
     ]
    }
   ],
   "source": [
    "print(l2.pop())\n",
    "print(l2)"
   ]
  },
  {
   "cell_type": "code",
   "execution_count": 37,
   "id": "4d2adbf0",
   "metadata": {},
   "outputs": [
    {
     "name": "stdout",
     "output_type": "stream",
     "text": [
      "['a', 'quick', 'brown', 'fox', 'jumps', 'over', 'the', 'lazy', 'dog', 'house', 'in', 'the']\n"
     ]
    }
   ],
   "source": [
    "print(li)"
   ]
  },
  {
   "cell_type": "code",
   "execution_count": 52,
   "id": "f0aeef7f",
   "metadata": {},
   "outputs": [
    {
     "name": "stdout",
     "output_type": "stream",
     "text": [
      "['a', 'quick', 'brown', 'fox', 'jumps', 'over', 'the', 'lazy', 'the', 'evening', 'i']\n"
     ]
    }
   ],
   "source": [
    "# remove\n",
    "print(li)"
   ]
  },
  {
   "cell_type": "code",
   "execution_count": 53,
   "id": "d8efa2ae",
   "metadata": {},
   "outputs": [
    {
     "name": "stdout",
     "output_type": "stream",
     "text": [
      "['a', 'quick', 'fox', 'jumps', 'over', 'the', 'lazy', 'the', 'evening', 'i']\n"
     ]
    }
   ],
   "source": [
    "li.remove('brown')\n",
    "print(li)"
   ]
  },
  {
   "cell_type": "code",
   "execution_count": 54,
   "id": "16b03443",
   "metadata": {},
   "outputs": [],
   "source": [
    "del li[4]"
   ]
  },
  {
   "cell_type": "code",
   "execution_count": 55,
   "id": "7ac00c0f",
   "metadata": {},
   "outputs": [
    {
     "name": "stdout",
     "output_type": "stream",
     "text": [
      "['a', 'quick', 'fox', 'jumps', 'the', 'lazy', 'the', 'evening', 'i']\n"
     ]
    }
   ],
   "source": [
    "print(li)"
   ]
  },
  {
   "cell_type": "code",
   "execution_count": 56,
   "id": "165bfb4d",
   "metadata": {},
   "outputs": [],
   "source": [
    "del li"
   ]
  },
  {
   "cell_type": "code",
   "execution_count": 57,
   "id": "322dde6d",
   "metadata": {},
   "outputs": [
    {
     "ename": "NameError",
     "evalue": "name 'li' is not defined",
     "output_type": "error",
     "traceback": [
      "\u001b[1;31m---------------------------------------------------------------------------\u001b[0m",
      "\u001b[1;31mNameError\u001b[0m                                 Traceback (most recent call last)",
      "\u001b[1;32m<ipython-input-57-a6b754927a10>\u001b[0m in \u001b[0;36m<module>\u001b[1;34m\u001b[0m\n\u001b[1;32m----> 1\u001b[1;33m \u001b[0mprint\u001b[0m\u001b[1;33m(\u001b[0m\u001b[0mli\u001b[0m\u001b[1;33m)\u001b[0m\u001b[1;33m\u001b[0m\u001b[1;33m\u001b[0m\u001b[0m\n\u001b[0m",
      "\u001b[1;31mNameError\u001b[0m: name 'li' is not defined"
     ]
    }
   ],
   "source": [
    "print(li)"
   ]
  },
  {
   "cell_type": "code",
   "execution_count": 58,
   "id": "5ffb1416",
   "metadata": {},
   "outputs": [],
   "source": [
    "li=['a', 'quick', 'fox', 'jumps', 'the', 'lazy', 'the', 'evening', 'i']"
   ]
  },
  {
   "cell_type": "code",
   "execution_count": 59,
   "id": "b214a9ee",
   "metadata": {},
   "outputs": [
    {
     "name": "stdout",
     "output_type": "stream",
     "text": [
      "['a', 'quick', 'fox', 'jumps', 'the', 'lazy', 'the', 'evening', 'i']\n"
     ]
    }
   ],
   "source": [
    "print(li)"
   ]
  },
  {
   "cell_type": "code",
   "execution_count": 60,
   "id": "b071a9a9",
   "metadata": {},
   "outputs": [
    {
     "name": "stdout",
     "output_type": "stream",
     "text": [
      "[]\n"
     ]
    }
   ],
   "source": [
    "li.clear()\n",
    "print(li)"
   ]
  },
  {
   "cell_type": "code",
   "execution_count": 45,
   "id": "bd065109",
   "metadata": {},
   "outputs": [],
   "source": [
    "o=['quick', 'brown', 'fox','quick','quick']"
   ]
  },
  {
   "cell_type": "code",
   "execution_count": 48,
   "id": "ea0f0df9",
   "metadata": {},
   "outputs": [],
   "source": [
    "del o[1]\n"
   ]
  },
  {
   "cell_type": "code",
   "execution_count": 49,
   "id": "b0224b32",
   "metadata": {},
   "outputs": [
    {
     "name": "stdout",
     "output_type": "stream",
     "text": [
      "['quick', 'quick', 'quick']\n"
     ]
    }
   ],
   "source": [
    "print(o)"
   ]
  },
  {
   "cell_type": "code",
   "execution_count": 50,
   "id": "c668c81a",
   "metadata": {},
   "outputs": [],
   "source": [
    "del o"
   ]
  },
  {
   "cell_type": "code",
   "execution_count": null,
   "id": "2020a7a7",
   "metadata": {},
   "outputs": [],
   "source": []
  },
  {
   "cell_type": "code",
   "execution_count": 51,
   "id": "b0ab15e0",
   "metadata": {},
   "outputs": [
    {
     "ename": "NameError",
     "evalue": "name 'o' is not defined",
     "output_type": "error",
     "traceback": [
      "\u001b[1;31m---------------------------------------------------------------------------\u001b[0m",
      "\u001b[1;31mNameError\u001b[0m                                 Traceback (most recent call last)",
      "\u001b[1;32m<ipython-input-51-84b7bc3f9b45>\u001b[0m in \u001b[0;36m<module>\u001b[1;34m\u001b[0m\n\u001b[1;32m----> 1\u001b[1;33m \u001b[0mprint\u001b[0m\u001b[1;33m(\u001b[0m\u001b[0mo\u001b[0m\u001b[1;33m)\u001b[0m\u001b[1;33m\u001b[0m\u001b[1;33m\u001b[0m\u001b[0m\n\u001b[0m",
      "\u001b[1;31mNameError\u001b[0m: name 'o' is not defined"
     ]
    }
   ],
   "source": [
    "print(o)"
   ]
  },
  {
   "cell_type": "code",
   "execution_count": 78,
   "id": "4214b9bd",
   "metadata": {},
   "outputs": [],
   "source": [
    "a=[1,2,3,4,6,7]\n",
    "b=a# shallow copy"
   ]
  },
  {
   "cell_type": "code",
   "execution_count": 68,
   "id": "e4f0352e",
   "metadata": {},
   "outputs": [
    {
     "name": "stdout",
     "output_type": "stream",
     "text": [
      "[1, 2, 3, 4, 6, 7] 1638391834432\n",
      "[1, 2, 3, 4, 6, 7] 1638391834432\n"
     ]
    }
   ],
   "source": [
    "print(a,id(a))\n",
    "print(b,id(b))"
   ]
  },
  {
   "cell_type": "code",
   "execution_count": 69,
   "id": "fe7a1586",
   "metadata": {},
   "outputs": [],
   "source": [
    "b.clear()"
   ]
  },
  {
   "cell_type": "code",
   "execution_count": 70,
   "id": "097d6402",
   "metadata": {},
   "outputs": [
    {
     "name": "stdout",
     "output_type": "stream",
     "text": [
      "[]\n",
      "[]\n"
     ]
    }
   ],
   "source": [
    "print(b)\n",
    "print(a)"
   ]
  },
  {
   "cell_type": "code",
   "execution_count": 71,
   "id": "9ace2971",
   "metadata": {},
   "outputs": [],
   "source": [
    "# Deep copy\n",
    "a=[1,2,3,4,6,7]\n",
    "b=a.copy() "
   ]
  },
  {
   "cell_type": "code",
   "execution_count": 72,
   "id": "3f4be498",
   "metadata": {},
   "outputs": [
    {
     "name": "stdout",
     "output_type": "stream",
     "text": [
      "[1, 2, 3, 4, 6, 7] 1638391011712\n",
      "[1, 2, 3, 4, 6, 7] 1638391012608\n"
     ]
    }
   ],
   "source": [
    "print(a,id(a))\n",
    "print(b,id(b))"
   ]
  },
  {
   "cell_type": "code",
   "execution_count": 73,
   "id": "2631052c",
   "metadata": {},
   "outputs": [],
   "source": [
    "b.clear()"
   ]
  },
  {
   "cell_type": "code",
   "execution_count": 74,
   "id": "8518bfa4",
   "metadata": {},
   "outputs": [
    {
     "name": "stdout",
     "output_type": "stream",
     "text": [
      "[1, 2, 3, 4, 6, 7]\n"
     ]
    }
   ],
   "source": [
    "print(a)"
   ]
  },
  {
   "cell_type": "code",
   "execution_count": 75,
   "id": "5ff8f01e",
   "metadata": {},
   "outputs": [
    {
     "name": "stdout",
     "output_type": "stream",
     "text": [
      "[]\n"
     ]
    }
   ],
   "source": [
    "print(b)"
   ]
  },
  {
   "cell_type": "code",
   "execution_count": 68,
   "id": "c9f3a070",
   "metadata": {},
   "outputs": [
    {
     "name": "stdout",
     "output_type": "stream",
     "text": [
      "[1, 2, 3, 4, 5] 2644911430912\n"
     ]
    }
   ],
   "source": [
    "L1=[1,2,3,4,5]\n",
    "print(L1,id(L1))"
   ]
  },
  {
   "cell_type": "code",
   "execution_count": 69,
   "id": "ec22bc60",
   "metadata": {},
   "outputs": [
    {
     "name": "stdout",
     "output_type": "stream",
     "text": [
      "[1, 2, 3, 4, 5] 2644911430912\n"
     ]
    }
   ],
   "source": [
    "L2=L1\n",
    "print(L2,id(L2))"
   ]
  },
  {
   "cell_type": "code",
   "execution_count": 63,
   "id": "67795424",
   "metadata": {},
   "outputs": [],
   "source": [
    "L2.clear()# shallow copy"
   ]
  },
  {
   "cell_type": "code",
   "execution_count": 64,
   "id": "3bb56f20",
   "metadata": {},
   "outputs": [
    {
     "name": "stdout",
     "output_type": "stream",
     "text": [
      "[]\n"
     ]
    }
   ],
   "source": [
    "print(L2)"
   ]
  },
  {
   "cell_type": "code",
   "execution_count": 65,
   "id": "a0c77b60",
   "metadata": {},
   "outputs": [
    {
     "name": "stdout",
     "output_type": "stream",
     "text": [
      "[]\n"
     ]
    }
   ],
   "source": [
    "print(L1)"
   ]
  },
  {
   "cell_type": "code",
   "execution_count": 70,
   "id": "160cc8ec",
   "metadata": {},
   "outputs": [
    {
     "name": "stdout",
     "output_type": "stream",
     "text": [
      "[4, 5, 6, 7] 2644910653952\n"
     ]
    }
   ],
   "source": [
    "L3=[4,5,6,7]\n",
    "print(L3,id(L3))"
   ]
  },
  {
   "cell_type": "code",
   "execution_count": 71,
   "id": "a59b20c2",
   "metadata": {},
   "outputs": [
    {
     "name": "stdout",
     "output_type": "stream",
     "text": [
      "[4, 5, 6, 7] 2644910657408\n"
     ]
    }
   ],
   "source": [
    "L4=L3.copy() # deepy copy\n",
    "print(L4,id(L4))"
   ]
  },
  {
   "cell_type": "code",
   "execution_count": 72,
   "id": "8e3de7b2",
   "metadata": {},
   "outputs": [],
   "source": [
    "L4.clear()"
   ]
  },
  {
   "cell_type": "code",
   "execution_count": 73,
   "id": "a08afb73",
   "metadata": {},
   "outputs": [
    {
     "name": "stdout",
     "output_type": "stream",
     "text": [
      "[]\n"
     ]
    }
   ],
   "source": [
    "print(L4)"
   ]
  },
  {
   "cell_type": "code",
   "execution_count": 74,
   "id": "f3012486",
   "metadata": {},
   "outputs": [
    {
     "name": "stdout",
     "output_type": "stream",
     "text": [
      "[4, 5, 6, 7]\n"
     ]
    }
   ],
   "source": [
    "print(L3)"
   ]
  },
  {
   "cell_type": "code",
   "execution_count": null,
   "id": "b0200b44",
   "metadata": {},
   "outputs": [],
   "source": []
  },
  {
   "cell_type": "code",
   "execution_count": 34,
   "id": "7aeedfa6",
   "metadata": {},
   "outputs": [
    {
     "name": "stdout",
     "output_type": "stream",
     "text": [
      "[]\n"
     ]
    }
   ],
   "source": [
    "print(li)"
   ]
  },
  {
   "cell_type": "code",
   "execution_count": 35,
   "id": "6a250b7a",
   "metadata": {},
   "outputs": [
    {
     "name": "stdout",
     "output_type": "stream",
     "text": [
      "['a', 'b', 'a']\n"
     ]
    }
   ],
   "source": [
    "L=['a','a','b','a']\n",
    "L.remove('a')\n",
    "print(L)"
   ]
  },
  {
   "cell_type": "code",
   "execution_count": 40,
   "id": "91fa52dc",
   "metadata": {},
   "outputs": [],
   "source": [
    "del L[0:2]"
   ]
  },
  {
   "cell_type": "code",
   "execution_count": 41,
   "id": "2b795fa4",
   "metadata": {},
   "outputs": [
    {
     "name": "stdout",
     "output_type": "stream",
     "text": [
      "['a']\n"
     ]
    }
   ],
   "source": [
    "print(L)"
   ]
  },
  {
   "cell_type": "code",
   "execution_count": 42,
   "id": "49aa461c",
   "metadata": {},
   "outputs": [
    {
     "data": {
      "text/plain": [
       "[10, 30, 50, 55, 70, 90]"
      ]
     },
     "execution_count": 42,
     "metadata": {},
     "output_type": "execute_result"
    }
   ],
   "source": [
    "l2"
   ]
  },
  {
   "cell_type": "code",
   "execution_count": 43,
   "id": "0a1b3707",
   "metadata": {},
   "outputs": [],
   "source": [
    "l2.remove(55)"
   ]
  },
  {
   "cell_type": "code",
   "execution_count": 44,
   "id": "39c14b81",
   "metadata": {},
   "outputs": [
    {
     "name": "stdout",
     "output_type": "stream",
     "text": [
      "[10, 30, 50, 70, 90]\n"
     ]
    }
   ],
   "source": [
    "print(l2)"
   ]
  },
  {
   "cell_type": "code",
   "execution_count": 45,
   "id": "2a18c0e7",
   "metadata": {},
   "outputs": [
    {
     "name": "stdout",
     "output_type": "stream",
     "text": [
      "['a', 'quick', 'brown', 'fox', 'jumps', 'over', 'the', 'lazy', 'dog', 'in', 'the']\n"
     ]
    }
   ],
   "source": [
    "print(li)"
   ]
  },
  {
   "cell_type": "code",
   "execution_count": 46,
   "id": "a6994579",
   "metadata": {},
   "outputs": [],
   "source": [
    "# delete\n",
    "del li[9]"
   ]
  },
  {
   "cell_type": "code",
   "execution_count": 75,
   "id": "d8f7903b",
   "metadata": {},
   "outputs": [],
   "source": [
    "q=['a', 'quick', 'brown', 'fox', 'jumps', 'over', 'the', 'lazy', 'dog', 'in', 'the']\n",
    "q.reverse()"
   ]
  },
  {
   "cell_type": "code",
   "execution_count": 76,
   "id": "cb604d94",
   "metadata": {},
   "outputs": [
    {
     "name": "stdout",
     "output_type": "stream",
     "text": [
      "['the', 'in', 'dog', 'lazy', 'the', 'over', 'jumps', 'fox', 'brown', 'quick', 'a']\n"
     ]
    }
   ],
   "source": [
    "print(q)"
   ]
  },
  {
   "cell_type": "code",
   "execution_count": 76,
   "id": "9a225e49",
   "metadata": {},
   "outputs": [],
   "source": [
    "q.clear()"
   ]
  },
  {
   "cell_type": "code",
   "execution_count": 77,
   "id": "9c27d9ed",
   "metadata": {},
   "outputs": [
    {
     "name": "stdout",
     "output_type": "stream",
     "text": [
      "[]\n"
     ]
    }
   ],
   "source": [
    "print(q)"
   ]
  },
  {
   "cell_type": "code",
   "execution_count": 73,
   "id": "5c74be8f",
   "metadata": {},
   "outputs": [],
   "source": [
    "del q"
   ]
  },
  {
   "cell_type": "code",
   "execution_count": 74,
   "id": "794e096e",
   "metadata": {},
   "outputs": [
    {
     "ename": "NameError",
     "evalue": "name 'q' is not defined",
     "output_type": "error",
     "traceback": [
      "\u001b[1;31m---------------------------------------------------------------------------\u001b[0m",
      "\u001b[1;31mNameError\u001b[0m                                 Traceback (most recent call last)",
      "\u001b[1;32m<ipython-input-74-996617e96a38>\u001b[0m in \u001b[0;36m<module>\u001b[1;34m\u001b[0m\n\u001b[1;32m----> 1\u001b[1;33m \u001b[0mprint\u001b[0m\u001b[1;33m(\u001b[0m\u001b[0mq\u001b[0m\u001b[1;33m)\u001b[0m\u001b[1;33m\u001b[0m\u001b[1;33m\u001b[0m\u001b[0m\n\u001b[0m",
      "\u001b[1;31mNameError\u001b[0m: name 'q' is not defined"
     ]
    }
   ],
   "source": [
    "print(q)"
   ]
  },
  {
   "cell_type": "code",
   "execution_count": 80,
   "id": "8e2e60e2",
   "metadata": {},
   "outputs": [
    {
     "name": "stdout",
     "output_type": "stream",
     "text": [
      "5\n",
      "1\n",
      "56\n",
      "119\n"
     ]
    }
   ],
   "source": [
    "o=[1,2,1,3,1,3,1,31,3,1,4,6,3,56,3]\n",
    "print(o.count(1))\n",
    "print(min(o))\n",
    "print(max(o))\n",
    "print(sum(o))\n",
    "# o.sort(reverse=True)\n",
    "# print(o)"
   ]
  },
  {
   "cell_type": "code",
   "execution_count": 86,
   "id": "4e2a3b89",
   "metadata": {},
   "outputs": [
    {
     "name": "stdout",
     "output_type": "stream",
     "text": [
      "[100, 12, 9, 7, 5, 3, 2]\n"
     ]
    }
   ],
   "source": [
    "L1=[5,3,7,9,2,100,12]\n",
    "print(sorted(L1,reverse=True))"
   ]
  },
  {
   "cell_type": "code",
   "execution_count": 82,
   "id": "4d925fd2",
   "metadata": {},
   "outputs": [
    {
     "name": "stdout",
     "output_type": "stream",
     "text": [
      "[5, 3, 7, 9, 2, 100, 12]\n"
     ]
    }
   ],
   "source": [
    "print(L1)"
   ]
  },
  {
   "cell_type": "code",
   "execution_count": 87,
   "id": "7703e795",
   "metadata": {},
   "outputs": [],
   "source": [
    "L1.sort(reverse=True)"
   ]
  },
  {
   "cell_type": "code",
   "execution_count": 88,
   "id": "85edba67",
   "metadata": {},
   "outputs": [
    {
     "name": "stdout",
     "output_type": "stream",
     "text": [
      "[100, 12, 9, 7, 5, 3, 2]\n"
     ]
    }
   ],
   "source": [
    "print(L1)"
   ]
  },
  {
   "cell_type": "code",
   "execution_count": 90,
   "id": "9ed5dd28",
   "metadata": {},
   "outputs": [
    {
     "name": "stdout",
     "output_type": "stream",
     "text": [
      "[56, 31, 6, 4, 3, 3, 3, 3, 3, 2, 1, 1, 1, 1, 1]\n",
      "[56, 31, 6, 4, 3, 3, 3, 3, 3, 2, 1, 1, 1, 1, 1]\n"
     ]
    }
   ],
   "source": [
    "print(o)\n",
    "print(sorted(o,reverse=True))"
   ]
  },
  {
   "cell_type": "code",
   "execution_count": 91,
   "id": "9a74a748",
   "metadata": {},
   "outputs": [],
   "source": [
    "o.reverse()"
   ]
  },
  {
   "cell_type": "code",
   "execution_count": 93,
   "id": "0632ee63",
   "metadata": {},
   "outputs": [
    {
     "name": "stdout",
     "output_type": "stream",
     "text": [
      "[1, 1, 1, 1, 1, 2, 3, 3, 3, 3, 3, 4, 6, 31, 56]\n"
     ]
    },
    {
     "data": {
      "text/plain": [
       "[56, 31, 6, 4, 3, 3, 3, 3, 3, 2, 1, 1, 1, 1, 1]"
      ]
     },
     "execution_count": 93,
     "metadata": {},
     "output_type": "execute_result"
    }
   ],
   "source": [
    "print(o)\n",
    "o[::-1]"
   ]
  },
  {
   "cell_type": "code",
   "execution_count": 47,
   "id": "ef7c5560",
   "metadata": {},
   "outputs": [
    {
     "name": "stdout",
     "output_type": "stream",
     "text": [
      "['a', 'quick', 'brown', 'fox', 'jumps', 'over', 'the', 'lazy', 'dog', 'the']\n"
     ]
    }
   ],
   "source": [
    "print(li)"
   ]
  },
  {
   "cell_type": "code",
   "execution_count": 48,
   "id": "6eb029b2",
   "metadata": {},
   "outputs": [],
   "source": [
    "L=[1,2,3,4,5]\n",
    "del L"
   ]
  },
  {
   "cell_type": "code",
   "execution_count": 49,
   "id": "aa218fb3",
   "metadata": {},
   "outputs": [
    {
     "ename": "NameError",
     "evalue": "name 'L' is not defined",
     "output_type": "error",
     "traceback": [
      "\u001b[1;31m---------------------------------------------------------------------------\u001b[0m",
      "\u001b[1;31mNameError\u001b[0m                                 Traceback (most recent call last)",
      "\u001b[1;32m<ipython-input-49-70501d4a5d78>\u001b[0m in \u001b[0;36m<module>\u001b[1;34m\u001b[0m\n\u001b[1;32m----> 1\u001b[1;33m \u001b[0mprint\u001b[0m\u001b[1;33m(\u001b[0m\u001b[0mL\u001b[0m\u001b[1;33m)\u001b[0m\u001b[1;33m\u001b[0m\u001b[1;33m\u001b[0m\u001b[0m\n\u001b[0m",
      "\u001b[1;31mNameError\u001b[0m: name 'L' is not defined"
     ]
    }
   ],
   "source": [
    "print(L)"
   ]
  },
  {
   "cell_type": "code",
   "execution_count": 50,
   "id": "6a350fe5",
   "metadata": {},
   "outputs": [
    {
     "name": "stdout",
     "output_type": "stream",
     "text": [
      "['a', 'quick', 'brown', 'fox', 'jumps', 'over', 'the', 'lazy', 'dog', 'the']\n"
     ]
    }
   ],
   "source": [
    "print(li)"
   ]
  },
  {
   "cell_type": "code",
   "execution_count": 51,
   "id": "58acf1c7",
   "metadata": {},
   "outputs": [],
   "source": [
    "#count\n",
    "L=[1,1,1,1,2,2,2,2,2,'Deepanshu','Deepanshu','Deepanshu','Deepanshu','Deepanshu','Deepanshu','Deepanshu','Deepanshu','Deepansu', ]"
   ]
  },
  {
   "cell_type": "code",
   "execution_count": 89,
   "id": "8830f11d",
   "metadata": {},
   "outputs": [
    {
     "data": {
      "text/plain": [
       "0"
      ]
     },
     "execution_count": 89,
     "metadata": {},
     "output_type": "execute_result"
    }
   ],
   "source": [
    "L.count('ee')"
   ]
  },
  {
   "cell_type": "code",
   "execution_count": 53,
   "id": "7e6dff66",
   "metadata": {},
   "outputs": [
    {
     "data": {
      "text/plain": [
       "0"
      ]
     },
     "execution_count": 53,
     "metadata": {},
     "output_type": "execute_result"
    }
   ],
   "source": [
    "L.count('ee')"
   ]
  },
  {
   "cell_type": "code",
   "execution_count": 54,
   "id": "3c799b67",
   "metadata": {},
   "outputs": [
    {
     "name": "stdout",
     "output_type": "stream",
     "text": [
      "['a', 'quick', 'brown', 'fox', 'jumps', 'over', 'the', 'lazy', 'dog', 'the']\n"
     ]
    }
   ],
   "source": [
    "print(li)"
   ]
  },
  {
   "cell_type": "code",
   "execution_count": null,
   "id": "69560136",
   "metadata": {},
   "outputs": [],
   "source": [
    "l=li"
   ]
  },
  {
   "cell_type": "code",
   "execution_count": null,
   "id": "7320aabd",
   "metadata": {},
   "outputs": [],
   "source": [
    "print(l)"
   ]
  },
  {
   "cell_type": "code",
   "execution_count": null,
   "id": "bb370617",
   "metadata": {},
   "outputs": [],
   "source": [
    "# l.clear()"
   ]
  },
  {
   "cell_type": "code",
   "execution_count": null,
   "id": "fab382ba",
   "metadata": {},
   "outputs": [],
   "source": [
    "# print(l)"
   ]
  },
  {
   "cell_type": "code",
   "execution_count": 129,
   "id": "4a9f2ca2",
   "metadata": {},
   "outputs": [
    {
     "name": "stdout",
     "output_type": "stream",
     "text": [
      "['a', 'quick', 'fox', 'jumps', 'over', 'the', 'lazy', 'labra', 'dog', 'house', 'in', 'the', 'evening', 'i', 'n']\n"
     ]
    }
   ],
   "source": [
    "print(li)"
   ]
  },
  {
   "cell_type": "code",
   "execution_count": 63,
   "id": "6828d72c",
   "metadata": {},
   "outputs": [],
   "source": [
    "li.reverse()"
   ]
  },
  {
   "cell_type": "code",
   "execution_count": 64,
   "id": "300fd2ff",
   "metadata": {},
   "outputs": [
    {
     "name": "stdout",
     "output_type": "stream",
     "text": [
      "['the', 'dog', 'lazy', 'the', 'over', 'jumps', 'fox', 'brown', 'quick', 'a']\n"
     ]
    }
   ],
   "source": [
    "print(li)"
   ]
  },
  {
   "cell_type": "code",
   "execution_count": 134,
   "id": "db72a977",
   "metadata": {},
   "outputs": [],
   "source": [
    "L=[3,1,5,6]\n",
    "L.sort(),re"
   ]
  },
  {
   "cell_type": "code",
   "execution_count": 135,
   "id": "1476190a",
   "metadata": {},
   "outputs": [
    {
     "data": {
      "text/plain": [
       "[1, 3, 5, 6]"
      ]
     },
     "execution_count": 135,
     "metadata": {},
     "output_type": "execute_result"
    }
   ],
   "source": [
    "L"
   ]
  },
  {
   "cell_type": "code",
   "execution_count": 65,
   "id": "33cbc07b",
   "metadata": {},
   "outputs": [
    {
     "data": {
      "text/plain": [
       "[10, 30, 50, 70, 90]"
      ]
     },
     "execution_count": 65,
     "metadata": {},
     "output_type": "execute_result"
    }
   ],
   "source": [
    "l2"
   ]
  },
  {
   "cell_type": "code",
   "execution_count": 93,
   "id": "6416899f",
   "metadata": {},
   "outputs": [],
   "source": [
    "w=[10,90 ,70,111 ,30, 50,]\n",
    "w.sort(reverse=True)\n"
   ]
  },
  {
   "cell_type": "code",
   "execution_count": 95,
   "id": "e6b65c9f",
   "metadata": {},
   "outputs": [
    {
     "name": "stdout",
     "output_type": "stream",
     "text": [
      "[111, 90, 70, 50, 30, 10]\n",
      "361\n"
     ]
    }
   ],
   "source": [
    "print(w)\n",
    "print(sum(w))"
   ]
  },
  {
   "cell_type": "code",
   "execution_count": 66,
   "id": "e8130e1c",
   "metadata": {},
   "outputs": [],
   "source": [
    "l2.reverse()"
   ]
  },
  {
   "cell_type": "code",
   "execution_count": 67,
   "id": "8a5181fe",
   "metadata": {},
   "outputs": [
    {
     "name": "stdout",
     "output_type": "stream",
     "text": [
      "[90, 70, 50, 30, 10]\n"
     ]
    }
   ],
   "source": [
    "print(l2)"
   ]
  },
  {
   "cell_type": "code",
   "execution_count": 68,
   "id": "fc20ef82",
   "metadata": {},
   "outputs": [],
   "source": [
    "# sort\n",
    "li.sort()"
   ]
  },
  {
   "cell_type": "code",
   "execution_count": 69,
   "id": "855b844a",
   "metadata": {},
   "outputs": [
    {
     "name": "stdout",
     "output_type": "stream",
     "text": [
      "['a', 'brown', 'dog', 'fox', 'jumps', 'lazy', 'over', 'quick', 'the', 'the']\n"
     ]
    }
   ],
   "source": [
    "print(li)"
   ]
  },
  {
   "cell_type": "code",
   "execution_count": 70,
   "id": "2f3c9798",
   "metadata": {},
   "outputs": [],
   "source": [
    "li.sort(reverse=True)"
   ]
  },
  {
   "cell_type": "code",
   "execution_count": 90,
   "id": "81779542",
   "metadata": {},
   "outputs": [
    {
     "name": "stdout",
     "output_type": "stream",
     "text": [
      "[]\n"
     ]
    }
   ],
   "source": [
    "print(li)"
   ]
  },
  {
   "cell_type": "code",
   "execution_count": 72,
   "id": "8e9576b2",
   "metadata": {},
   "outputs": [
    {
     "name": "stdout",
     "output_type": "stream",
     "text": [
      "['a', 'brown', 'dog', 'fox', 'jumps', 'lazy', 'over', 'quick', 'the', 'the']\n"
     ]
    }
   ],
   "source": [
    "# Sorted \n",
    "#it doesnot sort the original list\n",
    "print(sorted(li))"
   ]
  },
  {
   "cell_type": "code",
   "execution_count": 73,
   "id": "848ebd87",
   "metadata": {},
   "outputs": [
    {
     "name": "stdout",
     "output_type": "stream",
     "text": [
      "['the', 'the', 'quick', 'over', 'lazy', 'jumps', 'fox', 'dog', 'brown', 'a']\n"
     ]
    }
   ],
   "source": [
    "print(li)"
   ]
  },
  {
   "cell_type": "code",
   "execution_count": 74,
   "id": "abd4d5d8",
   "metadata": {},
   "outputs": [
    {
     "name": "stdout",
     "output_type": "stream",
     "text": [
      "['the', 'the', 'quick', 'over', 'lazy', 'jumps', 'fox', 'dog', 'brown', 'a']\n"
     ]
    }
   ],
   "source": [
    "print(sorted(li,reverse=True))"
   ]
  },
  {
   "cell_type": "code",
   "execution_count": 75,
   "id": "545fb1e6",
   "metadata": {},
   "outputs": [
    {
     "name": "stdout",
     "output_type": "stream",
     "text": [
      "['the', 'the', 'quick', 'over', 'lazy', 'jumps', 'fox', 'dog', 'brown', 'a']\n"
     ]
    }
   ],
   "source": [
    "print(li)"
   ]
  },
  {
   "cell_type": "code",
   "execution_count": 76,
   "id": "b42ae781",
   "metadata": {},
   "outputs": [
    {
     "name": "stdout",
     "output_type": "stream",
     "text": [
      "a\n"
     ]
    }
   ],
   "source": [
    "# min\n",
    "print(min(li))"
   ]
  },
  {
   "cell_type": "code",
   "execution_count": null,
   "id": "af2c6e0c",
   "metadata": {},
   "outputs": [],
   "source": []
  },
  {
   "cell_type": "code",
   "execution_count": 77,
   "id": "d4335d8d",
   "metadata": {},
   "outputs": [
    {
     "name": "stdout",
     "output_type": "stream",
     "text": [
      "the\n"
     ]
    }
   ],
   "source": [
    "#max\n",
    "print(max(li))"
   ]
  },
  {
   "cell_type": "code",
   "execution_count": 78,
   "id": "5eff60ca",
   "metadata": {},
   "outputs": [
    {
     "data": {
      "text/plain": [
       "[90, 70, 50, 30, 10]"
      ]
     },
     "execution_count": 78,
     "metadata": {},
     "output_type": "execute_result"
    }
   ],
   "source": [
    "l2"
   ]
  },
  {
   "cell_type": "code",
   "execution_count": 79,
   "id": "9edb3eb8",
   "metadata": {},
   "outputs": [
    {
     "name": "stdout",
     "output_type": "stream",
     "text": [
      "10\n"
     ]
    }
   ],
   "source": [
    "print(min(l2))"
   ]
  },
  {
   "cell_type": "code",
   "execution_count": 80,
   "id": "fe0968c6",
   "metadata": {},
   "outputs": [
    {
     "name": "stdout",
     "output_type": "stream",
     "text": [
      "90\n"
     ]
    }
   ],
   "source": [
    "print(max(l2))"
   ]
  },
  {
   "cell_type": "code",
   "execution_count": 81,
   "id": "10001332",
   "metadata": {},
   "outputs": [
    {
     "name": "stdout",
     "output_type": "stream",
     "text": [
      "[90, 70, 50, 30, 10]\n"
     ]
    }
   ],
   "source": [
    "print(l2)"
   ]
  },
  {
   "cell_type": "code",
   "execution_count": 82,
   "id": "a248cb14",
   "metadata": {},
   "outputs": [
    {
     "name": "stdout",
     "output_type": "stream",
     "text": [
      "250\n"
     ]
    }
   ],
   "source": [
    "print(sum(l2))"
   ]
  },
  {
   "cell_type": "code",
   "execution_count": 8,
   "id": "0df5f641",
   "metadata": {},
   "outputs": [
    {
     "name": "stdout",
     "output_type": "stream",
     "text": [
      "Deepanshuverma\n"
     ]
    }
   ],
   "source": [
    "x=['Deepanshu','verma']\n",
    "print(\"\".join(x))"
   ]
  },
  {
   "cell_type": "code",
   "execution_count": 91,
   "id": "79c5760c",
   "metadata": {},
   "outputs": [
    {
     "name": "stdout",
     "output_type": "stream",
     "text": [
      "[1, 2, 3, 4, 5, 6, 7, 8, 'Nine', 'Ten']\n"
     ]
    }
   ],
   "source": [
    "# list Modification\n",
    "l=[1,2,3,4,5,6,7,8,9,10]\n",
    "l[8:10]=['Nine','Ten']\n",
    "print(l)"
   ]
  },
  {
   "cell_type": "code",
   "execution_count": 92,
   "id": "dcf96a44",
   "metadata": {},
   "outputs": [
    {
     "name": "stdout",
     "output_type": "stream",
     "text": [
      "[1, 'Deepanshu', 8, 'Nine', 'Ten']\n"
     ]
    }
   ],
   "source": [
    "l[1:7]=['Deepanshu']\n",
    "print(l)"
   ]
  },
  {
   "cell_type": "code",
   "execution_count": 93,
   "id": "eba450d2",
   "metadata": {},
   "outputs": [
    {
     "name": "stdout",
     "output_type": "stream",
     "text": [
      "[1, 'Deepanshu', 8, 'Nine', 'Ten', 'Deepanshu']\n"
     ]
    }
   ],
   "source": [
    "l[10:11]=['Deepanshu']\n",
    "print(l)"
   ]
  },
  {
   "cell_type": "code",
   "execution_count": 49,
   "id": "8c8a6abc",
   "metadata": {
    "scrolled": true
   },
   "outputs": [
    {
     "ename": "TypeError",
     "evalue": "'<' not supported between instances of 'str' and 'int'",
     "output_type": "error",
     "traceback": [
      "\u001b[1;31m---------------------------------------------------------------------------\u001b[0m",
      "\u001b[1;31mTypeError\u001b[0m                                 Traceback (most recent call last)",
      "\u001b[1;32m<ipython-input-49-00c9a1972825>\u001b[0m in \u001b[0;36m<module>\u001b[1;34m\u001b[0m\n\u001b[0;32m      1\u001b[0m \u001b[0mp\u001b[0m\u001b[1;33m=\u001b[0m\u001b[1;33m[\u001b[0m\u001b[1;36m1\u001b[0m\u001b[1;33m,\u001b[0m\u001b[1;36m2\u001b[0m\u001b[1;33m,\u001b[0m\u001b[1;34m'ddeepansu'\u001b[0m\u001b[1;33m,\u001b[0m\u001b[1;34m'verma'\u001b[0m\u001b[1;33m]\u001b[0m\u001b[1;33m\u001b[0m\u001b[1;33m\u001b[0m\u001b[0m\n\u001b[1;32m----> 2\u001b[1;33m \u001b[0mp\u001b[0m\u001b[1;33m.\u001b[0m\u001b[0msort\u001b[0m\u001b[1;33m(\u001b[0m\u001b[1;33m)\u001b[0m\u001b[1;33m\u001b[0m\u001b[1;33m\u001b[0m\u001b[0m\n\u001b[0m",
      "\u001b[1;31mTypeError\u001b[0m: '<' not supported between instances of 'str' and 'int'"
     ]
    }
   ],
   "source": [
    "p=[1,2,'ddeepansu','verma']\n",
    "p.sort()"
   ]
  },
  {
   "cell_type": "markdown",
   "id": "c162b9af",
   "metadata": {},
   "source": [
    "# Nested list"
   ]
  },
  {
   "cell_type": "code",
   "execution_count": 95,
   "id": "8c3465c2",
   "metadata": {},
   "outputs": [
    {
     "name": "stdout",
     "output_type": "stream",
     "text": [
      "4\n",
      "[10, 20, 30]\n"
     ]
    }
   ],
   "source": [
    "L1=[11,22,[10,20,30],100]\n",
    "print(len(L1))\n",
    "# print(L1[0])\n",
    "print(L1[2])\n",
    "print(L1[3])"
   ]
  },
  {
   "cell_type": "code",
   "execution_count": 4,
   "id": "6be5a6ed",
   "metadata": {
    "scrolled": true
   },
   "outputs": [
    {
     "name": "stdout",
     "output_type": "stream",
     "text": [
      "['over', 'the', 'lazy', 'dog']\n"
     ]
    }
   ],
   "source": [
    "L2=['a', 'quick', 'brown', ['fox', 'jumps'], 'over', 'the', 'lazy', 'dog']\n",
    "# print(len(L2))\n",
    "\n",
    "# print(L2[1])\n",
    "# print(L2[1:2])\n",
    "# print(L2[3])\n",
    "# print(L2[3:4])\n",
    "# print(L2[3:4][0])\n",
    "# print(L2[3:4][0][1:])\n",
    "# print(L2[3:4][0][1][2])\n",
    "# print(L2[3:4][0][1][2:])\n",
    "print(L2[4:])"
   ]
  },
  {
   "cell_type": "code",
   "execution_count": 9,
   "id": "1786bd25",
   "metadata": {},
   "outputs": [
    {
     "data": {
      "text/plain": [
       "'fox'"
      ]
     },
     "execution_count": 9,
     "metadata": {},
     "output_type": "execute_result"
    }
   ],
   "source": [
    "k=['fox', 'jumps']\n",
    "k[0]"
   ]
  },
  {
   "cell_type": "code",
   "execution_count": 5,
   "id": "9de08d36",
   "metadata": {},
   "outputs": [
    {
     "name": "stdout",
     "output_type": "stream",
     "text": [
      "['a', 'quick', 'brown', ['fox', 'jumps'], 'over', 'the', 'lazy', 'dog']\n"
     ]
    }
   ],
   "source": [
    "print(L2)"
   ]
  },
  {
   "cell_type": "code",
   "execution_count": 10,
   "id": "58155744",
   "metadata": {},
   "outputs": [
    {
     "name": "stdout",
     "output_type": "stream",
     "text": [
      "True\n"
     ]
    }
   ],
   "source": [
    "# Membership Operators\n",
    "# print('b' in L2)\n",
    "# print('j' in L2)\n",
    "# print('jumps' in L2)\n",
    "# print('quick' in L2)\n",
    "print('fox' in L2[3:4][0][0])"
   ]
  },
  {
   "cell_type": "code",
   "execution_count": 111,
   "id": "b6e415a6",
   "metadata": {},
   "outputs": [
    {
     "data": {
      "text/plain": [
       "['a', 'quick', 'brown', ['fox', 'jumps'], 'over', 'the', 'lazy', 'dog']"
      ]
     },
     "execution_count": 111,
     "metadata": {},
     "output_type": "execute_result"
    }
   ],
   "source": [
    "L2"
   ]
  },
  {
   "cell_type": "code",
   "execution_count": 19,
   "id": "ee0dd646",
   "metadata": {},
   "outputs": [
    {
     "ename": "TypeError",
     "evalue": "can only concatenate list (not \"str\") to list",
     "output_type": "error",
     "traceback": [
      "\u001b[1;31m---------------------------------------------------------------------------\u001b[0m",
      "\u001b[1;31mTypeError\u001b[0m                                 Traceback (most recent call last)",
      "\u001b[1;32m<ipython-input-19-c73ea9b51b68>\u001b[0m in \u001b[0;36m<module>\u001b[1;34m\u001b[0m\n\u001b[0;32m      1\u001b[0m \u001b[1;31m# # Concatenation\u001b[0m\u001b[1;33m\u001b[0m\u001b[1;33m\u001b[0m\u001b[1;33m\u001b[0m\u001b[0m\n\u001b[1;32m----> 2\u001b[1;33m \u001b[0mprint\u001b[0m\u001b[1;33m(\u001b[0m\u001b[0mL2\u001b[0m\u001b[1;33m[\u001b[0m\u001b[1;36m3\u001b[0m\u001b[1;33m]\u001b[0m\u001b[1;33m+\u001b[0m\u001b[0mL2\u001b[0m\u001b[1;33m[\u001b[0m\u001b[1;33m-\u001b[0m\u001b[1;36m5\u001b[0m\u001b[1;33m:\u001b[0m\u001b[1;33m-\u001b[0m\u001b[1;36m4\u001b[0m\u001b[1;33m]\u001b[0m\u001b[1;33m+\u001b[0m\u001b[0mL2\u001b[0m\u001b[1;33m[\u001b[0m\u001b[1;36m0\u001b[0m\u001b[1;33m]\u001b[0m\u001b[1;33m)\u001b[0m\u001b[1;33m\u001b[0m\u001b[1;33m\u001b[0m\u001b[0m\n\u001b[0m\u001b[0;32m      3\u001b[0m \u001b[1;31m# print(L2[2]+L2[3:4][0][0])\u001b[0m\u001b[1;33m\u001b[0m\u001b[1;33m\u001b[0m\u001b[1;33m\u001b[0m\u001b[0m\n\u001b[0;32m      4\u001b[0m \u001b[1;31m# print([L2[2]]+L2[3:4][0])\u001b[0m\u001b[1;33m\u001b[0m\u001b[1;33m\u001b[0m\u001b[1;33m\u001b[0m\u001b[0m\n",
      "\u001b[1;31mTypeError\u001b[0m: can only concatenate list (not \"str\") to list"
     ]
    }
   ],
   "source": [
    "# # Concatenation\n",
    "print(L2[3]+L2[-5:-4]+L2[0])\n",
    "# print(L2[2]+L2[3:4][0][0])\n",
    "# print([L2[2]]+L2[3:4][0])"
   ]
  },
  {
   "cell_type": "code",
   "execution_count": 20,
   "id": "9d573426",
   "metadata": {},
   "outputs": [
    {
     "name": "stdout",
     "output_type": "stream",
     "text": [
      "[[1, 2, 3, [4, 5, 6], 7, 8, 9], 10, [11, 12, 13], 14, 15, 16, 17]\n"
     ]
    }
   ],
   "source": [
    "l1=[[1, 2, 3, [4, 5, 6], 7, 8, 9], 10, [11, 12, 13], 14, 15, 16, 17]\n",
    "print(l1)\n",
    "# print(len(l1))"
   ]
  },
  {
   "cell_type": "code",
   "execution_count": 40,
   "id": "ff5bc508",
   "metadata": {},
   "outputs": [
    {
     "name": "stdout",
     "output_type": "stream",
     "text": [
      "[[1, 2, 3, [4, 5, 6], 7, 8, 9], 10]\n"
     ]
    }
   ],
   "source": [
    "# print(l1[0])\n",
    "# print(l1[0:1])\n",
    "# print(len(l1))\n",
    "# print(l1[3:4])\n",
    "# print(l1[0])\n",
    "# print(l1[0][0])\n",
    "# print(l1[0:1][0])\n",
    "# print(l1[0][3])\n",
    "# print(l1[0][6])\n",
    "# print(l1[0:1][9:])\n",
    "# print(l1[0][9])\n",
    "# print(l1[1])\n",
    "# print(l1[2][2])\n",
    "# print(l1[2])\n",
    "# print(l1[2][-1])\n",
    "# print(l1[0:1][1])\n",
    "# print(l1[0][3][0])\n",
    "# print(l1[6])\n",
    "# print(l1[0][5])\n",
    "# print(l1[0:2])\n",
    "print(l1[0:3])\n"
   ]
  },
  {
   "cell_type": "code",
   "execution_count": null,
   "id": "22d8564f",
   "metadata": {},
   "outputs": [],
   "source": []
  },
  {
   "cell_type": "code",
   "execution_count": 46,
   "id": "8b06df25",
   "metadata": {},
   "outputs": [
    {
     "name": "stdout",
     "output_type": "stream",
     "text": [
      "[]\n"
     ]
    }
   ],
   "source": [
    "l1=[[1, 2, 3, [4, 5, 6], 7, 8, 9], 10, [11, 12, 13], 14, 15, 16, 17]\n",
    "\n",
    "# print(l1[0:3][2][1])\n",
    "# print(l1[0][0:5])\n",
    "# print(l1[4])\n",
    "# print(l1[0][2:14])\n",
    "# print(l1[0:1000])\n",
    "# print(l1[0][-4])\n",
    "# print(l1[-4])\n",
    "# print(l1[-5][-2:])\n",
    "# print(l1[-7][-4:])\n",
    "# print(l1[-6:-7]) #*******\n",
    "# print(l1[0][0:100:3])\n",
    "# print(l1[0][::-1])\n"
   ]
  },
  {
   "cell_type": "code",
   "execution_count": 47,
   "id": "d712dbb4",
   "metadata": {},
   "outputs": [],
   "source": [
    "List=[['cats','vs','dogs'],['we know this']]\n"
   ]
  },
  {
   "cell_type": "code",
   "execution_count": 50,
   "id": "c6aafcfd",
   "metadata": {},
   "outputs": [
    {
     "name": "stdout",
     "output_type": "stream",
     "text": [
      "['cats', 'vs', 'dogs']\n"
     ]
    }
   ],
   "source": [
    "# print(len(List))\n",
    "# print(List[1])\n",
    "# print(List[0:10])\n",
    "# print(List[0][1])\n",
    "# print(List[0][1:3])\n",
    "print(List[0][0:3])\n",
    "\n"
   ]
  },
  {
   "cell_type": "markdown",
   "id": "987670cb",
   "metadata": {},
   "source": [
    "### List Comprehension\n",
    "List comprehensions are used for creating new lists from other iterables like tuples, strings, arrays, lists, etc. List comprehension offers a shorter syntax when you want to create a new list based on the values of an existing list.\n",
    "\n",
    "Syntax:\n",
    "\n",
    "newList = [ expression(element) for element in oldList if condition ]"
   ]
  },
  {
   "cell_type": "code",
   "execution_count": 6,
   "id": "527ac65e",
   "metadata": {},
   "outputs": [
    {
     "name": "stdout",
     "output_type": "stream",
     "text": [
      "[1, 9, 25, 49, 81]\n"
     ]
    }
   ],
   "source": [
    "odd_square=[]\n",
    "for x in range(1,11):\n",
    "    if x%2==1:\n",
    "        odd_square.append(x**2)\n",
    "print(odd_square)"
   ]
  },
  {
   "cell_type": "code",
   "execution_count": 58,
   "id": "6e0032dc",
   "metadata": {},
   "outputs": [
    {
     "data": {
      "text/plain": [
       "1"
      ]
     },
     "execution_count": 58,
     "metadata": {},
     "output_type": "execute_result"
    }
   ],
   "source": [
    "10%3"
   ]
  },
  {
   "cell_type": "code",
   "execution_count": 7,
   "id": "c2ce75fc",
   "metadata": {},
   "outputs": [
    {
     "name": "stdout",
     "output_type": "stream",
     "text": [
      "[1, 9, 25, 49, 81]\n"
     ]
    }
   ],
   "source": [
    "odd_square=[x**2 for x in range(1,11) if x%2==1]\n",
    "print(odd_square)"
   ]
  },
  {
   "cell_type": "code",
   "execution_count": 55,
   "id": "7280ee2b",
   "metadata": {},
   "outputs": [
    {
     "name": "stdout",
     "output_type": "stream",
     "text": [
      "['D', 'e', 'e', 'p', 'a', 'n', 's', 'h', 'u']\n"
     ]
    }
   ],
   "source": [
    "name=[letter for letter in 'Deepanshu']\n",
    "print(name)"
   ]
  },
  {
   "cell_type": "code",
   "execution_count": 59,
   "id": "bf89eea7",
   "metadata": {},
   "outputs": [
    {
     "name": "stdout",
     "output_type": "stream",
     "text": [
      "['AA']\n"
     ]
    }
   ],
   "source": [
    "d=[x*2 for x in ('DEEPANSHU') if x=='A']\n",
    "print(d)"
   ]
  },
  {
   "cell_type": "code",
   "execution_count": 2,
   "id": "714902c0",
   "metadata": {},
   "outputs": [
    {
     "data": {
      "text/plain": [
       "[64, 81]"
      ]
     },
     "execution_count": 2,
     "metadata": {},
     "output_type": "execute_result"
    }
   ],
   "source": [
    "[i**2    for i in range(10) if i>=8]"
   ]
  },
  {
   "cell_type": "code",
   "execution_count": 1,
   "id": "ca176385",
   "metadata": {},
   "outputs": [
    {
     "data": {
      "text/plain": [
       "['apple', 'banana', 'mango']"
      ]
     },
     "execution_count": 1,
     "metadata": {},
     "output_type": "execute_result"
    }
   ],
   "source": [
    "fruits=['apple','banana','cherry','kiwi','mango']\n",
    "newlist=[x for x in fruits if \"a\" in x]\n",
    "newlist"
   ]
  },
  {
   "cell_type": "code",
   "execution_count": 24,
   "id": "73acc7b8",
   "metadata": {},
   "outputs": [
    {
     "data": {
      "text/plain": [
       "[0, 1, 2, 3, 4, 5, 6, 7, 8, 9]"
      ]
     },
     "execution_count": 24,
     "metadata": {},
     "output_type": "execute_result"
    }
   ],
   "source": [
    "newlist=[x for x in range(10)]\n",
    "newlist"
   ]
  },
  {
   "cell_type": "code",
   "execution_count": 17,
   "id": "b6596057",
   "metadata": {},
   "outputs": [
    {
     "data": {
      "text/plain": [
       "[6, 7, 8, 9]"
      ]
     },
     "execution_count": 17,
     "metadata": {},
     "output_type": "execute_result"
    }
   ],
   "source": [
    "newlist=[x for x in range(10) if x>5]\n",
    "newlist"
   ]
  },
  {
   "cell_type": "code",
   "execution_count": 3,
   "id": "6ecff1ac",
   "metadata": {},
   "outputs": [
    {
     "data": {
      "text/plain": [
       "[0, 1, 4, 27, 16, 125]"
      ]
     },
     "execution_count": 3,
     "metadata": {},
     "output_type": "execute_result"
    }
   ],
   "source": [
    "[i**2 if i%2==0 else i**3 for i in range(6)]"
   ]
  },
  {
   "cell_type": "code",
   "execution_count": 60,
   "id": "7aeebbb5",
   "metadata": {},
   "outputs": [
    {
     "name": "stdout",
     "output_type": "stream",
     "text": [
      "['Even', 'odd', 'Even', 'odd', 'Even', 'odd', 'Even', 'odd', 'Even', 'odd']\n"
     ]
    }
   ],
   "source": [
    "obj=['Even' if i%2==0 else \"odd\" for i in range(10)]\n",
    "print(obj)"
   ]
  },
  {
   "cell_type": "code",
   "execution_count": 95,
   "id": "c383bf9c",
   "metadata": {},
   "outputs": [
    {
     "name": "stdout",
     "output_type": "stream",
     "text": [
      "not anagram\n"
     ]
    }
   ],
   "source": [
    "# anagram string\n",
    "s1='silent'\n",
    "s2='listan'        \n",
    "if sorted(s1)==sorted(s2):\n",
    "    print('anargeam')\n",
    "else:\n",
    "    print('not anagram')"
   ]
  },
  {
   "cell_type": "code",
   "execution_count": 98,
   "id": "2f12cce0",
   "metadata": {},
   "outputs": [
    {
     "name": "stdout",
     "output_type": "stream",
     "text": [
      "abcxyz\n"
     ]
    }
   ],
   "source": [
    "a='abcdef'\n",
    "b='defxyz'\n",
    "s=''\n",
    "for i in a:\n",
    "    if i not in b:\n",
    "        s=s+i\n",
    "for j in b:\n",
    "    if j not in a:\n",
    "        s=s+j\n",
    "print(s)"
   ]
  },
  {
   "cell_type": "code",
   "execution_count": 107,
   "id": "469ea4b7",
   "metadata": {},
   "outputs": [
    {
     "name": "stdout",
     "output_type": "stream",
     "text": [
      "['a', 'b', 'c', 'd', 'e', 'f', 'g', 'h', 'i', 'j', 'k', 'l', 'm', 'n', 'o', 'p', 'q', 'r', 's', 't', 'u', 'v', 'w', 'x', 'y', 'z']\n",
      "a,b,c,d,e,f,g,h,i,j,k,l,m,n,o,p,q,r,s,t,u,v,w,x,y,z\n"
     ]
    }
   ],
   "source": [
    "a='a quick brown fox jumps over the lazy dog'\n",
    "x=''\n",
    "for i in a:\n",
    "    if i.isspace() :\n",
    "        pass\n",
    "    elif i not in x:\n",
    "        x=x+i\n",
    "y=sorted(x)\n",
    "print(y)\n",
    "print(','.join(y))"
   ]
  },
  {
   "cell_type": "code",
   "execution_count": 88,
   "id": "cc1655d3",
   "metadata": {},
   "outputs": [],
   "source": [
    "# find the least positive missing number\n",
    "Li=[-6,0,1,-1,3,-9,2,4,6,9] # genpact {2022}\n",
    " \n",
    "        "
   ]
  },
  {
   "cell_type": "code",
   "execution_count": 3,
   "id": "37a6f008",
   "metadata": {},
   "outputs": [
    {
     "name": "stdout",
     "output_type": "stream",
     "text": [
      "[1, 2, 3, 4, 6, 5]\n"
     ]
    }
   ],
   "source": [
    "# print the unique elemtns in a list\n",
    "l=[1,2,1,2,1,3,1,4,2,6,2,6,2,6,3,5,2,6,3,6,2,5,5]\n",
    "L=[]\n",
    "for i in l:\n",
    "    if i not in L:\n",
    "        L.append(i)\n",
    "print(L)"
   ]
  },
  {
   "cell_type": "code",
   "execution_count": 7,
   "id": "e87071e2",
   "metadata": {},
   "outputs": [
    {
     "name": "stdout",
     "output_type": "stream",
     "text": [
      "madam\n",
      "1331\n",
      "php\n"
     ]
    }
   ],
   "source": [
    "#Write a Python program to find palindromes in a given list of strings\n",
    "# pallindrome\n",
    "# not palindrome\n",
    "l=['madam','1331','php','deepanshu']\n"
   ]
  },
  {
   "cell_type": "code",
   "execution_count": 63,
   "id": "de2b0834",
   "metadata": {},
   "outputs": [
    {
     "name": "stdout",
     "output_type": "stream",
     "text": [
      "{0: 'a', 1: 'quick', 3: 'fox'}\n"
     ]
    }
   ],
   "source": [
    "D={0: 'a', 1: 'quick', 3: 'fox'}\n",
    "print(D)"
   ]
  },
  {
   "cell_type": "code",
   "execution_count": 64,
   "id": "8f1c340c",
   "metadata": {},
   "outputs": [],
   "source": [
    "D.update({9:'cat'})"
   ]
  },
  {
   "cell_type": "code",
   "execution_count": 65,
   "id": "b8d047d7",
   "metadata": {},
   "outputs": [
    {
     "name": "stdout",
     "output_type": "stream",
     "text": [
      "{0: 'a', 1: 'quick', 3: 'fox', 9: 'cat'}\n"
     ]
    }
   ],
   "source": [
    "print(D)"
   ]
  },
  {
   "cell_type": "code",
   "execution_count": 66,
   "id": "4d39d45d",
   "metadata": {},
   "outputs": [],
   "source": [
    "D.update({1:'jaldi'})"
   ]
  },
  {
   "cell_type": "code",
   "execution_count": 67,
   "id": "9ccd4bd2",
   "metadata": {},
   "outputs": [
    {
     "name": "stdout",
     "output_type": "stream",
     "text": [
      "{0: 'a', 1: 'jaldi', 3: 'fox', 9: 'cat'}\n"
     ]
    }
   ],
   "source": [
    "print(D)"
   ]
  },
  {
   "cell_type": "code",
   "execution_count": 68,
   "id": "bc96b079",
   "metadata": {},
   "outputs": [],
   "source": [
    "D.update({-1:'jaldi'})"
   ]
  },
  {
   "cell_type": "code",
   "execution_count": 69,
   "id": "89df4289",
   "metadata": {},
   "outputs": [
    {
     "name": "stdout",
     "output_type": "stream",
     "text": [
      "{0: 'a', 1: 'jaldi', 3: 'fox', 9: 'cat', -1: 'jaldi'}\n"
     ]
    }
   ],
   "source": [
    "print(D)"
   ]
  },
  {
   "cell_type": "code",
   "execution_count": 70,
   "id": "63be2a8d",
   "metadata": {},
   "outputs": [],
   "source": [
    "D[10000]='DeepANSHU'"
   ]
  },
  {
   "cell_type": "code",
   "execution_count": 71,
   "id": "995f03d4",
   "metadata": {},
   "outputs": [
    {
     "name": "stdout",
     "output_type": "stream",
     "text": [
      "{0: 'a', 1: 'jaldi', 3: 'fox', 9: 'cat', -1: 'jaldi', 10000: 'DeepANSHU'}\n"
     ]
    }
   ],
   "source": [
    "print(D)"
   ]
  },
  {
   "cell_type": "code",
   "execution_count": 76,
   "id": "d64219aa",
   "metadata": {},
   "outputs": [],
   "source": [
    "d={'a':1,2:' '}"
   ]
  },
  {
   "cell_type": "code",
   "execution_count": 77,
   "id": "d457b0d2",
   "metadata": {},
   "outputs": [
    {
     "data": {
      "text/plain": [
       "{'a': 1, 2: ' '}"
      ]
     },
     "execution_count": 77,
     "metadata": {},
     "output_type": "execute_result"
    }
   ],
   "source": [
    "d"
   ]
  },
  {
   "cell_type": "code",
   "execution_count": 78,
   "id": "45c7b669",
   "metadata": {},
   "outputs": [
    {
     "data": {
      "text/plain": [
       "' '"
      ]
     },
     "execution_count": 78,
     "metadata": {},
     "output_type": "execute_result"
    }
   ],
   "source": [
    "d[2]"
   ]
  },
  {
   "cell_type": "code",
   "execution_count": 79,
   "id": "bcab43e2",
   "metadata": {},
   "outputs": [],
   "source": [
    "D={0: 'a', 1: 'jaldi', 3: 'fox', 9: 'cat', -1: 'jaldi'}"
   ]
  },
  {
   "cell_type": "code",
   "execution_count": 83,
   "id": "991df14c",
   "metadata": {},
   "outputs": [
    {
     "name": "stdout",
     "output_type": "stream",
     "text": [
      "(0, 'a')\n",
      "(1, 'jaldi')\n",
      "(3, 'fox')\n",
      "(9, 'cat')\n",
      "(-1, 'jaldi')\n"
     ]
    }
   ],
   "source": [
    "for i in D:\n",
    "    print(i)"
   ]
  },
  {
   "cell_type": "code",
   "execution_count": 87,
   "id": "a5903539",
   "metadata": {},
   "outputs": [],
   "source": [
    "a=[1,2,3]\n",
    "b=['a','b','c',5]\n",
    "\n",
    "x={i:j for i,j in zip(a,b)}"
   ]
  },
  {
   "cell_type": "code",
   "execution_count": 97,
   "id": "adaa543e",
   "metadata": {},
   "outputs": [
    {
     "name": "stdout",
     "output_type": "stream",
     "text": [
      "['a', 'b']\n"
     ]
    }
   ],
   "source": [
    "b=['a','b','c',5]\n",
    "a=[1,2,3]\n",
    "L=[]\n",
    "D={}\n",
    "i=0\n",
    "while b[i]!='c':\n",
    "   \n",
    "    L.append(b[i])\n",
    "    i+=1\n",
    "#     print()\n",
    "print(L)\n",
    "# for i in a:\n",
    "#     print(i)\n",
    "for i in a:\n",
    "    D[i]=L\n",
    "    \n",
    "    "
   ]
  },
  {
   "cell_type": "code",
   "execution_count": 98,
   "id": "3dd2bbe1",
   "metadata": {},
   "outputs": [
    {
     "name": "stdout",
     "output_type": "stream",
     "text": [
      "{1: ['a', 'b'], 2: ['a', 'b'], 3: ['a', 'b']}\n"
     ]
    }
   ],
   "source": [
    "print(D)"
   ]
  },
  {
   "cell_type": "code",
   "execution_count": 3,
   "id": "8966bd1e",
   "metadata": {},
   "outputs": [
    {
     "ename": "TypeError",
     "evalue": "'tuple' object does not support item assignment",
     "output_type": "error",
     "traceback": [
      "\u001b[1;31m---------------------------------------------------------------------------\u001b[0m",
      "\u001b[1;31mTypeError\u001b[0m                                 Traceback (most recent call last)",
      "\u001b[1;32m<ipython-input-3-1182f106097d>\u001b[0m in \u001b[0;36m<module>\u001b[1;34m\u001b[0m\n\u001b[0;32m      1\u001b[0m \u001b[0mt\u001b[0m\u001b[1;33m=\u001b[0m\u001b[1;33m(\u001b[0m\u001b[1;34m'a'\u001b[0m\u001b[1;33m,\u001b[0m\u001b[1;34m'quick'\u001b[0m\u001b[1;33m)\u001b[0m\u001b[1;33m\u001b[0m\u001b[1;33m\u001b[0m\u001b[0m\n\u001b[1;32m----> 2\u001b[1;33m \u001b[0mt\u001b[0m\u001b[1;33m[\u001b[0m\u001b[1;36m1\u001b[0m\u001b[1;33m]\u001b[0m\u001b[1;33m=\u001b[0m\u001b[1;34m'jaldi'\u001b[0m\u001b[1;33m\u001b[0m\u001b[1;33m\u001b[0m\u001b[0m\n\u001b[0m",
      "\u001b[1;31mTypeError\u001b[0m: 'tuple' object does not support item assignment"
     ]
    }
   ],
   "source": [
    "t=('a','quick')\n",
    "t[1]='jaldi'"
   ]
  },
  {
   "cell_type": "code",
   "execution_count": 4,
   "id": "66a49c65",
   "metadata": {},
   "outputs": [
    {
     "name": "stdout",
     "output_type": "stream",
     "text": [
      "a\n",
      "quick\n"
     ]
    }
   ],
   "source": [
    "t=('a','quick')\n",
    "x,y=t\n",
    "print(x)\n",
    "print(y)"
   ]
  },
  {
   "cell_type": "code",
   "execution_count": 5,
   "id": "4ce53a29",
   "metadata": {},
   "outputs": [],
   "source": [
    "x='jalid'\n",
    "y='jaldi'"
   ]
  },
  {
   "cell_type": "code",
   "execution_count": 6,
   "id": "9b0bbc82",
   "metadata": {},
   "outputs": [
    {
     "name": "stdout",
     "output_type": "stream",
     "text": [
      "('jalid', 'jaldi')\n"
     ]
    }
   ],
   "source": [
    "tup=(x,y)\n",
    "print(tup)"
   ]
  },
  {
   "cell_type": "code",
   "execution_count": 72,
   "id": "f754944a",
   "metadata": {},
   "outputs": [
    {
     "name": "stdout",
     "output_type": "stream",
     "text": [
      "this is the type of b variable <class 'str'> 10\n",
      "this is the type of a variable <class 'int'> 20\n"
     ]
    }
   ],
   "source": [
    "a=10\n",
    "b=str(a)\n",
    "c=b+10\n",
    "print('this is the type of b variable',type(b),b)\n",
    "print('this is the type of a variable',type(a),a+10)"
   ]
  },
  {
   "cell_type": "code",
   "execution_count": null,
   "id": "75d7279d",
   "metadata": {},
   "outputs": [],
   "source": []
  },
  {
   "cell_type": "code",
   "execution_count": null,
   "id": "bb92a838",
   "metadata": {},
   "outputs": [],
   "source": [
    "# conver 10 into strinmg\n",
    "# 12 into float\n",
    "# \"316\" into float\n",
    "# \"945\" into integer\n",
    "# \"3.17\" into integer"
   ]
  },
  {
   "cell_type": "code",
   "execution_count": 22,
   "id": "fa510c70",
   "metadata": {},
   "outputs": [
    {
     "name": "stdout",
     "output_type": "stream",
     "text": [
      "enter s1 silent\n",
      "enter s2 listan\n"
     ]
    }
   ],
   "source": [
    "s1=input('enter s1 ')\n",
    "s2=input('enter s2 ')\n",
    "s1=sorted(s1)\n",
    "x=''.join(s1)"
   ]
  },
  {
   "cell_type": "code",
   "execution_count": 23,
   "id": "3d62d649",
   "metadata": {},
   "outputs": [],
   "source": [
    "s2=sorted(s2)\n",
    "y=''.join(s2)"
   ]
  },
  {
   "cell_type": "code",
   "execution_count": 24,
   "id": "7b0dc916",
   "metadata": {},
   "outputs": [
    {
     "name": "stdout",
     "output_type": "stream",
     "text": [
      "not anagram\n"
     ]
    }
   ],
   "source": [
    "if x==y:\n",
    "    print('anagram string')\n",
    "else:\n",
    "    print('not anagram')"
   ]
  },
  {
   "cell_type": "code",
   "execution_count": null,
   "id": "2b36a19f",
   "metadata": {},
   "outputs": [],
   "source": []
  }
 ],
 "metadata": {
  "kernelspec": {
   "display_name": "Python 3 (ipykernel)",
   "language": "python",
   "name": "python3"
  },
  "language_info": {
   "codemirror_mode": {
    "name": "ipython",
    "version": 3
   },
   "file_extension": ".py",
   "mimetype": "text/x-python",
   "name": "python",
   "nbconvert_exporter": "python",
   "pygments_lexer": "ipython3",
   "version": "3.9.7"
  }
 },
 "nbformat": 4,
 "nbformat_minor": 5
}
