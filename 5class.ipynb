{
 "cells": [
  {
   "cell_type": "code",
   "execution_count": null,
   "id": "32ea661d",
   "metadata": {},
   "outputs": [],
   "source": [
    "i want take input from the regarding the amount deposited in acc,then i need updated my netbalance"
   ]
  },
  {
   "cell_type": "code",
   "execution_count": null,
   "id": "a39daaed",
   "metadata": {},
   "outputs": [],
   "source": [
    "amount_dept\n",
    "amt_with\n",
    "update balance"
   ]
  },
  {
   "cell_type": "code",
   "execution_count": 35,
   "id": "1367e317",
   "metadata": {},
   "outputs": [
    {
     "name": "stdout",
     "output_type": "stream",
     "text": [
      "enter the amount :120000\n",
      "enter the balance :2000\n",
      "enter the amount to bea withdrawn :80000\n"
     ]
    },
    {
     "data": {
      "text/plain": [
       "42000.0"
      ]
     },
     "execution_count": 35,
     "metadata": {},
     "output_type": "execute_result"
    }
   ],
   "source": [
    "a = float(input(\"enter the amount :\"))\n",
    "b = float(input(\"enter the balance :\"))\n",
    "c = float(input(\"enter the amount to bea withdrawn :\"))\n",
    "net_bal = a+b-c\n",
    "net_bal"
   ]
  },
  {
   "cell_type": "code",
   "execution_count": 17,
   "id": "664b8b89",
   "metadata": {},
   "outputs": [
    {
     "name": "stdout",
     "output_type": "stream",
     "text": [
      "enter the balancee as of now : 10000\n",
      "enter the amount to be withdrawn : 45000\n",
      "enter the amount to be withdrawn : 23000\n"
     ]
    },
    {
     "data": {
      "text/plain": [
       "32000.0"
      ]
     },
     "execution_count": 17,
     "metadata": {},
     "output_type": "execute_result"
    }
   ],
   "source": [
    "bal = float(input(\"enter the balancee as of now : \"))\n",
    "dep = float(input(\"enter the amount to be withdrawn : \"))\n",
    "widr = float(input(\"enter the amount to be withdrawn : \"))\n",
    "net_bal = bal+dep-widr\n",
    "net_bal"
   ]
  },
  {
   "cell_type": "code",
   "execution_count": null,
   "id": "8e17b2c5",
   "metadata": {},
   "outputs": [],
   "source": [
    "#conditions"
   ]
  },
  {
   "cell_type": "code",
   "execution_count": 20,
   "id": "994e5fa0",
   "metadata": {},
   "outputs": [
    {
     "name": "stdout",
     "output_type": "stream",
     "text": [
      "1st : 56\n",
      "2nd : 90\n",
      "b is largest\n"
     ]
    }
   ],
   "source": [
    "a = int(input(\"1st : \"))\n",
    "b = int(input(\"2nd : \"))\n",
    "if a>b:\n",
    "    print(\"a is largest\")\n",
    "elif a<b:\n",
    "    print(\"b is largest\")\n",
    "else:\n",
    "    print(\"a and b are equal\")\n",
    "    "
   ]
  },
  {
   "cell_type": "code",
   "execution_count": 46,
   "id": "a720d14f",
   "metadata": {},
   "outputs": [
    {
     "name": "stdout",
     "output_type": "stream",
     "text": [
      "1st :2\n",
      "2nd :24\n",
      "b is largest\n"
     ]
    }
   ],
   "source": [
    "a = int(input(\"1st :\"))\n",
    "b = int(input(\"2nd :\"))\n",
    "if a>b :\n",
    "    print(\"a is largest\")\n",
    "elif a<b:\n",
    "    print(\"b is largest\")\n",
    "else:\n",
    "    print(\"a and b are equal\")"
   ]
  },
  {
   "cell_type": "code",
   "execution_count": null,
   "id": "830a998e",
   "metadata": {},
   "outputs": [],
   "source": [
    "wap to take input from the user regarding the weather outside , if it is rainy i will not play outside , \n",
    "if it is sunny i will choose to play ,\n",
    "if it is cold , i can play and if it is stomy i will stay back\n"
   ]
  },
  {
   "cell_type": "code",
   "execution_count": null,
   "id": "93fd6607",
   "metadata": {},
   "outputs": [],
   "source": [
    "w = int(input(\"enter the wether:\"))\n",
    "if w==\"rainy\":\n",
    "    print(\"not play\")\n",
    "elif w==\"sunny\":\n",
    "    print(\"choose play\")\n",
    "elif w==\"cold\":\n",
    "    print(\"i can play\")\n",
    "elif w==\"stomy\":\n",
    "    print(\"stay back\")"
   ]
  },
  {
   "cell_type": "code",
   "execution_count": null,
   "id": "017f02fb",
   "metadata": {},
   "outputs": [],
   "source": [
    "wap to take input from the user regarding a number,and check if the number\n",
    "is div by 3,by 5 or by 3 and 5 both"
   ]
  },
  {
   "cell_type": "code",
   "execution_count": 31,
   "id": "452b0aa6",
   "metadata": {},
   "outputs": [
    {
     "name": "stdout",
     "output_type": "stream",
     "text": [
      "enter the number : 45\n",
      "by both\n"
     ]
    }
   ],
   "source": [
    "a = int(input(\"enter the number : \"))\n",
    "if a%3==0 and a%5==0:\n",
    "    print(\"by both\")\n",
    "elif a%5==0:\n",
    "    print(a,\"is div by 5\")\n",
    "elif a%3==0:\n",
    "    print(a,\"is div by 3\")"
   ]
  },
  {
   "cell_type": "code",
   "execution_count": 48,
   "id": "80ce74e5",
   "metadata": {},
   "outputs": [
    {
     "name": "stdout",
     "output_type": "stream",
     "text": [
      "enter the amount :24\n",
      "24 is div by 3\n"
     ]
    }
   ],
   "source": [
    "a = int(input(\"enter the amount :\"))\n",
    "if a%3==0 and a%5==0:\n",
    "    print(\"by both\")\n",
    "elif a%5==0:\n",
    "    print(a,\"is div by 5\")\n",
    "elif a%3==0:\n",
    "    print(a,\"is div by 3\")"
   ]
  },
  {
   "cell_type": "code",
   "execution_count": null,
   "id": "f4f5b06c",
   "metadata": {},
   "outputs": [],
   "source": [
    "take a no ,n and find if it is even or odd"
   ]
  },
  {
   "cell_type": "code",
   "execution_count": 32,
   "id": "00a68904",
   "metadata": {},
   "outputs": [
    {
     "name": "stdout",
     "output_type": "stream",
     "text": [
      "number : 6\n",
      "even\n"
     ]
    }
   ],
   "source": [
    "n = int(input(\"number : \"))\n",
    "if n%2==0:\n",
    "    print(\"even\")\n",
    "else:\n",
    "    print(\"odd\")"
   ]
  },
  {
   "cell_type": "code",
   "execution_count": 63,
   "id": "9cd712b5",
   "metadata": {},
   "outputs": [
    {
     "name": "stdout",
     "output_type": "stream",
     "text": [
      "enter the number :45\n",
      "odd\n"
     ]
    }
   ],
   "source": [
    "n = int(input(\"enter the number :\"))\n",
    "if n%2==0:\n",
    "    print(\"even\")\n",
    "else:\n",
    "    print(\"odd\")"
   ]
  },
  {
   "cell_type": "code",
   "execution_count": null,
   "id": "ba0b0cbc",
   "metadata": {},
   "outputs": [],
   "source": [
    "wap to take put from the user regarding the meal he had yesterday,\n",
    "if it is south indian , print rombanala,\n",
    "if it is punjabi , print vadiya haigi\n",
    "if it is oriya , print bhala_heichi "
   ]
  },
  {
   "cell_type": "code",
   "execution_count": 62,
   "id": "4bc314a1",
   "metadata": {},
   "outputs": [
    {
     "name": "stdout",
     "output_type": "stream",
     "text": [
      "enter the meal : punjabi\n"
     ]
    }
   ],
   "source": [
    "n = input(\"enter the meal : \")\n",
    "if a==\"south_indian\":\n",
    "    print(\"rombanala\")\n",
    "if a==\"punjabi\":\n",
    "    print(\"vadiya_haigi\")\n",
    "if a==\"oriya\":\n",
    "    print(\"bhala_heichi\")"
   ]
  }
 ],
 "metadata": {
  "kernelspec": {
   "display_name": "Python 3 (ipykernel)",
   "language": "python",
   "name": "python3"
  },
  "language_info": {
   "codemirror_mode": {
    "name": "ipython",
    "version": 3
   },
   "file_extension": ".py",
   "mimetype": "text/x-python",
   "name": "python",
   "nbconvert_exporter": "python",
   "pygments_lexer": "ipython3",
   "version": "3.9.7"
  }
 },
 "nbformat": 4,
 "nbformat_minor": 5
}
