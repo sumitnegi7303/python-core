{
 "cells": [
  {
   "cell_type": "code",
   "execution_count": null,
   "id": "351fbe18",
   "metadata": {},
   "outputs": [],
   "source": [
    "#os module :\n",
    "is [operating system]\n",
    "module/package/library"
   ]
  },
  {
   "cell_type": "code",
   "execution_count": 3,
   "id": "e866e4ed",
   "metadata": {
    "scrolled": true
   },
   "outputs": [
    {
     "ename": "FileNotFoundError",
     "evalue": "[WinError 2] The system cannot find the file specified: 'old' -> 'new-file'",
     "output_type": "error",
     "traceback": [
      "\u001b[1;31m---------------------------------------------------------------------------\u001b[0m",
      "\u001b[1;31mFileNotFoundError\u001b[0m                         Traceback (most recent call last)",
      "\u001b[1;32mC:\\Users\\GOURAV~1\\AppData\\Local\\Temp/ipykernel_18680/1044815557.py\u001b[0m in \u001b[0;36m<module>\u001b[1;34m\u001b[0m\n\u001b[0;32m      1\u001b[0m \u001b[1;32mimport\u001b[0m \u001b[0mos\u001b[0m\u001b[1;33m\u001b[0m\u001b[1;33m\u001b[0m\u001b[0m\n\u001b[1;32m----> 2\u001b[1;33m \u001b[0mos\u001b[0m\u001b[1;33m.\u001b[0m\u001b[0mrename\u001b[0m\u001b[1;33m(\u001b[0m\u001b[1;34m\"old\"\u001b[0m\u001b[1;33m,\u001b[0m\u001b[1;34m\"new-file\"\u001b[0m\u001b[1;33m)\u001b[0m\u001b[1;33m\u001b[0m\u001b[1;33m\u001b[0m\u001b[0m\n\u001b[0m",
      "\u001b[1;31mFileNotFoundError\u001b[0m: [WinError 2] The system cannot find the file specified: 'old' -> 'new-file'"
     ]
    }
   ],
   "source": [
    "import os\n",
    "os.rename(\"old\",\"new-file\")"
   ]
  },
  {
   "cell_type": "code",
   "execution_count": null,
   "id": "5ce31aaa",
   "metadata": {},
   "outputs": [],
   "source": [
    "#exception Handling:\n",
    "errors in programing which i am able to handle"
   ]
  },
  {
   "cell_type": "code",
   "execution_count": 7,
   "id": "3e0342f8",
   "metadata": {},
   "outputs": [
    {
     "name": "stdout",
     "output_type": "stream",
     "text": [
      "enter the number :12\n",
      "except will be executed\n",
      "enter the number again !!12\n",
      "0.4166666666666667\n"
     ]
    }
   ],
   "source": [
    "try:\n",
    "    b = input(\"enter the number :\")\n",
    "    c = 5/b\n",
    "    print(c)\n",
    "except:\n",
    "    print(\"except will be executed\")\n",
    "    b = int(input(\"enter the number again !!\"))\n",
    "    c = 5/b\n",
    "    print(c)"
   ]
  },
  {
   "cell_type": "code",
   "execution_count": 8,
   "id": "219c000d",
   "metadata": {},
   "outputs": [
    {
     "name": "stdout",
     "output_type": "stream",
     "text": [
      "enter the number :15\n",
      "except will be executed\n",
      "enter the number again !!13\n",
      "0.38461538461538464\n"
     ]
    }
   ],
   "source": [
    "try:\n",
    "    b = input(\"enter the number :\")\n",
    "    c = 5/b\n",
    "except:\n",
    "    print(\"except will be executed\")\n",
    "    b = int(input(\"enter the number again !!\"))\n",
    "    c = 5/b\n",
    "    print(c)\n",
    "else:\n",
    "    print(\"else will be executed i.e is me \")\n",
    "    print(c)"
   ]
  },
  {
   "cell_type": "code",
   "execution_count": 9,
   "id": "e35e8188",
   "metadata": {},
   "outputs": [
    {
     "name": "stdout",
     "output_type": "stream",
     "text": [
      "enter the number :15\n",
      "except will be executed\n",
      "enter the number again !!15\n",
      "0.3333333333333333\n",
      "i will be executed irrespective of try being right or wrong :\n"
     ]
    }
   ],
   "source": [
    "try:\n",
    "    b = input(\"enter the number :\")\n",
    "    c = 5/b\n",
    "except:\n",
    "    print(\"except will be executed\")\n",
    "    b = int(input(\"enter the number again !!\"))\n",
    "    c = 5/b\n",
    "    print(c)\n",
    "else:\n",
    "    print(\"else will be executed i.e is me \")\n",
    "    print(c)\n",
    "finally:\n",
    "    print(\"i will be executed irrespective of try being right or wrong :\")\n",
    "    "
   ]
  },
  {
   "cell_type": "code",
   "execution_count": 13,
   "id": "86ca08d4",
   "metadata": {},
   "outputs": [
    {
     "name": "stdout",
     "output_type": "stream",
     "text": [
      "except will be executed \n",
      "22\n",
      "the cat\n",
      "name is \n",
      "mimi\n",
      "\n"
     ]
    }
   ],
   "source": [
    "try :\n",
    "    with open(\"s2.tXt\")as f :\n",
    "        print(f.write(\"safasfasfa\\n\"))\n",
    "except:\n",
    "    print(\"except will be executed \")\n",
    "    try :\n",
    "        with open('s2.txt',\"x\")as f :\n",
    "            print(f.write(\"the cat\\nname is \\nmimi\\n\"))\n",
    "    except:\n",
    "        pass\n",
    "    else:\n",
    "        with open(\"s2.txt\") as f:\n",
    "            print(f.read())"
   ]
  },
  {
   "cell_type": "code",
   "execution_count": null,
   "id": "705f6955",
   "metadata": {},
   "outputs": [],
   "source": [
    "wap to do exception handling of zero div error,\n",
    "i.e divide a number with 0 and handle that error."
   ]
  },
  {
   "cell_type": "code",
   "execution_count": 15,
   "id": "80e98f8a",
   "metadata": {},
   "outputs": [
    {
     "name": "stdout",
     "output_type": "stream",
     "text": [
      "enter the number :2\n",
      "enter the number again !!2\n",
      "enter the number aain !!22\n",
      "0.09090909090909091\n"
     ]
    }
   ],
   "source": [
    "try:\n",
    "    a = input(\"enter the number :\")\n",
    "    b = a/0\n",
    "except:\n",
    "    e = int(input(\"enter the number again !!\"))\n",
    "    f = int(input(\"enter the number aain !!\"))\n",
    "    g = e/f\n",
    "    print(g)"
   ]
  },
  {
   "cell_type": "code",
   "execution_count": 16,
   "id": "76f3aa08",
   "metadata": {},
   "outputs": [
    {
     "name": "stdout",
     "output_type": "stream",
     "text": [
      "1.25\n"
     ]
    }
   ],
   "source": [
    "try :\n",
    "    c = 5/0\n",
    "    print(c)\n",
    "except:\n",
    "    c = 5/4\n",
    "    print(c)"
   ]
  },
  {
   "cell_type": "code",
   "execution_count": null,
   "id": "2da35114",
   "metadata": {},
   "outputs": [],
   "source": [
    "wap to take two numbers and divide it,untill  unless we do try correct , the program should ask \n",
    "for right inputs of the number ."
   ]
  },
  {
   "cell_type": "code",
   "execution_count": null,
   "id": "4553e847",
   "metadata": {},
   "outputs": [],
   "source": [
    "wap to open a file in wite mode and read  mode and read the content of the file . if some error occurs handle it using \n",
    "exception handling"
   ]
  },
  {
   "cell_type": "code",
   "execution_count": 1,
   "id": "c55d5b61",
   "metadata": {},
   "outputs": [
    {
     "name": "stdout",
     "output_type": "stream",
     "text": [
      "enter the number :40\n",
      "enter the number :14\n",
      "54\n"
     ]
    }
   ],
   "source": [
    "while True :\n",
    "    try :\n",
    "        a = int(input(\"enter the number :\"))\n",
    "        b = int(input(\"enter the number :\"))\n",
    "        c = a+b\n",
    "    except :\n",
    "        print(\"except got execute\")\n",
    "        a = int(input(\"Number1 :\"))\n",
    "        b = int(input(\"Number2 :\"))\n",
    "        print(\"the sum of a+b is :\",a+b)\n",
    "    else:\n",
    "        print(c)\n",
    "        break"
   ]
  }
 ],
 "metadata": {
  "kernelspec": {
   "display_name": "Python 3 (ipykernel)",
   "language": "python",
   "name": "python3"
  },
  "language_info": {
   "codemirror_mode": {
    "name": "ipython",
    "version": 3
   },
   "file_extension": ".py",
   "mimetype": "text/x-python",
   "name": "python",
   "nbconvert_exporter": "python",
   "pygments_lexer": "ipython3",
   "version": "3.9.7"
  }
 },
 "nbformat": 4,
 "nbformat_minor": 5
}
