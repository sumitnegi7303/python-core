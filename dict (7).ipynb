{
 "cells": [
  {
   "cell_type": "markdown",
   "id": "ec6587a0",
   "metadata": {},
   "source": [
    "# Dictionaries"
   ]
  },
  {
   "cell_type": "markdown",
   "id": "79f8d625",
   "metadata": {},
   "source": [
    "- What is Dictionary?\n",
    "\n",
    "Dictionary is a non-homogeneous data structure which stores key value pairs. Use {} curly brackets to construct the dictionary, and [] square brackets to index it. Separate the key and value with colons: and with commas, between each pair. Dictionaries are mutable, which means they can be changed. "
   ]
  },
  {
   "cell_type": "markdown",
   "id": "82495615",
   "metadata": {},
   "source": [
    "### Creating a Dictionary"
   ]
  },
  {
   "cell_type": "markdown",
   "id": "388c9335",
   "metadata": {},
   "source": [
    "In Python, a Dictionary can be created by placing a sequence of elements within curly {} braces, separated by ‘comma’. Dictionary holds pairs of values, one being the Key and the other corresponding pair element being its Key:value. Values in a dictionary can be of any data type and can be duplicated, whereas keys can’t be repeated and must be immutable. \n",
    "\n",
    "Note – Dictionary keys are case sensitive, the same name but different cases of Key will be treated distinctly. "
   ]
  },
  {
   "cell_type": "code",
   "execution_count": 5,
   "id": "632d5fae",
   "metadata": {},
   "outputs": [
    {
     "name": "stdout",
     "output_type": "stream",
     "text": [
      "{0: 'One', 'Two': 2, 3: 'Three', 'Four': 4}\n",
      "<class 'dict'>\n",
      "4\n"
     ]
    }
   ],
   "source": [
    "d={0:'One','Two' :2, 3:\"Three\",'Four':4}\n",
    "print(d)\n",
    "print(type(d))\n",
    "print(len(d))\n"
   ]
  },
  {
   "cell_type": "code",
   "execution_count": 8,
   "id": "dab164b0",
   "metadata": {},
   "outputs": [
    {
     "name": "stdout",
     "output_type": "stream",
     "text": [
      "4\n"
     ]
    }
   ],
   "source": [
    "d1={1:'hiii',2:'hello',3:'hello',1:'yes',5:'no'}\n",
    "print(len(d1))"
   ]
  },
  {
   "cell_type": "code",
   "execution_count": 10,
   "id": "81849c64",
   "metadata": {},
   "outputs": [
    {
     "name": "stdout",
     "output_type": "stream",
     "text": [
      "{'name': 'verma', 'age': 1, 'name1': 'verma'}\n",
      "3\n"
     ]
    }
   ],
   "source": [
    "a={'name':'verma','age':1,'name1':'verma'}\n",
    "print(a)\n",
    "print(len(a))"
   ]
  },
  {
   "cell_type": "code",
   "execution_count": 6,
   "id": "4b226d61",
   "metadata": {},
   "outputs": [
    {
     "name": "stdout",
     "output_type": "stream",
     "text": [
      "{'name': 'Deepansju', 'Age': 100, 'height': 1, 'age': 100, 7: 'seven'}\n"
     ]
    }
   ],
   "source": [
    "D={'name':'Deepansju','Age':100,\"height\":34.2,\"age\":100,7:'seven','height':1}\n",
    "print(D)\n"
   ]
  },
  {
   "cell_type": "code",
   "execution_count": 11,
   "id": "6dc02f39",
   "metadata": {},
   "outputs": [
    {
     "name": "stdout",
     "output_type": "stream",
     "text": [
      "<class 'dict'>\n",
      "2\n",
      "{'Fruits': ['apple', 'mango'], 'Vegetable': ['potato', 'tomato']}\n"
     ]
    }
   ],
   "source": [
    "DD={'Fruits':['apple','mango'],'Vegetable':['potato','tomato']}\n",
    "print(type(DD))\n",
    "print(len(DD))\n",
    "print(DD)"
   ]
  },
  {
   "cell_type": "code",
   "execution_count": 9,
   "id": "8c89f38f",
   "metadata": {},
   "outputs": [
    {
     "name": "stdout",
     "output_type": "stream",
     "text": [
      "4\n"
     ]
    }
   ],
   "source": [
    "D={0:0,1:1,2:2,7:0,1:2,0:1}\n",
    "print(len(D))"
   ]
  },
  {
   "cell_type": "code",
   "execution_count": 19,
   "id": "02258ba2",
   "metadata": {},
   "outputs": [
    {
     "name": "stdout",
     "output_type": "stream",
     "text": [
      "4\n",
      "{0: 1, 1: 2, 2: 2, 7: 0}\n"
     ]
    }
   ],
   "source": [
    "print(len(D))\n",
    "print(D)"
   ]
  },
  {
   "cell_type": "code",
   "execution_count": 6,
   "id": "f1011f08",
   "metadata": {},
   "outputs": [
    {
     "name": "stdout",
     "output_type": "stream",
     "text": [
      "{'Name': 'Python', 1: [1, 2, 3, 4]}\n",
      "2\n"
     ]
    }
   ],
   "source": [
    "# Creating a Dictionary with Mixed keys\n",
    "Dict = {'Name': 'Python', 1: [1, 2, 3, 4]}\n",
    "print(Dict)\n",
    "print(len(Dict))"
   ]
  },
  {
   "cell_type": "code",
   "execution_count": null,
   "id": "319430d5",
   "metadata": {},
   "outputs": [],
   "source": [
    "list(1,2,4,45)"
   ]
  },
  {
   "cell_type": "code",
   "execution_count": 16,
   "id": "53f590af",
   "metadata": {},
   "outputs": [
    {
     "name": "stdout",
     "output_type": "stream",
     "text": [
      "{1: 'Python', 2: 'Core'}\n"
     ]
    }
   ],
   "source": [
    "# Creating an empty Dictionary\n",
    "# Dictionary = {}\n",
    "# print(Dictionary)\n",
    " \n",
    "# Creating a Dictionary with dict() method\n",
    "# dictionary = {1: 'Hello', 2: 'From', 3:'The', 4:'Other', 5:'Side'}\n",
    "# print(dictionary)\n",
    " \n",
    "# Creating a Dictionary with each item as a Pair\n",
    "DICTIONARY = dict([[1, 'Python'], [2, 'Core']])\n",
    "print(DICTIONARY)"
   ]
  },
  {
   "cell_type": "code",
   "execution_count": 12,
   "id": "4c8d90d1",
   "metadata": {},
   "outputs": [
    {
     "name": "stdout",
     "output_type": "stream",
     "text": [
      "{0: 'a', 1: 'quick', 2: 'brown', 3: 'fox', 4: 'jumps', 5: 'over', 6: 'a', 7: 'lazy', 8: 'dog'}\n"
     ]
    }
   ],
   "source": [
    "di={0:'a', 1:'quick', 2:'brown', 3:'fox', 4:'jumps', 5:'over', 6:'a', 7:'lazy', 8:'dog'}\n",
    "print(di)"
   ]
  },
  {
   "cell_type": "code",
   "execution_count": 15,
   "id": "8291b565",
   "metadata": {},
   "outputs": [
    {
     "name": "stdout",
     "output_type": "stream",
     "text": [
      "jumps\n",
      "dog\n",
      "{0: 'a', 1: 'quick', 2: 'brown', 3: 'fox', 4: 'jumps', 5: 'over', 6: 'a', 7: 'lazy', 8: 'dog', 99: 'ashdwui', 'surname': 'verma'}\n"
     ]
    }
   ],
   "source": [
    "print(di[4])\n",
    "print(di[8])\n",
    "# print(di[99])\n",
    "# print(di.items())\n",
    "di.update({99:'ashdwui'})\n",
    "\n",
    "di.update({'surname':'verma'})\n",
    "print(di)"
   ]
  },
  {
   "cell_type": "code",
   "execution_count": 26,
   "id": "d166f946",
   "metadata": {},
   "outputs": [
    {
     "name": "stdout",
     "output_type": "stream",
     "text": [
      "dict_keys([0, 1, 2, 3, 4, 5, 6, 7, 8])\n",
      "dict_values(['a', 'quick', 'brown', 'fox', 'jumps', 'over', 'a', 'lazy', 'dog'])\n",
      "dict_items([(0, 'a'), (1, 'quick'), (2, 'brown'), (3, 'fox'), (4, 'jumps'), (5, 'over'), (6, 'a'), (7, 'lazy'), (8, 'dog')])\n"
     ]
    }
   ],
   "source": [
    "print(di.keys())\n",
    "print(di.values())\n",
    "print(di.items())"
   ]
  },
  {
   "cell_type": "code",
   "execution_count": null,
   "id": "95233820",
   "metadata": {},
   "outputs": [],
   "source": []
  },
  {
   "cell_type": "code",
   "execution_count": null,
   "id": "4b73c68c",
   "metadata": {},
   "outputs": [],
   "source": []
  },
  {
   "cell_type": "code",
   "execution_count": null,
   "id": "8f63c765",
   "metadata": {},
   "outputs": [],
   "source": []
  },
  {
   "cell_type": "code",
   "execution_count": null,
   "id": "9c3f286a",
   "metadata": {},
   "outputs": [],
   "source": []
  },
  {
   "cell_type": "code",
   "execution_count": 44,
   "id": "5e2f5609",
   "metadata": {},
   "outputs": [
    {
     "name": "stdout",
     "output_type": "stream",
     "text": [
      "dict_items([(0, 'a'), (1, 'quick'), (2, 'brown'), (3, 'fox'), (4, 'jumps'), (5, 'over'), (6, 'a'), (7, 'lazy'), (8, 'dog')])\n"
     ]
    }
   ],
   "source": [
    "print(di.items())"
   ]
  },
  {
   "cell_type": "code",
   "execution_count": 9,
   "id": "76732ab2",
   "metadata": {},
   "outputs": [
    {
     "name": "stdout",
     "output_type": "stream",
     "text": [
      "9\n"
     ]
    }
   ],
   "source": [
    "print(len(di))"
   ]
  },
  {
   "cell_type": "code",
   "execution_count": 23,
   "id": "56c21b78",
   "metadata": {},
   "outputs": [
    {
     "name": "stdout",
     "output_type": "stream",
     "text": [
      "fox\n",
      "lazy\n",
      "brown\n"
     ]
    },
    {
     "ename": "KeyError",
     "evalue": "9",
     "output_type": "error",
     "traceback": [
      "\u001b[1;31m---------------------------------------------------------------------------\u001b[0m",
      "\u001b[1;31mKeyError\u001b[0m                                  Traceback (most recent call last)",
      "\u001b[1;32m<ipython-input-23-c95e95a3736b>\u001b[0m in \u001b[0;36m<module>\u001b[1;34m\u001b[0m\n\u001b[0;32m      4\u001b[0m \u001b[0mprint\u001b[0m\u001b[1;33m(\u001b[0m\u001b[0mdi\u001b[0m\u001b[1;33m[\u001b[0m\u001b[1;36m7\u001b[0m\u001b[1;33m]\u001b[0m\u001b[1;33m)\u001b[0m\u001b[1;33m\u001b[0m\u001b[1;33m\u001b[0m\u001b[0m\n\u001b[0;32m      5\u001b[0m \u001b[0mprint\u001b[0m\u001b[1;33m(\u001b[0m\u001b[0mdi\u001b[0m\u001b[1;33m[\u001b[0m\u001b[1;36m2\u001b[0m\u001b[1;33m]\u001b[0m\u001b[1;33m)\u001b[0m\u001b[1;33m\u001b[0m\u001b[1;33m\u001b[0m\u001b[0m\n\u001b[1;32m----> 6\u001b[1;33m \u001b[0mprint\u001b[0m\u001b[1;33m(\u001b[0m\u001b[0mdi\u001b[0m\u001b[1;33m[\u001b[0m\u001b[1;36m9\u001b[0m\u001b[1;33m]\u001b[0m\u001b[1;33m)\u001b[0m\u001b[1;33m\u001b[0m\u001b[1;33m\u001b[0m\u001b[0m\n\u001b[0m",
      "\u001b[1;31mKeyError\u001b[0m: 9"
     ]
    }
   ],
   "source": [
    "#  for accesing values we have to pass key\n",
    "# print(di[100])\n",
    "print(di[3])\n",
    "print(di[7])\n",
    "print(di[2])\n",
    "print(di[9])"
   ]
  },
  {
   "cell_type": "code",
   "execution_count": 11,
   "id": "64bb73f8",
   "metadata": {},
   "outputs": [
    {
     "name": "stdout",
     "output_type": "stream",
     "text": [
      "{0: 1, 1: 2, 2: 2, 7: 0}\n"
     ]
    }
   ],
   "source": [
    "print(D)"
   ]
  },
  {
   "cell_type": "code",
   "execution_count": 12,
   "id": "f2f7a33b",
   "metadata": {},
   "outputs": [
    {
     "name": "stdout",
     "output_type": "stream",
     "text": [
      "1\n",
      "2\n",
      "2\n"
     ]
    }
   ],
   "source": [
    "print(D[0])\n",
    "print(D[1])\n",
    "print(D[2])"
   ]
  },
  {
   "cell_type": "code",
   "execution_count": 13,
   "id": "4cd3efbb",
   "metadata": {},
   "outputs": [
    {
     "name": "stdout",
     "output_type": "stream",
     "text": [
      "dict_keys([0, 1, 2, 7])\n"
     ]
    }
   ],
   "source": [
    "print(D.keys())\n"
   ]
  },
  {
   "cell_type": "code",
   "execution_count": 14,
   "id": "5c225fdc",
   "metadata": {},
   "outputs": [
    {
     "name": "stdout",
     "output_type": "stream",
     "text": [
      "dict_keys([0, 1, 2, 7])\n"
     ]
    }
   ],
   "source": [
    "print(D.keys())"
   ]
  },
  {
   "cell_type": "code",
   "execution_count": 31,
   "id": "568e5480",
   "metadata": {},
   "outputs": [
    {
     "name": "stdout",
     "output_type": "stream",
     "text": [
      "dict_keys([])\n",
      "dict_values([])\n",
      "dict_items([])\n"
     ]
    }
   ],
   "source": [
    "empty_dict={}\n",
    "print(empty_dict.keys())\n",
    "print(empty_dict.values())\n",
    "print(empty_dict.items())\n"
   ]
  },
  {
   "cell_type": "code",
   "execution_count": 16,
   "id": "14db7d88",
   "metadata": {},
   "outputs": [
    {
     "name": "stdout",
     "output_type": "stream",
     "text": [
      "dict_values(['a', 'quick', 'brown', 'fox', 'jumps', 'over', 'a', 'lazy', 'dog'])\n"
     ]
    }
   ],
   "source": [
    "# Accessing values\n",
    "print(di.values())"
   ]
  },
  {
   "cell_type": "code",
   "execution_count": 17,
   "id": "9a3246ec",
   "metadata": {},
   "outputs": [
    {
     "name": "stdout",
     "output_type": "stream",
     "text": [
      "dict_values([1, 2, 2, 0])\n"
     ]
    }
   ],
   "source": [
    "print(D.values())"
   ]
  },
  {
   "cell_type": "code",
   "execution_count": 18,
   "id": "c00c4de4",
   "metadata": {},
   "outputs": [
    {
     "name": "stdout",
     "output_type": "stream",
     "text": [
      "dict_values([])\n"
     ]
    }
   ],
   "source": [
    "empty_dict={}\n",
    "print(empty_dict.values())"
   ]
  },
  {
   "cell_type": "code",
   "execution_count": 19,
   "id": "90f923c6",
   "metadata": {},
   "outputs": [
    {
     "name": "stdout",
     "output_type": "stream",
     "text": [
      "dict_items([(0, 'a'), (1, 'quick'), (2, 'brown'), (3, 'fox'), (4, 'jumps'), (5, 'over'), (6, 'a'), (7, 'lazy'), (8, 'dog')])\n"
     ]
    }
   ],
   "source": [
    "# Accessing both key and values\n",
    "print(di.items())"
   ]
  },
  {
   "cell_type": "code",
   "execution_count": 20,
   "id": "7e42d9cc",
   "metadata": {},
   "outputs": [
    {
     "name": "stdout",
     "output_type": "stream",
     "text": [
      "dict_items([(0, 1), (1, 2), (2, 2), (7, 0)])\n"
     ]
    }
   ],
   "source": [
    "print(D.items())"
   ]
  },
  {
   "cell_type": "code",
   "execution_count": 21,
   "id": "7349451a",
   "metadata": {},
   "outputs": [
    {
     "name": "stdout",
     "output_type": "stream",
     "text": [
      "dict_items([])\n"
     ]
    }
   ],
   "source": [
    "empty_dict={}\n",
    "print(empty_dict.items())"
   ]
  },
  {
   "cell_type": "code",
   "execution_count": 22,
   "id": "b8bac83a",
   "metadata": {},
   "outputs": [],
   "source": [
    "# clear\n",
    "# di.clear()"
   ]
  },
  {
   "cell_type": "code",
   "execution_count": 40,
   "id": "6b9d6d32",
   "metadata": {},
   "outputs": [
    {
     "name": "stdout",
     "output_type": "stream",
     "text": [
      "<class 'dict'> {0: 'a', 1: 'b', 2: 'c'}\n"
     ]
    }
   ],
   "source": [
    "f={0:'a',1:'b',2:'c'}\n",
    "print(type(f),f)"
   ]
  },
  {
   "cell_type": "code",
   "execution_count": 31,
   "id": "32d1466b",
   "metadata": {},
   "outputs": [
    {
     "name": "stdout",
     "output_type": "stream",
     "text": [
      "{0: 'a', 1: 'b', 2: 'c'}\n",
      "{0: 'a', 1: 'b', 2: 'c'}\n"
     ]
    }
   ],
   "source": [
    "g=f.copy()\n",
    "print(g)\n",
    "print(f)"
   ]
  },
  {
   "cell_type": "code",
   "execution_count": 32,
   "id": "e3d15dee",
   "metadata": {},
   "outputs": [
    {
     "name": "stdout",
     "output_type": "stream",
     "text": [
      "{}\n"
     ]
    }
   ],
   "source": [
    "g.clear()\n",
    "print(g)"
   ]
  },
  {
   "cell_type": "code",
   "execution_count": 33,
   "id": "4703f6fc",
   "metadata": {},
   "outputs": [
    {
     "name": "stdout",
     "output_type": "stream",
     "text": [
      "{0: 'a', 1: 'b', 2: 'c'}\n"
     ]
    }
   ],
   "source": [
    "print(f)"
   ]
  },
  {
   "cell_type": "code",
   "execution_count": 35,
   "id": "dbdde8dc",
   "metadata": {},
   "outputs": [
    {
     "name": "stdout",
     "output_type": "stream",
     "text": [
      "{1: 2, 'Two': 100}\n"
     ]
    }
   ],
   "source": [
    "d={1:2,'Two':100}\n",
    "print(d)\n"
   ]
  },
  {
   "cell_type": "code",
   "execution_count": 36,
   "id": "96384eb4",
   "metadata": {},
   "outputs": [
    {
     "data": {
      "text/plain": [
       "2"
      ]
     },
     "execution_count": 36,
     "metadata": {},
     "output_type": "execute_result"
    }
   ],
   "source": [
    "d.pop(1)"
   ]
  },
  {
   "cell_type": "code",
   "execution_count": 65,
   "id": "3380d9fd",
   "metadata": {},
   "outputs": [
    {
     "name": "stdout",
     "output_type": "stream",
     "text": [
      "{1: 'a', 2: 'b', 3: 'c', 4: 'd', 5: 'e', 6: 'f'}\n"
     ]
    }
   ],
   "source": [
    "D={1:'a',2:'b',3:'c',4:'d',5:'e',6:'f'}\n",
    "print(D)"
   ]
  },
  {
   "cell_type": "code",
   "execution_count": 66,
   "id": "2c78883e",
   "metadata": {},
   "outputs": [
    {
     "data": {
      "text/plain": [
       "[1, 2, 3, 4, 5, 6]"
      ]
     },
     "execution_count": 66,
     "metadata": {},
     "output_type": "execute_result"
    }
   ],
   "source": [
    "sorted(D.keys())"
   ]
  },
  {
   "cell_type": "code",
   "execution_count": 67,
   "id": "d3999348",
   "metadata": {},
   "outputs": [
    {
     "data": {
      "text/plain": [
       "[6, 5, 4, 3, 2, 1]"
      ]
     },
     "execution_count": 67,
     "metadata": {},
     "output_type": "execute_result"
    }
   ],
   "source": [
    "sorted(D.keys(),reverse=True)"
   ]
  },
  {
   "cell_type": "code",
   "execution_count": 68,
   "id": "9c85e8fd",
   "metadata": {},
   "outputs": [
    {
     "data": {
      "text/plain": [
       "['a', 'b', 'c', 'd', 'e', 'f']"
      ]
     },
     "execution_count": 68,
     "metadata": {},
     "output_type": "execute_result"
    }
   ],
   "source": [
    "sorted(D.values())"
   ]
  },
  {
   "cell_type": "code",
   "execution_count": 69,
   "id": "40d2cb70",
   "metadata": {},
   "outputs": [
    {
     "data": {
      "text/plain": [
       "['f', 'e', 'd', 'c', 'b', 'a']"
      ]
     },
     "execution_count": 69,
     "metadata": {},
     "output_type": "execute_result"
    }
   ],
   "source": [
    "sorted(D.values(),reverse=True)"
   ]
  },
  {
   "cell_type": "code",
   "execution_count": 61,
   "id": "7474f3d4",
   "metadata": {},
   "outputs": [
    {
     "data": {
      "text/plain": [
       "'a'"
      ]
     },
     "execution_count": 61,
     "metadata": {},
     "output_type": "execute_result"
    }
   ],
   "source": [
    "D.pop(1)"
   ]
  },
  {
   "cell_type": "code",
   "execution_count": 59,
   "id": "c2b6b028",
   "metadata": {},
   "outputs": [
    {
     "name": "stdout",
     "output_type": "stream",
     "text": [
      "{1: 'a', 2: 'b', 3: 'c', 5: 'e', 6: 'f'}\n"
     ]
    }
   ],
   "source": [
    "print(D)"
   ]
  },
  {
   "cell_type": "code",
   "execution_count": 38,
   "id": "29c9231b",
   "metadata": {},
   "outputs": [],
   "source": [
    "del d"
   ]
  },
  {
   "cell_type": "code",
   "execution_count": 41,
   "id": "3da299b2",
   "metadata": {},
   "outputs": [],
   "source": [
    "del f"
   ]
  },
  {
   "cell_type": "code",
   "execution_count": 42,
   "id": "873bc303",
   "metadata": {},
   "outputs": [
    {
     "ename": "NameError",
     "evalue": "name 'f' is not defined",
     "output_type": "error",
     "traceback": [
      "\u001b[1;31m---------------------------------------------------------------------------\u001b[0m",
      "\u001b[1;31mNameError\u001b[0m                                 Traceback (most recent call last)",
      "\u001b[1;32m<ipython-input-42-fc0364975534>\u001b[0m in \u001b[0;36m<module>\u001b[1;34m\u001b[0m\n\u001b[1;32m----> 1\u001b[1;33m \u001b[0mprint\u001b[0m\u001b[1;33m(\u001b[0m\u001b[0mf\u001b[0m\u001b[1;33m)\u001b[0m\u001b[1;33m\u001b[0m\u001b[1;33m\u001b[0m\u001b[0m\n\u001b[0m",
      "\u001b[1;31mNameError\u001b[0m: name 'f' is not defined"
     ]
    }
   ],
   "source": [
    "print(f)"
   ]
  },
  {
   "cell_type": "code",
   "execution_count": 26,
   "id": "40151d5b",
   "metadata": {},
   "outputs": [
    {
     "name": "stdout",
     "output_type": "stream",
     "text": [
      "{0: 'a', 1: 'quick', 2: 'brown', 3: ('fox', 'cat'), 4: 'jumps', 6: 'a', 7: 'lazy', 8: 'dog', 99: 'ashdwui', 'surname': 'verma', 'a': ' '}\n"
     ]
    }
   ],
   "source": [
    "print(di)"
   ]
  },
  {
   "cell_type": "code",
   "execution_count": 29,
   "id": "aee3ad23",
   "metadata": {},
   "outputs": [
    {
     "ename": "KeyError",
     "evalue": "0",
     "output_type": "error",
     "traceback": [
      "\u001b[1;31m---------------------------------------------------------------------------\u001b[0m",
      "\u001b[1;31mKeyError\u001b[0m                                  Traceback (most recent call last)",
      "\u001b[1;32m<ipython-input-29-68fd11377796>\u001b[0m in \u001b[0;36m<module>\u001b[1;34m\u001b[0m\n\u001b[1;32m----> 1\u001b[1;33m \u001b[1;32mdel\u001b[0m \u001b[0mdi\u001b[0m\u001b[1;33m[\u001b[0m\u001b[1;36m0\u001b[0m\u001b[1;33m]\u001b[0m\u001b[1;33m\u001b[0m\u001b[1;33m\u001b[0m\u001b[0m\n\u001b[0m\u001b[0;32m      2\u001b[0m \u001b[0mprint\u001b[0m\u001b[1;33m(\u001b[0m\u001b[0mdi\u001b[0m\u001b[1;33m)\u001b[0m\u001b[1;33m\u001b[0m\u001b[1;33m\u001b[0m\u001b[0m\n",
      "\u001b[1;31mKeyError\u001b[0m: 0"
     ]
    }
   ],
   "source": [
    "del di[0]\n",
    "print(di)"
   ]
  },
  {
   "cell_type": "code",
   "execution_count": 18,
   "id": "09c432f7",
   "metadata": {},
   "outputs": [],
   "source": [
    "di.update({'a':' '})"
   ]
  },
  {
   "cell_type": "code",
   "execution_count": 23,
   "id": "c0e08987",
   "metadata": {},
   "outputs": [],
   "source": [
    "di.update({3:('fox','cat')})"
   ]
  },
  {
   "cell_type": "code",
   "execution_count": 24,
   "id": "fa8b4f02",
   "metadata": {},
   "outputs": [
    {
     "name": "stdout",
     "output_type": "stream",
     "text": [
      "{0: 'a', 1: 'quick', 2: 'brown', 3: ('fox', 'cat'), 4: 'jumps', 6: 'a', 7: 'lazy', 8: 'dog', 99: 'ashdwui', 'surname': 'verma', 'a': ' '}\n"
     ]
    }
   ],
   "source": [
    "print(di)"
   ]
  },
  {
   "cell_type": "code",
   "execution_count": 25,
   "id": "e12f90d5",
   "metadata": {},
   "outputs": [],
   "source": [
    "# delete\n",
    "# del di"
   ]
  },
  {
   "cell_type": "code",
   "execution_count": 8,
   "id": "14843e3c",
   "metadata": {},
   "outputs": [
    {
     "name": "stdout",
     "output_type": "stream",
     "text": [
      "xyzmnoghijkl\n"
     ]
    }
   ],
   "source": [
    "s1='abcdefxyzmno'\n",
    "s2='abcdefghijkl'\n",
    "s3=''\n",
    "s4=''\n",
    "for i in s1:\n",
    "    \n",
    "    if i not in s2:\n",
    "        s3+=i\n",
    "for j in s2:\n",
    "    if j not in s1:\n",
    "        s4+=j\n",
    "        \n",
    "print(s3+s4)\n",
    "               "
   ]
  },
  {
   "cell_type": "code",
   "execution_count": 62,
   "id": "dda85f16",
   "metadata": {},
   "outputs": [
    {
     "name": "stdout",
     "output_type": "stream",
     "text": [
      "{1: 'quick', 2: 'brown', 3: ('fox', 'cat'), 4: 'jumps', 6: 'a', 7: 'lazy', 8: 'dog', 99: 'ashdwui', 'surname': 'verma', 'a': ' '}\n"
     ]
    }
   ],
   "source": [
    "print(di)"
   ]
  },
  {
   "cell_type": "code",
   "execution_count": 63,
   "id": "903257ad",
   "metadata": {},
   "outputs": [
    {
     "ename": "TypeError",
     "evalue": "'<' not supported between instances of 'str' and 'int'",
     "output_type": "error",
     "traceback": [
      "\u001b[1;31m---------------------------------------------------------------------------\u001b[0m",
      "\u001b[1;31mTypeError\u001b[0m                                 Traceback (most recent call last)",
      "\u001b[1;32m<ipython-input-63-b66971d907d3>\u001b[0m in \u001b[0;36m<module>\u001b[1;34m\u001b[0m\n\u001b[0;32m      1\u001b[0m \u001b[1;31m#sorted\u001b[0m\u001b[1;33m\u001b[0m\u001b[1;33m\u001b[0m\u001b[1;33m\u001b[0m\u001b[0m\n\u001b[1;32m----> 2\u001b[1;33m \u001b[0msorted\u001b[0m\u001b[1;33m(\u001b[0m\u001b[0mdi\u001b[0m\u001b[1;33m.\u001b[0m\u001b[0mkeys\u001b[0m\u001b[1;33m(\u001b[0m\u001b[1;33m)\u001b[0m\u001b[1;33m)\u001b[0m\u001b[1;33m\u001b[0m\u001b[1;33m\u001b[0m\u001b[0m\n\u001b[0m\u001b[0;32m      3\u001b[0m \u001b[1;33m\u001b[0m\u001b[0m\n\u001b[0;32m      4\u001b[0m         \u001b[1;31m# OR\u001b[0m\u001b[1;33m\u001b[0m\u001b[1;33m\u001b[0m\u001b[1;33m\u001b[0m\u001b[0m\n\u001b[0;32m      5\u001b[0m \u001b[1;31m# print(sorted(di.keys(),reverse=True))\u001b[0m\u001b[1;33m\u001b[0m\u001b[1;33m\u001b[0m\u001b[1;33m\u001b[0m\u001b[0m\n",
      "\u001b[1;31mTypeError\u001b[0m: '<' not supported between instances of 'str' and 'int'"
     ]
    }
   ],
   "source": [
    "#sorted\n",
    "sorted(di.keys())\n",
    "\n",
    "        # OR\n",
    "# print(sorted(di.keys(),reverse=True))"
   ]
  },
  {
   "cell_type": "code",
   "execution_count": 51,
   "id": "e4602ce8",
   "metadata": {},
   "outputs": [
    {
     "name": "stdout",
     "output_type": "stream",
     "text": [
      "122\n",
      "65\n"
     ]
    }
   ],
   "source": [
    "print(ord('z'))\n",
    "print(ord('A'))"
   ]
  },
  {
   "cell_type": "code",
   "execution_count": 47,
   "id": "59fe7715",
   "metadata": {},
   "outputs": [
    {
     "name": "stdout",
     "output_type": "stream",
     "text": [
      "['A', 'a']\n"
     ]
    }
   ],
   "source": [
    "k={'a':1,'A':2}\n",
    "print(sorted(k.keys()))"
   ]
  },
  {
   "cell_type": "code",
   "execution_count": 32,
   "id": "93edd22f",
   "metadata": {},
   "outputs": [
    {
     "name": "stdout",
     "output_type": "stream",
     "text": [
      "['a', 'brown', 'dog', 'fox', 'jumps', 'lazy', 'over', 'quick']\n"
     ]
    }
   ],
   "source": [
    "print(sorted(di.values()))"
   ]
  },
  {
   "cell_type": "code",
   "execution_count": 33,
   "id": "37fc62ce",
   "metadata": {},
   "outputs": [
    {
     "name": "stdout",
     "output_type": "stream",
     "text": [
      "[(0, 'a'), (1, 'quick'), (2, 'brown'), (3, 'fox'), (4, 'jumps'), (5, 'over'), (7, 'lazy'), (8, 'dog')]\n"
     ]
    }
   ],
   "source": [
    "print(sorted(di.items()))"
   ]
  },
  {
   "cell_type": "code",
   "execution_count": 15,
   "id": "f9b1035c",
   "metadata": {},
   "outputs": [],
   "source": [
    "d1={'One':1,'Two':2,'Three':3,'Four':4,'Five':5}"
   ]
  },
  {
   "cell_type": "code",
   "execution_count": 35,
   "id": "c3653f84",
   "metadata": {},
   "outputs": [
    {
     "name": "stdout",
     "output_type": "stream",
     "text": [
      "{'O': 1, 'T': 3, 'F': 5}\n"
     ]
    }
   ],
   "source": [
    "d2={'O':1,'T':2,'T':3,'F':4,'F':5}\n",
    "print(d2)"
   ]
  },
  {
   "cell_type": "code",
   "execution_count": 36,
   "id": "be1ef343",
   "metadata": {},
   "outputs": [
    {
     "name": "stdout",
     "output_type": "stream",
     "text": [
      "['Five', 'Four', 'One', 'Three', 'Two']\n"
     ]
    }
   ],
   "source": [
    "print(sorted(d1))"
   ]
  },
  {
   "cell_type": "code",
   "execution_count": 37,
   "id": "4a1320df",
   "metadata": {},
   "outputs": [
    {
     "name": "stdout",
     "output_type": "stream",
     "text": [
      "['F', 'O', 'T']\n"
     ]
    }
   ],
   "source": [
    "print(sorted(d2))"
   ]
  },
  {
   "cell_type": "code",
   "execution_count": 57,
   "id": "9ce8ee26",
   "metadata": {},
   "outputs": [
    {
     "name": "stdout",
     "output_type": "stream",
     "text": [
      "{'One': 1, 'Two': 2, 'Three': 3, 'Four': 4, 'Five': 5}\n"
     ]
    }
   ],
   "source": [
    "print(d1)"
   ]
  },
  {
   "cell_type": "code",
   "execution_count": 16,
   "id": "a3661073",
   "metadata": {},
   "outputs": [
    {
     "name": "stdout",
     "output_type": "stream",
     "text": [
      "{'One': 1, 'Two': 2, 'Three': 3, 'Four': 4, 'Five': 6}\n"
     ]
    }
   ],
   "source": [
    "# update\n",
    "d1.update({'Five':6})\n",
    "print(d1)"
   ]
  },
  {
   "cell_type": "code",
   "execution_count": 17,
   "id": "957ee47a",
   "metadata": {},
   "outputs": [
    {
     "name": "stdout",
     "output_type": "stream",
     "text": [
      "{'One': 1, 'Two': 2, 'Three': 3, 'Four': 4, 'Five': 6, 'example': 100}\n"
     ]
    }
   ],
   "source": [
    "d1.update({'example':100})\n",
    "print(d1)"
   ]
  },
  {
   "cell_type": "code",
   "execution_count": 18,
   "id": "39d74307",
   "metadata": {},
   "outputs": [
    {
     "name": "stdout",
     "output_type": "stream",
     "text": [
      "{0: 'a', 1: 'quick', 2: 'brown', 3: 'fox', 4: 'jumps', 5: 'over', 6: 'a', 7: 'lazy', 8: 'dog'}\n"
     ]
    }
   ],
   "source": [
    "print(di)"
   ]
  },
  {
   "cell_type": "code",
   "execution_count": 19,
   "id": "71a9a33b",
   "metadata": {},
   "outputs": [
    {
     "name": "stdout",
     "output_type": "stream",
     "text": [
      "a\n",
      "{1: 'quick', 2: 'brown', 3: 'fox', 4: 'jumps', 5: 'over', 6: 'a', 7: 'lazy', 8: 'dog'}\n"
     ]
    }
   ],
   "source": [
    "# pop\n",
    "print(di.pop(0))\n",
    "print(di)"
   ]
  },
  {
   "cell_type": "code",
   "execution_count": 20,
   "id": "bed94090",
   "metadata": {},
   "outputs": [
    {
     "name": "stdout",
     "output_type": "stream",
     "text": [
      "(8, 'dog')\n"
     ]
    }
   ],
   "source": [
    "# pop item\n",
    "print(di.popitem())"
   ]
  },
  {
   "cell_type": "code",
   "execution_count": 21,
   "id": "890d4825",
   "metadata": {},
   "outputs": [
    {
     "name": "stdout",
     "output_type": "stream",
     "text": [
      "{1: 'quick', 2: 'brown', 3: 'fox', 4: 'jumps', 5: 'over', 6: 'a', 7: 'lazy'}\n"
     ]
    }
   ],
   "source": [
    "print(di)"
   ]
  },
  {
   "cell_type": "code",
   "execution_count": 22,
   "id": "56179d14",
   "metadata": {},
   "outputs": [
    {
     "name": "stdout",
     "output_type": "stream",
     "text": [
      "{'One': 1, 'Two': 2, 'Three': 3, 'Four': 4, 'Five': 6, 'example': 100}\n"
     ]
    }
   ],
   "source": [
    "print(d1)"
   ]
  },
  {
   "cell_type": "code",
   "execution_count": 76,
   "id": "8671f767",
   "metadata": {},
   "outputs": [
    {
     "name": "stdout",
     "output_type": "stream",
     "text": [
      "(123456765432, 6)\n"
     ]
    }
   ],
   "source": [
    "print(d1.popitem())"
   ]
  },
  {
   "cell_type": "code",
   "execution_count": 77,
   "id": "0ae31797",
   "metadata": {},
   "outputs": [
    {
     "name": "stdout",
     "output_type": "stream",
     "text": [
      "{'One': 1, 'Two': 2, 'Three': 3, 'Four': 4, 'Five': 6}\n"
     ]
    }
   ],
   "source": [
    "print(d1)"
   ]
  },
  {
   "cell_type": "code",
   "execution_count": 71,
   "id": "0cded9b4",
   "metadata": {},
   "outputs": [
    {
     "name": "stdout",
     "output_type": "stream",
     "text": [
      "{'a': [1, 2, 3, 4, 5], 'o': [1, 2, 3, 4, 5], 'i': [1, 2, 3, 4, 5], 'e': [1, 2, 3, 4, 5], 'u': [1, 2, 3, 4, 5]}\n"
     ]
    }
   ],
   "source": [
    "# from keys\n",
    "li=['a','o','i','e','u']\n",
    "l1=[1,2,3,4,5]\n",
    "new_dict=dict.fromkeys(li,l1)\n",
    "print(new_dict)"
   ]
  },
  {
   "cell_type": "code",
   "execution_count": 72,
   "id": "adfb1c47",
   "metadata": {},
   "outputs": [
    {
     "name": "stdout",
     "output_type": "stream",
     "text": [
      "{1: 'quick', 2: 'brown', 3: ('fox', 'cat'), 4: 'jumps', 6: 'a', 7: 'lazy', 8: 'dog', 99: 'ashdwui', 'surname': 'verma', 'a': ' '}\n"
     ]
    }
   ],
   "source": [
    "print(di)``"
   ]
  },
  {
   "cell_type": "code",
   "execution_count": 80,
   "id": "b253f209",
   "metadata": {},
   "outputs": [],
   "source": [
    "di.update({3:'fox'})"
   ]
  },
  {
   "cell_type": "code",
   "execution_count": 83,
   "id": "4c7ea908",
   "metadata": {},
   "outputs": [
    {
     "name": "stdout",
     "output_type": "stream",
     "text": [
      "{1: 'quick', 2: 'brown', 3: 'fox', 4: 'jumps', 6: 'a', 7: 'lazy', 8: 'dog', 99: 'ashdwui'}\n"
     ]
    }
   ],
   "source": [
    "print(di)"
   ]
  },
  {
   "cell_type": "code",
   "execution_count": 84,
   "id": "672213f1",
   "metadata": {},
   "outputs": [
    {
     "name": "stdout",
     "output_type": "stream",
     "text": [
      "99\n",
      "quick\n"
     ]
    }
   ],
   "source": [
    "#max\n",
    "print(max(di.keys()))\n",
    "print(max(di.values()))"
   ]
  },
  {
   "cell_type": "code",
   "execution_count": 85,
   "id": "7944f668",
   "metadata": {},
   "outputs": [
    {
     "name": "stdout",
     "output_type": "stream",
     "text": [
      "1\n",
      "a\n"
     ]
    }
   ],
   "source": [
    "# min\n",
    "print(min(di.keys()))\n",
    "print(min(di.values()))"
   ]
  },
  {
   "cell_type": "code",
   "execution_count": 79,
   "id": "6fdee3c0",
   "metadata": {},
   "outputs": [
    {
     "name": "stdout",
     "output_type": "stream",
     "text": [
      "{1: 'quick', 2: 'brown', 4: 'jumps', 6: 'a', 7: 'lazy'}\n"
     ]
    }
   ],
   "source": [
    "print(di)"
   ]
  },
  {
   "cell_type": "code",
   "execution_count": 86,
   "id": "9e8d1dcf",
   "metadata": {},
   "outputs": [
    {
     "name": "stdout",
     "output_type": "stream",
     "text": [
      "{1: 'quick', 2: 'brown', 3: 'fox', 4: 'jumps', 6: 'a', 7: 'lazy', 8: 'Dog', 99: 'ashdwui'}\n"
     ]
    }
   ],
   "source": [
    "# dictionary modification\n",
    "di[8]='Dog'\n",
    "print(di)"
   ]
  },
  {
   "cell_type": "code",
   "execution_count": 88,
   "id": "8f75aee1",
   "metadata": {},
   "outputs": [
    {
     "name": "stdout",
     "output_type": "stream",
     "text": [
      "{1: 'quick', 2: 'brown', 3: 'fox', 4: 'house', 6: 'a', 7: 'lazy', 8: 'Dog', 99: 'ashdwui'}\n"
     ]
    }
   ],
   "source": [
    "di[4]='house'\n",
    "print(di)"
   ]
  },
  {
   "cell_type": "markdown",
   "id": "992f9c65",
   "metadata": {},
   "source": [
    "## Dictionary Creation"
   ]
  },
  {
   "cell_type": "code",
   "execution_count": 36,
   "id": "394ed2dc",
   "metadata": {},
   "outputs": [],
   "source": [
    "DICT={}"
   ]
  },
  {
   "cell_type": "code",
   "execution_count": 37,
   "id": "ed5a46c4",
   "metadata": {},
   "outputs": [
    {
     "name": "stdout",
     "output_type": "stream",
     "text": [
      "{}\n"
     ]
    }
   ],
   "source": [
    "a={}\n",
    "print(a)"
   ]
  },
  {
   "cell_type": "code",
   "execution_count": 38,
   "id": "4a87c2aa",
   "metadata": {},
   "outputs": [
    {
     "name": "stdout",
     "output_type": "stream",
     "text": [
      "{}\n",
      "<class 'dict'>\n"
     ]
    }
   ],
   "source": [
    "print(DICT)\n",
    "print(type(DICT))"
   ]
  },
  {
   "cell_type": "code",
   "execution_count": 39,
   "id": "dccc0af3",
   "metadata": {},
   "outputs": [],
   "source": [
    "DICT[5]='Welcome'\n",
    "DICT[6]='To'\n",
    "DICT[7]=\"Madrid\"\n",
    "DICT['A']={1 : 'Pyhton', 2 : 'For', 3 : 'AI'}\n",
    "DICT['B']={1 : 'Madrid', 2 : 'Solutions'}\n",
    "DICT['C']=[100,200,300]\n",
    "DICT['D']=(4,44,444,4444)\n",
    "DICT[0]=123456"
   ]
  },
  {
   "cell_type": "code",
   "execution_count": 21,
   "id": "ece5293e",
   "metadata": {},
   "outputs": [
    {
     "name": "stdout",
     "output_type": "stream",
     "text": [
      "{5: 'Welcome', 6: 'To', 7: 'Madrid', 'A': {1: 'Pyhton', 2: 'For', 3: 'AI'}, 'B': {1: 'Madrid', 2: 'Solutions'}, 'C': [100, 200, 300], 'D': (4, 44, 444, 4444), 0: 123456}\n"
     ]
    }
   ],
   "source": [
    "print(DICT)"
   ]
  },
  {
   "cell_type": "code",
   "execution_count": 109,
   "id": "17fad770",
   "metadata": {},
   "outputs": [
    {
     "name": "stdout",
     "output_type": "stream",
     "text": [
      "{5: 'Welcome', 6: 'To', 7: 'Madrid', 'A': {1: 'Pyhton', 2: 'For', 3: 'AI'}, 'B': {1: 'Madrid', 2: 'Solutions'}, 'C': [100, 200, 300], 'D': (4, 44, 444, 4444), 0: 123456}\n",
      "8\n"
     ]
    }
   ],
   "source": [
    "print(DICT)\n",
    "print(len(DICT))"
   ]
  },
  {
   "cell_type": "markdown",
   "id": "6dc7ec7d",
   "metadata": {},
   "source": [
    "## Nested Dictionary"
   ]
  },
  {
   "cell_type": "code",
   "execution_count": 128,
   "id": "705b600e",
   "metadata": {},
   "outputs": [
    {
     "name": "stdout",
     "output_type": "stream",
     "text": [
      "{5: 'Welcome', 6: 'To', 7: 'Madrid', 'A': {1: 'Pyhton', 2: 'For', 3: 'AI'}, 'B': {1: 'Madrid', 2: 'Solutions'}, 'C': [100, 200, 300], 'D': (4, 44, 444, 4444)}\n"
     ]
    }
   ],
   "source": [
    "DICT = {5: 'Welcome', 6: 'To', 7: 'Madrid', 'A': {1: 'Pyhton', 2: 'For', 3: 'AI'}, 'B': {1: 'Madrid', 2: 'Solutions'}, 'C': [100, 200, 300], 'D': (4, 44, 444, 4444)}\n",
    "print(DICT)"
   ]
  },
  {
   "cell_type": "code",
   "execution_count": 34,
   "id": "a3a55cc3",
   "metadata": {},
   "outputs": [
    {
     "name": "stdout",
     "output_type": "stream",
     "text": [
      "{5: 'Welcome', 'A': {1: 'Pyhton', 2: 'For', 3: 'AI'}, 'B': {1: 'Madrid', 2: 'Solutions'}, 'C': [100, 200, 300], 'D': (4, 44, 444, 4444), 0: 123456}\n"
     ]
    }
   ],
   "source": [
    "# print(len(DICT))\n",
    "# print(DICT.keys())\n",
    "# print(DICT.values())\n",
    "# print(DICT.items())\n",
    "# print(DICT)\n",
    "# DICT.clear()\n",
    "# print(DICT)\n",
    "# del DICT[6]\n",
    "# print(DICT)\n",
    "# DICT.update({'Nine':9})\n",
    "# print(DICT)\n",
    "# print(DICT.pop(7))\n",
    "# print(DICT)\n",
    "DICT.popitem()\n",
    "print(DICT)\n"
   ]
  },
  {
   "cell_type": "code",
   "execution_count": 40,
   "id": "bf2f0967",
   "metadata": {},
   "outputs": [
    {
     "name": "stdout",
     "output_type": "stream",
     "text": [
      "{5: 'Welcome', 6: 'To', 7: 'Madrid', 'A': {1: 'Pyhton', 2: 'For', 3: 'AI'}, 'B': {1: 'Madrid', 2: 'Solutions'}, 'C': [100, 200, 300], 'D': (4, 44, 444, 4444), 0: 123456}\n"
     ]
    }
   ],
   "source": [
    "print(DICT)"
   ]
  },
  {
   "cell_type": "code",
   "execution_count": 43,
   "id": "42569fbd",
   "metadata": {},
   "outputs": [
    {
     "name": "stdout",
     "output_type": "stream",
     "text": [
      "AI\n",
      "Solutions\n"
     ]
    }
   ],
   "source": [
    "# print(DICT[5])\n",
    "# print(DICT['A'])\n",
    "# print(DICT['D'])\n",
    "print(DICT['A'][3])\n",
    "print(DICT['B'][2])\n"
   ]
  },
  {
   "cell_type": "markdown",
   "id": "034da771",
   "metadata": {},
   "source": [
    "### Dictionary comprehension\n"
   ]
  },
  {
   "cell_type": "markdown",
   "id": "a7e30f23",
   "metadata": {},
   "source": [
    "Like List Comprehension, Python allows dictionary comprehensions. We can create dictionaries using simple expressions.\n",
    "A dictionary comprehension takes the form {key: value for (key, value) in iterable}"
   ]
  },
  {
   "cell_type": "code",
   "execution_count": 142,
   "id": "7b3b1223",
   "metadata": {},
   "outputs": [
    {
     "name": "stdout",
     "output_type": "stream",
     "text": [
      "{'a': 1, 'b': 2, 'c': 3, 'd': 4, 'e': 5}\n"
     ]
    }
   ],
   "source": [
    "keys = ['a','b','c','d','e']\n",
    "values = [1,2,3,4,5]\n",
    "\n",
    "# this line shows dict comprehension here\n",
    "myDict = { k:v for (k,v) in zip(keys, values)}\n",
    "\n",
    "print (myDict)\n",
    "# print(myDict['d'])\n",
    "# print(*myDict.keys())\n",
    "\n",
    "# print(*myDict.values())\n",
    "# {'D':1,'e':2,'p':1,'a':1,'n':1}"
   ]
  },
  {
   "cell_type": "code",
   "execution_count": null,
   "id": "8db94472",
   "metadata": {},
   "outputs": [],
   "source": [
    "x='Deepanshu'"
   ]
  },
  {
   "cell_type": "code",
   "execution_count": 52,
   "id": "5e3775b2",
   "metadata": {},
   "outputs": [
    {
     "data": {
      "text/plain": [
       "{'n': 2, 'i': 2, 't': 1}"
      ]
     },
     "execution_count": 52,
     "metadata": {},
     "output_type": "execute_result"
    }
   ],
   "source": [
    "a='nitin'\n",
    "{i : a.count(i) for i in a}"
   ]
  },
  {
   "cell_type": "code",
   "execution_count": 60,
   "id": "61c7ba15",
   "metadata": {},
   "outputs": [
    {
     "name": "stdout",
     "output_type": "stream",
     "text": [
      "{1: 1, 2: 4, 3: 27, 4: 16, 5: 125, 6: 36, 7: 343, 9: 729}\n"
     ]
    }
   ],
   "source": [
    "L=[1,2,3,4,5,6,7,9]\n",
    "x={i:i**2 if i%2==0 else i**3 for i in L}\n",
    "print(x)"
   ]
  },
  {
   "cell_type": "code",
   "execution_count": 69,
   "id": "d587cf6a",
   "metadata": {},
   "outputs": [
    {
     "name": "stdout",
     "output_type": "stream",
     "text": [
      "['pink', 'red', 'green']\n",
      "['knip', 'der', 'neerg']\n"
     ]
    }
   ],
   "source": [
    "a=['green','red','pink']\n",
    "L=[]\n",
    "a.reverse()\n",
    "print(a)\n",
    "for i in a:\n",
    "    L.append(i[::-1])\n",
    "print(L)"
   ]
  },
  {
   "cell_type": "code",
   "execution_count": 74,
   "id": "1d6a5161",
   "metadata": {},
   "outputs": [
    {
     "name": "stdout",
     "output_type": "stream",
     "text": [
      "]'knip' ,'der' ,'neerg'[\n"
     ]
    }
   ],
   "source": [
    "a=['green','red','pink']\n",
    "# output=]'knip' ,'der' ,'neerg'["
   ]
  },
  {
   "cell_type": "code",
   "execution_count": 66,
   "id": "8908f357",
   "metadata": {},
   "outputs": [
    {
     "name": "stdout",
     "output_type": "stream",
     "text": [
      "{'green': {'green': 1}, 'red': {'red': 1}, 'pink': {'pink': 1}}\n"
     ]
    }
   ],
   "source": [
    "D={}\n",
    "for i in a:\n",
    "    q=i\n",
    "    D[i]={q:q.count(j) for j in q}\n",
    "print(D)"
   ]
  },
  {
   "cell_type": "code",
   "execution_count": 55,
   "id": "5a1a743e",
   "metadata": {},
   "outputs": [
    {
     "name": "stdout",
     "output_type": "stream",
     "text": [
      "{'n': 2, 'i': 2, 't': 1}\n"
     ]
    }
   ],
   "source": [
    "t={}\n",
    "for i in a:\n",
    "    z=a.count(i)\n",
    "    t[i]=z\n",
    "print(t)\n",
    "    "
   ]
  },
  {
   "cell_type": "code",
   "execution_count": 53,
   "id": "63858f9f",
   "metadata": {},
   "outputs": [
    {
     "name": "stdout",
     "output_type": "stream",
     "text": [
      "{'n': 2, 'i': 2, 't': 1}\n"
     ]
    }
   ],
   "source": [
    "p={}\n",
    "for j in a:\n",
    "    p[j]=a.count(j)\n",
    "print(p)"
   ]
  },
  {
   "cell_type": "code",
   "execution_count": 51,
   "id": "7fb42e99",
   "metadata": {},
   "outputs": [
    {
     "name": "stdout",
     "output_type": "stream",
     "text": [
      "{'a': 1, 'e': 2, 'i': 3, 'o': 4, 'u': 5}\n"
     ]
    }
   ],
   "source": [
    "a=['a','e','i','o','u']\n",
    "b=[1,2,3,4,5]\n",
    "f={i:j for i,j in zip(a,b)}\n",
    "print(f)"
   ]
  },
  {
   "cell_type": "code",
   "execution_count": null,
   "id": "ae14bb57",
   "metadata": {},
   "outputs": [],
   "source": []
  },
  {
   "cell_type": "code",
   "execution_count": 95,
   "id": "c4295ddd",
   "metadata": {},
   "outputs": [
    {
     "data": {
      "text/plain": [
       "'DEEPAMSUU'"
      ]
     },
     "execution_count": 95,
     "metadata": {},
     "output_type": "execute_result"
    }
   ],
   "source": [
    "name='deepamsuu'\n",
    "name.upper()"
   ]
  },
  {
   "cell_type": "code",
   "execution_count": 96,
   "id": "14f34e1d",
   "metadata": {},
   "outputs": [
    {
     "name": "stdout",
     "output_type": "stream",
     "text": [
      "deepamsuu\n"
     ]
    }
   ],
   "source": [
    "print(name)"
   ]
  },
  {
   "cell_type": "code",
   "execution_count": null,
   "id": "6a70cd43",
   "metadata": {},
   "outputs": [],
   "source": []
  },
  {
   "cell_type": "code",
   "execution_count": 44,
   "id": "8619fe21",
   "metadata": {},
   "outputs": [
    {
     "name": "stdout",
     "output_type": "stream",
     "text": [
      "{1: 1, 2: 4, 3: 9, 4: 16, 5: 25}\n"
     ]
    }
   ],
   "source": [
    "# Python code to demonstrate dictionary creation using list comprehension\n",
    "myDict = {x: x**2 for x in [1,2,3,4,5]}\n",
    "print (myDict)\n"
   ]
  },
  {
   "cell_type": "code",
   "execution_count": 13,
   "id": "0ef9b069",
   "metadata": {},
   "outputs": [
    {
     "name": "stdout",
     "output_type": "stream",
     "text": [
      "{'c': 'Ccc', 'o': 'Ooo', 'd': 'Ddd', 'i': 'Iii', 'n': 'Nnn', 'g': 'Ggg'}\n"
     ]
    }
   ],
   "source": [
    "sDict = {x: (x*3).title() for x in 'coding'}\n",
    "print (sDict)"
   ]
  },
  {
   "cell_type": "code",
   "execution_count": 50,
   "id": "4ca3c71e",
   "metadata": {},
   "outputs": [
    {
     "name": "stdout",
     "output_type": "stream",
     "text": [
      "{6: 36, 7: 49}\n"
     ]
    }
   ],
   "source": [
    "z={i:i*i for i in [2,3,4,5,6,6,7] if i>=6}\n",
    "print(z)"
   ]
  },
  {
   "cell_type": "code",
   "execution_count": 49,
   "id": "80f6ce9f",
   "metadata": {},
   "outputs": [
    {
     "name": "stdout",
     "output_type": "stream",
     "text": [
      "(1, 1)\n",
      "(2, 4)\n",
      "(3, 9)\n",
      "(4, 16)\n",
      "(5, 25)\n"
     ]
    }
   ],
   "source": [
    "d={1: 1, 2: 4, 3: 9, 4: 16, 5: 25}\n",
    "for i in d.items():\n",
    "    print(i)"
   ]
  },
  {
   "cell_type": "code",
   "execution_count": 67,
   "id": "dbe877a3",
   "metadata": {},
   "outputs": [
    {
     "name": "stdout",
     "output_type": "stream",
     "text": [
      "(1, 1)\n",
      "(2, 4)\n",
      "(3, 9)\n",
      "(4, 16)\n",
      "(5, 25)\n"
     ]
    }
   ],
   "source": [
    "for i in d.items():\n",
    "    print(i)"
   ]
  },
  {
   "cell_type": "code",
   "execution_count": 101,
   "id": "d3cb5750",
   "metadata": {},
   "outputs": [
    {
     "name": "stdout",
     "output_type": "stream",
     "text": [
      "0\n",
      "Two\n",
      "3\n",
      "Four\n"
     ]
    }
   ],
   "source": [
    "for j in d.keys():\n",
    "    print(j)"
   ]
  },
  {
   "cell_type": "code",
   "execution_count": 102,
   "id": "660c38a9",
   "metadata": {},
   "outputs": [
    {
     "name": "stdout",
     "output_type": "stream",
     "text": [
      "One\n",
      "2\n",
      "Three\n",
      "4\n"
     ]
    }
   ],
   "source": [
    "for k in d.values():\n",
    "    print(k)"
   ]
  },
  {
   "cell_type": "code",
   "execution_count": 103,
   "id": "3d4b3e3d",
   "metadata": {},
   "outputs": [
    {
     "name": "stdout",
     "output_type": "stream",
     "text": [
      "(0, 'One')\n",
      "('Two', 2)\n",
      "(3, 'Three')\n",
      "('Four', 4)\n"
     ]
    }
   ],
   "source": [
    "for x in d.items():\n",
    "    print(x)"
   ]
  },
  {
   "cell_type": "code",
   "execution_count": null,
   "id": "2706e32e",
   "metadata": {},
   "outputs": [],
   "source": [
    "name='Deepanshu'\n",
    "a={}\n",
    "for i in name:\n",
    "    a[i]=name.count(i)\n",
    "print(a)"
   ]
  },
  {
   "cell_type": "code",
   "execution_count": null,
   "id": "3824bebe",
   "metadata": {},
   "outputs": [],
   "source": [
    "help(dict)"
   ]
  },
  {
   "cell_type": "code",
   "execution_count": null,
   "id": "13ec5f2b",
   "metadata": {},
   "outputs": [],
   "source": [
    "a='deepanshu'\n",
    "print(min(a))"
   ]
  },
  {
   "cell_type": "code",
   "execution_count": null,
   "id": "5b2dd181",
   "metadata": {},
   "outputs": [],
   "source": [
    "d={}\n",
    "D={}\n",
    "x='brontosauras'\n",
    "for i in x:\n",
    "    D[i]=x.count(i)\n",
    "    if x.count(i)==1:\n",
    "        d[i]=x.count(i)\n",
    "print(d,'\\n')\n",
    "\n",
    "# print(D)"
   ]
  },
  {
   "cell_type": "code",
   "execution_count": null,
   "id": "85357777",
   "metadata": {},
   "outputs": [],
   "source": [
    "b='brontosauras'\n",
    "B={}\n",
    "for i in b:\n",
    "    if b.count(i)==min(b):\n",
    "        pass\n",
    "    else:\n",
    "        B[i]=b.count(i)\n",
    "        \n",
    "print(B)\n"
   ]
  },
  {
   "cell_type": "code",
   "execution_count": null,
   "id": "aeb281be",
   "metadata": {},
   "outputs": [],
   "source": [
    "b='brontosauras'\n",
    "for i in b:\n",
    "    print(min(b(i)))"
   ]
  },
  {
   "cell_type": "code",
   "execution_count": null,
   "id": "9f54db94",
   "metadata": {},
   "outputs": [],
   "source": []
  },
  {
   "cell_type": "code",
   "execution_count": 136,
   "id": "a946a5a0",
   "metadata": {},
   "outputs": [
    {
     "name": "stdout",
     "output_type": "stream",
     "text": [
      "{'b': 1, 'r': 2, 'o': 2, 'n': 1, 't': 1, 's': 2, 'a': 2, 'u': 1}\n",
      "2\n",
      "0\n"
     ]
    }
   ],
   "source": [
    "d={}\n",
    "D={}\n",
    "x='brontosauras'\n",
    "for i in x:\n",
    "    D[i]=x.count(i)\n",
    "    \n",
    "\n",
    "\n",
    "print(D)\n",
    "m=0\n",
    "n=0\n",
    "p=0\n",
    "for j in D.values():\n",
    "#     print(j)\n",
    "    if p==0:\n",
    "        m=j\n",
    "        p+=1\n",
    "    if(m<j):\n",
    "        m=j\n",
    "    if(n>j):\n",
    "        n=j\n",
    "        \n",
    "print(m)\n",
    "print(n)\n",
    "# a=D.keys()\n",
    "# b=D.values()\n",
    "# print(a)\n",
    "# print(b)"
   ]
  },
  {
   "cell_type": "code",
   "execution_count": null,
   "id": "9938167e",
   "metadata": {},
   "outputs": [],
   "source": [
    "m=0\n",
    "n=0\n",
    "p=0\n",
    "for j in range(1,5):\n",
    "    z=int(input('enter z '))\n",
    "#     print(j)\n",
    "    if p==0:\n",
    "        m=j\n",
    "        p+=1\n",
    "    if(m<j):\n",
    "        m=j\n",
    "    if(n>j):\n",
    "        n=j"
   ]
  },
  {
   "cell_type": "code",
   "execution_count": null,
   "id": "a8d930b8",
   "metadata": {},
   "outputs": [],
   "source": [
    "a='race'\n",
    "b='care'"
   ]
  },
  {
   "cell_type": "code",
   "execution_count": null,
   "id": "fac6782c",
   "metadata": {},
   "outputs": [],
   "source": []
  }
 ],
 "metadata": {
  "kernelspec": {
   "display_name": "Python 3",
   "language": "python",
   "name": "python3"
  },
  "language_info": {
   "codemirror_mode": {
    "name": "ipython",
    "version": 3
   },
   "file_extension": ".py",
   "mimetype": "text/x-python",
   "name": "python",
   "nbconvert_exporter": "python",
   "pygments_lexer": "ipython3",
   "version": "3.8.8"
  }
 },
 "nbformat": 4,
 "nbformat_minor": 5
}
