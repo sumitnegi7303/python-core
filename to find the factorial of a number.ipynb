{
 "cells": [
  {
   "cell_type": "code",
   "execution_count": 1,
   "id": "38b80aba",
   "metadata": {},
   "outputs": [
    {
     "name": "stdout",
     "output_type": "stream",
     "text": [
      "Enter a number : 4\n",
      "The factorial of 4 is 1\n",
      "The factorial of 4 is 2\n",
      "The factorial of 4 is 6\n",
      "The factorial of 4 is 24\n"
     ]
    }
   ],
   "source": [
    "# to take input from the user\n",
    "num = int(input(\"Enter a number : \"))\n",
    "\n",
    "factorial = 1\n",
    "\n",
    "# check if the number is negative , positive or zero\n",
    "\n",
    "if num < 0:\n",
    "    print(\"Sorry , factorial does not exist for negative numbers\")\n",
    "elif num == 0:\n",
    "    print(\"The factorial of 0 is 1\")\n",
    "else :\n",
    "    for i in range(1,num +1):\n",
    "        factorial = factorial*i\n",
    "        print(\"The factorial of\",num, \"is\", factorial)\n",
    "        \n"
   ]
  },
  {
   "cell_type": "code",
   "execution_count": 4,
   "id": "f7d6aac2",
   "metadata": {},
   "outputs": [
    {
     "name": "stdout",
     "output_type": "stream",
     "text": [
      "Enter the number :13\n",
      "the factorial of  13 is  1\n",
      "the factorial of  13 is  2\n",
      "the factorial of  13 is  6\n",
      "the factorial of  13 is  24\n",
      "the factorial of  13 is  120\n",
      "the factorial of  13 is  720\n",
      "the factorial of  13 is  5040\n",
      "the factorial of  13 is  40320\n",
      "the factorial of  13 is  362880\n",
      "the factorial of  13 is  3628800\n",
      "the factorial of  13 is  39916800\n",
      "the factorial of  13 is  479001600\n",
      "the factorial of  13 is  6227020800\n"
     ]
    }
   ],
   "source": [
    "num = int(input(\"Enter the number :\"))\n",
    "factorial = 1 \n",
    "\n",
    "if num < 0 :\n",
    "    print(\"Sorry , factorial does not exist for negative numbers\")\n",
    "elif num == 0:\n",
    "    print(\"THe factorial of 0 is 1\")\n",
    "else :\n",
    "    for i in range (1,num +1):\n",
    "        factorial = factorial*i\n",
    "        print(\"the factorial of \" , num ,\"is \" , factorial)"
   ]
  },
  {
   "cell_type": "code",
   "execution_count": null,
   "id": "79d9588e",
   "metadata": {},
   "outputs": [],
   "source": []
  }
 ],
 "metadata": {
  "kernelspec": {
   "display_name": "Python 3 (ipykernel)",
   "language": "python",
   "name": "python3"
  },
  "language_info": {
   "codemirror_mode": {
    "name": "ipython",
    "version": 3
   },
   "file_extension": ".py",
   "mimetype": "text/x-python",
   "name": "python",
   "nbconvert_exporter": "python",
   "pygments_lexer": "ipython3",
   "version": "3.9.7"
  }
 },
 "nbformat": 4,
 "nbformat_minor": 5
}
