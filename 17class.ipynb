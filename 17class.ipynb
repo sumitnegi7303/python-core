{
 "cells": [
  {
   "cell_type": "code",
   "execution_count": 1,
   "id": "d8ec9957",
   "metadata": {},
   "outputs": [
    {
     "data": {
      "text/plain": [
       "['the cat ', 's s', 'tt', 'ng']"
      ]
     },
     "execution_count": 1,
     "metadata": {},
     "output_type": "execute_result"
    }
   ],
   "source": [
    "s = \"the cat is sitting\"\n",
    "s.split(sep = 'i')"
   ]
  },
  {
   "cell_type": "markdown",
   "id": "700ffa8e",
   "metadata": {},
   "source": [
    "# sepretor"
   ]
  },
  {
   "cell_type": "code",
   "execution_count": null,
   "id": "b5faed8d",
   "metadata": {},
   "outputs": [],
   "source": [
    "#partition:"
   ]
  },
  {
   "cell_type": "code",
   "execution_count": 5,
   "id": "203cf26c",
   "metadata": {},
   "outputs": [
    {
     "data": {
      "text/plain": [
       "('the cat ', 'i', 's sitting')"
      ]
     },
     "execution_count": 5,
     "metadata": {},
     "output_type": "execute_result"
    }
   ],
   "source": [
    "s.partition('i')                     #it means seprate the given word"
   ]
  },
  {
   "cell_type": "code",
   "execution_count": 7,
   "id": "4830c33f",
   "metadata": {},
   "outputs": [
    {
     "data": {
      "text/plain": [
       "('the c', 'a', 't is sitting')"
      ]
     },
     "execution_count": 7,
     "metadata": {},
     "output_type": "execute_result"
    }
   ],
   "source": [
    "s.partition('a')"
   ]
  },
  {
   "cell_type": "code",
   "execution_count": 8,
   "id": "89c14d89",
   "metadata": {},
   "outputs": [
    {
     "data": {
      "text/plain": [
       "'hello'"
      ]
     },
     "execution_count": 8,
     "metadata": {},
     "output_type": "execute_result"
    }
   ],
   "source": [
    "s = \"HELLO\"\n",
    "s = s.lower()\n",
    "s"
   ]
  },
  {
   "cell_type": "code",
   "execution_count": 21,
   "id": "7914eae0",
   "metadata": {},
   "outputs": [
    {
     "data": {
      "text/plain": [
       "'HELLO'"
      ]
     },
     "execution_count": 21,
     "metadata": {},
     "output_type": "execute_result"
    }
   ],
   "source": [
    "z = \"hello\"\n",
    "z = s.upper()\n",
    "z"
   ]
  },
  {
   "cell_type": "code",
   "execution_count": 20,
   "id": "789fbd65",
   "metadata": {},
   "outputs": [
    {
     "data": {
      "text/plain": [
       "True"
      ]
     },
     "execution_count": 20,
     "metadata": {},
     "output_type": "execute_result"
    }
   ],
   "source": [
    "s.islower()"
   ]
  },
  {
   "cell_type": "code",
   "execution_count": 21,
   "id": "e12836b7",
   "metadata": {},
   "outputs": [
    {
     "data": {
      "text/plain": [
       "False"
      ]
     },
     "execution_count": 21,
     "metadata": {},
     "output_type": "execute_result"
    }
   ],
   "source": [
    "s.isupper()"
   ]
  },
  {
   "cell_type": "code",
   "execution_count": 22,
   "id": "3ed044b0",
   "metadata": {},
   "outputs": [
    {
     "data": {
      "text/plain": [
       "6"
      ]
     },
     "execution_count": 22,
     "metadata": {},
     "output_type": "execute_result"
    }
   ],
   "source": [
    "s = \"the cat is sitting on the table and cat is again sleeping\"\n",
    "s.count(\"i\")"
   ]
  },
  {
   "cell_type": "code",
   "execution_count": 26,
   "id": "0dad5d7c",
   "metadata": {},
   "outputs": [
    {
     "data": {
      "text/plain": [
       "7"
      ]
     },
     "execution_count": 26,
     "metadata": {},
     "output_type": "execute_result"
    }
   ],
   "source": [
    "s = \"the cat is sitting on the table and cat is again sleeping\"\n",
    "s.count(\"t\")"
   ]
  },
  {
   "cell_type": "code",
   "execution_count": 28,
   "id": "f2165257",
   "metadata": {},
   "outputs": [
    {
     "data": {
      "text/plain": [
       "2"
      ]
     },
     "execution_count": 28,
     "metadata": {},
     "output_type": "execute_result"
    }
   ],
   "source": [
    "s.count(\"cat\")"
   ]
  },
  {
   "cell_type": "code",
   "execution_count": null,
   "id": "60020b28",
   "metadata": {},
   "outputs": [],
   "source": [
    "#find:"
   ]
  },
  {
   "cell_type": "code",
   "execution_count": 30,
   "id": "2cbb5152",
   "metadata": {},
   "outputs": [
    {
     "data": {
      "text/plain": [
       "4"
      ]
     },
     "execution_count": 30,
     "metadata": {},
     "output_type": "execute_result"
    }
   ],
   "source": [
    "s.find(\"c\")"
   ]
  },
  {
   "cell_type": "code",
   "execution_count": 31,
   "id": "a3a4d59c",
   "metadata": {},
   "outputs": [
    {
     "data": {
      "text/plain": [
       "11"
      ]
     },
     "execution_count": 31,
     "metadata": {},
     "output_type": "execute_result"
    }
   ],
   "source": [
    "s.find(\"sitting\")"
   ]
  },
  {
   "cell_type": "code",
   "execution_count": 32,
   "id": "dd454c6b",
   "metadata": {},
   "outputs": [
    {
     "data": {
      "text/plain": [
       "36"
      ]
     },
     "execution_count": 32,
     "metadata": {},
     "output_type": "execute_result"
    }
   ],
   "source": [
    "s.rfind(\"c\")"
   ]
  },
  {
   "cell_type": "code",
   "execution_count": 35,
   "id": "834551cc",
   "metadata": {},
   "outputs": [
    {
     "data": {
      "text/plain": [
       "5"
      ]
     },
     "execution_count": 35,
     "metadata": {},
     "output_type": "execute_result"
    }
   ],
   "source": [
    "s.index(\"a\")"
   ]
  },
  {
   "cell_type": "code",
   "execution_count": 36,
   "id": "acba6046",
   "metadata": {},
   "outputs": [
    {
     "data": {
      "text/plain": [
       "4"
      ]
     },
     "execution_count": 36,
     "metadata": {},
     "output_type": "execute_result"
    }
   ],
   "source": [
    "s.index(\"cat\")"
   ]
  },
  {
   "cell_type": "code",
   "execution_count": 39,
   "id": "fa9323ea",
   "metadata": {},
   "outputs": [
    {
     "data": {
      "text/plain": [
       "'a@b@C'"
      ]
     },
     "execution_count": 39,
     "metadata": {},
     "output_type": "execute_result"
    }
   ],
   "source": [
    "s = \"hello world\"\n",
    "\"@\".join([\"a\",\"b\",\"C\"])"
   ]
  },
  {
   "cell_type": "code",
   "execution_count": 42,
   "id": "d495ab38",
   "metadata": {},
   "outputs": [
    {
     "data": {
      "text/plain": [
       "True"
      ]
     },
     "execution_count": 42,
     "metadata": {},
     "output_type": "execute_result"
    }
   ],
   "source": [
    "s = \"hello world\"\n",
    "s.endswith(\"d\")"
   ]
  },
  {
   "cell_type": "code",
   "execution_count": 45,
   "id": "e22b08ea",
   "metadata": {},
   "outputs": [
    {
     "data": {
      "text/plain": [
       "False"
      ]
     },
     "execution_count": 45,
     "metadata": {},
     "output_type": "execute_result"
    }
   ],
   "source": [
    "s = \"hello world\"\n",
    "s.endswith(\"l\")"
   ]
  },
  {
   "cell_type": "code",
   "execution_count": 49,
   "id": "7330d5f1",
   "metadata": {},
   "outputs": [
    {
     "data": {
      "text/plain": [
       "'@@hello world@@'"
      ]
     },
     "execution_count": 49,
     "metadata": {},
     "output_type": "execute_result"
    }
   ],
   "source": [
    "s.center(15,\"@\")"
   ]
  },
  {
   "cell_type": "code",
   "execution_count": 58,
   "id": "1bcd755b",
   "metadata": {},
   "outputs": [],
   "source": [
    "s = \"  the  \""
   ]
  },
  {
   "cell_type": "code",
   "execution_count": 59,
   "id": "8152dae9",
   "metadata": {},
   "outputs": [
    {
     "data": {
      "text/plain": [
       "'  the'"
      ]
     },
     "execution_count": 59,
     "metadata": {},
     "output_type": "execute_result"
    }
   ],
   "source": [
    "s.rstrip()"
   ]
  },
  {
   "cell_type": "code",
   "execution_count": 60,
   "id": "923aa191",
   "metadata": {},
   "outputs": [
    {
     "data": {
      "text/plain": [
       "False"
      ]
     },
     "execution_count": 60,
     "metadata": {},
     "output_type": "execute_result"
    }
   ],
   "source": [
    "s=\"fhewuhfhuHUCGHEIjWDH 1234\"\n",
    "s.isalnum()"
   ]
  },
  {
   "cell_type": "code",
   "execution_count": 64,
   "id": "a3a70f30",
   "metadata": {},
   "outputs": [
    {
     "data": {
      "text/plain": [
       "True"
      ]
     },
     "execution_count": 64,
     "metadata": {},
     "output_type": "execute_result"
    }
   ],
   "source": [
    "s =\"fhewuhfhuHUCGHEIjWDH1234\"\n",
    "s.isalnum()"
   ]
  },
  {
   "cell_type": "code",
   "execution_count": 65,
   "id": "779ca04a",
   "metadata": {},
   "outputs": [
    {
     "data": {
      "text/plain": [
       "False"
      ]
     },
     "execution_count": 65,
     "metadata": {},
     "output_type": "execute_result"
    }
   ],
   "source": [
    "s.isspace()"
   ]
  },
  {
   "cell_type": "code",
   "execution_count": 66,
   "id": "bf813a91",
   "metadata": {},
   "outputs": [
    {
     "data": {
      "text/plain": [
       "True"
      ]
     },
     "execution_count": 66,
     "metadata": {},
     "output_type": "execute_result"
    }
   ],
   "source": [
    "s = \"   \"\n",
    "s.isspace()"
   ]
  },
  {
   "cell_type": "code",
   "execution_count": 67,
   "id": "f5924f58",
   "metadata": {},
   "outputs": [
    {
     "data": {
      "text/plain": [
       "True"
      ]
     },
     "execution_count": 67,
     "metadata": {},
     "output_type": "execute_result"
    }
   ],
   "source": [
    "s = \"123\"\n",
    "s.isdigit()"
   ]
  },
  {
   "cell_type": "code",
   "execution_count": 69,
   "id": "55b31df5",
   "metadata": {},
   "outputs": [
    {
     "data": {
      "text/plain": [
       "False"
      ]
     },
     "execution_count": 69,
     "metadata": {},
     "output_type": "execute_result"
    }
   ],
   "source": [
    "s.endswith(\"1\")"
   ]
  },
  {
   "cell_type": "code",
   "execution_count": 78,
   "id": "46601246",
   "metadata": {},
   "outputs": [
    {
     "data": {
      "text/plain": [
       "True"
      ]
     },
     "execution_count": 78,
     "metadata": {},
     "output_type": "execute_result"
    }
   ],
   "source": [
    "s.startswith(\"1\")"
   ]
  },
  {
   "cell_type": "code",
   "execution_count": 80,
   "id": "53d85779",
   "metadata": {},
   "outputs": [],
   "source": [
    "dog = 123\n",
    "floor = 45.6"
   ]
  },
  {
   "cell_type": "code",
   "execution_count": 81,
   "id": "7a42ba09",
   "metadata": {},
   "outputs": [
    {
     "name": "stdout",
     "output_type": "stream",
     "text": [
      "the 123 is sleeping on the 45.6\n"
     ]
    }
   ],
   "source": [
    "print(f\"the {dog} is sleeping on the {floor}\")"
   ]
  },
  {
   "cell_type": "code",
   "execution_count": 82,
   "id": "ffb84bc8",
   "metadata": {},
   "outputs": [
    {
     "name": "stdout",
     "output_type": "stream",
     "text": [
      "AMAN\n",
      "sINgh\n"
     ]
    }
   ],
   "source": [
    "s1 = \"aman\"\n",
    "s2 = \"SinGH\"\n",
    "print(s1.swapcase())\n",
    "print(s2.swapcase())"
   ]
  },
  {
   "cell_type": "code",
   "execution_count": null,
   "id": "802387f4",
   "metadata": {},
   "outputs": [],
   "source": [
    "help(str)"
   ]
  },
  {
   "cell_type": "code",
   "execution_count": null,
   "id": "31e5473d",
   "metadata": {},
   "outputs": [],
   "source": [
    "wap to enter a password and check if it is a valid password or not \n",
    "1)length of the password should be 10 or more \n",
    "2)atleast 1 lower\n",
    "3)atleast 1 uppercase\n",
    "4)atleast 1 digit\n",
    "5)atleast 1 special char"
   ]
  },
  {
   "cell_type": "code",
   "execution_count": 88,
   "id": "8d64423c",
   "metadata": {},
   "outputs": [
    {
     "name": "stdout",
     "output_type": "stream",
     "text": [
      "enter the password :BABY@999\n",
      "0 4 3 1\n",
      "try again!!!\n"
     ]
    }
   ],
   "source": [
    "p = input(\"enter the password :\")\n",
    "l,u,d,sp = 0,0,0,0\n",
    "for i in p :\n",
    "    if i.islower():\n",
    "        l=l+1\n",
    "    elif i.isupper():\n",
    "        u=u+1\n",
    "    elif i.isdigit():\n",
    "        d=d+1\n",
    "    else:\n",
    "        sp=sp+1\n",
    "print(l,u,d,sp)\n",
    "if l>0 and u>0 and d>0 and sp>0 and len(p)>=10:\n",
    "    print(\"password is valid\")\n",
    "else:\n",
    "    print(\"try again!!!\")"
   ]
  },
  {
   "cell_type": "code",
   "execution_count": 93,
   "id": "9a3914c5",
   "metadata": {},
   "outputs": [
    {
     "name": "stdout",
     "output_type": "stream",
     "text": [
      "enter the password :sumit@1234\n",
      "5 0 4 1\n",
      "try again!!!\n"
     ]
    }
   ],
   "source": [
    "p = input(\"enter the password :\")\n",
    "l,u,d,sp = 0,0,0,0\n",
    "for i in p :\n",
    "    if i.islower():\n",
    "        l=l+1\n",
    "    elif i.isupper():\n",
    "        u=u+1\n",
    "    elif i.isdigit():\n",
    "        d=d+1\n",
    "    else:\n",
    "        sp=sp+1\n",
    "print(l,u,d,sp)\n",
    "if l>0 and u>0 and d>0 and sp>0 and len(p)>=10:\n",
    "    print(\"password is valid\")\n",
    "else:\n",
    "    print(\"try again!!!\")"
   ]
  }
 ],
 "metadata": {
  "kernelspec": {
   "display_name": "Python 3 (ipykernel)",
   "language": "python",
   "name": "python3"
  },
  "language_info": {
   "codemirror_mode": {
    "name": "ipython",
    "version": 3
   },
   "file_extension": ".py",
   "mimetype": "text/x-python",
   "name": "python",
   "nbconvert_exporter": "python",
   "pygments_lexer": "ipython3",
   "version": "3.9.7"
  }
 },
 "nbformat": 4,
 "nbformat_minor": 5
}
