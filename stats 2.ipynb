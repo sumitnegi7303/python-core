{
 "cells": [
  {
   "cell_type": "code",
   "execution_count": null,
   "id": "43226b40",
   "metadata": {},
   "outputs": [],
   "source": [
    "in era of big data and artificial intelligence, data science and machine learing have become essential in many\n",
    "fields of science and technology.A necessary aspect of working with data is the ability to describe,\n",
    "summarize,and represent data visually.\n",
    "\n",
    "pyhon statistics libraries are \n",
    "comprehensive , popular,and widely used tools that will assist you in working with data."
   ]
  },
  {
   "cell_type": "code",
   "execution_count": null,
   "id": "4d56ced2",
   "metadata": {},
   "outputs": [],
   "source": [
    "In this tutorial,you'll learn:\n",
    ".what numerical quatities you can use to describe and summarize your datasets\n",
    ".How to calculate descriptive statistics in pure python\n",
    ".how to get descriptive statistics with available python libraries\n",
    ".How to visualize your datasets"
   ]
  },
  {
   "cell_type": "markdown",
   "id": "debdadcc",
   "metadata": {},
   "source": [
    "# Understanding Descriptive Statistics \n",
    "Descriptive statistics is about desctibing and summarizing data.it uses two main approachesa:"
   ]
  },
  {
   "cell_type": "code",
   "execution_count": null,
   "id": "4d23d47a",
   "metadata": {},
   "outputs": [],
   "source": [
    "1. The quantitative approach: describes and summarizes data numerically.\n",
    "2. The visual approach illustrates: data with charts,plots,histograms,and other graphs.\n",
    "\n",
    "you can apply descriptive statistics to one or many datasets or variables.when you \n",
    "describe and summarize a single variable,you're performing univariate analysis.when youo search for \n",
    "statistical relationships among a pair of variables,youre doing a bivariate analysis.similarly,a  \n",
    "multivariate analysis is concerned with multiple variables at once."
   ]
  },
  {
   "cell_type": "markdown",
   "id": "7e6a412d",
   "metadata": {},
   "source": [
    "# Types of measures\n",
    "in this tutorial, you'll learn about the following types of measures in descriptive \n",
    "statistics:\n",
    "\n",
    ". Central tendency - tells you about the centers of the data .useful measures include the mean,median,and mode.\n",
    "\n",
    ". variability - tells you about the spread of the data.useful measures include variance and standard deviation.\n",
    "\n",
    ". Correlation or joint variability - tells you about the relation between a air of variables on a dataset.\n",
    "useful measures include covariance and the correlation coefficient.\n",
    "\n",
    "you'll learn how to understand and calculate these measures eith python."
   ]
  },
  {
   "cell_type": "markdown",
   "id": "f4a694bb",
   "metadata": {},
   "source": [
    "# population and samples \n",
    "\n",
    "in statistics, the population is a set of all elemnts or items that you're intrested in.populations \n",
    "are often vast,which makes them inappropriate for collecting and analyzing data. That's why statisticians about a \n",
    "population by choosing and examining a representative subset of that population.\n",
    "\n",
    "This subset of a population is called a sample.Ideally ,the sample should preserve the essential statistical\n",
    "features of the population to a statisfactory features of the population to a satisfactory extent.that way ,you'll\n",
    "be able to use the sample to glean conclusions about the population."
   ]
  },
  {
   "cell_type": "code",
   "execution_count": null,
   "id": "0cf3d059",
   "metadata": {},
   "outputs": [],
   "source": [
    "# Outliers \n",
    "An outliers is a data point that differs significantly from the majority of the data taken from\n",
    "a sample or population. there are many possible causes of outliers,but here are a few to start you off:\n",
    "    \n",
    "    .Natural variation in data\n",
    "    .change in the behavior of the obeserved system\n",
    "    .Errors in data collection\n",
    "\n",
    "data collection errors are a particularly prominent cause of outliers.for example, the limitations of measurement\n",
    "instruments or procedures can  simply not obtainable. other errors can be caused by miscalculations,data \n",
    "contamination , human error,and more."
   ]
  }
 ],
 "metadata": {
  "kernelspec": {
   "display_name": "Python 3 (ipykernel)",
   "language": "python",
   "name": "python3"
  },
  "language_info": {
   "codemirror_mode": {
    "name": "ipython",
    "version": 3
   },
   "file_extension": ".py",
   "mimetype": "text/x-python",
   "name": "python",
   "nbconvert_exporter": "python",
   "pygments_lexer": "ipython3",
   "version": "3.9.7"
  }
 },
 "nbformat": 4,
 "nbformat_minor": 5
}
