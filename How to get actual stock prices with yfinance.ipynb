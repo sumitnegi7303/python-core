{
 "cells": [
  {
   "cell_type": "markdown",
   "id": "608970c2",
   "metadata": {},
   "source": [
    "# How to get actual stock prices with yfinance?"
   ]
  },
  {
   "cell_type": "code",
   "execution_count": null,
   "id": "6b31d740",
   "metadata": {},
   "outputs": [],
   "source": [
    "import yfinance as yf\n",
    "\n",
    "stock = yf.Ticker(\"ABEV3.SA\")\n",
    "\n",
    "data1= stock.info\n",
    "\n",
    "\n",
    "print(data1)"
   ]
  },
  {
   "cell_type": "code",
   "execution_count": 1,
   "id": "760e8205",
   "metadata": {},
   "outputs": [
    {
     "ename": "ModuleNotFoundError",
     "evalue": "No module named 'yfinance'",
     "output_type": "error",
     "traceback": [
      "\u001b[1;31m---------------------------------------------------------------------------\u001b[0m",
      "\u001b[1;31mModuleNotFoundError\u001b[0m                       Traceback (most recent call last)",
      "\u001b[1;32mC:\\Users\\GOURAV~1\\AppData\\Local\\Temp/ipykernel_6376/2065096193.py\u001b[0m in \u001b[0;36m<module>\u001b[1;34m\u001b[0m\n\u001b[1;32m----> 1\u001b[1;33m \u001b[1;32mimport\u001b[0m \u001b[0myfinance\u001b[0m \u001b[1;32mas\u001b[0m \u001b[0myf\u001b[0m\u001b[1;33m\u001b[0m\u001b[1;33m\u001b[0m\u001b[0m\n\u001b[0m\u001b[0;32m      2\u001b[0m \u001b[1;33m\u001b[0m\u001b[0m\n\u001b[0;32m      3\u001b[0m \u001b[0mtickers\u001b[0m \u001b[1;33m=\u001b[0m \u001b[1;33m[\u001b[0m\u001b[1;34m'ABEV3.SA'\u001b[0m\u001b[1;33m]\u001b[0m\u001b[1;33m\u001b[0m\u001b[1;33m\u001b[0m\u001b[0m\n\u001b[0;32m      4\u001b[0m \u001b[1;32mfor\u001b[0m \u001b[0mticker\u001b[0m \u001b[1;32min\u001b[0m \u001b[0mtickers\u001b[0m\u001b[1;33m:\u001b[0m\u001b[1;33m\u001b[0m\u001b[1;33m\u001b[0m\u001b[0m\n\u001b[0;32m      5\u001b[0m     \u001b[0mticker_yahoo\u001b[0m \u001b[1;33m=\u001b[0m \u001b[0myf\u001b[0m\u001b[1;33m.\u001b[0m\u001b[0mTicker\u001b[0m\u001b[1;33m(\u001b[0m\u001b[0mticker\u001b[0m\u001b[1;33m)\u001b[0m\u001b[1;33m\u001b[0m\u001b[1;33m\u001b[0m\u001b[0m\n",
      "\u001b[1;31mModuleNotFoundError\u001b[0m: No module named 'yfinance'"
     ]
    }
   ],
   "source": [
    "# I used this filtering combination to get only the last quote.\n",
    "import yfinance as yf\n",
    "\n",
    "tickers = ['ABEV3.SA']\n",
    "for ticker in tickers:\n",
    "    ticker_yahoo = yf.Ticker(ticker)\n",
    "    data = ticker_yahoo.history()\n",
    "    last_quote = data['Close'].iloc[-1]\n",
    "    print(ticker, last_quote)"
   ]
  },
  {
   "cell_type": "code",
   "execution_count": null,
   "id": "5441a099",
   "metadata": {},
   "outputs": [],
   "source": [
    "import yfinance as yf\n",
    "\n",
    "stock = yf.Ticker(\"ABEV3.SA\")\n",
    "price = stock.info['regularMarketPrice']\n",
    "print(price)\n",
    " "
   ]
  },
  {
   "cell_type": "code",
   "execution_count": null,
   "id": "91c5e484",
   "metadata": {},
   "outputs": [],
   "source": [
    "# This method returns the most updated value in my testing.\n",
    "def get_current_price(symbol):\n",
    "    ticker = yf.Ticker(symbol)\n",
    "    todays_data = ticker.history(period='1d')\n",
    "    return todays_data['Close'][0]\n",
    "\n",
    "print(get_current_price('TSLA'))"
   ]
  },
  {
   "cell_type": "code",
   "execution_count": null,
   "id": "75381c40",
   "metadata": {},
   "outputs": [],
   "source": [
    "# To get the last closing price use this:\n",
    "tickerSymbol = 'AMD'\n",
    "\n",
    "tickerData = yf.Ticker(tickerSymbol)\n",
    "todayData = tickerData.history(period='1d')\n",
    "todayData['Close'][0] #use print() in case you're testing outside a interactive session"
   ]
  },
  {
   "cell_type": "code",
   "execution_count": null,
   "id": "c99c5c33",
   "metadata": {},
   "outputs": [],
   "source": [
    "# this is what looks like realtime quote to me:\n",
    "import yfinance as yf\n",
    "yca = yf.Ticker(\"YCA.L\").history(interval=\"1m\", period = \"1d\")\n",
    "yca['Close'][-1]"
   ]
  },
  {
   "cell_type": "code",
   "execution_count": null,
   "id": "2cb5167e",
   "metadata": {},
   "outputs": [],
   "source": [
    "import datetime\n",
    "import yfinance as yf\n",
    "now = datetime.datetime.now().strftime(\"%Y-%m-%d\")\n",
    "data = yf.Ticker(\"ABEV3.SA\")\n",
    "data = data.history(start=\"2010-01-01\",  end=now)\n",
    "print(data)"
   ]
  },
  {
   "cell_type": "code",
   "execution_count": null,
   "id": "b76c488a",
   "metadata": {},
   "outputs": [],
   "source": [
    "import yfinance as yf\n",
    "data = yf.download(\"ABEV3.SA\", start=\"2020-03-01\", end=\"2020-03-30\")"
   ]
  },
  {
   "cell_type": "code",
   "execution_count": null,
   "id": "f27bd881",
   "metadata": {},
   "outputs": [],
   "source": [
    "import yfinance as yf\n",
    "\n",
    "symbols = [\"TSLA\", \"NIO\"]\n",
    "result = {}\n",
    "for symbol in symbols:\n",
    "    data = yf.Ticker(symbol)\n",
    "    today_data = data.history(period='1d')\n",
    "    result[symbol] = round((today_data['Close'][0]),2)\n",
    "print(result)"
   ]
  },
  {
   "cell_type": "code",
   "execution_count": null,
   "id": "cc228477",
   "metadata": {},
   "outputs": [],
   "source": [
    "# Try this to get current price for multiples stocks:"
   ]
  },
  {
   "cell_type": "code",
   "execution_count": null,
   "id": "632fb5b8",
   "metadata": {},
   "outputs": [],
   "source": [
    "stocks = ['PETR4.SA', 'ELET3.SA', 'VALE3.SA']\n",
    "\n",
    "df = yf.download(' '.join(stocks), period='1d', progress=False)\n",
    "df = df['Close']\n",
    "\n",
    "for stock in stocks:\n",
    "    if stock not in df or len(df[stock]) == 0: # this verification is important if trading session is closed\n",
    "        continue\n",
    "    quote = df[stock][0]\n",
    "    print('%s = %.2f'%(stock, quote))"
   ]
  },
  {
   "cell_type": "code",
   "execution_count": null,
   "id": "97b3149f",
   "metadata": {},
   "outputs": [],
   "source": []
  },
  {
   "cell_type": "code",
   "execution_count": null,
   "id": "17ad1a41",
   "metadata": {},
   "outputs": [],
   "source": []
  },
  {
   "cell_type": "code",
   "execution_count": null,
   "id": "ad2e2605",
   "metadata": {},
   "outputs": [],
   "source": []
  },
  {
   "cell_type": "code",
   "execution_count": null,
   "id": "20594e5e",
   "metadata": {},
   "outputs": [],
   "source": []
  },
  {
   "cell_type": "code",
   "execution_count": null,
   "id": "1bbf4504",
   "metadata": {},
   "outputs": [],
   "source": []
  }
 ],
 "metadata": {
  "kernelspec": {
   "display_name": "Python 3 (ipykernel)",
   "language": "python",
   "name": "python3"
  },
  "language_info": {
   "codemirror_mode": {
    "name": "ipython",
    "version": 3
   },
   "file_extension": ".py",
   "mimetype": "text/x-python",
   "name": "python",
   "nbconvert_exporter": "python",
   "pygments_lexer": "ipython3",
   "version": "3.9.7"
  }
 },
 "nbformat": 4,
 "nbformat_minor": 5
}
