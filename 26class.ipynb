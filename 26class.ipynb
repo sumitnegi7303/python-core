{
 "cells": [
  {
   "cell_type": "code",
   "execution_count": 3,
   "id": "41fbad36",
   "metadata": {},
   "outputs": [
    {
     "name": "stdout",
     "output_type": "stream",
     "text": [
      "ankit sing\n",
      "theankit sing is having empid 110023\n"
     ]
    }
   ],
   "source": [
    "class person :\n",
    "    def __init__(self,fname,lname):\n",
    "        self.fname = fname\n",
    "        self.lname = lname\n",
    "    def printname(self):\n",
    "        print(self.fname,self.lname)\n",
    "class Employee(person):\n",
    "    def __init__(self,fname,lname,empid):\n",
    "        self.empid = empid\n",
    "        person.__init__(self,fname,lname)\n",
    "    def details(self):\n",
    "        print(f\"the{self.fname} {self.lname} is having empid {self.empid}\")\n",
    "emp = Employee(\"ankit\",\"sing\",\"110023\")\n",
    "emp.printname()\n",
    "emp.fname\n",
    "emp.lname\n",
    "emp.details()"
   ]
  },
  {
   "cell_type": "code",
   "execution_count": 6,
   "id": "8cc25d93",
   "metadata": {},
   "outputs": [
    {
     "name": "stdout",
     "output_type": "stream",
     "text": [
      "this is parent class init constructor\n",
      "ankit singh\n",
      "the ankit singh is having empid 110023\n"
     ]
    }
   ],
   "source": [
    "class person :\n",
    "    def __init__(self):\n",
    "        self.fname = \"ankit\"\n",
    "        self.lname = \"singh\"\n",
    "        print(\"this is parent class init constructor\")\n",
    "    def printname(self):\n",
    "        print(self.fname,self.lname)\n",
    "class Employee(person):\n",
    "    def __init__(self,empid):\n",
    "        self.empid = empid\n",
    "        super().__init__()\n",
    "        super().printname()\n",
    "    def details(self):\n",
    "        print(f\"the {self.fname} {self.lname} is having empid {self.empid}\")\n",
    "emp = Employee(\"110023\")\n",
    "emp.fname\n",
    "emp.lname\n",
    "emp.details()"
   ]
  },
  {
   "cell_type": "code",
   "execution_count": null,
   "id": "9c85bf4b",
   "metadata": {},
   "outputs": [],
   "source": [
    "WAC mammal , initialize three properties of mammals , have hair , have backbone , birth_younger ones(viviparous)\n",
    ",write a child class monkey , and print that it has or hair , have backbone and they are viviparous."
   ]
  },
  {
   "cell_type": "code",
   "execution_count": 11,
   "id": "3737f9c8",
   "metadata": {},
   "outputs": [
    {
     "ename": "IndentationError",
     "evalue": "expected an indented block (Temp/ipykernel_7712/4109419922.py, line 8)",
     "output_type": "error",
     "traceback": [
      "\u001b[1;36m  File \u001b[1;32m\"C:\\Users\\GOURAV~1\\AppData\\Local\\Temp/ipykernel_7712/4109419922.py\"\u001b[1;36m, line \u001b[1;32m8\u001b[0m\n\u001b[1;33m    class monkey:\u001b[0m\n\u001b[1;37m                 ^\u001b[0m\n\u001b[1;31mIndentationError\u001b[0m\u001b[1;31m:\u001b[0m expected an indented block\n"
     ]
    }
   ],
   "source": [
    "class mammal :\n",
    "    def __init__(self):\n",
    "        self.hair = hair\n",
    "        self.backbone = backbone\n",
    "        self.birth_younger = birth_younger\n",
    "    def printname(self):\n",
    "        print(self.hair,self.backbone,self.birth_younger)\n",
    "class monkey:\n",
    "    def __init(self,empid):\n",
    "        "
   ]
  },
  {
   "cell_type": "code",
   "execution_count": null,
   "id": "77eed4d6",
   "metadata": {},
   "outputs": [],
   "source": [
    "WAC transport and def a constructor for the same for different transport type then define another class tax and tax the \n",
    "vehicle acoording to different transport type . if the transport is car_tax = 2000 bus_tax = 1000\n",
    "two_wheeler = 500 govt_transport = freeb"
   ]
  },
  {
   "cell_type": "code",
   "execution_count": null,
   "id": "401e81b6",
   "metadata": {},
   "outputs": [],
   "source": [
    "class transport:\n",
    "    def __init__(self):\n",
    "        self."
   ]
  },
  {
   "cell_type": "code",
   "execution_count": null,
   "id": "43577918",
   "metadata": {},
   "outputs": [],
   "source": [
    "#data Encapsulation :\n",
    "protected - limited acc\n",
    "private - only me \n",
    "public - all acc\n",
    "capsule :\n",
    "    two or medicines clubbed together in a capsule"
   ]
  },
  {
   "cell_type": "code",
   "execution_count": 15,
   "id": "6faa80a9",
   "metadata": {
    "scrolled": true
   },
   "outputs": [
    {
     "data": {
      "text/plain": [
       "'wer'"
      ]
     },
     "execution_count": 15,
     "metadata": {},
     "output_type": "execute_result"
    }
   ],
   "source": [
    "class comp :\n",
    "    def __init__(self,name,a,b):\n",
    "        self._name = name #protected attribute\n",
    "        self.__a = a #private attribute\n",
    "        self.b = b #public attirbute\n",
    "    def show(self):\n",
    "        print(\"comp\")\n",
    "c = comp(\"aman\",\"wer\",435)\n",
    "c.b\n",
    "c._name\n",
    "#c.__a\n",
    "#mangled name to access private\n",
    "c._comp__a"
   ]
  },
  {
   "cell_type": "code",
   "execution_count": null,
   "id": "aa61a2ef",
   "metadata": {},
   "outputs": [],
   "source": [
    "#polymorphism"
   ]
  },
  {
   "cell_type": "code",
   "execution_count": 20,
   "id": "3647c4f6",
   "metadata": {},
   "outputs": [
    {
     "name": "stdout",
     "output_type": "stream",
     "text": [
      "this is a show\n",
      "the price of the car is 2.6 crores\n"
     ]
    },
    {
     "data": {
      "text/plain": [
       "'lamborgini'"
      ]
     },
     "execution_count": 20,
     "metadata": {},
     "output_type": "execute_result"
    }
   ],
   "source": [
    "from abc import ABC , abstractmethod\n",
    "\n",
    "class car(ABC):\n",
    "    def __init__(self,name):\n",
    "        self.name = name\n",
    "    def show(self):\n",
    "        print(\"this is a show\")\n",
    "        \n",
    "    @abstractmethod\n",
    "    def price(self,x):\n",
    "        print(\"the method is hidden\")\n",
    "# c = car(\"honda city\")\n",
    "# c.show()\n",
    "class new(car):\n",
    "    def price(self,x):\n",
    "        print(f\"the price of the car is {x} crores\")\n",
    "ob1 = new(\"lamborgini\")\n",
    "ob1.show()\n",
    "ob1.price(2.6)\n",
    "ob1.name"
   ]
  },
  {
   "cell_type": "code",
   "execution_count": 23,
   "id": "543976e5",
   "metadata": {
    "scrolled": true
   },
   "outputs": [
    {
     "ename": "NameError",
     "evalue": "name 'ferari' is not defined",
     "output_type": "error",
     "traceback": [
      "\u001b[1;31m---------------------------------------------------------------------------\u001b[0m",
      "\u001b[1;31mNameError\u001b[0m                                 Traceback (most recent call last)",
      "\u001b[1;32mC:\\Users\\GOURAV~1\\AppData\\Local\\Temp/ipykernel_7712/1381677733.py\u001b[0m in \u001b[0;36m<module>\u001b[1;34m\u001b[0m\n\u001b[0;32m     10\u001b[0m         \u001b[0mprint\u001b[0m\u001b[1;33m(\u001b[0m\u001b[1;34m\"Honda gives best mileage out of ferari and mercedes\"\u001b[0m\u001b[1;33m)\u001b[0m\u001b[1;33m\u001b[0m\u001b[1;33m\u001b[0m\u001b[0m\n\u001b[0;32m     11\u001b[0m \u001b[1;33m\u001b[0m\u001b[0m\n\u001b[1;32m---> 12\u001b[1;33m \u001b[0mfer\u001b[0m \u001b[1;33m=\u001b[0m \u001b[0mferari\u001b[0m\u001b[1;33m(\u001b[0m\u001b[1;33m)\u001b[0m\u001b[1;33m\u001b[0m\u001b[1;33m\u001b[0m\u001b[0m\n\u001b[0m\u001b[0;32m     13\u001b[0m \u001b[0mm\u001b[0m \u001b[1;33m=\u001b[0m \u001b[0mmercedes\u001b[0m\u001b[1;33m(\u001b[0m\u001b[1;33m)\u001b[0m\u001b[1;33m\u001b[0m\u001b[1;33m\u001b[0m\u001b[0m\n\u001b[0;32m     14\u001b[0m \u001b[0mh\u001b[0m \u001b[1;33m=\u001b[0m \u001b[0mhonda\u001b[0m\u001b[1;33m(\u001b[0m\u001b[1;33m)\u001b[0m\u001b[1;33m\u001b[0m\u001b[1;33m\u001b[0m\u001b[0m\n",
      "\u001b[1;31mNameError\u001b[0m: name 'ferari' is not defined"
     ]
    }
   ],
   "source": [
    "class ferrari:\n",
    "    def feature(self):\n",
    "        print(\"ferari is having top speed of 320\")\n",
    "        \n",
    "class Mercedes:\n",
    "    def features(self):\n",
    "        print(\"Mercedes is having top spped of 340\")\n",
    "class Honda:\n",
    "    def feature(self):\n",
    "        print(\"Honda gives best mileage out of ferari and mercedes\")\n",
    "        \n",
    "fer = ferari()\n",
    "m = mercedes()\n",
    "h = honda()\n",
    "for i in fer,m,h:\n",
    "    i.features()"
   ]
  }
 ],
 "metadata": {
  "kernelspec": {
   "display_name": "Python 3 (ipykernel)",
   "language": "python",
   "name": "python3"
  },
  "language_info": {
   "codemirror_mode": {
    "name": "ipython",
    "version": 3
   },
   "file_extension": ".py",
   "mimetype": "text/x-python",
   "name": "python",
   "nbconvert_exporter": "python",
   "pygments_lexer": "ipython3",
   "version": "3.9.7"
  }
 },
 "nbformat": 4,
 "nbformat_minor": 5
}
