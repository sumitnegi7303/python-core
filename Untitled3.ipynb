{
 "cells": [
  {
   "cell_type": "code",
   "execution_count": 2,
   "id": "0a715384",
   "metadata": {},
   "outputs": [
    {
     "name": "stdout",
     "output_type": "stream",
     "text": [
      "welcome to my computer quiz\n",
      "Do you want to play? no\n"
     ]
    },
    {
     "ename": "SyntaxError",
     "evalue": "'break' outside loop (Temp/ipykernel_22340/490909557.py, line 6)",
     "output_type": "error",
     "traceback": [
      "\u001b[1;36m  File \u001b[1;32m\"C:\\Users\\GOURAV~1\\AppData\\Local\\Temp/ipykernel_22340/490909557.py\"\u001b[1;36m, line \u001b[1;32m6\u001b[0m\n\u001b[1;33m    break\u001b[0m\n\u001b[1;37m    ^\u001b[0m\n\u001b[1;31mSyntaxError\u001b[0m\u001b[1;31m:\u001b[0m 'break' outside loop\n"
     ]
    }
   ],
   "source": [
    "print(\"welcome to my computer quiz\")\n",
    "\n",
    "playing = input(\"Do you want to play? \")\n",
    "\n",
    "\n",
    "\n",
    "if playing != \"yes\":\n",
    "    quit()\n",
    "    #break\n",
    "    #print(\"quit\")\n",
    "    \n",
    "print(\"okay! Let's play :)\")\n",
    "\n",
    "answer = input(\"what does CPU Stand for? \")\n",
    "if answer == \"Central processing unit\":\n",
    "    print('Correct!')    \n",
    "else :\n",
    "    print(\"Incorrrect!\")\n",
    "\n",
    "answer = input(\"What does Gpu stand for? \")\n",
    "if answer == \"graphics processing unit\":\n",
    "    print('Correct!')    \n",
    "else :\n",
    "    print(\"Incorrrect!\")\n",
    "\n",
    "answer = input(\"what does RAM stand for?\")\n",
    "if answer == \"random access memory\":\n",
    "    print('Correct!')    \n",
    "else :\n",
    "    print(\"Incorrrect!\")\n",
    "\n",
    "answer = input(\"what does PSU stand for ? \")\n",
    "if answer == \"power supply\":\n",
    "    print('Correct!')    \n",
    "else :\n",
    "    print(\"Incorrrect!\")\n",
    "\n",
    "    \n"
   ]
  },
  {
   "cell_type": "code",
   "execution_count": 2,
   "id": "4b664307",
   "metadata": {},
   "outputs": [
    {
     "ename": "SyntaxError",
     "evalue": "invalid syntax (Temp/ipykernel_21116/3808828214.py, line 18)",
     "output_type": "error",
     "traceback": [
      "\u001b[1;36m  File \u001b[1;32m\"C:\\Users\\GOURAV~1\\AppData\\Local\\Temp/ipykernel_21116/3808828214.py\"\u001b[1;36m, line \u001b[1;32m18\u001b[0m\n\u001b[1;33m    score+==1\u001b[0m\n\u001b[1;37m           ^\u001b[0m\n\u001b[1;31mSyntaxError\u001b[0m\u001b[1;31m:\u001b[0m invalid syntax\n"
     ]
    }
   ],
   "source": [
    "print(\"welcome to my computer quiz\")\n",
    "\n",
    "playing = input(\"Do you want to play? \")\n",
    "\n",
    "\n",
    "if playing.lower() != \"yes\":\n",
    "    quit()\n",
    "    #break\n",
    "    #print(\"quit\")\n",
    "    \n",
    "print(\"okay! Let's play :)\")\n",
    "score = 0\n",
    "\n",
    "\n",
    "answer = input(\"what does CPU Stand for? \")\n",
    "if answer.lower() == \"Central processing unit\":\n",
    "    print('Correct!')\n",
    "    score+=1\n",
    "else :\n",
    "    print(\"Incorrrect!\")\n",
    "\n",
    "answer = input(\"What does Gpu stand for? \")\n",
    "if answer.lower() == \"graphics processing unit\":\n",
    "    print('Correct!')\n",
    "    score+=1\n",
    "else :\n",
    "    print(\"Incorrrect!\")\n",
    "\n",
    "answer = input(\"what does RAM stand for?\")\n",
    "if answer.lower() == \"random access memory\":\n",
    "    print('Correct!') \n",
    "    score+=1\n",
    "else :\n",
    "    print(\"Incorrrect!\")\n",
    "\n",
    "answer = input(\"what does PSU stand for ? \")\n",
    "if answer.lower() == \"power supply\":\n",
    "    print('Correct!')\n",
    "    score+=1\n",
    "else :\n",
    "    print(\"Incorrrect!\")\n",
    "\n",
    "print(\"You got \"+ str(score)+\"questions correct!\")\n",
    "print(\"You got \" + str((score / 4) * 100) + \"%.\")"
   ]
  },
  {
   "cell_type": "markdown",
   "id": "7c071a77",
   "metadata": {},
   "source": [
    "# Number guessing "
   ]
  },
  {
   "cell_type": "code",
   "execution_count": 13,
   "id": "4df8ff7a",
   "metadata": {},
   "outputs": [
    {
     "name": "stdout",
     "output_type": "stream",
     "text": [
      "-4\n"
     ]
    }
   ],
   "source": [
    "import random \n",
    "\n",
    "r = random.randrange(-5,11)\n",
    "print(r)"
   ]
  },
  {
   "cell_type": "code",
   "execution_count": null,
   "id": "094b33fc",
   "metadata": {},
   "outputs": [],
   "source": []
  },
  {
   "cell_type": "code",
   "execution_count": null,
   "id": "ee91170e",
   "metadata": {},
   "outputs": [],
   "source": []
  }
 ],
 "metadata": {
  "kernelspec": {
   "display_name": "Python 3 (ipykernel)",
   "language": "python",
   "name": "python3"
  },
  "language_info": {
   "codemirror_mode": {
    "name": "ipython",
    "version": 3
   },
   "file_extension": ".py",
   "mimetype": "text/x-python",
   "name": "python",
   "nbconvert_exporter": "python",
   "pygments_lexer": "ipython3",
   "version": "3.9.7"
  }
 },
 "nbformat": 4,
 "nbformat_minor": 5
}
