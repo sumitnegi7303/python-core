{
 "cells": [
  {
   "cell_type": "code",
   "execution_count": 1,
   "id": "4a08c0cc",
   "metadata": {},
   "outputs": [
    {
     "name": "stdout",
     "output_type": "stream",
     "text": [
      "Enter the Number :4\n"
     ]
    }
   ],
   "source": [
    "import random\n",
    "\n",
    "n = random.randrange(1,10)\n",
    "guess = int(input(\"Enter the Number :\"))\n",
    "while n != guess:\n",
    "    if guess < n:\n",
    "        print(\"Too low!\")\n",
    "        guess = int(input(\"Enter Number Again \"))\n",
    "    elif guess > n :\n",
    "        print(\"Too High!\")\n",
    "        gues = int(input(\"Enter Number Again\"))\n",
    "    else :\n",
    "        break\n",
    "    print(\"you Guessed it Right!!\")"
   ]
  },
  {
   "cell_type": "code",
   "execution_count": 5,
   "id": "b8164867",
   "metadata": {
    "scrolled": true
   },
   "outputs": [
    {
     "name": "stdout",
     "output_type": "stream",
     "text": [
      "Enter the Number :5\n",
      "Too High!\n",
      "Enter Number Again1\n",
      "you Guessed it Right!!\n"
     ]
    }
   ],
   "source": [
    "import random\n",
    "\n",
    "n = random.randrange(1,10)\n",
    "guess = int(input(\"Enter the Number :\"))\n",
    "while n != guess:\n",
    "    if guess < n:\n",
    "        print(\"Too low!\")\n",
    "        guess = int(input(\"Enter Number Again \"))\n",
    "    elif guess > n :\n",
    "        print(\"Too High!\")\n",
    "        guess = int(input(\"Enter Number Again\"))\n",
    "    else :\n",
    "        break\n",
    "    print(\"you Guessed it Right!!\")"
   ]
  },
  {
   "cell_type": "code",
   "execution_count": 13,
   "id": "4f144d8a",
   "metadata": {},
   "outputs": [
    {
     "name": "stdout",
     "output_type": "stream",
     "text": [
      "Enter the Number :25\n",
      "Too High!\n",
      "Enter Number Again16\n",
      "you Guessed it Right!!\n",
      "Too High!\n",
      "Enter Number Again15\n",
      "you Guessed it Right!!\n"
     ]
    }
   ],
   "source": [
    "import random\n",
    "\n",
    "n = random.randrange(1,50)\n",
    "guess = int(input(\"Enter the Number :\"))\n",
    "while n != guess:\n",
    "    if guess < n:\n",
    "        print(\"Too low!\")\n",
    "        guess = int(input(\"Enter Number Again \"))\n",
    "    elif guess > n :\n",
    "        print(\"Too High!\")\n",
    "        guess = int(input(\"Enter Number Again\"))\n",
    "    else :\n",
    "        break\n",
    "    print(\"you Guessed it Right!!\")"
   ]
  },
  {
   "cell_type": "code",
   "execution_count": 15,
   "id": "25dc4591",
   "metadata": {},
   "outputs": [
    {
     "name": "stdout",
     "output_type": "stream",
     "text": [
      "Enter the Number :3\n",
      "Too low!\n",
      "Enter Number Again 7\n",
      "you Guessed it Right!!\n",
      "Too low!\n",
      "Enter Number Again 1\n",
      "you Guessed it Right!!\n",
      "Too low!\n",
      "Enter Number Again 9\n",
      "you Guessed it Right!!\n"
     ]
    }
   ],
   "source": [
    "import random \n",
    "\n",
    "n = random.randrange(1,15)\n",
    "guess = int(input(\"Enter the Number :\"))\n",
    "while n != guess:\n",
    "    if guess < n:\n",
    "        print(\"Too low!\")\n",
    "        guess = int(input(\"Enter Number Again \"))\n",
    "    elif guess > n :\n",
    "        print(\"Too HIgh!\")\n",
    "        guess = int(input(\"Enter Number Again\"))\n",
    "    else :\n",
    "        break\n",
    "    print(\"you Guessed it Right!!\")"
   ]
  }
 ],
 "metadata": {
  "kernelspec": {
   "display_name": "Python 3 (ipykernel)",
   "language": "python",
   "name": "python3"
  },
  "language_info": {
   "codemirror_mode": {
    "name": "ipython",
    "version": 3
   },
   "file_extension": ".py",
   "mimetype": "text/x-python",
   "name": "python",
   "nbconvert_exporter": "python",
   "pygments_lexer": "ipython3",
   "version": "3.9.7"
  }
 },
 "nbformat": 4,
 "nbformat_minor": 5
}
