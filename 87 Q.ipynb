{
 "cells": [
  {
   "cell_type": "code",
   "execution_count": null,
   "id": "48a05791",
   "metadata": {},
   "outputs": [],
   "source": [
    "87. By using list comprehension, please write a program to print the list after \n",
    "removing delete numbers which are divisible \n",
    "by 5 and 7 in [12,24,35,70,88,120,155]. "
   ]
  },
  {
   "cell_type": "code",
   "execution_count": 1,
   "id": "4c4c408f",
   "metadata": {},
   "outputs": [
    {
     "name": "stdout",
     "output_type": "stream",
     "text": [
      "[24, 70, 120]\n"
     ]
    }
   ],
   "source": [
    "li = [12,24,35,70,88,120,155]\n",
    "li = [li[i] for i in range(len(li)) if i%2 != 0 and i <= 6]\n",
    "print(li)"
   ]
  }
 ],
 "metadata": {
  "kernelspec": {
   "display_name": "Python 3 (ipykernel)",
   "language": "python",
   "name": "python3"
  },
  "language_info": {
   "codemirror_mode": {
    "name": "ipython",
    "version": 3
   },
   "file_extension": ".py",
   "mimetype": "text/x-python",
   "name": "python",
   "nbconvert_exporter": "python",
   "pygments_lexer": "ipython3",
   "version": "3.9.7"
  }
 },
 "nbformat": 4,
 "nbformat_minor": 5
}
