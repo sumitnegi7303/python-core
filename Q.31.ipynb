{
 "cells": [
  {
   "cell_type": "code",
   "execution_count": null,
   "id": "c22bca60",
   "metadata": {},
   "outputs": [],
   "source": [
    "31. Define a function that can accept two strings as input and print the string with maximum length in console. If two strings have the same length, then the function should print al l strings line by line. \n",
    "Hints: Use len() function to get the length of a string "
   ]
  },
  {
   "cell_type": "code",
   "execution_count": 3,
   "id": "fe1131d9",
   "metadata": {},
   "outputs": [
    {
     "name": "stdout",
     "output_type": "stream",
     "text": [
      "three\n"
     ]
    }
   ],
   "source": [
    "def printValue(s1,s2):\n",
    "    len1 = len(s1)\n",
    "    len2 = len(s2)\n",
    "    if len1>len2:\n",
    "        print (s1)\n",
    "    elif len2>len1:\n",
    "        print (s2)\n",
    "    else:\n",
    "        print (s1)\n",
    "        print (s2)\n",
    "        \n",
    "\n",
    "printValue(\"one\",\"three\")"
   ]
  }
 ],
 "metadata": {
  "kernelspec": {
   "display_name": "Python 3 (ipykernel)",
   "language": "python",
   "name": "python3"
  },
  "language_info": {
   "codemirror_mode": {
    "name": "ipython",
    "version": 3
   },
   "file_extension": ".py",
   "mimetype": "text/x-python",
   "name": "python",
   "nbconvert_exporter": "python",
   "pygments_lexer": "ipython3",
   "version": "3.9.7"
  }
 },
 "nbformat": 4,
 "nbformat_minor": 5
}
