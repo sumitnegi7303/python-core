{
 "cells": [
  {
   "cell_type": "code",
   "execution_count": null,
   "id": "03e6452d",
   "metadata": {},
   "outputs": [],
   "source": [
    "Machine Learning Assignment Part One:\n",
    "    \n",
    "Q1 : Create a scatter plot between cylinder vs Co2Emission (green color)\n",
    "    \n",
    "Q2 : using scatter plot compare data cylinder vs Co2Emission and Enginesize Vs Co2Emission using\n",
    "different colors\n",
    "\n",
    "Q3 : using scatter plot compare data cylinder vs Co2Emission and Enginesize Vs Co2Emission and\n",
    "FuelConsumption_comb Co2Emission using different colors\n",
    "\n",
    "Q4 : train your model with indepedent variable as cylinder and dependent variable as Co2Emission\n",
    "    \n",
    "Q5 : Train another model with independent variable as FuelConsumption_comb and dependent variable\n",
    "as Co2Emission\n",
    "\n",
    "Q6 : Train your model on different train test ratio and train the models and note down there accuracies\n",
    "    \n",
    "Q7 : we are providing you another dataset regarding housing prediction to need to apply Linear\n",
    "Regression on atleast 5 pairs of independent and dependent variable and store their accuracy and then\n",
    "make a plot of those accuracy\n",
    "\n",
    "Note : Dependent Variable is SalesPrice"
   ]
  },
  {
   "cell_type": "code",
   "execution_count": 1,
   "id": "ba69510a",
   "metadata": {},
   "outputs": [],
   "source": [
    "import numpy as np\n",
    "import pandas as pd\n",
    "import seaborn as sns\n",
    "import matplotlib.pyplot as plt"
   ]
  },
  {
   "cell_type": "code",
   "execution_count": null,
   "id": "e22afe30",
   "metadata": {},
   "outputs": [],
   "source": [
    "df = pd.read_csv('data.csv')"
   ]
  },
  {
   "cell_type": "code",
   "execution_count": null,
   "id": "42863815",
   "metadata": {},
   "outputs": [],
   "source": [
    "plt.scatter(df['cylinder'], df['Co2Emission'],color = 'green')\n",
    "plt.xlabel('Cylinder')\n",
    "plt.ylabel('Co2Emission')\n",
    "plt.show()"
   ]
  },
  {
   "cell_type": "code",
   "execution_count": null,
   "id": "00309542",
   "metadata": {},
   "outputs": [],
   "source": []
  },
  {
   "cell_type": "code",
   "execution_count": null,
   "id": "543caa46",
   "metadata": {},
   "outputs": [],
   "source": [
    "plt.scatter(df['cylinder'], df['Co2Emission'], color='green')\n",
    "plt.xlabel('Cylinder')\n",
    "plt.ylabel('Co2Emission')\n",
    "plt.scatter(df['Enginesize'], df['Co2Emission'], color='red')\n",
    "plt.xlabel('Enginesize')\n",
    "plt.ylabel('Co2Emission')\n",
    "plt.show()"
   ]
  },
  {
   "cell_type": "code",
   "execution_count": null,
   "id": "0968cc4b",
   "metadata": {},
   "outputs": [],
   "source": []
  },
  {
   "cell_type": "code",
   "execution_count": null,
   "id": "b0a3af5c",
   "metadata": {},
   "outputs": [],
   "source": [
    "plt.scatter(df['cylinder'], df['Co2Emission'], color='green')\n",
    "plt.xlabel('Cylinder')\n",
    "plt.ylabel('Co2Emission')\n",
    "plt.scatter(df['Enginesize'], df['Co2Emission'], color='red')\n",
    "plt.xlabel('Enginesize')\n",
    "plt.ylabel('Co2Emission')\n",
    "plt.scatter(df['FuelConsumption_comb'], df['Co2Emission'], color='blue')\n",
    "plt.xlabel('FuelConsumption_comb')\n",
    "plt.ylabel('Co2Emission')\n",
    "plt.show()"
   ]
  },
  {
   "cell_type": "code",
   "execution_count": null,
   "id": "985c46f0",
   "metadata": {},
   "outputs": [],
   "source": []
  },
  {
   "cell_type": "code",
   "execution_count": null,
   "id": "193e0eb8",
   "metadata": {},
   "outputs": [],
   "source": [
    "x_train = df['cylinder']\n",
    "y_train = df['Co2Emission']"
   ]
  },
  {
   "cell_type": "code",
   "execution_count": null,
   "id": "0930d802",
   "metadata": {},
   "outputs": [],
   "source": [
    "#x_train = df['cylinder']\n",
    "#y_train = df['Co2Emission']\n",
    "x_test = df['cylinder']\n",
    "y_test = df['Co2Emission']"
   ]
  },
  {
   "cell_type": "code",
   "execution_count": null,
   "id": "7c66a353",
   "metadata": {},
   "outputs": [],
   "source": [
    "x_train = df['FuelConsumption_comb']\n",
    "y_train = df['Co2Emission']"
   ]
  },
  {
   "cell_type": "code",
   "execution_count": null,
   "id": "fb2df78c",
   "metadata": {},
   "outputs": [],
   "source": []
  },
  {
   "cell_type": "code",
   "execution_count": null,
   "id": "9eb23c02",
   "metadata": {},
   "outputs": [],
   "source": [
    "from sklearn.linear_model import LiearRegression"
   ]
  },
  {
   "cell_type": "code",
   "execution_count": null,
   "id": "8778b3ee",
   "metadata": {},
   "outputs": [],
   "source": [
    "model = LinearRegression()\n",
    "model.fit(x_train,y_train)"
   ]
  },
  {
   "cell_type": "code",
   "execution_count": null,
   "id": "62df8719",
   "metadata": {},
   "outputs": [],
   "source": [
    "y_pred = model.predict(x_test)"
   ]
  },
  {
   "cell_type": "code",
   "execution_count": null,
   "id": "4d9028d3",
   "metadata": {},
   "outputs": [],
   "source": [
    "print(model.score(x_test,y_test))"
   ]
  },
  {
   "cell_type": "code",
   "execution_count": null,
   "id": "e8da14ea",
   "metadata": {},
   "outputs": [],
   "source": [
    "x_train = df['FuelConsumption_comb']\n",
    "y_train = df['Co2Emission']\n",
    "x_test = df['FuelConsumption_comb']\n",
    "y_test = df['Co2Emission']"
   ]
  },
  {
   "cell_type": "code",
   "execution_count": null,
   "id": "e39a3724",
   "metadata": {},
   "outputs": [],
   "source": [
    "model = LinearRegression()\n",
    "model.fit(x_train,y_train)"
   ]
  },
  {
   "cell_type": "code",
   "execution_count": null,
   "id": "13857b3f",
   "metadata": {},
   "outputs": [],
   "source": [
    "y_pred = model.predict(x_test)"
   ]
  },
  {
   "cell_type": "code",
   "execution_count": null,
   "id": "df45ec73",
   "metadata": {},
   "outputs": [],
   "source": [
    "print(model.score(x_test,y_test))"
   ]
  },
  {
   "cell_type": "code",
   "execution_count": null,
   "id": "6a60f681",
   "metadata": {},
   "outputs": [],
   "source": []
  },
  {
   "cell_type": "code",
   "execution_count": null,
   "id": "f4b621af",
   "metadata": {},
   "outputs": [],
   "source": []
  },
  {
   "cell_type": "code",
   "execution_count": null,
   "id": "f11bd445",
   "metadata": {},
   "outputs": [],
   "source": [
    "import pandas as pd\n",
    "from sklearn.linear_model import LinearRegression\n",
    "\n",
    "data = pd.read_csv(\"housing.csv\")\n",
    "\n",
    "X_train, X_test, y_train, y_test = train_test_split(data.iloc[:, :-1], data.iloc[:, -1], test_size=0.2)\n",
    "\n",
    "model = LinearRegression()\n",
    "model.fit(X_train, y_train)\n",
    "\n",
    "y_pred = model.predict(X_test)\n",
    "accuracy = r2_score(y_test, y_pred)\n",
    "\n",
    "accuracy = accuracy\n",
    "\n",
    "plt.plot(accuracies)\n",
    "plt.show()"
   ]
  }
 ],
 "metadata": {
  "kernelspec": {
   "display_name": "Python 3 (ipykernel)",
   "language": "python",
   "name": "python3"
  },
  "language_info": {
   "codemirror_mode": {
    "name": "ipython",
    "version": 3
   },
   "file_extension": ".py",
   "mimetype": "text/x-python",
   "name": "python",
   "nbconvert_exporter": "python",
   "pygments_lexer": "ipython3",
   "version": "3.9.7"
  }
 },
 "nbformat": 4,
 "nbformat_minor": 5
}
