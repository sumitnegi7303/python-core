{
 "cells": [
  {
   "cell_type": "code",
   "execution_count": null,
   "id": "ed677de0",
   "metadata": {},
   "outputs": [],
   "source": [
    "#strings\n",
    "use to store text inform\n",
    "properties\n",
    "1) strings are imutable in nature\n"
   ]
  },
  {
   "cell_type": "code",
   "execution_count": null,
   "id": "34704836",
   "metadata": {},
   "outputs": [],
   "source": [
    "#this is joinging two things :"
   ]
  },
  {
   "cell_type": "code",
   "execution_count": 4,
   "id": "41ea8f29",
   "metadata": {},
   "outputs": [
    {
     "name": "stdout",
     "output_type": "stream",
     "text": [
      "Madridsoftware\n"
     ]
    }
   ],
   "source": [
    "s = \"madrid\"\n",
    "s = \"Madrid\" + \"software\"\n",
    "print(s)"
   ]
  },
  {
   "cell_type": "code",
   "execution_count": null,
   "id": "d2ad6496",
   "metadata": {},
   "outputs": [],
   "source": [
    "3) indexing & slicing"
   ]
  },
  {
   "cell_type": "code",
   "execution_count": 5,
   "id": "eaba6b52",
   "metadata": {},
   "outputs": [
    {
     "data": {
      "text/plain": [
       "'a'"
      ]
     },
     "execution_count": 5,
     "metadata": {},
     "output_type": "execute_result"
    }
   ],
   "source": [
    "s = \"Aman\"\n",
    "s[2]"
   ]
  },
  {
   "cell_type": "code",
   "execution_count": 7,
   "id": "9f92df94",
   "metadata": {},
   "outputs": [
    {
     "data": {
      "text/plain": [
       "'u'"
      ]
     },
     "execution_count": 7,
     "metadata": {},
     "output_type": "execute_result"
    }
   ],
   "source": [
    "z = \"sumit\"\n",
    "z[-4 ]"
   ]
  },
  {
   "cell_type": "code",
   "execution_count": 26,
   "id": "768392cd",
   "metadata": {},
   "outputs": [
    {
     "data": {
      "text/plain": [
       "'nam'"
      ]
     },
     "execution_count": 26,
     "metadata": {},
     "output_type": "execute_result"
    }
   ],
   "source": [
    "s[-1:-4:-1]"
   ]
  },
  {
   "cell_type": "code",
   "execution_count": 27,
   "id": "c6dc5eb0",
   "metadata": {},
   "outputs": [
    {
     "data": {
      "text/plain": [
       "'namA'"
      ]
     },
     "execution_count": 27,
     "metadata": {},
     "output_type": "execute_result"
    }
   ],
   "source": [
    "s[-1:-5:-1]"
   ]
  },
  {
   "cell_type": "code",
   "execution_count": 32,
   "id": "af93c25a",
   "metadata": {},
   "outputs": [
    {
     "data": {
      "text/plain": [
       "'namA'"
      ]
     },
     "execution_count": 32,
     "metadata": {},
     "output_type": "execute_result"
    }
   ],
   "source": [
    "s[::-1]"
   ]
  },
  {
   "cell_type": "code",
   "execution_count": 33,
   "id": "153b7dac",
   "metadata": {},
   "outputs": [
    {
     "data": {
      "text/plain": [
       "'Aman'"
      ]
     },
     "execution_count": 33,
     "metadata": {},
     "output_type": "execute_result"
    }
   ],
   "source": [
    "s[-19:15]"
   ]
  },
  {
   "cell_type": "code",
   "execution_count": 49,
   "id": "852080af",
   "metadata": {},
   "outputs": [
    {
     "data": {
      "text/plain": [
       "'54321'"
      ]
     },
     "execution_count": 49,
     "metadata": {},
     "output_type": "execute_result"
    }
   ],
   "source": [
    "s = \"Aman12345Sing!@#$%^&*abcdef\"\n",
    "s=s[4:9]\n",
    "s[::-1]"
   ]
  },
  {
   "cell_type": "code",
   "execution_count": 53,
   "id": "04617408",
   "metadata": {},
   "outputs": [
    {
     "data": {
      "text/plain": [
       "'54321n'"
      ]
     },
     "execution_count": 53,
     "metadata": {},
     "output_type": "execute_result"
    }
   ],
   "source": [
    "s = \"Aman12345Sing!@#$%^&*abcdefg\"\n",
    "s[-20:-26:-1]"
   ]
  },
  {
   "cell_type": "code",
   "execution_count": null,
   "id": "ef70d147",
   "metadata": {},
   "outputs": [],
   "source": [
    "wap to find whether the given string is palindrone or not "
   ]
  },
  {
   "cell_type": "code",
   "execution_count": null,
   "id": "04db6e7c",
   "metadata": {},
   "outputs": [],
   "source": [
    "madam \n",
    "arora\n",
    "nitin\n"
   ]
  },
  {
   "cell_type": "code",
   "execution_count": 54,
   "id": "9594b8b6",
   "metadata": {},
   "outputs": [
    {
     "name": "stdout",
     "output_type": "stream",
     "text": [
      "enter the names to check palindrone : arora dipti nitin cena madam\n",
      "arora : is palindrone \n",
      "dipti : is not palindrone \n",
      "nitin : is palindrone \n",
      "cena : is not palindrone \n",
      "madam : is palindrone \n"
     ]
    }
   ],
   "source": [
    "names = input(\"enter the names to check palindrone : \").split()\n",
    "for i in names :\n",
    "    if i==i[::-1]:\n",
    "        print(i,\": is palindrone \")\n",
    "    else:\n",
    "        print(i,\": is not palindrone \")"
   ]
  },
  {
   "cell_type": "code",
   "execution_count": null,
   "id": "c8d0dc2e",
   "metadata": {},
   "outputs": [],
   "source": []
  }
 ],
 "metadata": {
  "kernelspec": {
   "display_name": "Python 3 (ipykernel)",
   "language": "python",
   "name": "python3"
  },
  "language_info": {
   "codemirror_mode": {
    "name": "ipython",
    "version": 3
   },
   "file_extension": ".py",
   "mimetype": "text/x-python",
   "name": "python",
   "nbconvert_exporter": "python",
   "pygments_lexer": "ipython3",
   "version": "3.9.7"
  }
 },
 "nbformat": 4,
 "nbformat_minor": 5
}
