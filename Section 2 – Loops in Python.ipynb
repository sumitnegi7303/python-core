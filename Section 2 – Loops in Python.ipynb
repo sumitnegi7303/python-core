{
 "cells": [
  {
   "cell_type": "markdown",
   "id": "ec54c69f",
   "metadata": {},
   "source": [
    "In the second section you will learn about loops in Python, and specifically – the while and for loops. You will learn how to create (and avoid falling into) infinite loops, how to exit loops, and skip particular loop iterations. Ready?"
   ]
  },
  {
   "cell_type": "markdown",
   "id": "de8ab431",
   "metadata": {},
   "source": [
    "# 3.2.1 Looping your code with while"
   ]
  },
  {
   "cell_type": "markdown",
   "id": "cb3b8e9e",
   "metadata": {},
   "source": [
    "while there is something to do\n",
    "\n",
    "    do it\n",
    "    \n",
    "In general, in Python, a loop can be represented as follows:\n",
    "    \n",
    "    while\n",
    "    \n",
    "    instruction\n",
    "    \n",
    "\n",
    "If you notice some similarities to the if instruction, that's quite all right. Indeed, the syntactic difference is only one: you use the word while instead of the word if.\n",
    "\n",
    "The semantic difference is more important: when the condition is met, if performs its statements only once; while repeats the execution as long as the condition evaluates to True.\n",
    "\n",
    "Note: all the rules regarding indentation are applicable here, too. We'll show you this soon."
   ]
  },
  {
   "cell_type": "markdown",
   "id": "6fc23fcd",
   "metadata": {},
   "source": [
    "# Look at the algorithm below:\n",
    "\n",
    "while conditional_expression:\n",
    "\n",
    "    instruction_one\n",
    "    \n",
    "    instruction_two\n",
    "    \n",
    "    instruction_three\n",
    "    :\n",
    "    :\n",
    "    instruction_n"
   ]
  },
  {
   "cell_type": "markdown",
   "id": "5efdf23f",
   "metadata": {},
   "source": [
    "It is now important to remember that:\n",
    "\n",
    "if you want to execute more than one statement inside one while loop, you must (as with if) indent all the instructions in the same way;\n",
    "\n",
    "an instruction or set of instructions executed inside the while loop is called the loop's body;\n",
    "\n",
    "if the condition is False (equal to zero) as early as when it is tested for the first time, the body is not executed even once (note the analogy of not having to do anything if there is nothing to do);\n",
    "\n",
    "the body should be able to change the condition's value, because if the condition is True at the beginning, the body might run continuously to infinity – notice that doing a thing usually decreases the number of things to do)."
   ]
  },
  {
   "cell_type": "markdown",
   "id": "1356ca9d",
   "metadata": {},
   "source": [
    "# 3.2.2 An infinite loop\n",
    "An infinite loop, also called an endless loop, is a sequence of instructions in a program which repeat indefinitely (loop endlessly.)\n",
    "\n",
    "Here's an example of a loop that is not able to finish its execution:\n",
    "\n",
    "\n",
    "while True:\n",
    "\n",
    "    print(\"I'm stuck inside a loop.\")"
   ]
  },
  {
   "cell_type": "markdown",
   "id": "2d083c83",
   "metadata": {},
   "source": [
    "# Analyze the program carefully. See where the loop starts (line 8). Locate the loop's body and find out how the body is exited:"
   ]
  },
  {
   "cell_type": "code",
   "execution_count": 4,
   "id": "6feb4638",
   "metadata": {},
   "outputs": [
    {
     "name": "stdout",
     "output_type": "stream",
     "text": [
      "Enter a number or type -1 to stop: 9\n",
      "Enter a number or type -1 to stop: 2\n",
      "Enter a number or type -1 to stop: -1\n",
      "The largest number is: 9\n"
     ]
    }
   ],
   "source": [
    "# Store the current largest number here.\n",
    "largest_number = -999999999\n",
    "\n",
    "# Input the first value.\n",
    "number = int(input(\"Enter a number or type -1 to stop: \"))\n",
    "\n",
    "# If the number is not equal to -1, continue.\n",
    "while number != -1:\n",
    "    # Is number larger than largest_number?\n",
    "    if number > largest_number:\n",
    "        # Yes, update largest_number.\n",
    "        largest_number = number\n",
    "    # Input the next number.\n",
    "    number = int(input(\"Enter a number or type -1 to stop: \"))\n",
    "\n",
    "# Print the largest number.\n",
    "print(\"The largest number is:\", largest_number)\n",
    "\n"
   ]
  },
  {
   "cell_type": "markdown",
   "id": "67493801",
   "metadata": {},
   "source": [
    "# 3.2.3 The while loop: more examples\n",
    "\n",
    "Let's look at another example employing the while loop. Follow the comments to find out the idea and the solution.\n",
    "\n",
    "\n"
   ]
  },
  {
   "cell_type": "code",
   "execution_count": 5,
   "id": "698c8ce1",
   "metadata": {},
   "outputs": [
    {
     "name": "stdout",
     "output_type": "stream",
     "text": [
      "Enter a number or type 0 to stop: 8\n",
      "Enter a number or type 0 to stop: 45\n",
      "Enter a number or type 0 to stop: 0\n",
      "Odd numbers count: 1\n",
      "Even numbers count: 1\n"
     ]
    }
   ],
   "source": [
    "# A program that reads a sequence of numbers\n",
    "# and counts how many numbers are even and how many are odd.\n",
    "# The program terminates when zero is entered.\n",
    "\n",
    "odd_numbers = 0\n",
    "even_numbers = 0\n",
    "\n",
    "# Read the first number.\n",
    "number = int(input(\"Enter a number or type 0 to stop: \"))\n",
    "\n",
    "# 0 terminates execution.\n",
    "while number != 0:\n",
    "    # Check if the number is odd.\n",
    "    if number % 2 == 1:\n",
    "        # Increase the odd_numbers counter.\n",
    "        odd_numbers += 1\n",
    "    else:\n",
    "        # Increase the even_numbers counter.\n",
    "        even_numbers += 1\n",
    "    # Read the next number.\n",
    "    number = int(input(\"Enter a number or type 0 to stop: \"))\n",
    "\n",
    "# Print results.\n",
    "print(\"Odd numbers count:\", odd_numbers)\n",
    "print(\"Even numbers count:\", even_numbers)\n",
    "\n"
   ]
  },
  {
   "cell_type": "markdown",
   "id": "10561588",
   "metadata": {},
   "source": [
    "# Using a counter variable to exit a loop\n"
   ]
  },
  {
   "cell_type": "code",
   "execution_count": 6,
   "id": "0325eee7",
   "metadata": {},
   "outputs": [
    {
     "name": "stdout",
     "output_type": "stream",
     "text": [
      "Inside the loop. 5\n",
      "Inside the loop. 4\n",
      "Inside the loop. 3\n",
      "Inside the loop. 2\n",
      "Inside the loop. 1\n",
      "Outside the loop. 0\n"
     ]
    }
   ],
   "source": [
    "counter = 5\n",
    "while counter != 0:\n",
    "    print(\"Inside the loop.\", counter)\n",
    "    counter -= 1\n",
    "print(\"Outside the loop.\", counter)\n",
    "\n"
   ]
  },
  {
   "cell_type": "code",
   "execution_count": 8,
   "id": "c295bfa1",
   "metadata": {},
   "outputs": [
    {
     "name": "stdout",
     "output_type": "stream",
     "text": [
      "\n",
      "+================================+\n",
      "| Welcome to my game, muggle!    |\n",
      "| Enter an integer number        |\n",
      "| and guess what number I've     |\n",
      "| picked for you.                |\n",
      "| So, what is the secret number? |\n",
      "+================================+\n",
      "\n"
     ]
    }
   ],
   "source": [
    "# 3.2.4   LAB   Guess the secret number\n",
    "\n",
    "secret_number = 777\n",
    "\n",
    "print(\n",
    "\"\"\"\n",
    "+================================+\n",
    "| Welcome to my game, muggle!    |\n",
    "| Enter an integer number        |\n",
    "| and guess what number I've     |\n",
    "| picked for you.                |\n",
    "| So, what is the secret number? |\n",
    "+================================+\n",
    "\"\"\")\n"
   ]
  },
  {
   "cell_type": "markdown",
   "id": "fa64fa65",
   "metadata": {},
   "source": [
    "# 3.2.5 Looping your code with for"
   ]
  },
  {
   "cell_type": "code",
   "execution_count": 9,
   "id": "e0c63edd",
   "metadata": {},
   "outputs": [],
   "source": [
    "i = 0\n",
    "while i < 100:\n",
    "    # do_something()\n",
    "    i += 1"
   ]
  },
  {
   "cell_type": "code",
   "execution_count": 10,
   "id": "0c4396de",
   "metadata": {},
   "outputs": [],
   "source": [
    "for i in range(100):\n",
    "    # do_something()\n",
    "    pass\n",
    " "
   ]
  },
  {
   "cell_type": "code",
   "execution_count": 11,
   "id": "c7ab2837",
   "metadata": {},
   "outputs": [
    {
     "name": "stdout",
     "output_type": "stream",
     "text": [
      "The value of i is currently 0\n",
      "The value of i is currently 1\n",
      "The value of i is currently 2\n",
      "The value of i is currently 3\n",
      "The value of i is currently 4\n",
      "The value of i is currently 5\n",
      "The value of i is currently 6\n",
      "The value of i is currently 7\n",
      "The value of i is currently 8\n",
      "The value of i is currently 9\n"
     ]
    }
   ],
   "source": [
    "for i in range(10):\n",
    "    print(\"The value of i is currently\", i)\n"
   ]
  },
  {
   "cell_type": "markdown",
   "id": "1a5e23c7",
   "metadata": {},
   "source": [
    "# 3.2.6 More about the for loop and the range() function with three arguments"
   ]
  },
  {
   "cell_type": "code",
   "execution_count": 12,
   "id": "7d6723b8",
   "metadata": {},
   "outputs": [
    {
     "name": "stdout",
     "output_type": "stream",
     "text": [
      "The value of i is currently 2\n",
      "The value of i is currently 5\n"
     ]
    }
   ],
   "source": [
    "for i in range(2, 8, 3):\n",
    "    print(\"The value of i is currently\", i)\n",
    "\n"
   ]
  },
  {
   "cell_type": "code",
   "execution_count": 13,
   "id": "1ab141de",
   "metadata": {},
   "outputs": [],
   "source": [
    "for i in range(1, 1):\n",
    "    print(\"The value of i is currently\", i)\n",
    " "
   ]
  },
  {
   "cell_type": "code",
   "execution_count": 14,
   "id": "90903952",
   "metadata": {},
   "outputs": [],
   "source": [
    "for i in range(2, 1):\n",
    "    print(\"The value of i is currently\", i)\n",
    " "
   ]
  },
  {
   "cell_type": "code",
   "execution_count": 15,
   "id": "bfd455a8",
   "metadata": {},
   "outputs": [
    {
     "name": "stdout",
     "output_type": "stream",
     "text": [
      "2 to the power of 0 is 1\n",
      "2 to the power of 1 is 2\n",
      "2 to the power of 2 is 4\n",
      "2 to the power of 3 is 8\n",
      "2 to the power of 4 is 16\n",
      "2 to the power of 5 is 32\n",
      "2 to the power of 6 is 64\n",
      "2 to the power of 7 is 128\n",
      "2 to the power of 8 is 256\n",
      "2 to the power of 9 is 512\n",
      "2 to the power of 10 is 1024\n",
      "2 to the power of 11 is 2048\n",
      "2 to the power of 12 is 4096\n",
      "2 to the power of 13 is 8192\n",
      "2 to the power of 14 is 16384\n",
      "2 to the power of 15 is 32768\n"
     ]
    }
   ],
   "source": [
    "power = 1\n",
    "for expo in range(16):\n",
    "    print(\"2 to the power of\", expo, \"is\", power)\n",
    "    power *= 2\n"
   ]
  },
  {
   "cell_type": "markdown",
   "id": "9a8afd01",
   "metadata": {},
   "source": [
    "# 3.2.8 The break and continue statements"
   ]
  },
  {
   "cell_type": "code",
   "execution_count": 16,
   "id": "61bc2972",
   "metadata": {},
   "outputs": [
    {
     "name": "stdout",
     "output_type": "stream",
     "text": [
      "The break instruction:\n",
      "Inside the loop. 1\n",
      "Inside the loop. 2\n",
      "Outside the loop.\n",
      "\n",
      "The continue instruction:\n",
      "Inside the loop. 1\n",
      "Inside the loop. 2\n",
      "Inside the loop. 4\n",
      "Inside the loop. 5\n",
      "Outside the loop.\n"
     ]
    }
   ],
   "source": [
    "# break - example\n",
    "\n",
    "print(\"The break instruction:\")\n",
    "for i in range(1, 6):\n",
    "    if i == 3:\n",
    "        break\n",
    "    print(\"Inside the loop.\", i)\n",
    "print(\"Outside the loop.\")\n",
    "\n",
    "\n",
    "# continue - example\n",
    "\n",
    "print(\"\\nThe continue instruction:\")\n",
    "for i in range(1, 6):\n",
    "    if i == 3:\n",
    "        continue\n",
    "    print(\"Inside the loop.\", i)\n",
    "print(\"Outside the loop.\")\n",
    "\n"
   ]
  },
  {
   "cell_type": "markdown",
   "id": "362fed1c",
   "metadata": {},
   "source": [
    "# The break and continue statements: more examples"
   ]
  },
  {
   "cell_type": "code",
   "execution_count": 17,
   "id": "3c8eb68d",
   "metadata": {},
   "outputs": [
    {
     "name": "stdout",
     "output_type": "stream",
     "text": [
      "Enter a number or type -1 to end the program: 5\n",
      "Enter a number or type -1 to end the program: -1\n",
      "The largest number is 5\n"
     ]
    }
   ],
   "source": [
    "largest_number = -99999999\n",
    "counter = 0\n",
    "\n",
    "while True:\n",
    "    number = int(input(\"Enter a number or type -1 to end the program: \"))\n",
    "    if number == -1:\n",
    "        break\n",
    "    counter += 1\n",
    "    if number > largest_number:\n",
    "        largest_number = number\n",
    "\n",
    "if counter != 0:\n",
    "    print(\"The largest number is\", largest_number)\n",
    "else:\n",
    "    print(\"You haven't entered any number.\")\n",
    "\n"
   ]
  },
  {
   "cell_type": "code",
   "execution_count": 18,
   "id": "0876a8a0",
   "metadata": {},
   "outputs": [
    {
     "name": "stdout",
     "output_type": "stream",
     "text": [
      "Enter a number or type -1 to end program: 98\n",
      "Enter a number or type -1 to end the program: -1\n",
      "The largest number is 98\n"
     ]
    }
   ],
   "source": [
    "# And now the continue variant:\n",
    "\n",
    "largest_number = -99999999\n",
    "counter = 0\n",
    "\n",
    "number = int(input(\"Enter a number or type -1 to end program: \"))\n",
    "\n",
    "while number != -1:\n",
    "    if number == -1:\n",
    "        continue\n",
    "    counter += 1\n",
    "\n",
    "    if number > largest_number:\n",
    "        largest_number = number\n",
    "    number = int(input(\"Enter a number or type -1 to end the program: \"))\n",
    "\n",
    "if counter:\n",
    "    print(\"The largest number is\", largest_number)\n",
    "else:\n",
    "    print(\"You haven't entered any number.\")\n"
   ]
  },
  {
   "cell_type": "markdown",
   "id": "5031b082",
   "metadata": {},
   "source": [
    "# 3.2.16 SECTION SUMMARY\n",
    "\n",
    " There are two types of loops in Python: while and for:\n",
    "\n",
    "the while loop executes a statement or a set of statements as long as a specified boolean condition is true, e.g.:"
   ]
  },
  {
   "cell_type": "code",
   "execution_count": null,
   "id": "29555946",
   "metadata": {},
   "outputs": [],
   "source": [
    "# Example 1\n",
    "while True:\n",
    "    print(\"Stuck in an infinite loop.\")\n",
    " \n",
    "# Example 2\n",
    "counter = 5\n",
    "while counter > 2:\n",
    "    print(counter)\n",
    "    counter -= 1"
   ]
  },
  {
   "cell_type": "code",
   "execution_count": null,
   "id": "7dbfa78c",
   "metadata": {},
   "outputs": [],
   "source": [
    "# Example 1\n",
    "word = \"Python\"\n",
    "for letter in word:\n",
    "    print(letter, end=\"*\")\n",
    " \n",
    "# Example 2\n",
    "for i in range(1, 10):\n",
    "    if i % 2 == 0:\n",
    "        print(i)\n",
    " "
   ]
  },
  {
   "cell_type": "markdown",
   "id": "ef568ca7",
   "metadata": {},
   "source": [
    " You can use the break and continue statements to change the flow of a loop:\n",
    "\n",
    "You use break to exit a loop, e.g.:"
   ]
  },
  {
   "cell_type": "code",
   "execution_count": null,
   "id": "4729bb65",
   "metadata": {},
   "outputs": [],
   "source": [
    "text = \"OpenEDG Python Institute\"\n",
    "for letter in text:\n",
    "    if letter == \"P\":\n",
    "        break\n",
    "    print(letter, end=\"\")\n",
    "\n"
   ]
  },
  {
   "cell_type": "markdown",
   "id": "1069b213",
   "metadata": {},
   "source": [
    "You use continue to skip the current iteration, and continue with the next iteration, e.g.:"
   ]
  },
  {
   "cell_type": "code",
   "execution_count": null,
   "id": "df04a56c",
   "metadata": {},
   "outputs": [],
   "source": [
    "text = \"pyxpyxpyx\n",
    "for letter in text:\n",
    "    if letter == \"x\":\n",
    "        continue\n",
    "    print(letter, end=\"\")\n",
    "\n"
   ]
  },
  {
   "cell_type": "markdown",
   "id": "1bd30ea0",
   "metadata": {},
   "source": [
    "The while and for loops can also have an else clause in Python. The else clause executes after the loop finishes its execution as long as it has not been terminated by break, e.g.:"
   ]
  },
  {
   "cell_type": "code",
   "execution_count": null,
   "id": "c19df9d6",
   "metadata": {},
   "outputs": [],
   "source": [
    "n = 0\n",
    "\n",
    "while n != 3:\n",
    "    print(n)\n",
    "    n += 1\n",
    "else:\n",
    "    print(n, \"else\")\n",
    "\n",
    "print()\n",
    "\n",
    "for i in range(0, 3):\n",
    "    print(i)\n",
    "else:\n",
    "    print(i, \"else\")\n",
    "\n"
   ]
  },
  {
   "cell_type": "code",
   "execution_count": null,
   "id": "f24700fb",
   "metadata": {},
   "outputs": [],
   "source": []
  }
 ],
 "metadata": {
  "kernelspec": {
   "display_name": "Python 3 (ipykernel)",
   "language": "python",
   "name": "python3"
  },
  "language_info": {
   "codemirror_mode": {
    "name": "ipython",
    "version": 3
   },
   "file_extension": ".py",
   "mimetype": "text/x-python",
   "name": "python",
   "nbconvert_exporter": "python",
   "pygments_lexer": "ipython3",
   "version": "3.9.7"
  }
 },
 "nbformat": 4,
 "nbformat_minor": 5
}
