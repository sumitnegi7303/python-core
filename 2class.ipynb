{
 "cells": [
  {
   "cell_type": "code",
   "execution_count": 10,
   "id": "12698639",
   "metadata": {},
   "outputs": [
    {
     "name": "stdout",
     "output_type": "stream",
     "text": [
      "122\n"
     ]
    }
   ],
   "source": [
    "a = ord(\"z\")\n",
    "print(a)"
   ]
  },
  {
   "cell_type": "code",
   "execution_count": 1,
   "id": "1ebc7553",
   "metadata": {},
   "outputs": [
    {
     "name": "stdout",
     "output_type": "stream",
     "text": [
      "102\n"
     ]
    }
   ],
   "source": [
    "a = ord(\"f\")\n",
    "print(a)"
   ]
  },
  {
   "cell_type": "code",
   "execution_count": 2,
   "id": "90005c18",
   "metadata": {},
   "outputs": [
    {
     "name": "stdout",
     "output_type": "stream",
     "text": [
      "115\n"
     ]
    }
   ],
   "source": [
    "a=ord('s')\n",
    "print(a)"
   ]
  },
  {
   "cell_type": "code",
   "execution_count": null,
   "id": "0545edc7",
   "metadata": {},
   "outputs": [],
   "source": [
    "#this is ASCII orderd:"
   ]
  },
  {
   "cell_type": "code",
   "execution_count": 12,
   "id": "2c2b261f",
   "metadata": {},
   "outputs": [
    {
     "name": "stdout",
     "output_type": "stream",
     "text": [
      "90\n"
     ]
    }
   ],
   "source": [
    "a = ord (\"Z\")\n",
    "print(a)"
   ]
  },
  {
   "cell_type": "code",
   "execution_count": null,
   "id": "97bdd647",
   "metadata": {},
   "outputs": [],
   "source": [
    "#coments:"
   ]
  },
  {
   "cell_type": "code",
   "execution_count": null,
   "id": "ee6d9abf",
   "metadata": {},
   "outputs": [],
   "source": [
    "code cell mei description add krni h toh uske 2 method, two types of \n",
    "coments are there:\n",
    "    1) single line comment : #\n",
    "    2) multiline comment : \"\"\"@#$#$fjedghfiw\"\"\"\n",
    "        triple \"\"\"hotai hain\"\"\"\n",
    "        "
   ]
  },
  {
   "cell_type": "code",
   "execution_count": null,
   "id": "b9917027",
   "metadata": {},
   "outputs": [],
   "source": [
    "#operation:"
   ]
  },
  {
   "cell_type": "code",
   "execution_count": null,
   "id": "f8da2ab1",
   "metadata": {},
   "outputs": [],
   "source": [
    "a = 50km/h\n",
    "b = 30km/h\n",
    "c = 55km/h"
   ]
  },
  {
   "cell_type": "code",
   "execution_count": 20,
   "id": "25b88bc5",
   "metadata": {},
   "outputs": [
    {
     "data": {
      "text/plain": [
       "0.6"
      ]
     },
     "execution_count": 20,
     "metadata": {},
     "output_type": "execute_result"
    }
   ],
   "source": [
    "a = 50\n",
    "30/50"
   ]
  },
  {
   "cell_type": "code",
   "execution_count": 17,
   "id": "0a781f66",
   "metadata": {},
   "outputs": [
    {
     "data": {
      "text/plain": [
       "1.0"
      ]
     },
     "execution_count": 17,
     "metadata": {},
     "output_type": "execute_result"
    }
   ],
   "source": [
    "b = 30\n",
    "30/30"
   ]
  },
  {
   "cell_type": "code",
   "execution_count": 21,
   "id": "0fa48fdd",
   "metadata": {},
   "outputs": [
    {
     "data": {
      "text/plain": [
       "0.5454545454545454"
      ]
     },
     "execution_count": 21,
     "metadata": {},
     "output_type": "execute_result"
    }
   ],
   "source": [
    "c = 55\n",
    "30/55"
   ]
  },
  {
   "cell_type": "code",
   "execution_count": null,
   "id": "cebda4b7",
   "metadata": {},
   "outputs": [],
   "source": [
    "#logical operation:\n",
    "1: and \n",
    "2: or\n",
    "3: not"
   ]
  },
  {
   "cell_type": "code",
   "execution_count": 22,
   "id": "c0e0cea6",
   "metadata": {},
   "outputs": [
    {
     "data": {
      "text/plain": [
       "False"
      ]
     },
     "execution_count": 22,
     "metadata": {},
     "output_type": "execute_result"
    }
   ],
   "source": [
    "a = 10 \n",
    "b = 20\n",
    "c = 5\n",
    "a>b and a==c"
   ]
  },
  {
   "cell_type": "code",
   "execution_count": 23,
   "id": "0483d613",
   "metadata": {},
   "outputs": [
    {
     "data": {
      "text/plain": [
       "True"
      ]
     },
     "execution_count": 23,
     "metadata": {},
     "output_type": "execute_result"
    }
   ],
   "source": [
    "a<c or a >c"
   ]
  },
  {
   "cell_type": "code",
   "execution_count": 28,
   "id": "cf9547b6",
   "metadata": {},
   "outputs": [
    {
     "data": {
      "text/plain": [
       "False"
      ]
     },
     "execution_count": 28,
     "metadata": {},
     "output_type": "execute_result"
    }
   ],
   "source": [
    "not a>c"
   ]
  },
  {
   "cell_type": "code",
   "execution_count": 25,
   "id": "6bf54965",
   "metadata": {},
   "outputs": [
    {
     "data": {
      "text/plain": [
       "False"
      ]
     },
     "execution_count": 25,
     "metadata": {},
     "output_type": "execute_result"
    }
   ],
   "source": [
    "300<230 and 120>30"
   ]
  },
  {
   "cell_type": "code",
   "execution_count": 1,
   "id": "bee45b64",
   "metadata": {},
   "outputs": [
    {
     "data": {
      "text/plain": [
       "True"
      ]
     },
     "execution_count": 1,
     "metadata": {},
     "output_type": "execute_result"
    }
   ],
   "source": [
    "300<230 or 120>30"
   ]
  },
  {
   "cell_type": "code",
   "execution_count": null,
   "id": "86b6f38e",
   "metadata": {},
   "outputs": [],
   "source": [
    "#comparison operation:"
   ]
  },
  {
   "cell_type": "code",
   "execution_count": 92,
   "id": "b30f493a",
   "metadata": {},
   "outputs": [],
   "source": [
    "a = 100\n",
    "b = 200\n",
    "c = 250\n",
    "d = 120"
   ]
  },
  {
   "cell_type": "code",
   "execution_count": 95,
   "id": "332fab35",
   "metadata": {},
   "outputs": [
    {
     "data": {
      "text/plain": [
       "False"
      ]
     },
     "execution_count": 95,
     "metadata": {},
     "output_type": "execute_result"
    }
   ],
   "source": [
    "a >b"
   ]
  },
  {
   "cell_type": "code",
   "execution_count": 30,
   "id": "9df7005c",
   "metadata": {},
   "outputs": [
    {
     "data": {
      "text/plain": [
       "False"
      ]
     },
     "execution_count": 30,
     "metadata": {},
     "output_type": "execute_result"
    }
   ],
   "source": [
    "a>=b"
   ]
  },
  {
   "cell_type": "code",
   "execution_count": 31,
   "id": "00eb46e3",
   "metadata": {},
   "outputs": [
    {
     "data": {
      "text/plain": [
       "True"
      ]
     },
     "execution_count": 31,
     "metadata": {},
     "output_type": "execute_result"
    }
   ],
   "source": [
    "a<=b"
   ]
  },
  {
   "cell_type": "code",
   "execution_count": 32,
   "id": "ecb8310d",
   "metadata": {},
   "outputs": [
    {
     "data": {
      "text/plain": [
       "False"
      ]
     },
     "execution_count": 32,
     "metadata": {},
     "output_type": "execute_result"
    }
   ],
   "source": [
    "a==c"
   ]
  },
  {
   "cell_type": "code",
   "execution_count": 41,
   "id": "2f433158",
   "metadata": {
    "scrolled": true
   },
   "outputs": [
    {
     "data": {
      "text/plain": [
       "True"
      ]
     },
     "execution_count": 41,
     "metadata": {},
     "output_type": "execute_result"
    }
   ],
   "source": [
    "a!=d"
   ]
  },
  {
   "cell_type": "code",
   "execution_count": null,
   "id": "51f8e63b",
   "metadata": {},
   "outputs": [],
   "source": [
    "#Asignment operation:\n"
   ]
  },
  {
   "cell_type": "code",
   "execution_count": 1,
   "id": "40808fad",
   "metadata": {},
   "outputs": [],
   "source": [
    "a = 240\n",
    "b = 330"
   ]
  },
  {
   "cell_type": "code",
   "execution_count": 61,
   "id": "1d4ce1b8",
   "metadata": {},
   "outputs": [
    {
     "data": {
      "text/plain": [
       "240"
      ]
     },
     "execution_count": 61,
     "metadata": {},
     "output_type": "execute_result"
    }
   ],
   "source": [
    "a"
   ]
  },
  {
   "cell_type": "code",
   "execution_count": 62,
   "id": "a0825a8a",
   "metadata": {},
   "outputs": [
    {
     "data": {
      "text/plain": [
       "330"
      ]
     },
     "execution_count": 62,
     "metadata": {},
     "output_type": "execute_result"
    }
   ],
   "source": [
    "b"
   ]
  },
  {
   "cell_type": "code",
   "execution_count": 2,
   "id": "7d3a45eb",
   "metadata": {},
   "outputs": [
    {
     "data": {
      "text/plain": [
       "242"
      ]
     },
     "execution_count": 2,
     "metadata": {},
     "output_type": "execute_result"
    }
   ],
   "source": [
    "a=a+2\n",
    "a"
   ]
  },
  {
   "cell_type": "code",
   "execution_count": 3,
   "id": "e4ed1f8e",
   "metadata": {},
   "outputs": [
    {
     "data": {
      "text/plain": [
       "332"
      ]
     },
     "execution_count": 3,
     "metadata": {},
     "output_type": "execute_result"
    }
   ],
   "source": [
    "b = b+2\n",
    "b"
   ]
  },
  {
   "cell_type": "code",
   "execution_count": 4,
   "id": "1ee02159",
   "metadata": {},
   "outputs": [
    {
     "data": {
      "text/plain": [
       "244"
      ]
     },
     "execution_count": 4,
     "metadata": {},
     "output_type": "execute_result"
    }
   ],
   "source": [
    "a+=2\n",
    "a"
   ]
  },
  {
   "cell_type": "code",
   "execution_count": 5,
   "id": "3e7776d1",
   "metadata": {},
   "outputs": [
    {
     "data": {
      "text/plain": [
       "244"
      ]
     },
     "execution_count": 5,
     "metadata": {},
     "output_type": "execute_result"
    }
   ],
   "source": [
    "a!=2\n",
    "a"
   ]
  },
  {
   "cell_type": "code",
   "execution_count": 6,
   "id": "94f055c0",
   "metadata": {},
   "outputs": [
    {
     "data": {
      "text/plain": [
       "4880"
      ]
     },
     "execution_count": 6,
     "metadata": {},
     "output_type": "execute_result"
    }
   ],
   "source": [
    "a*=20\n",
    "a"
   ]
  },
  {
   "cell_type": "code",
   "execution_count": null,
   "id": "38b469d3",
   "metadata": {},
   "outputs": [],
   "source": [
    "#identity operation:\n",
    "1: is\n",
    "2: not"
   ]
  },
  {
   "cell_type": "code",
   "execution_count": 13,
   "id": "0dcd75bc",
   "metadata": {},
   "outputs": [],
   "source": [
    "a = 10\n",
    "b = 10"
   ]
  },
  {
   "cell_type": "code",
   "execution_count": 14,
   "id": "6be3a119",
   "metadata": {},
   "outputs": [
    {
     "data": {
      "text/plain": [
       "2482213972560"
      ]
     },
     "execution_count": 14,
     "metadata": {},
     "output_type": "execute_result"
    }
   ],
   "source": [
    "id(a)"
   ]
  },
  {
   "cell_type": "code",
   "execution_count": 15,
   "id": "3c66d32a",
   "metadata": {},
   "outputs": [
    {
     "data": {
      "text/plain": [
       "2482213972560"
      ]
     },
     "execution_count": 15,
     "metadata": {},
     "output_type": "execute_result"
    }
   ],
   "source": [
    "id(b)"
   ]
  },
  {
   "cell_type": "code",
   "execution_count": 16,
   "id": "c1171018",
   "metadata": {},
   "outputs": [
    {
     "data": {
      "text/plain": [
       "False"
      ]
     },
     "execution_count": 16,
     "metadata": {},
     "output_type": "execute_result"
    }
   ],
   "source": [
    "a is not b"
   ]
  },
  {
   "cell_type": "code",
   "execution_count": null,
   "id": "1303cdb2",
   "metadata": {},
   "outputs": [],
   "source": [
    "#membership operation:\n",
    "1:in\n",
    "2:notin"
   ]
  },
  {
   "cell_type": "code",
   "execution_count": 107,
   "id": "7fe39259",
   "metadata": {},
   "outputs": [
    {
     "data": {
      "text/plain": [
       "True"
      ]
     },
     "execution_count": 107,
     "metadata": {},
     "output_type": "execute_result"
    }
   ],
   "source": [
    "'n' in \"aman\""
   ]
  },
  {
   "cell_type": "code",
   "execution_count": 17,
   "id": "3727aa79",
   "metadata": {},
   "outputs": [
    {
     "data": {
      "text/plain": [
       "True"
      ]
     },
     "execution_count": 17,
     "metadata": {},
     "output_type": "execute_result"
    }
   ],
   "source": [
    "'s' in \"sumit\""
   ]
  },
  {
   "cell_type": "code",
   "execution_count": 111,
   "id": "f9be5d90",
   "metadata": {},
   "outputs": [
    {
     "data": {
      "text/plain": [
       "True"
      ]
     },
     "execution_count": 111,
     "metadata": {},
     "output_type": "execute_result"
    }
   ],
   "source": [
    "l = {23,3,34,2444}\n",
    "45 not in l"
   ]
  },
  {
   "cell_type": "code",
   "execution_count": 20,
   "id": "4d94589f",
   "metadata": {},
   "outputs": [
    {
     "data": {
      "text/plain": [
       "False"
      ]
     },
     "execution_count": 20,
     "metadata": {},
     "output_type": "execute_result"
    }
   ],
   "source": [
    "j = (23,24,24242,224)\n",
    "86 in j"
   ]
  },
  {
   "cell_type": "code",
   "execution_count": 21,
   "id": "a00382e4",
   "metadata": {},
   "outputs": [
    {
     "data": {
      "text/plain": [
       "True"
      ]
     },
     "execution_count": 21,
     "metadata": {},
     "output_type": "execute_result"
    }
   ],
   "source": [
    "j = (23,24,24242,224)\n",
    "86 not in j"
   ]
  },
  {
   "cell_type": "code",
   "execution_count": 113,
   "id": "3a38b521",
   "metadata": {},
   "outputs": [
    {
     "name": "stdout",
     "output_type": "stream",
     "text": [
      "enter the age: 18\n"
     ]
    }
   ],
   "source": [
    "a = input(\"enter the age: \")"
   ]
  },
  {
   "cell_type": "code",
   "execution_count": 114,
   "id": "a02c58e8",
   "metadata": {},
   "outputs": [
    {
     "data": {
      "text/plain": [
       "str"
      ]
     },
     "execution_count": 114,
     "metadata": {},
     "output_type": "execute_result"
    }
   ],
   "source": [
    "type(a)"
   ]
  },
  {
   "cell_type": "code",
   "execution_count": 115,
   "id": "c84c7dd2",
   "metadata": {},
   "outputs": [
    {
     "name": "stdout",
     "output_type": "stream",
     "text": [
      "enter the weight: 60\n"
     ]
    },
    {
     "data": {
      "text/plain": [
       "60.0"
      ]
     },
     "execution_count": 115,
     "metadata": {},
     "output_type": "execute_result"
    }
   ],
   "source": [
    "w = float(input(\"enter the weight: \"))\n",
    "w"
   ]
  },
  {
   "cell_type": "code",
   "execution_count": 116,
   "id": "22bfe8d9",
   "metadata": {},
   "outputs": [
    {
     "data": {
      "text/plain": [
       "100"
      ]
     },
     "execution_count": 116,
     "metadata": {},
     "output_type": "execute_result"
    }
   ],
   "source": [
    "w = 100\n",
    "w"
   ]
  },
  {
   "cell_type": "code",
   "execution_count": null,
   "id": "56b53059",
   "metadata": {},
   "outputs": [],
   "source": [
    "write a program to take from the user regarding his age and  u have to give me his sons age which his half of his age\n"
   ]
  },
  {
   "cell_type": "code",
   "execution_count": 51,
   "id": "cd81fe8f",
   "metadata": {},
   "outputs": [
    {
     "name": "stdout",
     "output_type": "stream",
     "text": [
      "enter the age:60\n"
     ]
    }
   ],
   "source": [
    "age = int(input(\"enter the age:\"))\n"
   ]
  },
  {
   "cell_type": "code",
   "execution_count": 52,
   "id": "d3b0aba2",
   "metadata": {},
   "outputs": [
    {
     "data": {
      "text/plain": [
       "30.0"
      ]
     },
     "execution_count": 52,
     "metadata": {},
     "output_type": "execute_result"
    }
   ],
   "source": [
    "son=age/2\n",
    "son"
   ]
  },
  {
   "cell_type": "code",
   "execution_count": 53,
   "id": "de6a30c8",
   "metadata": {},
   "outputs": [
    {
     "name": "stdout",
     "output_type": "stream",
     "text": [
      "enter the age:65\n"
     ]
    }
   ],
   "source": [
    "a = int(input(\"enter the age:\"))\n"
   ]
  },
  {
   "cell_type": "code",
   "execution_count": 63,
   "id": "42914880",
   "metadata": {},
   "outputs": [
    {
     "data": {
      "text/plain": [
       "32.5"
      ]
     },
     "execution_count": 63,
     "metadata": {},
     "output_type": "execute_result"
    }
   ],
   "source": [
    "son = a/2\n",
    "son"
   ]
  },
  {
   "cell_type": "code",
   "execution_count": 8,
   "id": "a23d8b0b",
   "metadata": {},
   "outputs": [
    {
     "name": "stdout",
     "output_type": "stream",
     "text": [
      "enter the number 232\n",
      "232\n"
     ]
    },
    {
     "data": {
      "text/plain": [
       "int"
      ]
     },
     "execution_count": 8,
     "metadata": {},
     "output_type": "execute_result"
    }
   ],
   "source": [
    "a = int(input(\"enter the number \"))\n",
    "print(a)\n",
    "type(a)"
   ]
  },
  {
   "cell_type": "code",
   "execution_count": 9,
   "id": "278e0a02",
   "metadata": {},
   "outputs": [
    {
     "name": "stdout",
     "output_type": "stream",
     "text": [
      "enter the age :19\n"
     ]
    }
   ],
   "source": [
    "a = int(input(\"enter the age :\"))\n"
   ]
  }
 ],
 "metadata": {
  "kernelspec": {
   "display_name": "Python 3 (ipykernel)",
   "language": "python",
   "name": "python3"
  },
  "language_info": {
   "codemirror_mode": {
    "name": "ipython",
    "version": 3
   },
   "file_extension": ".py",
   "mimetype": "text/x-python",
   "name": "python",
   "nbconvert_exporter": "python",
   "pygments_lexer": "ipython3",
   "version": "3.9.7"
  }
 },
 "nbformat": 4,
 "nbformat_minor": 5
}
