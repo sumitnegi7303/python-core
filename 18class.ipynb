{
 "cells": [
  {
   "cell_type": "code",
   "execution_count": null,
   "id": "e2cf7dd6",
   "metadata": {},
   "outputs": [],
   "source": [
    "#lists:\n",
    "container object\n",
    "multiple hetergueous data type \n",
    "propeties of list"
   ]
  },
  {
   "cell_type": "code",
   "execution_count": null,
   "id": "582792a4",
   "metadata": {},
   "outputs": [],
   "source": [
    "1)list are mutable in nature \n",
    "2)l =[1,2,3]\n",
    "concatenation[1,2,3]+[4,5,6]"
   ]
  },
  {
   "cell_type": "code",
   "execution_count": 7,
   "id": "7394c01d",
   "metadata": {},
   "outputs": [
    {
     "data": {
      "text/plain": [
       "[1, 2, 3, 4, 5, 6]"
      ]
     },
     "execution_count": 7,
     "metadata": {},
     "output_type": "execute_result"
    }
   ],
   "source": [
    "l =[1,2,3]\n",
    "l+[4,5,6]"
   ]
  },
  {
   "cell_type": "code",
   "execution_count": null,
   "id": "6b9389a0",
   "metadata": {},
   "outputs": [],
   "source": [
    "indexing & slicing "
   ]
  },
  {
   "cell_type": "code",
   "execution_count": 16,
   "id": "624cdedb",
   "metadata": {},
   "outputs": [
    {
     "data": {
      "text/plain": [
       "48"
      ]
     },
     "execution_count": 16,
     "metadata": {},
     "output_type": "execute_result"
    }
   ],
   "source": [
    "l =[1,4,34,45,23,\"aman\",[26,48,53.3]]\n",
    "l[6][1]"
   ]
  },
  {
   "cell_type": "code",
   "execution_count": 17,
   "id": "0447c3be",
   "metadata": {},
   "outputs": [
    {
     "data": {
      "text/plain": [
       "[26, 48]"
      ]
     },
     "execution_count": 17,
     "metadata": {},
     "output_type": "execute_result"
    }
   ],
   "source": [
    "l =[1,4,34,45,23,\"aman\",[26,48,53.3]]\n",
    "l[6][0:2]"
   ]
  },
  {
   "cell_type": "code",
   "execution_count": 18,
   "id": "9e25c7dc",
   "metadata": {},
   "outputs": [
    {
     "data": {
      "text/plain": [
       "'man'"
      ]
     },
     "execution_count": 18,
     "metadata": {},
     "output_type": "execute_result"
    }
   ],
   "source": [
    "l =[1,4,34,45,23,\"aman\",[26,48,53.3]]\n",
    "l[5][1:]"
   ]
  },
  {
   "cell_type": "code",
   "execution_count": 32,
   "id": "2393b1ce",
   "metadata": {},
   "outputs": [
    {
     "data": {
      "text/plain": [
       "'nam'"
      ]
     },
     "execution_count": 32,
     "metadata": {},
     "output_type": "execute_result"
    }
   ],
   "source": [
    "l =[1,4,34,45,23,\"aman\",[26,48,53.3]]\n",
    "l[5][-1:-4:-1]"
   ]
  },
  {
   "cell_type": "code",
   "execution_count": 49,
   "id": "438b91ab",
   "metadata": {},
   "outputs": [
    {
     "data": {
      "text/plain": [
       "[[1, 2, 3], [4, 5, 6], [7, 8, 9]]"
      ]
     },
     "execution_count": 49,
     "metadata": {},
     "output_type": "execute_result"
    }
   ],
   "source": [
    "l1 = [1,2,3]\n",
    "l2 = [4,5,6]\n",
    "l3 = [7,8,9]\n",
    "l = [l1,l2,l3]\n",
    "l"
   ]
  },
  {
   "cell_type": "code",
   "execution_count": 50,
   "id": "1221fb2b",
   "metadata": {},
   "outputs": [
    {
     "data": {
      "text/plain": [
       "[1, 8, 27, 64, 125, 216, 343, 512, 729]"
      ]
     },
     "execution_count": 50,
     "metadata": {},
     "output_type": "execute_result"
    }
   ],
   "source": [
    "L = []\n",
    "for i in l :\n",
    "    for j in i:\n",
    "        L.append(j**3)\n",
    "L"
   ]
  },
  {
   "cell_type": "code",
   "execution_count": 51,
   "id": "d0d0329e",
   "metadata": {},
   "outputs": [
    {
     "data": {
      "text/plain": [
       "[]"
      ]
     },
     "execution_count": 51,
     "metadata": {},
     "output_type": "execute_result"
    }
   ],
   "source": [
    "l = [1,2,3]\n",
    "l.clear()\n",
    "l"
   ]
  },
  {
   "cell_type": "code",
   "execution_count": null,
   "id": "e3086674",
   "metadata": {},
   "outputs": [],
   "source": [
    "l1 = 1.copy()"
   ]
  },
  {
   "cell_type": "code",
   "execution_count": 59,
   "id": "d9d2de19",
   "metadata": {},
   "outputs": [
    {
     "data": {
      "text/plain": [
       "1"
      ]
     },
     "execution_count": 59,
     "metadata": {},
     "output_type": "execute_result"
    }
   ],
   "source": [
    "l = [12,45,23,17,3,35]\n",
    "l.count(17)"
   ]
  },
  {
   "cell_type": "code",
   "execution_count": 60,
   "id": "f535c401",
   "metadata": {},
   "outputs": [
    {
     "data": {
      "text/plain": [
       "3"
      ]
     },
     "execution_count": 60,
     "metadata": {},
     "output_type": "execute_result"
    }
   ],
   "source": [
    "l = [1,1,True,False,0,2]\n",
    "l.count(1)"
   ]
  },
  {
   "cell_type": "code",
   "execution_count": 61,
   "id": "8ac6cb04",
   "metadata": {},
   "outputs": [],
   "source": [
    "l.extend(\"550\")"
   ]
  },
  {
   "cell_type": "code",
   "execution_count": 62,
   "id": "8afc40b3",
   "metadata": {},
   "outputs": [
    {
     "data": {
      "text/plain": [
       "[1, 1, True, False, 0, 2, '5', '5', '0']"
      ]
     },
     "execution_count": 62,
     "metadata": {},
     "output_type": "execute_result"
    }
   ],
   "source": [
    "l"
   ]
  },
  {
   "cell_type": "code",
   "execution_count": 64,
   "id": "0ad4abd0",
   "metadata": {},
   "outputs": [],
   "source": [
    "l.extend([550])"
   ]
  },
  {
   "cell_type": "code",
   "execution_count": 65,
   "id": "8ae64ca7",
   "metadata": {},
   "outputs": [
    {
     "data": {
      "text/plain": [
       "[1, 1, True, False, 0, 2, '5', '5', '0', 550]"
      ]
     },
     "execution_count": 65,
     "metadata": {},
     "output_type": "execute_result"
    }
   ],
   "source": [
    "l"
   ]
  },
  {
   "cell_type": "code",
   "execution_count": 67,
   "id": "e665d099",
   "metadata": {},
   "outputs": [
    {
     "data": {
      "text/plain": [
       "3"
      ]
     },
     "execution_count": 67,
     "metadata": {},
     "output_type": "execute_result"
    }
   ],
   "source": [
    "l.index(False)"
   ]
  },
  {
   "cell_type": "code",
   "execution_count": 68,
   "id": "00a7a93f",
   "metadata": {},
   "outputs": [
    {
     "data": {
      "text/plain": [
       "0"
      ]
     },
     "execution_count": 68,
     "metadata": {},
     "output_type": "execute_result"
    }
   ],
   "source": [
    "l.index(True)"
   ]
  },
  {
   "cell_type": "code",
   "execution_count": 71,
   "id": "85583f11",
   "metadata": {},
   "outputs": [
    {
     "data": {
      "text/plain": [
       "[1, 'aman', 'aman', 'aman', 1, True, False, 0, 2, '5', '5', '0', 550]"
      ]
     },
     "execution_count": 71,
     "metadata": {},
     "output_type": "execute_result"
    }
   ],
   "source": [
    "l.insert(1,\"aman\")\n",
    "l"
   ]
  },
  {
   "cell_type": "code",
   "execution_count": 73,
   "id": "69fbc67f",
   "metadata": {},
   "outputs": [
    {
     "data": {
      "text/plain": [
       "[1, 'aman', 'aman', 'aman', 'aman', 1, True, False, 0, 2, '5', '5', '0']"
      ]
     },
     "execution_count": 73,
     "metadata": {},
     "output_type": "execute_result"
    }
   ],
   "source": [
    "l.pop()\n",
    "l"
   ]
  },
  {
   "cell_type": "code",
   "execution_count": 74,
   "id": "f71dd169",
   "metadata": {},
   "outputs": [
    {
     "data": {
      "text/plain": [
       "[1, 'aman', 'aman', 'aman', 1, True, False, 0, 2, '5', '5', '0']"
      ]
     },
     "execution_count": 74,
     "metadata": {},
     "output_type": "execute_result"
    }
   ],
   "source": [
    "l.pop(2)\n",
    "l"
   ]
  },
  {
   "cell_type": "code",
   "execution_count": 75,
   "id": "bb643959",
   "metadata": {},
   "outputs": [],
   "source": [
    "l.remove(True)"
   ]
  },
  {
   "cell_type": "code",
   "execution_count": 76,
   "id": "bdf09633",
   "metadata": {},
   "outputs": [
    {
     "data": {
      "text/plain": [
       "['aman', 'aman', 'aman', 1, True, False, 0, 2, '5', '5', '0']"
      ]
     },
     "execution_count": 76,
     "metadata": {},
     "output_type": "execute_result"
    }
   ],
   "source": [
    "l"
   ]
  },
  {
   "cell_type": "code",
   "execution_count": 77,
   "id": "4d657e0a",
   "metadata": {},
   "outputs": [],
   "source": [
    "l.remove(2)"
   ]
  },
  {
   "cell_type": "code",
   "execution_count": 78,
   "id": "d32b6f49",
   "metadata": {},
   "outputs": [
    {
     "data": {
      "text/plain": [
       "['aman', 'aman', 'aman', 1, True, False, 0, '5', '5', '0']"
      ]
     },
     "execution_count": 78,
     "metadata": {},
     "output_type": "execute_result"
    }
   ],
   "source": [
    "l"
   ]
  },
  {
   "cell_type": "code",
   "execution_count": 79,
   "id": "7f2f884d",
   "metadata": {},
   "outputs": [],
   "source": [
    "l.reverse()"
   ]
  },
  {
   "cell_type": "code",
   "execution_count": 80,
   "id": "e24e266d",
   "metadata": {},
   "outputs": [
    {
     "data": {
      "text/plain": [
       "['0', '5', '5', 0, False, True, 1, 'aman', 'aman', 'aman']"
      ]
     },
     "execution_count": 80,
     "metadata": {},
     "output_type": "execute_result"
    }
   ],
   "source": [
    "l"
   ]
  },
  {
   "cell_type": "code",
   "execution_count": 81,
   "id": "a6bf6b82",
   "metadata": {},
   "outputs": [
    {
     "data": {
      "text/plain": [
       "['aman', 'aman', 'aman', 1, True, False, 0, '5', '5', '0']"
      ]
     },
     "execution_count": 81,
     "metadata": {},
     "output_type": "execute_result"
    }
   ],
   "source": [
    "l[::-1]"
   ]
  },
  {
   "cell_type": "code",
   "execution_count": 82,
   "id": "b167cf8c",
   "metadata": {},
   "outputs": [
    {
     "data": {
      "text/plain": [
       "[3, 5, 32, 35, 235, 235, 235, 344]"
      ]
     },
     "execution_count": 82,
     "metadata": {},
     "output_type": "execute_result"
    }
   ],
   "source": [
    "l = [32,3,235,35,235,235,344,5]\n",
    "l.sort()\n",
    "l"
   ]
  },
  {
   "cell_type": "code",
   "execution_count": 83,
   "id": "2e7733ad",
   "metadata": {},
   "outputs": [
    {
     "data": {
      "text/plain": [
       "[344, 235, 235, 235, 35, 32, 5, 3]"
      ]
     },
     "execution_count": 83,
     "metadata": {},
     "output_type": "execute_result"
    }
   ],
   "source": [
    "l = [32,3,235,35,235,235,344,5]\n",
    "l.sort(reverse = True)\n",
    "l"
   ]
  },
  {
   "cell_type": "code",
   "execution_count": 89,
   "id": "2766a0d0",
   "metadata": {},
   "outputs": [
    {
     "name": "stdout",
     "output_type": "stream",
     "text": [
      "vayu is fashiobaly late\n",
      "peter is fashiobaly late\n"
     ]
    }
   ],
   "source": [
    "l = [\"aman\",\"molu\",\"golu\",\"bholu\",\"ela\",\"vayu\",\"peter\",\"hema\"]\n",
    "for i in range(len(l)):\n",
    "    if i>len(l)/2 and i!=len(l)-1:\n",
    "        print(l[i],\"is fashiobaly late\")"
   ]
  },
  {
   "cell_type": "code",
   "execution_count": 90,
   "id": "e4559409",
   "metadata": {},
   "outputs": [
    {
     "name": "stdout",
     "output_type": "stream",
     "text": [
      "ela is fashiobaly late\n",
      "vayu is fashiobaly late\n",
      "peter is fashiobaly late\n"
     ]
    }
   ],
   "source": [
    "l = [\"aman\",\"molu\",\"golu\",\"bholu\",\"ela\",\"vayu\",\"peter\",\"hema\"]\n",
    "for i in range(len(l)):\n",
    "    if i>len(l)/2-1 and i!=len(l)-1:\n",
    "        print(l[i],\"is fashiobaly late\")"
   ]
  },
  {
   "cell_type": "code",
   "execution_count": 91,
   "id": "b86ed2b0",
   "metadata": {},
   "outputs": [
    {
     "data": {
      "text/plain": [
       "['happy', 2, 3]"
      ]
     },
     "execution_count": 91,
     "metadata": {},
     "output_type": "execute_result"
    }
   ],
   "source": [
    "s = [\"sad\",2,3]\n",
    "s[0] = \"happy\"\n",
    "s"
   ]
  }
 ],
 "metadata": {
  "kernelspec": {
   "display_name": "Python 3 (ipykernel)",
   "language": "python",
   "name": "python3"
  },
  "language_info": {
   "codemirror_mode": {
    "name": "ipython",
    "version": 3
   },
   "file_extension": ".py",
   "mimetype": "text/x-python",
   "name": "python",
   "nbconvert_exporter": "python",
   "pygments_lexer": "ipython3",
   "version": "3.9.7"
  }
 },
 "nbformat": 4,
 "nbformat_minor": 5
}
