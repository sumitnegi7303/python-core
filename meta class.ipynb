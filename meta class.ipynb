{
 "cells": [
  {
   "cell_type": "code",
   "execution_count": 4,
   "id": "935600f1",
   "metadata": {},
   "outputs": [
    {
     "name": "stdout",
     "output_type": "stream",
     "text": [
      "here is my integers : 7 9\n",
      "Now do whatever you want with these objects\n"
     ]
    }
   ],
   "source": [
    "class Myint(type):\n",
    "    def __call__(cls, *args,**kwargs ):\n",
    "        print(\"here is my integers :\",*args)\n",
    "        print(\"Now do whatever you want with these objects\")\n",
    "        return type.__call__(cls,*args,**kwargs)\n",
    "class int(metaclass=Myint):\n",
    "    def __init__(self,num1,num2):\n",
    "        self.num1=num1\n",
    "        self.num2=num2\n",
    "        \n",
    "if __name__ == \"__main__\":\n",
    "    nums=int(7,9)"
   ]
  },
  {
   "cell_type": "code",
   "execution_count": 14,
   "id": "d4d848de",
   "metadata": {},
   "outputs": [
    {
     "name": "stdout",
     "output_type": "stream",
     "text": [
      "here is my integers : 4 4\n",
      "Now do whatever you want with these objects\n"
     ]
    }
   ],
   "source": [
    "class Myint(type):\n",
    "    def __call__(cls, *args,**kwargs ):\n",
    "        print(\"here is my integers :\",*args)\n",
    "        print(\"Now do whatever you want with these objects\")\n",
    "        return type.__call__(cls,*args,**kwargs)\n",
    "class int(metaclass=Myint):\n",
    "    def __init__(self,num1,num2):\n",
    "        self.num1=num1\n",
    "        self.num2=num2\n",
    "        \n",
    "if __name__ == \"__main__\":\n",
    "    nums=int(4,4)\n"
   ]
  },
  {
   "cell_type": "code",
   "execution_count": null,
   "id": "fd396da9",
   "metadata": {},
   "outputs": [],
   "source": [
    "class myint(type):\n",
    "    "
   ]
  }
 ],
 "metadata": {
  "kernelspec": {
   "display_name": "Python 3 (ipykernel)",
   "language": "python",
   "name": "python3"
  },
  "language_info": {
   "codemirror_mode": {
    "name": "ipython",
    "version": 3
   },
   "file_extension": ".py",
   "mimetype": "text/x-python",
   "name": "python",
   "nbconvert_exporter": "python",
   "pygments_lexer": "ipython3",
   "version": "3.9.7"
  }
 },
 "nbformat": 4,
 "nbformat_minor": 5
}
