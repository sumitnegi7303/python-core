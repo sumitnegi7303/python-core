{
 "cells": [
  {
   "cell_type": "code",
   "execution_count": null,
   "id": "1ef8cc02",
   "metadata": {},
   "outputs": [],
   "source": [
    "#infinite while loop :\n"
   ]
  },
  {
   "cell_type": "code",
   "execution_count": null,
   "id": "1d02645e",
   "metadata": {},
   "outputs": [],
   "source": [
    "user name \n",
    "password\n"
   ]
  },
  {
   "cell_type": "code",
   "execution_count": null,
   "id": "100dcc92",
   "metadata": {},
   "outputs": [],
   "source": [
    "i = 0\n",
    "user name = sumit negi\n",
    "password = sumit@123\n",
    "while i<0:\n",
    "    print(i)\n",
    "\n",
    "    "
   ]
  },
  {
   "cell_type": "code",
   "execution_count": 5,
   "id": "fd94eafc",
   "metadata": {
    "scrolled": true
   },
   "outputs": [
    {
     "name": "stdout",
     "output_type": "stream",
     "text": [
      "enter the username :sumit\n",
      "enter the password :sumit@123\n",
      "access granted\n"
     ]
    }
   ],
   "source": [
    "while True :\n",
    "    u = input(\"enter the username :\")\n",
    "    p = input(\"enter the password :\")\n",
    "    if u==\"sumit\" or p==\"sumit@123\":\n",
    "        print(\"access granted\")\n",
    "        break\n",
    "    else:\n",
    "        print(\"enter again\")"
   ]
  },
  {
   "cell_type": "code",
   "execution_count": 6,
   "id": "3f5476f7",
   "metadata": {},
   "outputs": [
    {
     "name": "stdout",
     "output_type": "stream",
     "text": [
      "enter the username :summit\n",
      "enrer the password :sumit@999\n",
      "access denied\n"
     ]
    }
   ],
   "source": [
    "while True :\n",
    "    u = input(\"enter the username :\")\n",
    "    p = input(\"enrer the password :\")\n",
    "    if u==\"summit\" or p==\"sumit@999\":\n",
    "        print(\"access denied\")\n",
    "        break"
   ]
  },
  {
   "cell_type": "code",
   "execution_count": 8,
   "id": "4691b2a1",
   "metadata": {},
   "outputs": [
    {
     "name": "stdout",
     "output_type": "stream",
     "text": [
      "enter the username :komal\n",
      "enter the password :komal&&&\n",
      "succesfull\n"
     ]
    }
   ],
   "source": [
    "while True :\n",
    "    u = input(\"enter the username :\")\n",
    "    p = input(\"enter the password :\")\n",
    "    if u == \"komal\" or p == \"komal&&&\" :\n",
    "        print(\"succesfull\")\n",
    "        break"
   ]
  },
  {
   "cell_type": "code",
   "execution_count": 23,
   "id": "903f36a9",
   "metadata": {},
   "outputs": [
    {
     "name": "stdout",
     "output_type": "stream",
     "text": [
      "user name sumit\n",
      "passwordnegoi\n",
      "try again!!! \n",
      "user name sumit\n",
      "passwordnegi\n",
      "you can enter the website\n"
     ]
    }
   ],
   "source": [
    "c = 0\n",
    "while True :\n",
    "    un = input(\"user name \")\n",
    "    pwd = input(\"password\")\n",
    "    if un==\"sumit\" and pwd==\"negi\":\n",
    "        print(\"you can enter the website\")\n",
    "        break\n",
    "    else:\n",
    "        c=c+1\n",
    "        print(\"try again!!! \")\n",
    "        if c==3:\n",
    "            print(\"too many times tried\")\n",
    "            break"
   ]
  },
  {
   "cell_type": "code",
   "execution_count": null,
   "id": "d7ccdd63",
   "metadata": {},
   "outputs": [],
   "source": [
    "L = [1,23,45,64,38,95]\n",
    "wap t0 print the number if it is ending with 5 or 0 . if it is not divide it with 3 and check\n",
    "if the result is div by 2 , if yes break loop if no continue "
   ]
  },
  {
   "cell_type": "code",
   "execution_count": null,
   "id": "44d5d6a9",
   "metadata": {},
   "outputs": [],
   "source": [
    "while True :\n",
    "    "
   ]
  }
 ],
 "metadata": {
  "kernelspec": {
   "display_name": "Python 3 (ipykernel)",
   "language": "python",
   "name": "python3"
  },
  "language_info": {
   "codemirror_mode": {
    "name": "ipython",
    "version": 3
   },
   "file_extension": ".py",
   "mimetype": "text/x-python",
   "name": "python",
   "nbconvert_exporter": "python",
   "pygments_lexer": "ipython3",
   "version": "3.9.7"
  }
 },
 "nbformat": 4,
 "nbformat_minor": 5
}
