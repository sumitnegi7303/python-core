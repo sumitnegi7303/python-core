{
 "cells": [
  {
   "cell_type": "code",
   "execution_count": null,
   "id": "35676c87",
   "metadata": {},
   "outputs": [],
   "source": [
    "# Data Types\n",
    "1.Immutable- Numeric, string, tuples # that can't change\n",
    "2.Mutable- List, Dict, sets # that cane be change"
   ]
  },
  {
   "cell_type": "code",
   "execution_count": null,
   "id": "1aa938dd",
   "metadata": {},
   "outputs": [],
   "source": [
    "# String- Anything that i write in quotation"
   ]
  },
  {
   "cell_type": "code",
   "execution_count": 2,
   "id": "054c9c28",
   "metadata": {},
   "outputs": [
    {
     "data": {
      "text/plain": [
       "'!@#$%^&agvdjfbcRYDTUFYGKYFULKG            2345678(*&^%R)'"
      ]
     },
     "execution_count": 2,
     "metadata": {},
     "output_type": "execute_result"
    }
   ],
   "source": [
    "'abcgd'\n",
    "'AbchfdS'\n",
    "'12345678'\n",
    "'!@#$%^&agvdjfbcRYDTUFYGKYFULKG            2345678(*&^%R)'"
   ]
  },
  {
   "cell_type": "code",
   "execution_count": 3,
   "id": "4cc9eaa7",
   "metadata": {},
   "outputs": [
    {
     "name": "stdout",
     "output_type": "stream",
     "text": [
      "hiii\n",
      "hello\n"
     ]
    }
   ],
   "source": [
    "a='hiii'\n",
    "b=\"hello\"\n",
    "print(a)\n",
    "print(b)"
   ]
  },
  {
   "cell_type": "code",
   "execution_count": 5,
   "id": "a0a9acfe",
   "metadata": {},
   "outputs": [
    {
     "name": "stdout",
     "output_type": "stream",
     "text": [
      "hii \n",
      "            i \n",
      "                am\n",
      "                     deepanshu\n",
      "    verma\n",
      "\n"
     ]
    }
   ],
   "source": [
    "# Multiline string\n",
    "z='''hii \n",
    "            i \n",
    "                am\n",
    "                     deepanshu\n",
    "    verma\n",
    "'''\n",
    "print(z)"
   ]
  },
  {
   "cell_type": "code",
   "execution_count": 6,
   "id": "5730e7cb",
   "metadata": {},
   "outputs": [],
   "source": [
    "x=\"\"\" hello\n",
    "                                                      dued\n",
    "                                                      jcegyxsiu\n",
    "                                            cebuecbec\n",
    "\"\"\""
   ]
  },
  {
   "cell_type": "code",
   "execution_count": 7,
   "id": "4f16e7d3",
   "metadata": {},
   "outputs": [
    {
     "name": "stdout",
     "output_type": "stream",
     "text": [
      " hello\n",
      "                                                      dued\n",
      "                                                      jcegyxsiu\n",
      "                                            cebuecbec\n",
      "\n"
     ]
    }
   ],
   "source": [
    "\n",
    "print(x)"
   ]
  },
  {
   "cell_type": "code",
   "execution_count": 28,
   "id": "54da4ee8",
   "metadata": {},
   "outputs": [
    {
     "name": "stdout",
     "output_type": "stream",
     "text": [
      "deepanshu verma \n"
     ]
    }
   ],
   "source": [
    "f='deepanshu'\n",
    "l='verma'\n",
    "full_name=(f+' '+l+' ') # concatenation\n",
    "print(full_name)"
   ]
  },
  {
   "cell_type": "code",
   "execution_count": 30,
   "id": "b8cd4736",
   "metadata": {},
   "outputs": [
    {
     "name": "stdout",
     "output_type": "stream",
     "text": [
      "deepanshu verma deepanshu verma deepanshu verma deepanshu verma deepanshu verma deepanshu verma deepanshu verma deepanshu verma deepanshu verma deepanshu verma \n"
     ]
    }
   ],
   "source": [
    "two_times=full_name*10\n",
    "print(two_times)"
   ]
  },
  {
   "cell_type": "code",
   "execution_count": 34,
   "id": "36193418",
   "metadata": {},
   "outputs": [
    {
     "name": "stdout",
     "output_type": "stream",
     "text": [
      "9\n"
     ]
    }
   ],
   "source": [
    "name='deepanshu'\n",
    "print(len(name))"
   ]
  },
  {
   "cell_type": "markdown",
   "id": "59b694a6",
   "metadata": {},
   "source": [
    "# Indexing"
   ]
  },
  {
   "cell_type": "code",
   "execution_count": 38,
   "id": "920aebf7",
   "metadata": {},
   "outputs": [
    {
     "ename": "IndexError",
     "evalue": "string index out of range",
     "output_type": "error",
     "traceback": [
      "\u001b[1;31m---------------------------------------------------------------------------\u001b[0m",
      "\u001b[1;31mIndexError\u001b[0m                                Traceback (most recent call last)",
      "\u001b[1;32m<ipython-input-38-463a76919fd2>\u001b[0m in \u001b[0;36m<module>\u001b[1;34m\u001b[0m\n\u001b[0;32m      5\u001b[0m \u001b[1;31m# print(name[-1])\u001b[0m\u001b[1;33m\u001b[0m\u001b[1;33m\u001b[0m\u001b[1;33m\u001b[0m\u001b[0m\n\u001b[0;32m      6\u001b[0m \u001b[1;31m# print(name[-4])\u001b[0m\u001b[1;33m\u001b[0m\u001b[1;33m\u001b[0m\u001b[1;33m\u001b[0m\u001b[0m\n\u001b[1;32m----> 7\u001b[1;33m \u001b[0mprint\u001b[0m\u001b[1;33m(\u001b[0m\u001b[0mname\u001b[0m\u001b[1;33m[\u001b[0m\u001b[1;33m-\u001b[0m\u001b[1;36m30\u001b[0m\u001b[1;33m]\u001b[0m\u001b[1;33m)\u001b[0m\u001b[1;33m\u001b[0m\u001b[1;33m\u001b[0m\u001b[0m\n\u001b[0m",
      "\u001b[1;31mIndexError\u001b[0m: string index out of range"
     ]
    }
   ],
   "source": [
    "name='deepanshu@123'\n",
    "# print(name[6])\n",
    "# print(name[1])\n",
    "# print(name[20])\n",
    "# print(name[-1])\n",
    "# print(name[-4])\n",
    "print(name[-30])"
   ]
  },
  {
   "cell_type": "markdown",
   "id": "4dc19f64",
   "metadata": {},
   "source": [
    "# slicing"
   ]
  },
  {
   "cell_type": "code",
   "execution_count": 60,
   "id": "aa393237",
   "metadata": {},
   "outputs": [
    {
     "name": "stdout",
     "output_type": "stream",
     "text": [
      "deasu\n"
     ]
    }
   ],
   "source": [
    "\n",
    "# print(name[2:5])\n",
    "# print(name[9:10])\n",
    "# print(name[0:])\n",
    "# print(name[:7])\n",
    "# print(name[:])\n",
    "# print(name[:100000000000])\n",
    "# print(name[1000000000:])\n",
    "# print(name[-5])\n",
    "# print(name[-13])\n",
    "# print(name[:-1])\n",
    "# print(name[9:11])\n",
    "# print(name[-6:-2])\n",
    "# print(name[-5:2])\n",
    "# print(name[10000:20000])\n",
    "# print(name[0:10:2])\n"
   ]
  },
  {
   "cell_type": "code",
   "execution_count": 63,
   "id": "6806703f",
   "metadata": {},
   "outputs": [
    {
     "name": "stdout",
     "output_type": "stream",
     "text": [
      "dn@\n",
      "dn@\n",
      "deepanshu @123\n"
     ]
    }
   ],
   "source": [
    "name='deepanshu @123'\n",
    "print(name[0::5])\n",
    "print(name[::5])\n",
    "print(name[::1])\n",
    "print(name[-13:])"
   ]
  },
  {
   "cell_type": "markdown",
   "id": "f95f112f",
   "metadata": {},
   "source": [
    "# string functions"
   ]
  },
  {
   "cell_type": "code",
   "execution_count": 1,
   "id": "2a1b4743",
   "metadata": {},
   "outputs": [
    {
     "name": "stdout",
     "output_type": "stream",
     "text": [
      "8\n"
     ]
    }
   ],
   "source": [
    "x='abcgdegf'\n",
    "print(len(x))"
   ]
  },
  {
   "cell_type": "code",
   "execution_count": 6,
   "id": "010de025",
   "metadata": {},
   "outputs": [
    {
     "name": "stdout",
     "output_type": "stream",
     "text": [
      "14\n",
      "14\n",
      "4\n",
      "a quick brown cat jumps over the lazy dog\n",
      "a quick brown fox ju over the lazy dog\n"
     ]
    }
   ],
   "source": [
    "a='a quick brown fox jumps over the lazy dog'\n",
    "print(a.index('f'))\n",
    "print(a.find('f'))\n",
    "print(a.count('o'))\n",
    "print(a.replace('fox','cat'))\n",
    "print(a.replace('mps',''))\n"
   ]
  },
  {
   "cell_type": "code",
   "execution_count": null,
   "id": "0c17e8ad",
   "metadata": {},
   "outputs": [],
   "source": []
  },
  {
   "cell_type": "code",
   "execution_count": null,
   "id": "2a6f4ef6",
   "metadata": {},
   "outputs": [],
   "source": []
  },
  {
   "cell_type": "code",
   "execution_count": null,
   "id": "479b4ca2",
   "metadata": {},
   "outputs": [],
   "source": []
  },
  {
   "cell_type": "code",
   "execution_count": null,
   "id": "1d6b09db",
   "metadata": {},
   "outputs": [],
   "source": []
  },
  {
   "cell_type": "code",
   "execution_count": null,
   "id": "b78b790c",
   "metadata": {},
   "outputs": [],
   "source": []
  },
  {
   "cell_type": "code",
   "execution_count": null,
   "id": "94edf4c0",
   "metadata": {},
   "outputs": [],
   "source": []
  },
  {
   "cell_type": "code",
   "execution_count": 25,
   "id": "659d9921",
   "metadata": {},
   "outputs": [
    {
     "name": "stdout",
     "output_type": "stream",
     "text": [
      "False\n",
      "True\n",
      "False\n",
      "False\n",
      "True\n",
      "False\n",
      "True\n",
      "True\n",
      "False\n",
      "True\n",
      "False\n",
      "True\n"
     ]
    }
   ],
   "source": [
    "s1='deepanshu Verma'\n",
    "s2='DEEPANSHU'\n",
    "s3='Deepanshu'\n",
    "s4='123456789'\n",
    "s5='deepanshu12345'\n",
    "s6='        '\n",
    "s7='deeepANSHU    123456#$%^&'\n",
    "\n",
    "print(s1.isupper())\n",
    "print(s2.isupper())\n",
    "print(s1.islower())\n",
    "print(s2.islower())\n",
    "print(s4.isdigit())\n",
    "print(s5.isdigit())\n",
    "print(s5.isalnum())\n",
    "print(s4.isnumeric())\n",
    "print(s7.isalnum())\n",
    "print(s6.isspace())\n",
    "print(s7.isspace())\n",
    "print(s3.istitle())\n"
   ]
  },
  {
   "cell_type": "code",
   "execution_count": 70,
   "id": "4853a400",
   "metadata": {},
   "outputs": [
    {
     "name": "stdout",
     "output_type": "stream",
     "text": [
      "5\n"
     ]
    }
   ],
   "source": [
    "s='abc@123.com^&*'\n",
    "c=0\n",
    "for i in s:\n",
    "    if i.isalnum():\n",
    "        continue\n",
    "    \n",
    "    c+=1\n",
    "print(c)"
   ]
  },
  {
   "cell_type": "code",
   "execution_count": null,
   "id": "8c6bd951",
   "metadata": {},
   "outputs": [],
   "source": [
    "s1='silent'\n",
    "s3='listen'"
   ]
  },
  {
   "cell_type": "code",
   "execution_count": 12,
   "id": "b228a8fc",
   "metadata": {},
   "outputs": [
    {
     "name": "stdout",
     "output_type": "stream",
     "text": [
      "not palindron\n"
     ]
    }
   ],
   "source": [
    "s = 'banana'\n",
    "if s==s[::-1]:\n",
    "    print('palindron')\n",
    "else:\n",
    "    print('not palindron')"
   ]
  },
  {
   "cell_type": "code",
   "execution_count": 75,
   "id": "8acd59a1",
   "metadata": {},
   "outputs": [
    {
     "name": "stdout",
     "output_type": "stream",
     "text": [
      "pallindrome\n"
     ]
    }
   ],
   "source": [
    "s='naman'\n",
    "if s==s[::-1]:\n",
    "    print('pallindrome')\n",
    "else:\n",
    "    print('not pallindrome')"
   ]
  },
  {
   "cell_type": "code",
   "execution_count": 83,
   "id": "3ab81992",
   "metadata": {},
   "outputs": [
    {
     "name": "stdout",
     "output_type": "stream",
     "text": [
      "amanhii\n"
     ]
    }
   ],
   "source": [
    "b='[aman hii]'\n",
    "#aman hii\n",
    "L=[]\n",
    "#['aman','hii']\n",
    "s=''\n",
    "for i in b:\n",
    "    \n",
    "    if i.isalpha():\n",
    "        s=s+i\n",
    "        \n",
    "print(s) \n",
    "#     else:\n",
    "#         pass\n",
    "#     L.append(s)\n",
    "#     s=''\n",
    "# print(L)\n",
    "        "
   ]
  },
  {
   "cell_type": "code",
   "execution_count": 30,
   "id": "0c395a8f",
   "metadata": {},
   "outputs": [
    {
     "name": "stdout",
     "output_type": "stream",
     "text": [
      "DEEPANSHU VERMA\n",
      "deepanshu\n",
      "Deepanshu Verma\n",
      "Deepanshu verma\n",
      "\n"
     ]
    }
   ],
   "source": [
    "s1='deepanshu verma'\n",
    "s2='DEEPANSHU'\n",
    "s3='Deepanshu'\n",
    "s4='123456789'\n",
    "s5='deepanshu12345'\n",
    "s6='        '\n",
    "s7='deeepANSHU    123456#$%^&'\n",
    "\n",
    "\n",
    "print(s1.upper())\n",
    "print(s2.lower())\n",
    "print(s1.title())\n",
    "print(s1.capitalize())\n",
    "print()"
   ]
  },
  {
   "cell_type": "code",
   "execution_count": 46,
   "id": "826c7000",
   "metadata": {},
   "outputs": [
    {
     "name": "stdout",
     "output_type": "stream",
     "text": [
      "['a', 'qucik', 'brown', 'fox', 'jumps', 'over', 'the', 'lazy', 'doga']\n",
      "['a qucik brown', 'jumps over the lazy doga']\n",
      " qucik brown fox jumps over the lazy dog\n",
      " qucik brown fox jumps over the lazy doga\n",
      "a qucik brown fox jumps over the lazy dog\n",
      "True\n",
      "True\n"
     ]
    }
   ],
   "source": [
    "z='a qucik brown fox jumps over the lazy doga'\n",
    "print(z.split(' '))\n",
    "print(z.split(' fox '))\n",
    "print(z.strip('a'))\n",
    "print(z.lstrip('a'))\n",
    "print(z.rstrip('a'))\n",
    "print(z.startswith('a'))\n",
    "print(z.endswith('doga'))\n"
   ]
  },
  {
   "cell_type": "code",
   "execution_count": 48,
   "id": "bc5a42e3",
   "metadata": {},
   "outputs": [
    {
     "name": "stdout",
     "output_type": "stream",
     "text": [
      "DEEPABNSHU vERM g jhvvksbjkdguilKSBUDCJBjlvyidF\n"
     ]
    }
   ],
   "source": [
    "s='deepabnshu Verm G JHVVKSBJKDGUILksbudcjbJLVYIDf'\n",
    "print(s.swapcase())"
   ]
  },
  {
   "cell_type": "code",
   "execution_count": 62,
   "id": "5b44d9d8",
   "metadata": {},
   "outputs": [
    {
     "name": "stdout",
     "output_type": "stream",
     "text": [
      "My first name is deepanshu and my last name is  verma\n",
      "My first name is deepanshu and my last name is verma\n",
      "My first name is verma and my last name is deepanshu \n"
     ]
    }
   ],
   "source": [
    "f='deepanshu'\n",
    "l='verma'\n",
    "print('My first name is',f,'and my last name is ',l)\n",
    "print(f'My first name is {f} and my last name is {l}')\n",
    "print('My first name is {1} and my last name is {0} '.format(f,l))"
   ]
  },
  {
   "cell_type": "code",
   "execution_count": 63,
   "id": "abd80af9",
   "metadata": {},
   "outputs": [
    {
     "name": "stdout",
     "output_type": "stream",
     "text": [
      "enter age45\n",
      "my age in months is 540\n",
      "My age in seconds is 1415232000\n"
     ]
    }
   ],
   "source": [
    "age=int(input('enter age'))\n",
    "print(f'my age in months is {age*12}')\n",
    "second=age*364*24*60*60\n",
    "print('My age in seconds is {}'.format(second))"
   ]
  },
  {
   "cell_type": "code",
   "execution_count": 66,
   "id": "f60ab946",
   "metadata": {},
   "outputs": [
    {
     "name": "stdout",
     "output_type": "stream",
     "text": [
      "n 0\n",
      "a 1\n",
      "m 2\n",
      "a 3\n",
      "n 4\n"
     ]
    }
   ],
   "source": [
    "s='naman@123456%*^#&**%&*'\n"
   ]
  },
  {
   "cell_type": "code",
   "execution_count": null,
   "id": "39cef28e",
   "metadata": {},
   "outputs": [],
   "source": []
  }
 ],
 "metadata": {
  "kernelspec": {
   "display_name": "Python 3 (ipykernel)",
   "language": "python",
   "name": "python3"
  },
  "language_info": {
   "codemirror_mode": {
    "name": "ipython",
    "version": 3
   },
   "file_extension": ".py",
   "mimetype": "text/x-python",
   "name": "python",
   "nbconvert_exporter": "python",
   "pygments_lexer": "ipython3",
   "version": "3.9.7"
  }
 },
 "nbformat": 4,
 "nbformat_minor": 5
}
