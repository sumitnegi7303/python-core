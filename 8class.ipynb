{
 "cells": [
  {
   "cell_type": "code",
   "execution_count": 14,
   "id": "638b58aa",
   "metadata": {},
   "outputs": [
    {
     "name": "stdout",
     "output_type": "stream",
     "text": [
      "enter the number : 13\n",
      "1 is factor of :  13\n",
      "13 is factor of :  13\n",
      "13 is prime\n"
     ]
    }
   ],
   "source": [
    "# prime or composite no :\n",
    "n = int(input(\"enter the number : \"))\n",
    "c=0\n",
    "for i in range(1,n+1):\n",
    "    if n%i==0:\n",
    "        print(i,\"is factor of : \",n)\n",
    "        c=c+1\n",
    "if c==2:\n",
    "    print(n,\"is prime\")\n",
    "else:\n",
    "    print(n,\"is composite\")"
   ]
  },
  {
   "cell_type": "code",
   "execution_count": 1,
   "id": "1c2a115c",
   "metadata": {},
   "outputs": [
    {
     "name": "stdout",
     "output_type": "stream",
     "text": [
      "enter the number :4\n",
      "1 is factor of : 4\n",
      "2 is factor of : 4\n",
      "4 is factor of : 4\n",
      "4 is composite\n"
     ]
    }
   ],
   "source": [
    "n = int(input(\"enter the number :\"))\n",
    "c=0\n",
    "for i in range(1,n+1):\n",
    "    if n%i==0:\n",
    "        print(i,\"is factor of :\", n )\n",
    "        c=c+1\n",
    "if c==2:\n",
    "    print(n,\"is prime\")\n",
    "else:\n",
    "    print(n,\"is composite\")\n",
    "    "
   ]
  },
  {
   "cell_type": "code",
   "execution_count": 7,
   "id": "6a322469",
   "metadata": {},
   "outputs": [
    {
     "name": "stdout",
     "output_type": "stream",
     "text": [
      "enter the number :90\n",
      "1 is factor of : 90\n",
      "2 is factor of : 90\n",
      "3 is factor of : 90\n",
      "5 is factor of : 90\n",
      "6 is factor of : 90\n",
      "9 is factor of : 90\n",
      "10 is factor of : 90\n",
      "15 is factor of : 90\n",
      "18 is factor of : 90\n",
      "30 is factor of : 90\n",
      "45 is factor of : 90\n",
      "90 is factor of : 90\n",
      "90 is composite\n"
     ]
    }
   ],
   "source": [
    "n = int(input(\"enter the number :\"))\n",
    "c = 0\n",
    "for i in range(1,n+1):\n",
    "    if n%i==0:\n",
    "        print(i,\"is factor of :\",n)\n",
    "        c=c+1\n",
    "if c==2:\n",
    "    print(n,\"is prime \")\n",
    "else:\n",
    "    print(n,\"is composite\")"
   ]
  },
  {
   "cell_type": "code",
   "execution_count": 2,
   "id": "bf17434e",
   "metadata": {},
   "outputs": [
    {
     "name": "stdout",
     "output_type": "stream",
     "text": [
      "enter the number :2\n",
      "1 is factor of : 2\n",
      "2 is factor of : 2\n",
      "2 is prime\n"
     ]
    }
   ],
   "source": [
    "n = int (input(\"enter the number :\"))\n",
    "c = 0\n",
    "for i in range(1,n+1):\n",
    "    if n%i==0:\n",
    "        print(i,\"is factor of :\" , n )\n",
    "        c=c+1\n",
    "if c==2:\n",
    "    print(n,\"is prime\")\n",
    "else:\n",
    "    print(n,\"is composite\")"
   ]
  },
  {
   "cell_type": "code",
   "execution_count": 2,
   "id": "de0c2bce",
   "metadata": {},
   "outputs": [
    {
     "name": "stdout",
     "output_type": "stream",
     "text": [
      "enter the number : 4\n",
      "1 is factor of : 4\n",
      "2 is factor of : 4\n",
      "4 is factor of : 4\n",
      "4 is composite\n"
     ]
    }
   ],
   "source": [
    "n = int(input(\"enter the number : \"))\n",
    "c = 0\n",
    "for i in range(1,n+1):\n",
    "    if n%i==0:\n",
    "        print(i,\"is factor of :\" ,n)\n",
    "        c=c+1\n",
    "if c==2:\n",
    "    print(n,\"is prime\")\n",
    "else:\n",
    "    print(n,\"is composite\")"
   ]
  },
  {
   "cell_type": "code",
   "execution_count": null,
   "id": "61d27ddf",
   "metadata": {},
   "outputs": [],
   "source": [
    "wap to print fizz if the number , is div by 3 ,buzz if the no is div by 5 \n",
    "and fizzbuzz if the no is div by both in range of 1 to 50 both inclusive :"
   ]
  },
  {
   "cell_type": "code",
   "execution_count": 19,
   "id": "6d5c98ce",
   "metadata": {},
   "outputs": [
    {
     "name": "stdout",
     "output_type": "stream",
     "text": [
      "fizz: 3\n",
      "buzz : 5\n",
      "fizz: 6\n",
      "fizz: 9\n",
      "buzz : 10\n",
      "fizz: 12\n",
      "15 is fizzbuzz : 15\n",
      "fizz: 18\n",
      "buzz : 20\n",
      "fizz: 21\n",
      "fizz: 24\n",
      "buzz : 25\n",
      "fizz: 27\n",
      "30 is fizzbuzz : 30\n",
      "fizz: 33\n",
      "buzz : 35\n",
      "fizz: 36\n",
      "fizz: 39\n",
      "buzz : 40\n",
      "fizz: 42\n",
      "45 is fizzbuzz : 45\n",
      "fizz: 48\n",
      "buzz : 50\n"
     ]
    }
   ],
   "source": [
    "for i in range(1,51):\n",
    "    if i%3==0 and i%5==0:\n",
    "        print(i,\"is fizzbuzz :\",i)  \n",
    "    elif i%3==0:\n",
    "        print(\"fizz:\",i)\n",
    "    elif i%5==0:\n",
    "        print(\"buzz :\",i)\n",
    "        "
   ]
  },
  {
   "cell_type": "code",
   "execution_count": 21,
   "id": "c3553bb1",
   "metadata": {},
   "outputs": [
    {
     "name": "stdout",
     "output_type": "stream",
     "text": [
      "buzz : 50\n"
     ]
    }
   ],
   "source": [
    "if i in range(1,51):\n",
    "    if i%3==0 and i%5==0:\n",
    "        print(\"fizzbuzz : \",i)\n",
    "    elif i%3==0:\n",
    "        print(\"fizz:\",i)\n",
    "    elif i%5==0:\n",
    "        print(\"buzz :\",i)      "
   ]
  },
  {
   "cell_type": "code",
   "execution_count": null,
   "id": "bdaaf18c",
   "metadata": {},
   "outputs": [],
   "source": [
    "#factorial:"
   ]
  },
  {
   "cell_type": "code",
   "execution_count": 33,
   "id": "391d1628",
   "metadata": {
    "scrolled": true
   },
   "outputs": [
    {
     "name": "stdout",
     "output_type": "stream",
     "text": [
      "enter the number :5\n",
      "120\n"
     ]
    }
   ],
   "source": [
    "n = int(input(\"enter the number :\"))\n",
    "c = 1\n",
    "for i in range(1,n+1):\n",
    "    c= c*i\n",
    "print(c)"
   ]
  },
  {
   "cell_type": "code",
   "execution_count": 14,
   "id": "94457205",
   "metadata": {},
   "outputs": [
    {
     "name": "stdout",
     "output_type": "stream",
     "text": [
      "2 1\n"
     ]
    }
   ],
   "source": [
    "a = 1\n",
    "b = 2\n",
    "c = a\n",
    "a = b\n",
    "b = c\n",
    "print(a,b)"
   ]
  },
  {
   "cell_type": "code",
   "execution_count": 9,
   "id": "32548fb4",
   "metadata": {},
   "outputs": [
    {
     "name": "stdout",
     "output_type": "stream",
     "text": [
      "10\n"
     ]
    }
   ],
   "source": [
    "#fibonacci series:\n",
    "n = 10\n",
    "a = 0\n",
    "b = 1\n",
    "for i in range(n,n+1):\n",
    "    b=n\n",
    "    a=b\n",
    "    b=a+n\n",
    "    print(a)"
   ]
  },
  {
   "cell_type": "code",
   "execution_count": 42,
   "id": "9f8e9517",
   "metadata": {},
   "outputs": [
    {
     "name": "stdout",
     "output_type": "stream",
     "text": [
      "0\n",
      "1\n",
      "2\n",
      "4\n",
      "8\n"
     ]
    }
   ],
   "source": [
    "a = 0\n",
    "b = 1\n",
    "for i in range(n):\n",
    "    c=a\n",
    "    a=b\n",
    "    b=a+b\n",
    "    print(c)\n"
   ]
  },
  {
   "cell_type": "code",
   "execution_count": 43,
   "id": "2e32239c",
   "metadata": {},
   "outputs": [
    {
     "name": "stdout",
     "output_type": "stream",
     "text": [
      "enter the value to many time u want loop to run :10\n",
      "0\n",
      "1\n",
      "2\n",
      "4\n",
      "8\n",
      "16\n",
      "32\n",
      "64\n",
      "128\n",
      "256\n"
     ]
    }
   ],
   "source": [
    "n = int(input(\"enter the value to many time u want loop to run :\"))\n",
    "a = 0\n",
    "b = 1\n",
    "for i in range(n):\n",
    "    c=a\n",
    "    a=b\n",
    "    b=a+b\n",
    "    print(c)\n"
   ]
  },
  {
   "cell_type": "code",
   "execution_count": 20,
   "id": "3d5fca95",
   "metadata": {},
   "outputs": [
    {
     "name": "stdout",
     "output_type": "stream",
     "text": [
      "enter the number of value to many time u want loop to run : 10\n",
      "0\n",
      "1\n",
      "2\n",
      "4\n",
      "8\n",
      "16\n",
      "32\n",
      "64\n",
      "128\n",
      "256\n"
     ]
    }
   ],
   "source": [
    "n = int(input(\"enter the number of value to many time u want loop to run : \"))\n",
    "a=0\n",
    "b=1\n",
    "for i in range(n):\n",
    "    c=a\n",
    "    a=b\n",
    "    b=a+b\n",
    "    print(c)\n",
    "    "
   ]
  }
 ],
 "metadata": {
  "kernelspec": {
   "display_name": "Python 3 (ipykernel)",
   "language": "python",
   "name": "python3"
  },
  "language_info": {
   "codemirror_mode": {
    "name": "ipython",
    "version": 3
   },
   "file_extension": ".py",
   "mimetype": "text/x-python",
   "name": "python",
   "nbconvert_exporter": "python",
   "pygments_lexer": "ipython3",
   "version": "3.9.7"
  }
 },
 "nbformat": 4,
 "nbformat_minor": 5
}
