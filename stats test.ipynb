{
 "cells": [
  {
   "cell_type": "code",
   "execution_count": null,
   "id": "f1182ddf",
   "metadata": {},
   "outputs": [],
   "source": [
    "Q1. State the CLT\n",
    "\n",
    "Q2. We have Dataset like this  120,132,144,123,156,190,178,165,183.\n",
    "Find the mean , median , std , var ,check if the distribution is normal.\n",
    "                      \n",
    "Q3.State what is a random variable and what is PDF , CDF and PMF.\n",
    "Can we have CDF of Discrete variable \n",
    "\n",
    "Q4.What is the key difference between Covariance and Corelation ?\n",
    "\n",
    "Q5. Compute the Spearman Corelation coefficient.\n",
    "\n",
    "45\n",
    "78\n",
    "89\n",
    "67\n",
    "56\n",
    "99\n",
    "70\n",
    "98\n",
    "33\n",
    "68\n",
    "78 \n",
    "45\n",
    "90\n",
    "70\n",
    "66\n",
    "91\n",
    "88\n",
    "56\n",
    "100\n",
    "80\n",
    "\n",
    "\n",
    "Q6. pop mean  = 400\n",
    "      Sample mean = 370\n",
    "      Sample std  = 30\n",
    "      C.I  = 95%\n",
    "      N = 80\n",
    "\n",
    "Q7. pop mean  = 33\n",
    "       Sample mean = 30\n",
    "       Sample std = 2.5\n",
    "      Alpha = 0.10\n",
    "      N = 8\n",
    "Q8. \n",
    "Observed \n",
    "A\n",
    "B\n",
    "C\n",
    "D\n",
    "Owned 1 dog\n",
    "60\n",
    "50\n",
    "30\n",
    "20\n",
    "Owned 2 dog\n",
    "30\n",
    "20\n",
    "15\n",
    "10\n",
    "\n",
    " Check for the degree of independence \n",
    "\n"
   ]
  },
  {
   "cell_type": "code",
   "execution_count": null,
   "id": "5151a29e",
   "metadata": {},
   "outputs": [],
   "source": []
  },
  {
   "cell_type": "code",
   "execution_count": null,
   "id": "f3b0a289",
   "metadata": {},
   "outputs": [],
   "source": [
    "Q1. State the CLT"
   ]
  },
  {
   "cell_type": "code",
   "execution_count": null,
   "id": "af758add",
   "metadata": {},
   "outputs": [],
   "source": [
    "The CLT is a statistical theory that states that - if you take a sufficiently large sample size \n",
    "from a population with a finite level of variance, the mean of all samples from that population \n",
    "will be roughly equal to the population mean."
   ]
  },
  {
   "cell_type": "code",
   "execution_count": 48,
   "id": "6674be82",
   "metadata": {},
   "outputs": [],
   "source": [
    "import numpy as np\n",
    "import pandas as pd\n",
    "import seaborn as sns\n",
    "import matplotlib"
   ]
  },
  {
   "cell_type": "code",
   "execution_count": null,
   "id": "5f923a87",
   "metadata": {},
   "outputs": [],
   "source": [
    "Q2. We have Dataset like this  120,132,144,123,156,190,178,165,183.\n",
    "Find the mean , median , std , var ,check if the distribution is normal."
   ]
  },
  {
   "cell_type": "code",
   "execution_count": 4,
   "id": "6ccd6cb4",
   "metadata": {
    "scrolled": true
   },
   "outputs": [
    {
     "data": {
      "text/plain": [
       "0    120\n",
       "1    132\n",
       "2    144\n",
       "3    123\n",
       "4    156\n",
       "5    190\n",
       "6    178\n",
       "7    165\n",
       "8    183\n",
       "dtype: int64"
      ]
     },
     "execution_count": 4,
     "metadata": {},
     "output_type": "execute_result"
    }
   ],
   "source": [
    "a = pd.Series([120,132,144,123,156,190,178,165,183])\n",
    "a"
   ]
  },
  {
   "cell_type": "code",
   "execution_count": 44,
   "id": "f6925580",
   "metadata": {},
   "outputs": [
    {
     "data": {
      "text/plain": [
       "154.55555555555554"
      ]
     },
     "execution_count": 44,
     "metadata": {},
     "output_type": "execute_result"
    }
   ],
   "source": [
    "a.mean()"
   ]
  },
  {
   "cell_type": "code",
   "execution_count": 43,
   "id": "300ef39e",
   "metadata": {},
   "outputs": [
    {
     "data": {
      "text/plain": [
       "156.0"
      ]
     },
     "execution_count": 43,
     "metadata": {},
     "output_type": "execute_result"
    }
   ],
   "source": [
    "a.median()"
   ]
  },
  {
   "cell_type": "code",
   "execution_count": 42,
   "id": "f537f393",
   "metadata": {},
   "outputs": [
    {
     "data": {
      "text/plain": [
       "26.30642084696772"
      ]
     },
     "execution_count": 42,
     "metadata": {},
     "output_type": "execute_result"
    }
   ],
   "source": [
    "a.std()"
   ]
  },
  {
   "cell_type": "code",
   "execution_count": 41,
   "id": "738bb7d1",
   "metadata": {},
   "outputs": [
    {
     "data": {
      "text/plain": [
       "692.0277777777777"
      ]
     },
     "execution_count": 41,
     "metadata": {},
     "output_type": "execute_result"
    }
   ],
   "source": [
    "a.var()"
   ]
  },
  {
   "cell_type": "code",
   "execution_count": 45,
   "id": "f9063f42",
   "metadata": {},
   "outputs": [
    {
     "data": {
      "text/plain": [
       "-0.03322541177603332"
      ]
     },
     "execution_count": 45,
     "metadata": {},
     "output_type": "execute_result"
    }
   ],
   "source": [
    "a.skew()"
   ]
  },
  {
   "cell_type": "code",
   "execution_count": 46,
   "id": "2449f55c",
   "metadata": {},
   "outputs": [
    {
     "data": {
      "text/plain": [
       "-1.6431069756967012"
      ]
     },
     "execution_count": 46,
     "metadata": {},
     "output_type": "execute_result"
    }
   ],
   "source": [
    "a.kurt()"
   ]
  },
  {
   "cell_type": "code",
   "execution_count": null,
   "id": "5f468b42",
   "metadata": {},
   "outputs": [],
   "source": [
    "Q3.State what is a random variable and what is PDF , CDF and PMF.\n",
    "Can we have CDF of Discrete variable"
   ]
  },
  {
   "cell_type": "code",
   "execution_count": null,
   "id": "9aec4bdc",
   "metadata": {},
   "outputs": [],
   "source": [
    "The PDF (defined for Continuous Random Variables) is given by taking the first derivate of CDF.\n",
    "For discrete random variable that takes on discrete values, is it common to defined Probability Mass Function."
   ]
  },
  {
   "cell_type": "code",
   "execution_count": null,
   "id": "129c1859",
   "metadata": {},
   "outputs": [],
   "source": [
    "Q4.What is the key difference between Covariance and Corelation ?"
   ]
  },
  {
   "cell_type": "code",
   "execution_count": null,
   "id": "3354a654",
   "metadata": {},
   "outputs": [],
   "source": [
    "The main difference between covariance and correlation is that covariance measures\n",
    "the strength or weakness of the correlation between two or more sets of random variables. \n",
    "On the other hand, correlation means to serve as an extended form of covariance."
   ]
  },
  {
   "cell_type": "code",
   "execution_count": null,
   "id": "08856ba6",
   "metadata": {},
   "outputs": [],
   "source": [
    "Q5. Compute the Spearman Corelation coefficient."
   ]
  },
  {
   "cell_type": "code",
   "execution_count": 50,
   "id": "1f7eb10d",
   "metadata": {},
   "outputs": [
    {
     "name": "stdout",
     "output_type": "stream",
     "text": [
      "0    45\n",
      "1    78\n",
      "2    89\n",
      "3    67\n",
      "4    56\n",
      "5    99\n",
      "6    70\n",
      "7    98\n",
      "8    33\n",
      "9    68\n",
      "dtype: int64\n",
      "0     78\n",
      "1     45\n",
      "2     90\n",
      "3     70\n",
      "4     66\n",
      "5     91\n",
      "6     88\n",
      "7     56\n",
      "8    100\n",
      "9     80\n",
      "dtype: int64\n"
     ]
    }
   ],
   "source": [
    "a = pd.Series([45,78,89,67,56,99,70,98,33,68])\n",
    "b = pd.Series([78,45,90,70,66,91,88,56,100,80]) \n",
    "print(a)\n",
    "print(b)"
   ]
  },
  {
   "cell_type": "code",
   "execution_count": 51,
   "id": "96dde632",
   "metadata": {},
   "outputs": [
    {
     "data": {
      "text/plain": [
       "-0.07878787878787878"
      ]
     },
     "execution_count": 51,
     "metadata": {},
     "output_type": "execute_result"
    }
   ],
   "source": [
    "a.corr(b,method=\"spearman\")"
   ]
  },
  {
   "cell_type": "code",
   "execution_count": null,
   "id": "bf8399d1",
   "metadata": {},
   "outputs": [],
   "source": [
    "Q6. pop mean  = 400\n",
    "      Sample mean = 370\n",
    "      Sample std  = 30\n",
    "      C.I  = 95%\n",
    "      N = 80"
   ]
  },
  {
   "cell_type": "code",
   "execution_count": 66,
   "id": "29636428",
   "metadata": {},
   "outputs": [
    {
     "data": {
      "text/plain": [
       "array([401.17707452, 352.39727306, 374.48212431, 332.51220844,\n",
       "       331.63006649, 420.14266219, 367.06776192, 370.57626492,\n",
       "       377.33929617, 359.20448867, 322.02767507, 346.24754708,\n",
       "       336.74760759, 413.4334481 , 380.73067079, 413.12947581,\n",
       "       391.69705385, 396.30929658, 349.47552669, 421.01593743,\n",
       "       346.00911588, 392.70758957, 381.65628886, 373.99618357,\n",
       "       299.28361184, 373.97921343, 415.50935026, 427.51177236,\n",
       "       341.81694178, 426.15942136, 378.00702249, 300.7882545 ,\n",
       "       365.54548304, 391.66707851, 397.07304348, 394.57891203,\n",
       "       361.73322565, 345.67491719, 366.03060626, 312.9739235 ,\n",
       "       405.19502383, 347.65232982, 365.88174407, 387.69477021,\n",
       "       379.66005343, 371.39052087, 331.09899481, 364.06345507,\n",
       "       393.87363873, 366.57513085, 375.32816066, 401.677556  ,\n",
       "       407.63640215, 358.86250156, 331.8111538 , 361.64258763,\n",
       "       274.22260274, 402.26836268, 396.15442381, 339.98007168,\n",
       "       350.0405277 , 351.50539296, 342.12571254, 380.68707362,\n",
       "       329.33257172, 396.72512798, 327.85642842, 367.60625734,\n",
       "       388.56036626, 357.88570327, 395.1905569 , 342.07188815,\n",
       "       289.63110842, 343.96781422, 406.64229614, 320.68777558,\n",
       "       320.89220247, 398.11438712, 385.90548114, 412.09681696])"
      ]
     },
     "execution_count": 66,
     "metadata": {},
     "output_type": "execute_result"
    }
   ],
   "source": [
    "s = np.random.normal(loc = 370 , scale = 30,size =80)\n",
    "s"
   ]
  },
  {
   "cell_type": "code",
   "execution_count": null,
   "id": "134cacd9",
   "metadata": {},
   "outputs": [],
   "source": [
    "Q7. pop mean  = 33\n",
    "       Sample mean = 30\n",
    "       Sample std = 2.5\n",
    "      Alpha = 0.10\n",
    "      N = 8"
   ]
  },
  {
   "cell_type": "code",
   "execution_count": 64,
   "id": "3b54817f",
   "metadata": {},
   "outputs": [
    {
     "data": {
      "text/plain": [
       "array([28.76759215, 29.23045235, 29.06389647, 26.08674221, 29.90278581,\n",
       "       25.83887708, 29.895316  , 25.12226834])"
      ]
     },
     "execution_count": 64,
     "metadata": {},
     "output_type": "execute_result"
    }
   ],
   "source": [
    "z = np.random.normal(loc = 30,scale = 2.5,size = 8)\n",
    "z"
   ]
  },
  {
   "cell_type": "code",
   "execution_count": null,
   "id": "5d8ae11c",
   "metadata": {},
   "outputs": [],
   "source": [
    "Q8. \n",
    "Observed \n",
    "A\n",
    "B\n",
    "C\n",
    "D\n",
    "Owned 1 dog\n",
    "60\n",
    "50\n",
    "30\n",
    "20\n",
    "Owned 2 dog\n",
    "30\n",
    "20\n",
    "15\n",
    "10\n",
    "\n",
    " Check for the degree of independence \n",
    "\n"
   ]
  },
  {
   "cell_type": "code",
   "execution_count": 4,
   "id": "8dd0736f",
   "metadata": {},
   "outputs": [],
   "source": [
    "import pandas as pd\n",
    "df = pd.DataFrame({'Owned 1 dog': [60, 50, 30, 20], 'Owned 2 dog' : [30, 20, 15, 10]}, index = ['A', \"B\", \"c\", \"D\"])"
   ]
  },
  {
   "cell_type": "code",
   "execution_count": 6,
   "id": "d5625bee",
   "metadata": {},
   "outputs": [],
   "source": [
    "import scipy.stats as st"
   ]
  },
  {
   "cell_type": "code",
   "execution_count": 7,
   "id": "123ce20e",
   "metadata": {},
   "outputs": [],
   "source": [
    "val = st.chi2_contingency(df)"
   ]
  },
  {
   "cell_type": "code",
   "execution_count": 8,
   "id": "61dfd03b",
   "metadata": {},
   "outputs": [
    {
     "data": {
      "text/plain": [
       "(0.5128968253968255,\n",
       " 0.9160490360646937,\n",
       " 3,\n",
       " array([[61.27659574, 28.72340426],\n",
       "        [47.65957447, 22.34042553],\n",
       "        [30.63829787, 14.36170213],\n",
       "        [20.42553191,  9.57446809]]))"
      ]
     },
     "execution_count": 8,
     "metadata": {},
     "output_type": "execute_result"
    }
   ],
   "source": [
    "val"
   ]
  },
  {
   "cell_type": "code",
   "execution_count": null,
   "id": "de9dcaba",
   "metadata": {},
   "outputs": [],
   "source": []
  }
 ],
 "metadata": {
  "kernelspec": {
   "display_name": "Python 3 (ipykernel)",
   "language": "python",
   "name": "python3"
  },
  "language_info": {
   "codemirror_mode": {
    "name": "ipython",
    "version": 3
   },
   "file_extension": ".py",
   "mimetype": "text/x-python",
   "name": "python",
   "nbconvert_exporter": "python",
   "pygments_lexer": "ipython3",
   "version": "3.9.7"
  }
 },
 "nbformat": 4,
 "nbformat_minor": 5
}
