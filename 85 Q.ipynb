{
 "cells": [
  {
   "cell_type": "code",
   "execution_count": null,
   "id": "48dc548d",
   "metadata": {},
   "outputs": [],
   "source": [
    "85. Please write a program to generate all sentences where subject is in [\"I\", \"You\"] and verb is in [\"Play\", \"Love\"] \n",
    "and the object is in [\"Hockey\",\"Football\"]. \n",
    "Hints: Use list[index] notation to get a element from a list. "
   ]
  },
  {
   "cell_type": "code",
   "execution_count": 1,
   "id": "4a3f4b09",
   "metadata": {},
   "outputs": [
    {
     "name": "stdout",
     "output_type": "stream",
     "text": [
      "I Play Hockey\n",
      "I Play Football\n",
      "I Love Hockey\n",
      "I Love Football\n",
      "You Play Hockey\n",
      "You Play Football\n",
      "You Love Hockey\n",
      "You Love Football\n"
     ]
    }
   ],
   "source": [
    "subjects=[\"I\", \"You\"]\n",
    "verbs=[\"Play\", \"Love\"]\n",
    "objects=[\"Hockey\",\"Football\"]\n",
    "\n",
    "for sub in subjects:\n",
    "    for verb in verbs:\n",
    "        for obj in objects:\n",
    "            print(\"{} {} {}\".format(sub,verb,obj))"
   ]
  },
  {
   "cell_type": "code",
   "execution_count": 2,
   "id": "23024277",
   "metadata": {},
   "outputs": [
    {
     "name": "stdout",
     "output_type": "stream",
     "text": [
      "('I', 'Play', 'Hockey')\n",
      "('I', 'Play', 'Football')\n",
      "('I', 'Love', 'Hockey')\n",
      "('I', 'Love', 'Football')\n",
      "('You', 'Play', 'Hockey')\n",
      "('You', 'Play', 'Football')\n",
      "('You', 'Love', 'Hockey')\n",
      "('You', 'Love', 'Football')\n"
     ]
    }
   ],
   "source": [
    "import itertools\n",
    "subject = [\"I\", \"You\"]\n",
    "verb = [\"Play\", \"Love\"]\n",
    "objects = [\"Hockey\",\"Football\"]\n",
    "\n",
    "sentence = [subject, verb, objects]\n",
    "n = list(itertools.product(*sentence))\n",
    "for i in n: \n",
    "    print(i)"
   ]
  }
 ],
 "metadata": {
  "kernelspec": {
   "display_name": "Python 3 (ipykernel)",
   "language": "python",
   "name": "python3"
  },
  "language_info": {
   "codemirror_mode": {
    "name": "ipython",
    "version": 3
   },
   "file_extension": ".py",
   "mimetype": "text/x-python",
   "name": "python",
   "nbconvert_exporter": "python",
   "pygments_lexer": "ipython3",
   "version": "3.9.7"
  }
 },
 "nbformat": 4,
 "nbformat_minor": 5
}
