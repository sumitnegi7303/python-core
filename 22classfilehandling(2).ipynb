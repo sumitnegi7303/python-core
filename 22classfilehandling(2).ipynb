{
 "cells": [
  {
   "cell_type": "code",
   "execution_count": 5,
   "id": "1ae1d545",
   "metadata": {},
   "outputs": [
    {
     "name": "stdout",
     "output_type": "stream",
     "text": [
      "['cricket\\n', 'football\\n', 'badmintion\\n', 'tennis\\n', 'hockey\\n', 'hockey\\n']\n",
      "['dhoni\\n']\n"
     ]
    }
   ],
   "source": [
    "with open(\"game.txt\")as f :\n",
    "    game = f.readlines()\n",
    "with open(\"person.txt\")as file :\n",
    "    person = file.readlines()\n",
    "    \n",
    "print(game)\n",
    "print(person)"
   ]
  },
  {
   "cell_type": "code",
   "execution_count": 6,
   "id": "278a5a34",
   "metadata": {},
   "outputs": [
    {
     "data": {
      "text/plain": [
       "{'cricket\\n': 'dhoni\\n'}"
      ]
     },
     "execution_count": 6,
     "metadata": {},
     "output_type": "execute_result"
    }
   ],
   "source": [
    "dict(zip(game,person))"
   ]
  },
  {
   "cell_type": "code",
   "execution_count": 7,
   "id": "5a8516dc",
   "metadata": {},
   "outputs": [
    {
     "name": "stdout",
     "output_type": "stream",
     "text": [
      "cricket\n",
      "football\n",
      "badmintion\n",
      "tennis\n",
      "hockey\n",
      "hockey\n",
      "\n",
      "7\n"
     ]
    }
   ],
   "source": [
    "with open(\"game.txt\",\"r+\") as f :\n",
    "    print(f.read())\n",
    "    print(f.write(\"hockey\\n\"))"
   ]
  },
  {
   "cell_type": "code",
   "execution_count": 8,
   "id": "7818c7ac",
   "metadata": {},
   "outputs": [
    {
     "name": "stdout",
     "output_type": "stream",
     "text": [
      "dhoni\n",
      "\n",
      "11\n"
     ]
    }
   ],
   "source": [
    "with open(\"person.txt\",\"r+\") as f :\n",
    "    print(f.read())\n",
    "    print(f.write(\"dhyanchand\\n\"))"
   ]
  },
  {
   "cell_type": "code",
   "execution_count": 9,
   "id": "c65d9de5",
   "metadata": {},
   "outputs": [
    {
     "name": "stdout",
     "output_type": "stream",
     "text": [
      "13\n",
      "\n"
     ]
    }
   ],
   "source": [
    "with open(\"person.txt\",\"a+\")as f :\n",
    "    print(f.write(\"i'm so hungry\"))\n",
    "    print(f.read())"
   ]
  },
  {
   "cell_type": "code",
   "execution_count": 10,
   "id": "cf8e9813",
   "metadata": {},
   "outputs": [
    {
     "name": "stdout",
     "output_type": "stream",
     "text": [
      "6\n",
      "\n"
     ]
    }
   ],
   "source": [
    "with open(\"person.txt\",\"w+\")as f:\n",
    "    print(f.write(\"dhoni\\n\"))\n",
    "    print(f.read())"
   ]
  },
  {
   "cell_type": "code",
   "execution_count": 11,
   "id": "3cd76c05",
   "metadata": {},
   "outputs": [],
   "source": [
    "L = [\"this is Delhi\\n\",\"this is Mumbai\\n\",\"this is paris\\n\"]\n",
    "with open(\"state.txt\",\"r\")as f :\n",
    "    s = f.readlines()"
   ]
  },
  {
   "cell_type": "code",
   "execution_count": 13,
   "id": "8ff00377",
   "metadata": {},
   "outputs": [
    {
     "data": {
      "text/plain": [
       "[]"
      ]
     },
     "execution_count": 13,
     "metadata": {},
     "output_type": "execute_result"
    }
   ],
   "source": [
    "with open(\"state.txt\",\"r\")as f :\n",
    "    s = f.readlines()"
   ]
  },
  {
   "cell_type": "code",
   "execution_count": 15,
   "id": "c2d399e8",
   "metadata": {},
   "outputs": [
    {
     "data": {
      "text/plain": [
       "{}"
      ]
     },
     "execution_count": 15,
     "metadata": {},
     "output_type": "execute_result"
    }
   ],
   "source": [
    "l = []\n",
    "for i in s :\n",
    "    l.append(i.split())\n",
    "l\n",
    "l1 = []\n",
    "for i in l:\n",
    "    print(i)\n",
    "    for j in i :\n",
    "        l1.append(j)\n",
    "l1\n",
    "d = {}\n",
    "for i in l1 :\n",
    "    d[i] = li.count(i)\n",
    "d"
   ]
  },
  {
   "cell_type": "code",
   "execution_count": 17,
   "id": "104ad121",
   "metadata": {},
   "outputs": [
    {
     "ename": "ModuleNotFoundError",
     "evalue": "No module named 'collection'",
     "output_type": "error",
     "traceback": [
      "\u001b[1;31m---------------------------------------------------------------------------\u001b[0m",
      "\u001b[1;31mModuleNotFoundError\u001b[0m                       Traceback (most recent call last)",
      "\u001b[1;32mC:\\Users\\GOURAV~1\\AppData\\Local\\Temp/ipykernel_3608/911309357.py\u001b[0m in \u001b[0;36m<module>\u001b[1;34m\u001b[0m\n\u001b[1;32m----> 1\u001b[1;33m \u001b[1;32mfrom\u001b[0m \u001b[0mcollection\u001b[0m \u001b[1;32mimport\u001b[0m \u001b[0mcounter\u001b[0m\u001b[1;33m\u001b[0m\u001b[1;33m\u001b[0m\u001b[0m\n\u001b[0m\u001b[0;32m      2\u001b[0m \u001b[1;32mwith\u001b[0m \u001b[0mopen\u001b[0m\u001b[1;33m(\u001b[0m\u001b[1;34m\"state.txt\"\u001b[0m\u001b[1;33m)\u001b[0m\u001b[1;32mas\u001b[0m \u001b[0mf\u001b[0m \u001b[1;33m:\u001b[0m\u001b[1;33m\u001b[0m\u001b[1;33m\u001b[0m\u001b[0m\n\u001b[0;32m      3\u001b[0m     \u001b[0mf\u001b[0m\u001b[1;33m.\u001b[0m\u001b[0mreadlines\u001b[0m\u001b[1;33m(\u001b[0m\u001b[1;33m)\u001b[0m\u001b[1;33m\u001b[0m\u001b[1;33m\u001b[0m\u001b[0m\n\u001b[0;32m      4\u001b[0m \u001b[0ml\u001b[0m\u001b[1;33m\u001b[0m\u001b[1;33m\u001b[0m\u001b[0m\n",
      "\u001b[1;31mModuleNotFoundError\u001b[0m: No module named 'collection'"
     ]
    }
   ],
   "source": [
    "from collection import counter\n",
    "with open(\"state.txt\")as f :\n",
    "    f.readlines()\n",
    "l"
   ]
  },
  {
   "cell_type": "code",
   "execution_count": null,
   "id": "acc3ba13",
   "metadata": {},
   "outputs": [],
   "source": [
    "from collections import counter\n",
    "with open(\"state.txt\")as f :\n",
    "    l = f.readlines()\n",
    "    l1 = []\n",
    "    l2 = []\n",
    "    for i in l :\n",
    "        l1.append(i.split())\n",
    "        for i in li:\n",
    "            for i in i"
   ]
  }
 ],
 "metadata": {
  "kernelspec": {
   "display_name": "Python 3 (ipykernel)",
   "language": "python",
   "name": "python3"
  },
  "language_info": {
   "codemirror_mode": {
    "name": "ipython",
    "version": 3
   },
   "file_extension": ".py",
   "mimetype": "text/x-python",
   "name": "python",
   "nbconvert_exporter": "python",
   "pygments_lexer": "ipython3",
   "version": "3.9.7"
  }
 },
 "nbformat": 4,
 "nbformat_minor": 5
}
