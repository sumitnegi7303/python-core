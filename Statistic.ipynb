{
 "cells": [
  {
   "cell_type": "code",
   "execution_count": null,
   "id": "2bffa471",
   "metadata": {},
   "outputs": [],
   "source": [
    "stats :\n",
    "1) Descriptive stats\n",
    "2) Inferential statistics    "
   ]
  },
  {
   "cell_type": "code",
   "execution_count": null,
   "id": "fe5f80eb",
   "metadata": {},
   "outputs": [],
   "source": [
    "# Descriptive statistics are procedures to organize,summarize,and present data in an informative way.\n",
    "#collecting,summarizing,and describing data"
   ]
  },
  {
   "cell_type": "code",
   "execution_count": null,
   "id": "b11a3ff3",
   "metadata": {},
   "outputs": [],
   "source": [
    "# inferential stats \n",
    "drawing conclusion and/or making decision concerning a population based only on sample data"
   ]
  },
  {
   "cell_type": "markdown",
   "id": "0b16d9dc",
   "metadata": {},
   "source": [
    "# Descriptive stats"
   ]
  },
  {
   "cell_type": "code",
   "execution_count": null,
   "id": "3fd85220",
   "metadata": {},
   "outputs": [],
   "source": [
    "#1)Measures of central Tendency"
   ]
  },
  {
   "cell_type": "code",
   "execution_count": null,
   "id": "12ba6fc7",
   "metadata": {},
   "outputs": [],
   "source": [
    "# there parts mean mode median"
   ]
  },
  {
   "cell_type": "code",
   "execution_count": null,
   "id": "604ccc6f",
   "metadata": {},
   "outputs": [],
   "source": [
    "#2)Measure of Dispersion /variability"
   ]
  },
  {
   "cell_type": "code",
   "execution_count": null,
   "id": "6576b4c9",
   "metadata": {},
   "outputs": [],
   "source": [
    "# there parts Range mode standard deviation"
   ]
  },
  {
   "cell_type": "code",
   "execution_count": null,
   "id": "93e71437",
   "metadata": {},
   "outputs": [],
   "source": [
    "The mean (average)of a data set is found by adding all numbers in the data set and then dividing by the number of\n",
    "values in the set. the median is the middle value when a data set is ordered from least to greatest.the mode \n",
    "is the number that occurs most often in a data set.\n",
    "the mode whould be seeing a many time."
   ]
  },
  {
   "cell_type": "code",
   "execution_count": null,
   "id": "2b204c31",
   "metadata": {},
   "outputs": [],
   "source": [
    "a standard deviation() is a measure of how dispersed the data is in relation to the mean. low\n",
    "standard devviation means data are clusteres around the mean, and high standard deviation \n",
    "indicates data are more spread out."
   ]
  },
  {
   "cell_type": "code",
   "execution_count": null,
   "id": "b8a0ca9c",
   "metadata": {},
   "outputs": [],
   "source": [
    "in stats the range is the spread of your data from the lowest to the highest value in the distribution.it is\n",
    "the simplest measure of variability."
   ]
  },
  {
   "cell_type": "code",
   "execution_count": null,
   "id": "346c53c1",
   "metadata": {},
   "outputs": [],
   "source": [
    "How to find a range \n",
    "5 , 14 , 29 , 34 , 59 , 68\n",
    "find the smallest number\n",
    "find the largest number\n",
    "Sbtract smallest from largest number\n",
    "68-5 =63"
   ]
  },
  {
   "cell_type": "code",
   "execution_count": null,
   "id": "4491b496",
   "metadata": {},
   "outputs": [],
   "source": [
    "Range(x)= Max(x)/Min(x)"
   ]
  },
  {
   "cell_type": "code",
   "execution_count": 13,
   "id": "55ecd66c",
   "metadata": {},
   "outputs": [
    {
     "data": {
      "text/plain": [
       "45.0"
      ]
     },
     "execution_count": 13,
     "metadata": {},
     "output_type": "execute_result"
    }
   ],
   "source": [
    "a = 20+30+40+50+60+70\n",
    "(40+50)/2"
   ]
  },
  {
   "cell_type": "code",
   "execution_count": null,
   "id": "c12180f3",
   "metadata": {},
   "outputs": [],
   "source": [
    "mean\n",
    "median \n",
    "mode"
   ]
  },
  {
   "cell_type": "code",
   "execution_count": null,
   "id": "227a674c",
   "metadata": {},
   "outputs": [],
   "source": [
    "3) Range \n",
    " highest - lowest \n",
    "    "
   ]
  },
  {
   "cell_type": "code",
   "execution_count": null,
   "id": "ce6c59c8",
   "metadata": {},
   "outputs": [],
   "source": [
    "population is denoted by capital N\n",
    "and sample is denoted by small n \n",
    "this is size and mean"
   ]
  },
  {
   "cell_type": "code",
   "execution_count": 3,
   "id": "f4cbdc48",
   "metadata": {},
   "outputs": [],
   "source": [
    "import numpy as np\n",
    "import pandas as pd"
   ]
  },
  {
   "cell_type": "code",
   "execution_count": 4,
   "id": "1df4df0a",
   "metadata": {
    "scrolled": true
   },
   "outputs": [
    {
     "data": {
      "text/html": [
       "<div>\n",
       "<style scoped>\n",
       "    .dataframe tbody tr th:only-of-type {\n",
       "        vertical-align: middle;\n",
       "    }\n",
       "\n",
       "    .dataframe tbody tr th {\n",
       "        vertical-align: top;\n",
       "    }\n",
       "\n",
       "    .dataframe thead th {\n",
       "        text-align: right;\n",
       "    }\n",
       "</style>\n",
       "<table border=\"1\" class=\"dataframe\">\n",
       "  <thead>\n",
       "    <tr style=\"text-align: right;\">\n",
       "      <th></th>\n",
       "      <th>Height</th>\n",
       "      <th>Weight</th>\n",
       "    </tr>\n",
       "  </thead>\n",
       "  <tbody>\n",
       "    <tr>\n",
       "      <th>0</th>\n",
       "      <td>160</td>\n",
       "      <td>72</td>\n",
       "    </tr>\n",
       "    <tr>\n",
       "      <th>1</th>\n",
       "      <td>167</td>\n",
       "      <td>89</td>\n",
       "    </tr>\n",
       "    <tr>\n",
       "      <th>2</th>\n",
       "      <td>168</td>\n",
       "      <td>72</td>\n",
       "    </tr>\n",
       "    <tr>\n",
       "      <th>3</th>\n",
       "      <td>150</td>\n",
       "      <td>72</td>\n",
       "    </tr>\n",
       "    <tr>\n",
       "      <th>4</th>\n",
       "      <td>164</td>\n",
       "      <td>86</td>\n",
       "    </tr>\n",
       "    <tr>\n",
       "      <th>5</th>\n",
       "      <td>155</td>\n",
       "      <td>85</td>\n",
       "    </tr>\n",
       "    <tr>\n",
       "      <th>6</th>\n",
       "      <td>165</td>\n",
       "      <td>75</td>\n",
       "    </tr>\n",
       "    <tr>\n",
       "      <th>7</th>\n",
       "      <td>159</td>\n",
       "      <td>78</td>\n",
       "    </tr>\n",
       "    <tr>\n",
       "      <th>8</th>\n",
       "      <td>166</td>\n",
       "      <td>78</td>\n",
       "    </tr>\n",
       "    <tr>\n",
       "      <th>9</th>\n",
       "      <td>165</td>\n",
       "      <td>84</td>\n",
       "    </tr>\n",
       "  </tbody>\n",
       "</table>\n",
       "</div>"
      ],
      "text/plain": [
       "   Height  Weight\n",
       "0     160      72\n",
       "1     167      89\n",
       "2     168      72\n",
       "3     150      72\n",
       "4     164      86\n",
       "5     155      85\n",
       "6     165      75\n",
       "7     159      78\n",
       "8     166      78\n",
       "9     165      84"
      ]
     },
     "execution_count": 4,
     "metadata": {},
     "output_type": "execute_result"
    }
   ],
   "source": [
    "df = pd.DataFrame({\"Height\":np.random.randint(150,170,10),\"Weight\":np.random.randint(60,90,10)})\n",
    "df"
   ]
  },
  {
   "cell_type": "code",
   "execution_count": 28,
   "id": "922d4e18",
   "metadata": {},
   "outputs": [
    {
     "data": {
      "text/plain": [
       "Height    157.5\n",
       "Weight     72.8\n",
       "dtype: float64"
      ]
     },
     "execution_count": 28,
     "metadata": {},
     "output_type": "execute_result"
    }
   ],
   "source": [
    "df.mean()"
   ]
  },
  {
   "cell_type": "code",
   "execution_count": 32,
   "id": "c248ad08",
   "metadata": {},
   "outputs": [
    {
     "data": {
      "text/plain": [
       "Height    157.0\n",
       "Weight     70.5\n",
       "dtype: float64"
      ]
     },
     "execution_count": 32,
     "metadata": {},
     "output_type": "execute_result"
    }
   ],
   "source": [
    "df.median()"
   ]
  },
  {
   "cell_type": "code",
   "execution_count": 5,
   "id": "e9065790",
   "metadata": {},
   "outputs": [
    {
     "data": {
      "text/plain": [
       "Height    5.820462\n",
       "Weight    6.454112\n",
       "dtype: float64"
      ]
     },
     "execution_count": 5,
     "metadata": {},
     "output_type": "execute_result"
    }
   ],
   "source": [
    "df.std()"
   ]
  },
  {
   "cell_type": "code",
   "execution_count": 5,
   "id": "66e0a785",
   "metadata": {},
   "outputs": [
    {
     "data": {
      "text/plain": [
       "17"
      ]
     },
     "execution_count": 5,
     "metadata": {},
     "output_type": "execute_result"
    }
   ],
   "source": [
    "range = df.Height.max() - df.Height .min()\n",
    "range"
   ]
  },
  {
   "cell_type": "code",
   "execution_count": 6,
   "id": "e660a910",
   "metadata": {},
   "outputs": [
    {
     "data": {
      "text/plain": [
       "25"
      ]
     },
     "execution_count": 6,
     "metadata": {},
     "output_type": "execute_result"
    }
   ],
   "source": [
    "range = df.Weight.max() - df.Weight .min()\n",
    "range"
   ]
  },
  {
   "cell_type": "code",
   "execution_count": null,
   "id": "70313a03",
   "metadata": {},
   "outputs": [],
   "source": [
    "skewness is a measre of the asymmetry of the probablity distribution of a real valued random variable about its mean. \n",
    "the skewness value can be positive, zero, negative,or underfined\n",
    "skewness refers to a distortion or asymmetry that deviates\n",
    "from the symmetrical bell curve, or normal distribution ,in a set of data."
   ]
  },
  {
   "cell_type": "code",
   "execution_count": 7,
   "id": "ea31facc",
   "metadata": {},
   "outputs": [
    {
     "data": {
      "text/plain": [
       "Height   -0.595422\n",
       "Weight    0.418780\n",
       "dtype: float64"
      ]
     },
     "execution_count": 7,
     "metadata": {},
     "output_type": "execute_result"
    }
   ],
   "source": [
    "df.skew()        #to check the skewness on the dataframe "
   ]
  },
  {
   "cell_type": "code",
   "execution_count": 8,
   "id": "b28f105c",
   "metadata": {},
   "outputs": [
    {
     "data": {
      "text/plain": [
       "Height   -0.921719\n",
       "Weight   -1.489626\n",
       "dtype: float64"
      ]
     },
     "execution_count": 8,
     "metadata": {},
     "output_type": "execute_result"
    }
   ],
   "source": [
    "df.kurt()          #to check the kutosis on the dataframe "
   ]
  },
  {
   "cell_type": "code",
   "execution_count": null,
   "id": "d0dc9632",
   "metadata": {},
   "outputs": [],
   "source": [
    "in probability theroy and statistics,kurtosis is a measure of the \"tailedness\" of the probability distribution\n",
    "of a real-valued random variable."
   ]
  },
  {
   "cell_type": "code",
   "execution_count": null,
   "id": "0e16e16e",
   "metadata": {},
   "outputs": [],
   "source": [
    "types of the probability distribution \n",
    "\n",
    "There are many different types of probability distribution. some of them which we will be covering\n",
    "in this blog are listed below:\n",
    "\n",
    "normal Distribution\n",
    "BErnoulli's Distribution\n",
    "Binomial Distribution \n",
    "student's T Distribution \n",
    "poisson Distribution "
   ]
  },
  {
   "cell_type": "code",
   "execution_count": null,
   "id": "027e4756",
   "metadata": {},
   "outputs": [],
   "source": [
    "Feature scaling :\n",
    "1) standardization.   # col/feature are normally distributed.\n",
    "2) Normalization."
   ]
  },
  {
   "cell_type": "code",
   "execution_count": null,
   "id": "b0dc4e07",
   "metadata": {},
   "outputs": [],
   "source": [
    "in statistics,standardization is the process of putting different variables on the same scale.\n",
    "this process allows you to compare scores between different types of variables.\n",
    "typically , to standardize variables,you calutate the mean and standardard deviation for a variable."
   ]
  },
  {
   "cell_type": "code",
   "execution_count": null,
   "id": "676b697b",
   "metadata": {},
   "outputs": [],
   "source": [
    "[q - q plot ] - quantile - quantile plot \n",
    "# it give us [Normal or not]\n",
    "# standardinzation is the normal distribution"
   ]
  },
  {
   "cell_type": "code",
   "execution_count": null,
   "id": "ae1caa50",
   "metadata": {},
   "outputs": [],
   "source": [
    "z1 = xi - x /std \n",
    "170 - 170.7/0.83"
   ]
  },
  {
   "cell_type": "code",
   "execution_count": 10,
   "id": "f6d4f41a",
   "metadata": {},
   "outputs": [
    {
     "data": {
      "text/plain": [
       "-35.66265060240963"
      ]
     },
     "execution_count": 10,
     "metadata": {},
     "output_type": "execute_result"
    }
   ],
   "source": [
    "170 - 170.7/0.83"
   ]
  },
  {
   "cell_type": "code",
   "execution_count": null,
   "id": "8bda5987",
   "metadata": {},
   "outputs": [],
   "source": [
    "# this scaling start:\n",
    "standardinzation"
   ]
  },
  {
   "cell_type": "code",
   "execution_count": 9,
   "id": "6401212f",
   "metadata": {},
   "outputs": [
    {
     "data": {
      "text/plain": [
       "0    170.0\n",
       "1    171.0\n",
       "2    170.5\n",
       "3    170.0\n",
       "4    172.0\n",
       "dtype: float64"
      ]
     },
     "execution_count": 9,
     "metadata": {},
     "output_type": "execute_result"
    }
   ],
   "source": [
    "x = pd.Series([170,171,170.5,170,172])\n",
    "x"
   ]
  },
  {
   "cell_type": "code",
   "execution_count": 19,
   "id": "c9ef99ca",
   "metadata": {},
   "outputs": [],
   "source": [
    "x_bar = x.mean()"
   ]
  },
  {
   "cell_type": "code",
   "execution_count": 16,
   "id": "ac2d4242",
   "metadata": {},
   "outputs": [
    {
     "data": {
      "text/plain": [
       "0.8366600265340756"
      ]
     },
     "execution_count": 16,
     "metadata": {},
     "output_type": "execute_result"
    }
   ],
   "source": [
    "x_std = x.std()\n",
    "x_std"
   ]
  },
  {
   "cell_type": "code",
   "execution_count": 17,
   "id": "1a4a9bf6",
   "metadata": {
    "scrolled": false
   },
   "outputs": [
    {
     "name": "stdout",
     "output_type": "stream",
     "text": [
      "-0.8366600265340619\n",
      "0.35856858280033166\n",
      "-0.23904572186686512\n",
      "-0.8366600265340619\n",
      "1.5537971921347253\n"
     ]
    }
   ],
   "source": [
    "for i in x :\n",
    "    z = (i-x_bar)/x_std\n",
    "    print(z)"
   ]
  },
  {
   "cell_type": "code",
   "execution_count": 1,
   "id": "493bcb32",
   "metadata": {},
   "outputs": [],
   "source": [
    "from sklearn.preprocessing  import StandardScaler"
   ]
  },
  {
   "cell_type": "code",
   "execution_count": null,
   "id": "e3ee5de8",
   "metadata": {},
   "outputs": [],
   "source": [
    "#used in maching learning "
   ]
  },
  {
   "cell_type": "code",
   "execution_count": 10,
   "id": "ea4b6364",
   "metadata": {},
   "outputs": [
    {
     "data": {
      "text/plain": [
       "array([[0., 0., 0., 0., 0.]])"
      ]
     },
     "execution_count": 10,
     "metadata": {},
     "output_type": "execute_result"
    }
   ],
   "source": [
    "s = StandardScaler()\n",
    "x_scaled = s.fit_transform(np.array([x]))\n",
    "x_scaled"
   ]
  },
  {
   "cell_type": "code",
   "execution_count": 12,
   "id": "f916d4a7",
   "metadata": {},
   "outputs": [],
   "source": [
    "import seaborn as sns"
   ]
  },
  {
   "cell_type": "code",
   "execution_count": 27,
   "id": "9d663703",
   "metadata": {},
   "outputs": [
    {
     "data": {
      "text/html": [
       "<div>\n",
       "<style scoped>\n",
       "    .dataframe tbody tr th:only-of-type {\n",
       "        vertical-align: middle;\n",
       "    }\n",
       "\n",
       "    .dataframe tbody tr th {\n",
       "        vertical-align: top;\n",
       "    }\n",
       "\n",
       "    .dataframe thead th {\n",
       "        text-align: right;\n",
       "    }\n",
       "</style>\n",
       "<table border=\"1\" class=\"dataframe\">\n",
       "  <thead>\n",
       "    <tr style=\"text-align: right;\">\n",
       "      <th></th>\n",
       "      <th>sepal_length</th>\n",
       "      <th>sepal_width</th>\n",
       "      <th>petal_length</th>\n",
       "      <th>petal_width</th>\n",
       "      <th>species</th>\n",
       "    </tr>\n",
       "  </thead>\n",
       "  <tbody>\n",
       "    <tr>\n",
       "      <th>0</th>\n",
       "      <td>5.1</td>\n",
       "      <td>3.5</td>\n",
       "      <td>1.4</td>\n",
       "      <td>0.2</td>\n",
       "      <td>setosa</td>\n",
       "    </tr>\n",
       "    <tr>\n",
       "      <th>1</th>\n",
       "      <td>4.9</td>\n",
       "      <td>3.0</td>\n",
       "      <td>1.4</td>\n",
       "      <td>0.2</td>\n",
       "      <td>setosa</td>\n",
       "    </tr>\n",
       "    <tr>\n",
       "      <th>2</th>\n",
       "      <td>4.7</td>\n",
       "      <td>3.2</td>\n",
       "      <td>1.3</td>\n",
       "      <td>0.2</td>\n",
       "      <td>setosa</td>\n",
       "    </tr>\n",
       "    <tr>\n",
       "      <th>3</th>\n",
       "      <td>4.6</td>\n",
       "      <td>3.1</td>\n",
       "      <td>1.5</td>\n",
       "      <td>0.2</td>\n",
       "      <td>setosa</td>\n",
       "    </tr>\n",
       "    <tr>\n",
       "      <th>4</th>\n",
       "      <td>5.0</td>\n",
       "      <td>3.6</td>\n",
       "      <td>1.4</td>\n",
       "      <td>0.2</td>\n",
       "      <td>setosa</td>\n",
       "    </tr>\n",
       "    <tr>\n",
       "      <th>...</th>\n",
       "      <td>...</td>\n",
       "      <td>...</td>\n",
       "      <td>...</td>\n",
       "      <td>...</td>\n",
       "      <td>...</td>\n",
       "    </tr>\n",
       "    <tr>\n",
       "      <th>145</th>\n",
       "      <td>6.7</td>\n",
       "      <td>3.0</td>\n",
       "      <td>5.2</td>\n",
       "      <td>2.3</td>\n",
       "      <td>virginica</td>\n",
       "    </tr>\n",
       "    <tr>\n",
       "      <th>146</th>\n",
       "      <td>6.3</td>\n",
       "      <td>2.5</td>\n",
       "      <td>5.0</td>\n",
       "      <td>1.9</td>\n",
       "      <td>virginica</td>\n",
       "    </tr>\n",
       "    <tr>\n",
       "      <th>147</th>\n",
       "      <td>6.5</td>\n",
       "      <td>3.0</td>\n",
       "      <td>5.2</td>\n",
       "      <td>2.0</td>\n",
       "      <td>virginica</td>\n",
       "    </tr>\n",
       "    <tr>\n",
       "      <th>148</th>\n",
       "      <td>6.2</td>\n",
       "      <td>3.4</td>\n",
       "      <td>5.4</td>\n",
       "      <td>2.3</td>\n",
       "      <td>virginica</td>\n",
       "    </tr>\n",
       "    <tr>\n",
       "      <th>149</th>\n",
       "      <td>5.9</td>\n",
       "      <td>3.0</td>\n",
       "      <td>5.1</td>\n",
       "      <td>1.8</td>\n",
       "      <td>virginica</td>\n",
       "    </tr>\n",
       "  </tbody>\n",
       "</table>\n",
       "<p>150 rows × 5 columns</p>\n",
       "</div>"
      ],
      "text/plain": [
       "     sepal_length  sepal_width  petal_length  petal_width    species\n",
       "0             5.1          3.5           1.4          0.2     setosa\n",
       "1             4.9          3.0           1.4          0.2     setosa\n",
       "2             4.7          3.2           1.3          0.2     setosa\n",
       "3             4.6          3.1           1.5          0.2     setosa\n",
       "4             5.0          3.6           1.4          0.2     setosa\n",
       "..            ...          ...           ...          ...        ...\n",
       "145           6.7          3.0           5.2          2.3  virginica\n",
       "146           6.3          2.5           5.0          1.9  virginica\n",
       "147           6.5          3.0           5.2          2.0  virginica\n",
       "148           6.2          3.4           5.4          2.3  virginica\n",
       "149           5.9          3.0           5.1          1.8  virginica\n",
       "\n",
       "[150 rows x 5 columns]"
      ]
     },
     "execution_count": 27,
     "metadata": {},
     "output_type": "execute_result"
    }
   ],
   "source": [
    "df = sns.load_dataset(\"iris\")\n",
    "df"
   ]
  },
  {
   "cell_type": "code",
   "execution_count": 43,
   "id": "fcfa8b13",
   "metadata": {},
   "outputs": [],
   "source": [
    "x = df.drop(columns = [\"species\"])\n",
    "y = df.species"
   ]
  },
  {
   "cell_type": "code",
   "execution_count": 44,
   "id": "3e68b93c",
   "metadata": {},
   "outputs": [
    {
     "data": {
      "text/plain": [
       "(150, 4)"
      ]
     },
     "execution_count": 44,
     "metadata": {},
     "output_type": "execute_result"
    }
   ],
   "source": [
    "x.shape"
   ]
  },
  {
   "cell_type": "code",
   "execution_count": 54,
   "id": "baaad6ce",
   "metadata": {},
   "outputs": [
    {
     "data": {
      "text/plain": [
       "(150, 4)"
      ]
     },
     "execution_count": 54,
     "metadata": {},
     "output_type": "execute_result"
    }
   ],
   "source": [
    "x_scaled.shape"
   ]
  },
  {
   "cell_type": "code",
   "execution_count": 53,
   "id": "86473053",
   "metadata": {
    "scrolled": true
   },
   "outputs": [
    {
     "name": "stderr",
     "output_type": "stream",
     "text": [
      "C:\\Users\\GOURAV~1\\AppData\\Local\\Temp/ipykernel_10120/1665899112.py:1: FutureWarning: Dropping of nuisance columns in DataFrame reductions (with 'numeric_only=None') is deprecated; in a future version this will raise TypeError.  Select only valid columns before calling the reduction.\n",
      "  df.skew()\n"
     ]
    },
    {
     "data": {
      "text/plain": [
       "sepal_length    0.314911\n",
       "sepal_width     0.318966\n",
       "petal_length   -0.274884\n",
       "petal_width    -0.102967\n",
       "dtype: float64"
      ]
     },
     "execution_count": 53,
     "metadata": {},
     "output_type": "execute_result"
    }
   ],
   "source": [
    "df.skew()"
   ]
  },
  {
   "cell_type": "code",
   "execution_count": 51,
   "id": "c0de5942",
   "metadata": {},
   "outputs": [
    {
     "name": "stderr",
     "output_type": "stream",
     "text": [
      "C:\\Users\\GOURAV~1\\AppData\\Local\\Temp/ipykernel_10120/1257127604.py:1: FutureWarning: Dropping of nuisance columns in DataFrame reductions (with 'numeric_only=None') is deprecated; in a future version this will raise TypeError.  Select only valid columns before calling the reduction.\n",
      "  df.kurt()\n"
     ]
    },
    {
     "data": {
      "text/plain": [
       "sepal_length   -0.552064\n",
       "sepal_width     0.228249\n",
       "petal_length   -1.402103\n",
       "petal_width    -1.340604\n",
       "dtype: float64"
      ]
     },
     "execution_count": 51,
     "metadata": {},
     "output_type": "execute_result"
    }
   ],
   "source": [
    "df.kurt()"
   ]
  },
  {
   "cell_type": "code",
   "execution_count": 55,
   "id": "3fdede90",
   "metadata": {},
   "outputs": [
    {
     "data": {
      "text/plain": [
       "Index(['sepal_length', 'sepal_width', 'petal_length', 'petal_width',\n",
       "       'species'],\n",
       "      dtype='object')"
      ]
     },
     "execution_count": 55,
     "metadata": {},
     "output_type": "execute_result"
    }
   ],
   "source": [
    "df.columns"
   ]
  },
  {
   "cell_type": "code",
   "execution_count": 56,
   "id": "530a5861",
   "metadata": {},
   "outputs": [
    {
     "data": {
      "text/plain": [
       "array([-0.90068117,  1.01900435, -1.34022653, -1.3154443 ])"
      ]
     },
     "execution_count": 56,
     "metadata": {},
     "output_type": "execute_result"
    }
   ],
   "source": [
    "x_scaled[0]"
   ]
  },
  {
   "cell_type": "code",
   "execution_count": null,
   "id": "da3cca4e",
   "metadata": {},
   "outputs": [],
   "source": [
    "scaler = StandardScaler()"
   ]
  },
  {
   "cell_type": "code",
   "execution_count": 57,
   "id": "819c03e2",
   "metadata": {},
   "outputs": [
    {
     "data": {
      "text/plain": [
       "-4.263256414560601e-16"
      ]
     },
     "execution_count": 57,
     "metadata": {},
     "output_type": "execute_result"
    }
   ],
   "source": [
    "x_scaled[:,2].mean()"
   ]
  },
  {
   "cell_type": "code",
   "execution_count": 59,
   "id": "35689aa5",
   "metadata": {},
   "outputs": [
    {
     "data": {
      "text/plain": [
       "1.0"
      ]
     },
     "execution_count": 59,
     "metadata": {},
     "output_type": "execute_result"
    }
   ],
   "source": [
    "x_scaled[:,2].std()"
   ]
  },
  {
   "cell_type": "code",
   "execution_count": 58,
   "id": "06091d6e",
   "metadata": {},
   "outputs": [
    {
     "data": {
      "text/plain": [
       "-4.736951571734001e-16"
      ]
     },
     "execution_count": 58,
     "metadata": {},
     "output_type": "execute_result"
    }
   ],
   "source": [
    "x_scaled[:,3].mean()"
   ]
  },
  {
   "cell_type": "code",
   "execution_count": 23,
   "id": "e11a96a2",
   "metadata": {},
   "outputs": [
    {
     "data": {
      "text/plain": [
       "0.0"
      ]
     },
     "execution_count": 23,
     "metadata": {},
     "output_type": "execute_result"
    }
   ],
   "source": [
    "x_scaled[:,0].mean()"
   ]
  },
  {
   "cell_type": "code",
   "execution_count": 24,
   "id": "a9bb2039",
   "metadata": {},
   "outputs": [
    {
     "data": {
      "text/plain": [
       "0.0"
      ]
     },
     "execution_count": 24,
     "metadata": {},
     "output_type": "execute_result"
    }
   ],
   "source": [
    "x_scaled[:,1].mean()"
   ]
  },
  {
   "cell_type": "code",
   "execution_count": null,
   "id": "95a6d75a",
   "metadata": {},
   "outputs": [],
   "source": [
    "Normalization \n",
    "FS - [ [0 + 01]]\n",
    "\"MinMaxscaler\" = [xi - xmin/xmax - xmin]"
   ]
  },
  {
   "cell_type": "code",
   "execution_count": null,
   "id": "f1e2a2ae",
   "metadata": {},
   "outputs": [],
   "source": [
    "standardization 1)used:Normally distribution \n",
    "    2)zs = xi - x/std\n",
    "    3)sklearn Standardscaler\n",
    "    4)values can range from -ne to +ve"
   ]
  },
  {
   "cell_type": "code",
   "execution_count": null,
   "id": "286f7d74",
   "metadata": {},
   "outputs": [],
   "source": [
    "Normalization \n",
    "1)used :-NOt Normal distribution\n",
    "    2)xi - xmin/xmax-xmin\n",
    "    3)skelearn Minmax scaler\n",
    "    4)values will always be b/w [ 0 - 1]"
   ]
  },
  {
   "cell_type": "code",
   "execution_count": null,
   "id": "ca61e2c3",
   "metadata": {},
   "outputs": [],
   "source": [
    "probability :-\n",
    "    possibility of an event \n",
    "    \"event\" = Experiment sai nikalta hai outcome.\n",
    "    PCE = possible outcome of event /Total no. of outcomes\n",
    "1) PDF = prob density function \n",
    "pdf is continues value always continues \n",
    "PMF = probability mask function.\n",
    "CDF = commulative Density function \n",
    "cdf karenge to pdf milaga\n",
    "pdf karenge to cdf milaga"
   ]
  },
  {
   "cell_type": "code",
   "execution_count": null,
   "id": "8bc4f3de",
   "metadata": {},
   "outputs": [],
   "source": [
    "3) q - q plot :- quantile quantile plot\n",
    "    to check given distribution  is normal or not \n",
    "    line pai hai ya nahi bas yahi check karna hai \n",
    "    which mean thos who points there in a line this is is normal \n",
    "    and other who not in line this is not normal"
   ]
  },
  {
   "cell_type": "code",
   "execution_count": 3,
   "id": "286cdd09",
   "metadata": {},
   "outputs": [],
   "source": [
    "import seaborn as sns"
   ]
  },
  {
   "cell_type": "code",
   "execution_count": 6,
   "id": "1c2e4a98",
   "metadata": {},
   "outputs": [
    {
     "data": {
      "text/html": [
       "<div>\n",
       "<style scoped>\n",
       "    .dataframe tbody tr th:only-of-type {\n",
       "        vertical-align: middle;\n",
       "    }\n",
       "\n",
       "    .dataframe tbody tr th {\n",
       "        vertical-align: top;\n",
       "    }\n",
       "\n",
       "    .dataframe thead th {\n",
       "        text-align: right;\n",
       "    }\n",
       "</style>\n",
       "<table border=\"1\" class=\"dataframe\">\n",
       "  <thead>\n",
       "    <tr style=\"text-align: right;\">\n",
       "      <th></th>\n",
       "      <th>sepal_length</th>\n",
       "      <th>sepal_width</th>\n",
       "      <th>petal_length</th>\n",
       "      <th>petal_width</th>\n",
       "      <th>species</th>\n",
       "    </tr>\n",
       "  </thead>\n",
       "  <tbody>\n",
       "    <tr>\n",
       "      <th>0</th>\n",
       "      <td>5.1</td>\n",
       "      <td>3.5</td>\n",
       "      <td>1.4</td>\n",
       "      <td>0.2</td>\n",
       "      <td>setosa</td>\n",
       "    </tr>\n",
       "    <tr>\n",
       "      <th>1</th>\n",
       "      <td>4.9</td>\n",
       "      <td>3.0</td>\n",
       "      <td>1.4</td>\n",
       "      <td>0.2</td>\n",
       "      <td>setosa</td>\n",
       "    </tr>\n",
       "    <tr>\n",
       "      <th>2</th>\n",
       "      <td>4.7</td>\n",
       "      <td>3.2</td>\n",
       "      <td>1.3</td>\n",
       "      <td>0.2</td>\n",
       "      <td>setosa</td>\n",
       "    </tr>\n",
       "    <tr>\n",
       "      <th>3</th>\n",
       "      <td>4.6</td>\n",
       "      <td>3.1</td>\n",
       "      <td>1.5</td>\n",
       "      <td>0.2</td>\n",
       "      <td>setosa</td>\n",
       "    </tr>\n",
       "    <tr>\n",
       "      <th>4</th>\n",
       "      <td>5.0</td>\n",
       "      <td>3.6</td>\n",
       "      <td>1.4</td>\n",
       "      <td>0.2</td>\n",
       "      <td>setosa</td>\n",
       "    </tr>\n",
       "  </tbody>\n",
       "</table>\n",
       "</div>"
      ],
      "text/plain": [
       "   sepal_length  sepal_width  petal_length  petal_width species\n",
       "0           5.1          3.5           1.4          0.2  setosa\n",
       "1           4.9          3.0           1.4          0.2  setosa\n",
       "2           4.7          3.2           1.3          0.2  setosa\n",
       "3           4.6          3.1           1.5          0.2  setosa\n",
       "4           5.0          3.6           1.4          0.2  setosa"
      ]
     },
     "execution_count": 6,
     "metadata": {},
     "output_type": "execute_result"
    }
   ],
   "source": [
    "df = sns.load_dataset(\"iris\")\n",
    "df.head()"
   ]
  },
  {
   "cell_type": "code",
   "execution_count": 11,
   "id": "c35aae82",
   "metadata": {
    "scrolled": true
   },
   "outputs": [
    {
     "name": "stdout",
     "output_type": "stream",
     "text": [
      "0.06779661016949151\n",
      "0.06779661016949151\n",
      "0.05084745762711865\n",
      "0.0847457627118644\n",
      "0.06779661016949151\n",
      "0.11864406779661016\n",
      "0.06779661016949151\n",
      "0.0847457627118644\n",
      "0.06779661016949151\n",
      "0.0847457627118644\n",
      "0.0847457627118644\n",
      "0.1016949152542373\n",
      "0.06779661016949151\n",
      "0.016949152542372895\n",
      "0.033898305084745756\n",
      "0.0847457627118644\n",
      "0.05084745762711865\n",
      "0.06779661016949151\n",
      "0.11864406779661016\n",
      "0.0847457627118644\n",
      "0.11864406779661016\n",
      "0.0847457627118644\n",
      "0.0\n",
      "0.11864406779661016\n",
      "0.15254237288135591\n",
      "0.1016949152542373\n",
      "0.1016949152542373\n",
      "0.0847457627118644\n",
      "0.06779661016949151\n",
      "0.1016949152542373\n",
      "0.1016949152542373\n",
      "0.0847457627118644\n",
      "0.0847457627118644\n",
      "0.06779661016949151\n",
      "0.0847457627118644\n",
      "0.033898305084745756\n",
      "0.05084745762711865\n",
      "0.06779661016949151\n",
      "0.05084745762711865\n",
      "0.0847457627118644\n",
      "0.05084745762711865\n",
      "0.05084745762711865\n",
      "0.05084745762711865\n",
      "0.1016949152542373\n",
      "0.15254237288135591\n",
      "0.06779661016949151\n",
      "0.1016949152542373\n",
      "0.06779661016949151\n",
      "0.0847457627118644\n",
      "0.06779661016949151\n",
      "0.6271186440677966\n",
      "0.5932203389830508\n",
      "0.6610169491525424\n",
      "0.5084745762711864\n",
      "0.6101694915254237\n",
      "0.5932203389830508\n",
      "0.6271186440677966\n",
      "0.38983050847457623\n",
      "0.6101694915254237\n",
      "0.4915254237288135\n",
      "0.423728813559322\n",
      "0.5423728813559322\n",
      "0.5084745762711864\n",
      "0.6271186440677966\n",
      "0.4406779661016949\n",
      "0.576271186440678\n",
      "0.5932203389830508\n",
      "0.5254237288135593\n",
      "0.5932203389830508\n",
      "0.4915254237288135\n",
      "0.6440677966101694\n",
      "0.5084745762711864\n",
      "0.6610169491525424\n",
      "0.6271186440677966\n",
      "0.559322033898305\n",
      "0.576271186440678\n",
      "0.6440677966101694\n",
      "0.6779661016949152\n",
      "0.5932203389830508\n",
      "0.423728813559322\n",
      "0.47457627118644063\n",
      "0.4576271186440678\n",
      "0.4915254237288135\n",
      "0.6949152542372881\n",
      "0.5932203389830508\n",
      "0.5932203389830508\n",
      "0.6271186440677966\n",
      "0.576271186440678\n",
      "0.5254237288135593\n",
      "0.5084745762711864\n",
      "0.576271186440678\n",
      "0.6101694915254237\n",
      "0.5084745762711864\n",
      "0.38983050847457623\n",
      "0.5423728813559322\n",
      "0.5423728813559322\n",
      "0.5423728813559322\n",
      "0.559322033898305\n",
      "0.3389830508474576\n",
      "0.5254237288135593\n",
      "0.847457627118644\n",
      "0.6949152542372881\n",
      "0.8305084745762712\n",
      "0.7796610169491525\n",
      "0.8135593220338982\n",
      "0.9491525423728813\n",
      "0.5932203389830508\n",
      "0.8983050847457626\n",
      "0.8135593220338982\n",
      "0.8644067796610169\n",
      "0.6949152542372881\n",
      "0.7288135593220338\n",
      "0.7627118644067796\n",
      "0.6779661016949152\n",
      "0.6949152542372881\n",
      "0.7288135593220338\n",
      "0.7627118644067796\n",
      "0.9661016949152542\n",
      "1.0\n",
      "0.6779661016949152\n",
      "0.7966101694915254\n",
      "0.6610169491525424\n",
      "0.9661016949152542\n",
      "0.6610169491525424\n",
      "0.7966101694915254\n",
      "0.847457627118644\n",
      "0.6440677966101694\n",
      "0.6610169491525424\n",
      "0.7796610169491525\n",
      "0.8135593220338982\n",
      "0.8644067796610169\n",
      "0.9152542372881356\n",
      "0.7796610169491525\n",
      "0.6949152542372881\n",
      "0.7796610169491525\n",
      "0.8644067796610169\n",
      "0.7796610169491525\n",
      "0.7627118644067796\n",
      "0.6440677966101694\n",
      "0.7457627118644068\n",
      "0.7796610169491525\n",
      "0.6949152542372881\n",
      "0.6949152542372881\n",
      "0.8305084745762712\n",
      "0.7966101694915254\n",
      "0.711864406779661\n",
      "0.6779661016949152\n",
      "0.711864406779661\n",
      "0.7457627118644068\n",
      "0.6949152542372881\n"
     ]
    }
   ],
   "source": [
    "for i in df[\"petal_length\"]:\n",
    "    min_max = (i-df[\"petal_length\"].min())/(df[\"petal_length\"].max()-df[\"petal_length\"].min())\n",
    "    print(min_max)"
   ]
  },
  {
   "cell_type": "code",
   "execution_count": null,
   "id": "15e3e887",
   "metadata": {},
   "outputs": [],
   "source": [
    "# see q-q plot :"
   ]
  },
  {
   "cell_type": "code",
   "execution_count": 15,
   "id": "c603fe04",
   "metadata": {},
   "outputs": [],
   "source": [
    "import scipy.stats as st\n",
    "import pylab"
   ]
  },
  {
   "cell_type": "code",
   "execution_count": 24,
   "id": "aa3ec138",
   "metadata": {},
   "outputs": [
    {
     "data": {
      "image/png": "[encoded data removed]",
      "text/plain": [
       "<Figure size 432x288 with 1 Axes>"
      ]
     },
     "metadata": {
      "needs_background": "light"
     },
     "output_type": "display_data"
    }
   ],
   "source": [
    "st.probplot(df[\"petal_width\"],dist = \"norm\",plot = pylab);"
   ]
  },
  {
   "cell_type": "code",
   "execution_count": 25,
   "id": "aeff3468",
   "metadata": {},
   "outputs": [
    {
     "data": {
      "image/png": "[encoded data removed]",
      "text/plain": [
       "<Figure size 432x288 with 1 Axes>"
      ]
     },
     "metadata": {
      "needs_background": "light"
     },
     "output_type": "display_data"
    }
   ],
   "source": [
    "st.probplot(df[\"sepal_length\"],dist = \"norm\",plot = pylab);"
   ]
  },
  {
   "cell_type": "code",
   "execution_count": 16,
   "id": "3639870d",
   "metadata": {},
   "outputs": [],
   "source": [
    "import matplotlib.pyplot as plt \n",
    "import numpy as np\n",
    "import pandas as pd\n",
    "from scipy.stats import norm"
   ]
  },
  {
   "cell_type": "code",
   "execution_count": 31,
   "id": "93d5cfa5",
   "metadata": {},
   "outputs": [
    {
     "data": {
      "image/png": "[encoded data removed]",
      "text/plain": [
       "<Figure size 1080x432 with 2 Axes>"
      ]
     },
     "metadata": {
      "needs_background": "light"
     },
     "output_type": "display_data"
    }
   ],
   "source": [
    "x = np.arange(-6, 6.1, 0.1)\n",
    "y_pdf = norm.pdf(x)\n",
    "y_cdf = norm.cdf(x)\n",
    "\n",
    "fig, ax = plt.subplots(figsize=(15, 6))\n",
    "\n",
    "ax = [ax, ax.twinx()]\n",
    "\n",
    "_ = ax[0].plot(x, y_pdf, label='pdf', color='r')\n",
    "_ = ax[1].plot(x, y_cdf, label='cdf', color='b')\n",
    "\n",
    "_ = ax[0].tick_params(axis='y', labelcolor='r')\n",
    "_ = ax[1].tick_params(axis='y', labelcolor='b')\n",
    "\n",
    "_ = ax[0].set_ylabel('pdf', color='r')\n",
    "_ = ax[1].set_ylabel('cdf', color='b')\n",
    "\n",
    "_ = ax[0].set_title('PDF and CDF of standard normal')"
   ]
  },
  {
   "cell_type": "code",
   "execution_count": 32,
   "id": "2e89d6b5",
   "metadata": {
    "scrolled": true
   },
   "outputs": [
    {
     "data": {
      "text/plain": [
       "[<matplotlib.lines.Line2D at 0x2318823e7f0>]"
      ]
     },
     "execution_count": 32,
     "metadata": {},
     "output_type": "execute_result"
    },
    {
     "data": {
      "image/png": "[encoded data removed]",
      "text/plain": [
       "<Figure size 432x288 with 1 Axes>"
      ]
     },
     "metadata": {
      "needs_background": "light"
     },
     "output_type": "display_data"
    }
   ],
   "source": [
    "x = np.arange(-6,6.1,0.1)\n",
    "y_pdf = norm.pdf(x)\n",
    "y_cdf = norm.cdf(x)\n",
    "\n",
    "plt.plot(x,y_pdf,\"r\")\n",
    "plt.plot(x,y_cdf,\"d\")"
   ]
  },
  {
   "cell_type": "code",
   "execution_count": null,
   "id": "37306133",
   "metadata": {},
   "outputs": [],
   "source": [
    "13-07-2022\n",
    "wednesday"
   ]
  },
  {
   "cell_type": "markdown",
   "id": "8976acbc",
   "metadata": {},
   "source": [
    "# Distribution other than Normal & std.Normal."
   ]
  },
  {
   "cell_type": "code",
   "execution_count": 18,
   "id": "17c766d5",
   "metadata": {},
   "outputs": [
    {
     "data": {
      "text/html": [
       "<div>\n",
       "<style scoped>\n",
       "    .dataframe tbody tr th:only-of-type {\n",
       "        vertical-align: middle;\n",
       "    }\n",
       "\n",
       "    .dataframe tbody tr th {\n",
       "        vertical-align: top;\n",
       "    }\n",
       "\n",
       "    .dataframe thead th {\n",
       "        text-align: right;\n",
       "    }\n",
       "</style>\n",
       "<table border=\"1\" class=\"dataframe\">\n",
       "  <thead>\n",
       "    <tr style=\"text-align: right;\">\n",
       "      <th></th>\n",
       "      <th>patient</th>\n",
       "      <th>sex</th>\n",
       "      <th>agegrp</th>\n",
       "      <th>bp_before</th>\n",
       "      <th>bp_after</th>\n",
       "    </tr>\n",
       "  </thead>\n",
       "  <tbody>\n",
       "    <tr>\n",
       "      <th>0</th>\n",
       "      <td>1</td>\n",
       "      <td>Male</td>\n",
       "      <td>30-45</td>\n",
       "      <td>143</td>\n",
       "      <td>153</td>\n",
       "    </tr>\n",
       "    <tr>\n",
       "      <th>1</th>\n",
       "      <td>2</td>\n",
       "      <td>Male</td>\n",
       "      <td>30-45</td>\n",
       "      <td>163</td>\n",
       "      <td>170</td>\n",
       "    </tr>\n",
       "  </tbody>\n",
       "</table>\n",
       "</div>"
      ],
      "text/plain": [
       "   patient   sex agegrp  bp_before  bp_after\n",
       "0        1  Male  30-45        143       153\n",
       "1        2  Male  30-45        163       170"
      ]
     },
     "execution_count": 18,
     "metadata": {},
     "output_type": "execute_result"
    }
   ],
   "source": [
    "df = pd.read_csv(\"C:\\\\Users\\\\GOURAV NEGI\\\\Downloads\\\\bloodpressure.csv\")\n",
    "df.head(2)"
   ]
  },
  {
   "cell_type": "code",
   "execution_count": 19,
   "id": "56bd9149",
   "metadata": {},
   "outputs": [
    {
     "data": {
      "image/png": "[encoded data removed]",
      "text/plain": [
       "<Figure size 432x288 with 1 Axes>"
      ]
     },
     "metadata": {
      "needs_background": "light"
     },
     "output_type": "display_data"
    }
   ],
   "source": [
    "st.probplot(df[\"bp_before\"],dist = \"norm\",plot = pylab);"
   ]
  },
  {
   "cell_type": "code",
   "execution_count": 14,
   "id": "87c2d619",
   "metadata": {},
   "outputs": [
    {
     "name": "stderr",
     "output_type": "stream",
     "text": [
      "C:\\Users\\GOURAV~1\\AppData\\Local\\Temp/ipykernel_7304/1665899112.py:1: FutureWarning: Dropping of nuisance columns in DataFrame reductions (with 'numeric_only=None') is deprecated; in a future version this will raise TypeError.  Select only valid columns before calling the reduction.\n",
      "  df.skew()\n"
     ]
    },
    {
     "data": {
      "text/plain": [
       "patient      0.000000\n",
       "bp_before    0.554244\n",
       "bp_after     0.393365\n",
       "dtype: float64"
      ]
     },
     "execution_count": 14,
     "metadata": {},
     "output_type": "execute_result"
    }
   ],
   "source": [
    "df.skew()"
   ]
  },
  {
   "cell_type": "code",
   "execution_count": 16,
   "id": "d14606e6",
   "metadata": {},
   "outputs": [
    {
     "name": "stderr",
     "output_type": "stream",
     "text": [
      "C:\\Users\\GOURAV~1\\AppData\\Local\\Temp/ipykernel_7304/1257127604.py:1: FutureWarning: Dropping of nuisance columns in DataFrame reductions (with 'numeric_only=None') is deprecated; in a future version this will raise TypeError.  Select only valid columns before calling the reduction.\n",
      "  df.kurt()\n"
     ]
    },
    {
     "data": {
      "text/plain": [
       "patient     -1.200000\n",
       "bp_before   -0.438591\n",
       "bp_after    -0.505149\n",
       "dtype: float64"
      ]
     },
     "execution_count": 16,
     "metadata": {},
     "output_type": "execute_result"
    }
   ],
   "source": [
    "df.kurt()"
   ]
  },
  {
   "cell_type": "code",
   "execution_count": 17,
   "id": "799d64e2",
   "metadata": {},
   "outputs": [],
   "source": [
    "df[\"log_bp_before\"] = df[\"bp_before\"].apply(lambda x :np.log(x))"
   ]
  },
  {
   "cell_type": "code",
   "execution_count": 24,
   "id": "b03333e0",
   "metadata": {},
   "outputs": [
    {
     "data": {
      "text/plain": [
       "0.42509374704082126"
      ]
     },
     "execution_count": 24,
     "metadata": {},
     "output_type": "execute_result"
    }
   ],
   "source": [
    "df[\"log_bp_before\"].skew()"
   ]
  },
  {
   "cell_type": "code",
   "execution_count": 28,
   "id": "0e7af751",
   "metadata": {},
   "outputs": [
    {
     "data": {
      "text/plain": [
       "-0.6348197191811011"
      ]
     },
     "execution_count": 28,
     "metadata": {},
     "output_type": "execute_result"
    }
   ],
   "source": [
    "df[\"log_bp_before\"].kurt()"
   ]
  },
  {
   "cell_type": "code",
   "execution_count": null,
   "id": "163d1089",
   "metadata": {},
   "outputs": [],
   "source": [
    " 1) # power transform"
   ]
  },
  {
   "cell_type": "code",
   "execution_count": 21,
   "id": "66ed1d32",
   "metadata": {
    "scrolled": true
   },
   "outputs": [],
   "source": [
    "x = st.yeojohnson(df[\"log_bp_before\"])"
   ]
  },
  {
   "cell_type": "code",
   "execution_count": null,
   "id": "247ac226",
   "metadata": {},
   "outputs": [],
   "source": [
    "x"
   ]
  },
  {
   "cell_type": "code",
   "execution_count": 22,
   "id": "3697128b",
   "metadata": {},
   "outputs": [
    {
     "data": {
      "text/plain": [
       "numpy.ndarray"
      ]
     },
     "execution_count": 22,
     "metadata": {},
     "output_type": "execute_result"
    }
   ],
   "source": [
    "type(x[0])"
   ]
  },
  {
   "cell_type": "code",
   "execution_count": 23,
   "id": "ea35d71e",
   "metadata": {},
   "outputs": [
    {
     "data": {
      "image/png": "[encoded data removed]",
      "text/plain": [
       "<Figure size 432x288 with 1 Axes>"
      ]
     },
     "metadata": {
      "needs_background": "light"
     },
     "output_type": "display_data"
    }
   ],
   "source": [
    "st.probplot(x[0],dist = \"norm\",plot = pylab);"
   ]
  },
  {
   "cell_type": "code",
   "execution_count": null,
   "id": "d1f477a7",
   "metadata": {},
   "outputs": [],
   "source": [
    "2) # boxplot transform"
   ]
  },
  {
   "cell_type": "code",
   "execution_count": 34,
   "id": "3fe7dfbd",
   "metadata": {},
   "outputs": [
    {
     "data": {
      "text/plain": [
       "(array([0.33448307, 0.33448311, 0.33448309, 0.33448309, 0.33448308,\n",
       "        0.33448308, 0.33448308, 0.33448309, 0.33448309, 0.3344831 ,\n",
       "        0.33448308, 0.33448312, 0.33448311, 0.33448307, 0.33448307,\n",
       "        0.33448309, 0.33448306, 0.33448312, 0.33448307, 0.33448311,\n",
       "        0.33448308, 0.3344831 , 0.33448309, 0.3344831 , 0.33448311,\n",
       "        0.33448309, 0.33448309, 0.33448307, 0.33448311, 0.33448309,\n",
       "        0.33448312, 0.33448313, 0.33448311, 0.33448308, 0.33448312,\n",
       "        0.3344831 , 0.33448308, 0.33448306, 0.33448313, 0.3344831 ,\n",
       "        0.3344831 , 0.3344831 , 0.33448311, 0.3344831 , 0.33448313,\n",
       "        0.33448309, 0.33448312, 0.3344831 , 0.33448312, 0.33448312,\n",
       "        0.33448312, 0.33448312, 0.33448312, 0.33448312, 0.33448312,\n",
       "        0.33448311, 0.33448308, 0.33448309, 0.33448312, 0.33448311,\n",
       "        0.33448309, 0.33448308, 0.33448307, 0.33448307, 0.3344831 ,\n",
       "        0.33448308, 0.33448309, 0.33448309, 0.33448308, 0.33448305,\n",
       "        0.33448311, 0.3344831 , 0.33448306, 0.33448311, 0.33448308,\n",
       "        0.33448307, 0.33448307, 0.33448311, 0.33448308, 0.33448307,\n",
       "        0.3344831 , 0.33448312, 0.33448308, 0.33448308, 0.33448311,\n",
       "        0.33448309, 0.33448307, 0.3344831 , 0.33448308, 0.3344831 ,\n",
       "        0.33448307, 0.33448311, 0.33448307, 0.33448307, 0.3344831 ,\n",
       "        0.33448306, 0.33448307, 0.33448307, 0.33448307, 0.33448307,\n",
       "        0.33448311, 0.33448307, 0.33448308, 0.33448308, 0.33448311,\n",
       "        0.33448312, 0.33448312, 0.33448309, 0.33448309, 0.33448311,\n",
       "        0.33448313, 0.3344831 , 0.33448308, 0.33448309, 0.33448311,\n",
       "        0.33448309, 0.3344831 , 0.33448311, 0.33448308, 0.33448313]),\n",
       " -2.9896868809483887)"
      ]
     },
     "execution_count": 34,
     "metadata": {},
     "output_type": "execute_result"
    }
   ],
   "source": [
    "y = st.boxcox(df[\"bp_before\"]);\n",
    "y"
   ]
  },
  {
   "cell_type": "code",
   "execution_count": 35,
   "id": "d4230367",
   "metadata": {},
   "outputs": [
    {
     "data": {
      "image/png": "[encoded data removed]",
      "text/plain": [
       "<Figure size 432x288 with 1 Axes>"
      ]
     },
     "metadata": {
      "needs_background": "light"
     },
     "output_type": "display_data"
    }
   ],
   "source": [
    "st.probplot(y[0],dist = \"norm\",plot = pylab);"
   ]
  },
  {
   "cell_type": "code",
   "execution_count": 38,
   "id": "d841c709",
   "metadata": {},
   "outputs": [
    {
     "data": {
      "text/plain": [
       "0.0"
      ]
     },
     "execution_count": 38,
     "metadata": {},
     "output_type": "execute_result"
    }
   ],
   "source": [
    "pd.Series(y[0]).skew()"
   ]
  },
  {
   "cell_type": "code",
   "execution_count": 39,
   "id": "44f1e9ce",
   "metadata": {},
   "outputs": [
    {
     "data": {
      "text/plain": [
       "0"
      ]
     },
     "execution_count": 39,
     "metadata": {},
     "output_type": "execute_result"
    }
   ],
   "source": [
    "pd.Series(y[0]).kurt()"
   ]
  },
  {
   "cell_type": "code",
   "execution_count": null,
   "id": "709d7957",
   "metadata": {},
   "outputs": [],
   "source": [
    "[bp_after]"
   ]
  },
  {
   "cell_type": "code",
   "execution_count": 40,
   "id": "7275e627",
   "metadata": {},
   "outputs": [
    {
     "data": {
      "image/png": "[encoded data removed]",
      "text/plain": [
       "<Figure size 432x288 with 1 Axes>"
      ]
     },
     "metadata": {
      "needs_background": "light"
     },
     "output_type": "display_data"
    }
   ],
   "source": [
    "st.probplot(df[\"bp_after\"],dist = \"norm\",plot = pylab);"
   ]
  },
  {
   "cell_type": "code",
   "execution_count": 44,
   "id": "c7e6a91c",
   "metadata": {},
   "outputs": [
    {
     "name": "stderr",
     "output_type": "stream",
     "text": [
      "C:\\Users\\GOURAV~1\\AppData\\Local\\Temp/ipykernel_7304/1665899112.py:1: FutureWarning: Dropping of nuisance columns in DataFrame reductions (with 'numeric_only=None') is deprecated; in a future version this will raise TypeError.  Select only valid columns before calling the reduction.\n",
      "  df.skew()\n"
     ]
    },
    {
     "data": {
      "text/plain": [
       "patient          0.000000\n",
       "bp_before        0.554244\n",
       "bp_after         0.393365\n",
       "log_bp_before    0.425094\n",
       "log_bp_after     0.212268\n",
       "dtype: float64"
      ]
     },
     "execution_count": 44,
     "metadata": {},
     "output_type": "execute_result"
    }
   ],
   "source": [
    "df.skew()"
   ]
  },
  {
   "cell_type": "code",
   "execution_count": 45,
   "id": "d1a9799d",
   "metadata": {},
   "outputs": [
    {
     "name": "stderr",
     "output_type": "stream",
     "text": [
      "C:\\Users\\GOURAV~1\\AppData\\Local\\Temp/ipykernel_7304/1257127604.py:1: FutureWarning: Dropping of nuisance columns in DataFrame reductions (with 'numeric_only=None') is deprecated; in a future version this will raise TypeError.  Select only valid columns before calling the reduction.\n",
      "  df.kurt()\n"
     ]
    },
    {
     "data": {
      "text/plain": [
       "patient         -1.200000\n",
       "bp_before       -0.438591\n",
       "bp_after        -0.505149\n",
       "log_bp_before   -0.634820\n",
       "log_bp_after    -0.653783\n",
       "dtype: float64"
      ]
     },
     "execution_count": 45,
     "metadata": {},
     "output_type": "execute_result"
    }
   ],
   "source": [
    "df.kurt()"
   ]
  },
  {
   "cell_type": "code",
   "execution_count": 41,
   "id": "982040b7",
   "metadata": {},
   "outputs": [],
   "source": [
    "df[\"log_bp_after\"] = df[\"bp_after\"].apply(lambda x :np.log(x))"
   ]
  },
  {
   "cell_type": "code",
   "execution_count": 42,
   "id": "bbc748ed",
   "metadata": {},
   "outputs": [
    {
     "data": {
      "text/plain": [
       "0.21226788247970108"
      ]
     },
     "execution_count": 42,
     "metadata": {},
     "output_type": "execute_result"
    }
   ],
   "source": [
    "df[\"log_bp_after\"].skew()"
   ]
  },
  {
   "cell_type": "code",
   "execution_count": 43,
   "id": "4513949a",
   "metadata": {},
   "outputs": [
    {
     "data": {
      "text/plain": [
       "-0.6537826422557491"
      ]
     },
     "execution_count": 43,
     "metadata": {},
     "output_type": "execute_result"
    }
   ],
   "source": [
    "df[\"log_bp_after\"].kurt()"
   ]
  },
  {
   "cell_type": "code",
   "execution_count": 51,
   "id": "1feef0af",
   "metadata": {},
   "outputs": [],
   "source": [
    "a = st.yeojohnson(df[\"log_bp_after\"]);"
   ]
  },
  {
   "cell_type": "code",
   "execution_count": 54,
   "id": "7e5cb07a",
   "metadata": {},
   "outputs": [
    {
     "data": {
      "text/plain": [
       "array([0.18273521, 0.1827361 , 0.182736  , 0.18273452, 0.18273445,\n",
       "       0.18273485, 0.18273386, 0.18273445, 0.1827337 , 0.1827332 ,\n",
       "       0.18273581, 0.18273554, 0.18273402, 0.18273554, 0.18273521,\n",
       "       0.18273329, 0.1827357 , 0.18273394, 0.18273409, 0.18273503,\n",
       "       0.182736  , 0.18273532, 0.18273409, 0.18273378, 0.1827356 ,\n",
       "       0.1827356 , 0.18273409, 0.18273666, 0.18273515, 0.1827357 ,\n",
       "       0.18273509, 0.18273431, 0.18273632, 0.1827367 , 0.18273509,\n",
       "       0.18273614, 0.18273544, 0.18273554, 0.18273438, 0.18273628,\n",
       "       0.18273595, 0.18273549, 0.182736  , 0.18273554, 0.18273521,\n",
       "       0.18273581, 0.18273605, 0.18273491, 0.18273674, 0.18273575,\n",
       "       0.18273478, 0.1827356 , 0.18273632, 0.18273575, 0.18273674,\n",
       "       0.18273478, 0.18273637, 0.18273485, 0.18273565, 0.18273581,\n",
       "       0.18273497, 0.18273452, 0.18273478, 0.18273424, 0.1827337 ,\n",
       "       0.18273472, 0.18273394, 0.18273402, 0.1827337 , 0.18273402,\n",
       "       0.18273386, 0.18273402, 0.182736  , 0.18273465, 0.18273485,\n",
       "       0.18273509, 0.18273497, 0.18273485, 0.18273497, 0.18273402,\n",
       "       0.18273337, 0.18273503, 0.18273424, 0.18273485, 0.18273544,\n",
       "       0.18273478, 0.18273491, 0.18273409, 0.18273478, 0.18273378,\n",
       "       0.18273472, 0.18273378, 0.18273544, 0.18273438, 0.18273417,\n",
       "       0.18273527, 0.18273605, 0.18273472, 0.18273417, 0.18273459,\n",
       "       0.18273645, 0.18273445, 0.18273497, 0.18273491, 0.18273424,\n",
       "       0.18273459, 0.18273595, 0.18273549, 0.18273515, 0.18273527,\n",
       "       0.18273565, 0.18273459, 0.18273554, 0.18273641, 0.18273452,\n",
       "       0.18273515, 0.18273515, 0.18273628, 0.18273509, 0.18273575])"
      ]
     },
     "execution_count": 54,
     "metadata": {},
     "output_type": "execute_result"
    }
   ],
   "source": [
    "a[0]"
   ]
  },
  {
   "cell_type": "code",
   "execution_count": 55,
   "id": "44e42b41",
   "metadata": {},
   "outputs": [
    {
     "data": {
      "image/png": "[encoded data removed]",
      "text/plain": [
       "<Figure size 432x288 with 1 Axes>"
      ]
     },
     "metadata": {
      "needs_background": "light"
     },
     "output_type": "display_data"
    }
   ],
   "source": [
    "st.probplot(a[0],dist = \"norm\",plot = pylab);"
   ]
  },
  {
   "cell_type": "code",
   "execution_count": 59,
   "id": "846385fa",
   "metadata": {},
   "outputs": [
    {
     "data": {
      "text/plain": [
       "(array([0.94262409, 0.94311673, 0.94306409, 0.94224056, 0.94220264,\n",
       "        0.9424222 , 0.94187817, 0.94220264, 0.94179068, 0.94151093,\n",
       "        0.94295484, 0.94281033, 0.94196299, 0.94281033, 0.94262409,\n",
       "        0.94155946, 0.94289813, 0.94192091, 0.94200444, 0.94252522,\n",
       "        0.94306409, 0.94268781, 0.94200444, 0.94183477, 0.94283997,\n",
       "        0.94283997, 0.94200444, 0.94343012, 0.94259158, 0.94289813,\n",
       "        0.94255863, 0.94212512, 0.94324293, 0.94345235, 0.94255863,\n",
       "        0.94314258, 0.94274987, 0.94281033, 0.94216416, 0.94321829,\n",
       "        0.94303728, 0.9427803 , 0.94306409, 0.94281033, 0.94262409,\n",
       "        0.94295484, 0.94309057, 0.94245702, 0.94347432, 0.94292667,\n",
       "        0.9423869 , 0.94283997, 0.94324293, 0.94292667, 0.94347432,\n",
       "        0.9423869 , 0.94326729, 0.9424222 , 0.94286924, 0.94295484,\n",
       "        0.94249136, 0.94224056, 0.9423869 , 0.94208549, 0.94179068,\n",
       "        0.94235109, 0.94192091, 0.94196299, 0.94179068, 0.94196299,\n",
       "        0.94187817, 0.94196299, 0.94306409, 0.94231477, 0.9424222 ,\n",
       "        0.94255863, 0.94249136, 0.9424222 , 0.94249136, 0.94196299,\n",
       "        0.9416072 , 0.94252522, 0.94208549, 0.9424222 , 0.94274987,\n",
       "        0.9423869 , 0.94245702, 0.94200444, 0.9423869 , 0.94183477,\n",
       "        0.94235109, 0.94183477, 0.94274987, 0.94216416, 0.94204527,\n",
       "        0.94265616, 0.94309057, 0.94235109, 0.94204527, 0.94227793,\n",
       "        0.94331515, 0.94220264, 0.94249136, 0.94245702, 0.94208549,\n",
       "        0.94227793, 0.94303728, 0.9427803 , 0.94259158, 0.94265616,\n",
       "        0.94286924, 0.94227793, 0.94281033, 0.94329136, 0.94224056,\n",
       "        0.94259158, 0.94259158, 0.94321829, 0.94255863, 0.94292667]),\n",
       " -1.0556269456857132)"
      ]
     },
     "execution_count": 59,
     "metadata": {},
     "output_type": "execute_result"
    }
   ],
   "source": [
    "a = st.boxcox(df[\"bp_after\"]);\n",
    "a"
   ]
  },
  {
   "cell_type": "code",
   "execution_count": 60,
   "id": "592eaecd",
   "metadata": {},
   "outputs": [
    {
     "data": {
      "text/plain": [
       "0.02443241091366623"
      ]
     },
     "execution_count": 60,
     "metadata": {},
     "output_type": "execute_result"
    }
   ],
   "source": [
    "pd.Series(a[0]).skew()"
   ]
  },
  {
   "cell_type": "code",
   "execution_count": 61,
   "id": "86749c80",
   "metadata": {},
   "outputs": [
    {
     "data": {
      "text/plain": [
       "-0.7172309848047225"
      ]
     },
     "execution_count": 61,
     "metadata": {},
     "output_type": "execute_result"
    }
   ],
   "source": [
    "pd.Series(a[0]).kurt()"
   ]
  },
  {
   "cell_type": "code",
   "execution_count": null,
   "id": "53e7d73a",
   "metadata": {},
   "outputs": [],
   "source": [
    "# chebshev inequality\n",
    "# aplly when we don't have idea about distribution"
   ]
  },
  {
   "cell_type": "code",
   "execution_count": null,
   "id": "834873be",
   "metadata": {},
   "outputs": [],
   "source": [
    "co-variance & co-relation\n",
    "uses to check the relation ship bettwen two columns how these\n",
    "two cols are relation"
   ]
  },
  {
   "cell_type": "code",
   "execution_count": null,
   "id": "e6f97a61",
   "metadata": {},
   "outputs": [],
   "source": [
    "co-relation scale:- -1 to +1\n",
    "    [direction ]"
   ]
  },
  {
   "cell_type": "code",
   "execution_count": null,
   "id": "4e80da64",
   "metadata": {},
   "outputs": [],
   "source": [
    "co-variance formula\n",
    "co-relation formula\n",
    "correlation"
   ]
  },
  {
   "cell_type": "code",
   "execution_count": null,
   "id": "1e941da1",
   "metadata": {},
   "outputs": [],
   "source": [
    "14-07-2022\n",
    "thursday"
   ]
  },
  {
   "cell_type": "code",
   "execution_count": null,
   "id": "7e991675",
   "metadata": {},
   "outputs": [],
   "source": [
    "#corelation "
   ]
  },
  {
   "cell_type": "code",
   "execution_count": 20,
   "id": "13877292",
   "metadata": {},
   "outputs": [
    {
     "data": {
      "text/html": [
       "<div>\n",
       "<style scoped>\n",
       "    .dataframe tbody tr th:only-of-type {\n",
       "        vertical-align: middle;\n",
       "    }\n",
       "\n",
       "    .dataframe tbody tr th {\n",
       "        vertical-align: top;\n",
       "    }\n",
       "\n",
       "    .dataframe thead th {\n",
       "        text-align: right;\n",
       "    }\n",
       "</style>\n",
       "<table border=\"1\" class=\"dataframe\">\n",
       "  <thead>\n",
       "    <tr style=\"text-align: right;\">\n",
       "      <th></th>\n",
       "      <th>patient</th>\n",
       "      <th>bp_before</th>\n",
       "      <th>bp_after</th>\n",
       "    </tr>\n",
       "  </thead>\n",
       "  <tbody>\n",
       "    <tr>\n",
       "      <th>patient</th>\n",
       "      <td>1.000000</td>\n",
       "      <td>-0.024222</td>\n",
       "      <td>-0.042658</td>\n",
       "    </tr>\n",
       "    <tr>\n",
       "      <th>bp_before</th>\n",
       "      <td>-0.024222</td>\n",
       "      <td>1.000000</td>\n",
       "      <td>0.159118</td>\n",
       "    </tr>\n",
       "    <tr>\n",
       "      <th>bp_after</th>\n",
       "      <td>-0.042658</td>\n",
       "      <td>0.159118</td>\n",
       "      <td>1.000000</td>\n",
       "    </tr>\n",
       "  </tbody>\n",
       "</table>\n",
       "</div>"
      ],
      "text/plain": [
       "            patient  bp_before  bp_after\n",
       "patient    1.000000  -0.024222 -0.042658\n",
       "bp_before -0.024222   1.000000  0.159118\n",
       "bp_after  -0.042658   0.159118  1.000000"
      ]
     },
     "execution_count": 20,
     "metadata": {},
     "output_type": "execute_result"
    }
   ],
   "source": [
    "df.corr()"
   ]
  },
  {
   "cell_type": "code",
   "execution_count": 21,
   "id": "cf7c167f",
   "metadata": {},
   "outputs": [
    {
     "data": {
      "text/plain": [
       "<AxesSubplot:>"
      ]
     },
     "execution_count": 21,
     "metadata": {},
     "output_type": "execute_result"
    },
    {
     "data": {
      "image/png": "[encoded data removed]",
      "text/plain": [
       "<Figure size 432x288 with 2 Axes>"
      ]
     },
     "metadata": {
      "needs_background": "light"
     },
     "output_type": "display_data"
    }
   ],
   "source": [
    "sns.heatmap(df.corr(),annot = True)"
   ]
  },
  {
   "cell_type": "code",
   "execution_count": 23,
   "id": "3e48d841",
   "metadata": {},
   "outputs": [
    {
     "data": {
      "text/html": [
       "<div>\n",
       "<style scoped>\n",
       "    .dataframe tbody tr th:only-of-type {\n",
       "        vertical-align: middle;\n",
       "    }\n",
       "\n",
       "    .dataframe tbody tr th {\n",
       "        vertical-align: top;\n",
       "    }\n",
       "\n",
       "    .dataframe thead th {\n",
       "        text-align: right;\n",
       "    }\n",
       "</style>\n",
       "<table border=\"1\" class=\"dataframe\">\n",
       "  <thead>\n",
       "    <tr style=\"text-align: right;\">\n",
       "      <th></th>\n",
       "      <th>survived</th>\n",
       "      <th>pclass</th>\n",
       "      <th>sex</th>\n",
       "      <th>age</th>\n",
       "      <th>sibsp</th>\n",
       "      <th>parch</th>\n",
       "      <th>fare</th>\n",
       "      <th>embarked</th>\n",
       "      <th>class</th>\n",
       "      <th>who</th>\n",
       "      <th>adult_male</th>\n",
       "      <th>deck</th>\n",
       "      <th>embark_town</th>\n",
       "      <th>alive</th>\n",
       "      <th>alone</th>\n",
       "    </tr>\n",
       "  </thead>\n",
       "  <tbody>\n",
       "    <tr>\n",
       "      <th>0</th>\n",
       "      <td>0</td>\n",
       "      <td>3</td>\n",
       "      <td>male</td>\n",
       "      <td>22.0</td>\n",
       "      <td>1</td>\n",
       "      <td>0</td>\n",
       "      <td>7.2500</td>\n",
       "      <td>S</td>\n",
       "      <td>Third</td>\n",
       "      <td>man</td>\n",
       "      <td>True</td>\n",
       "      <td>NaN</td>\n",
       "      <td>Southampton</td>\n",
       "      <td>no</td>\n",
       "      <td>False</td>\n",
       "    </tr>\n",
       "    <tr>\n",
       "      <th>1</th>\n",
       "      <td>1</td>\n",
       "      <td>1</td>\n",
       "      <td>female</td>\n",
       "      <td>38.0</td>\n",
       "      <td>1</td>\n",
       "      <td>0</td>\n",
       "      <td>71.2833</td>\n",
       "      <td>C</td>\n",
       "      <td>First</td>\n",
       "      <td>woman</td>\n",
       "      <td>False</td>\n",
       "      <td>C</td>\n",
       "      <td>Cherbourg</td>\n",
       "      <td>yes</td>\n",
       "      <td>False</td>\n",
       "    </tr>\n",
       "    <tr>\n",
       "      <th>2</th>\n",
       "      <td>1</td>\n",
       "      <td>3</td>\n",
       "      <td>female</td>\n",
       "      <td>26.0</td>\n",
       "      <td>0</td>\n",
       "      <td>0</td>\n",
       "      <td>7.9250</td>\n",
       "      <td>S</td>\n",
       "      <td>Third</td>\n",
       "      <td>woman</td>\n",
       "      <td>False</td>\n",
       "      <td>NaN</td>\n",
       "      <td>Southampton</td>\n",
       "      <td>yes</td>\n",
       "      <td>True</td>\n",
       "    </tr>\n",
       "    <tr>\n",
       "      <th>3</th>\n",
       "      <td>1</td>\n",
       "      <td>1</td>\n",
       "      <td>female</td>\n",
       "      <td>35.0</td>\n",
       "      <td>1</td>\n",
       "      <td>0</td>\n",
       "      <td>53.1000</td>\n",
       "      <td>S</td>\n",
       "      <td>First</td>\n",
       "      <td>woman</td>\n",
       "      <td>False</td>\n",
       "      <td>C</td>\n",
       "      <td>Southampton</td>\n",
       "      <td>yes</td>\n",
       "      <td>False</td>\n",
       "    </tr>\n",
       "    <tr>\n",
       "      <th>4</th>\n",
       "      <td>0</td>\n",
       "      <td>3</td>\n",
       "      <td>male</td>\n",
       "      <td>35.0</td>\n",
       "      <td>0</td>\n",
       "      <td>0</td>\n",
       "      <td>8.0500</td>\n",
       "      <td>S</td>\n",
       "      <td>Third</td>\n",
       "      <td>man</td>\n",
       "      <td>True</td>\n",
       "      <td>NaN</td>\n",
       "      <td>Southampton</td>\n",
       "      <td>no</td>\n",
       "      <td>True</td>\n",
       "    </tr>\n",
       "    <tr>\n",
       "      <th>...</th>\n",
       "      <td>...</td>\n",
       "      <td>...</td>\n",
       "      <td>...</td>\n",
       "      <td>...</td>\n",
       "      <td>...</td>\n",
       "      <td>...</td>\n",
       "      <td>...</td>\n",
       "      <td>...</td>\n",
       "      <td>...</td>\n",
       "      <td>...</td>\n",
       "      <td>...</td>\n",
       "      <td>...</td>\n",
       "      <td>...</td>\n",
       "      <td>...</td>\n",
       "      <td>...</td>\n",
       "    </tr>\n",
       "    <tr>\n",
       "      <th>886</th>\n",
       "      <td>0</td>\n",
       "      <td>2</td>\n",
       "      <td>male</td>\n",
       "      <td>27.0</td>\n",
       "      <td>0</td>\n",
       "      <td>0</td>\n",
       "      <td>13.0000</td>\n",
       "      <td>S</td>\n",
       "      <td>Second</td>\n",
       "      <td>man</td>\n",
       "      <td>True</td>\n",
       "      <td>NaN</td>\n",
       "      <td>Southampton</td>\n",
       "      <td>no</td>\n",
       "      <td>True</td>\n",
       "    </tr>\n",
       "    <tr>\n",
       "      <th>887</th>\n",
       "      <td>1</td>\n",
       "      <td>1</td>\n",
       "      <td>female</td>\n",
       "      <td>19.0</td>\n",
       "      <td>0</td>\n",
       "      <td>0</td>\n",
       "      <td>30.0000</td>\n",
       "      <td>S</td>\n",
       "      <td>First</td>\n",
       "      <td>woman</td>\n",
       "      <td>False</td>\n",
       "      <td>B</td>\n",
       "      <td>Southampton</td>\n",
       "      <td>yes</td>\n",
       "      <td>True</td>\n",
       "    </tr>\n",
       "    <tr>\n",
       "      <th>888</th>\n",
       "      <td>0</td>\n",
       "      <td>3</td>\n",
       "      <td>female</td>\n",
       "      <td>NaN</td>\n",
       "      <td>1</td>\n",
       "      <td>2</td>\n",
       "      <td>23.4500</td>\n",
       "      <td>S</td>\n",
       "      <td>Third</td>\n",
       "      <td>woman</td>\n",
       "      <td>False</td>\n",
       "      <td>NaN</td>\n",
       "      <td>Southampton</td>\n",
       "      <td>no</td>\n",
       "      <td>False</td>\n",
       "    </tr>\n",
       "    <tr>\n",
       "      <th>889</th>\n",
       "      <td>1</td>\n",
       "      <td>1</td>\n",
       "      <td>male</td>\n",
       "      <td>26.0</td>\n",
       "      <td>0</td>\n",
       "      <td>0</td>\n",
       "      <td>30.0000</td>\n",
       "      <td>C</td>\n",
       "      <td>First</td>\n",
       "      <td>man</td>\n",
       "      <td>True</td>\n",
       "      <td>C</td>\n",
       "      <td>Cherbourg</td>\n",
       "      <td>yes</td>\n",
       "      <td>True</td>\n",
       "    </tr>\n",
       "    <tr>\n",
       "      <th>890</th>\n",
       "      <td>0</td>\n",
       "      <td>3</td>\n",
       "      <td>male</td>\n",
       "      <td>32.0</td>\n",
       "      <td>0</td>\n",
       "      <td>0</td>\n",
       "      <td>7.7500</td>\n",
       "      <td>Q</td>\n",
       "      <td>Third</td>\n",
       "      <td>man</td>\n",
       "      <td>True</td>\n",
       "      <td>NaN</td>\n",
       "      <td>Queenstown</td>\n",
       "      <td>no</td>\n",
       "      <td>True</td>\n",
       "    </tr>\n",
       "  </tbody>\n",
       "</table>\n",
       "<p>891 rows × 15 columns</p>\n",
       "</div>"
      ],
      "text/plain": [
       "     survived  pclass     sex   age  sibsp  parch     fare embarked   class  \\\n",
       "0           0       3    male  22.0      1      0   7.2500        S   Third   \n",
       "1           1       1  female  38.0      1      0  71.2833        C   First   \n",
       "2           1       3  female  26.0      0      0   7.9250        S   Third   \n",
       "3           1       1  female  35.0      1      0  53.1000        S   First   \n",
       "4           0       3    male  35.0      0      0   8.0500        S   Third   \n",
       "..        ...     ...     ...   ...    ...    ...      ...      ...     ...   \n",
       "886         0       2    male  27.0      0      0  13.0000        S  Second   \n",
       "887         1       1  female  19.0      0      0  30.0000        S   First   \n",
       "888         0       3  female   NaN      1      2  23.4500        S   Third   \n",
       "889         1       1    male  26.0      0      0  30.0000        C   First   \n",
       "890         0       3    male  32.0      0      0   7.7500        Q   Third   \n",
       "\n",
       "       who  adult_male deck  embark_town alive  alone  \n",
       "0      man        True  NaN  Southampton    no  False  \n",
       "1    woman       False    C    Cherbourg   yes  False  \n",
       "2    woman       False  NaN  Southampton   yes   True  \n",
       "3    woman       False    C  Southampton   yes  False  \n",
       "4      man        True  NaN  Southampton    no   True  \n",
       "..     ...         ...  ...          ...   ...    ...  \n",
       "886    man        True  NaN  Southampton    no   True  \n",
       "887  woman       False    B  Southampton   yes   True  \n",
       "888  woman       False  NaN  Southampton    no  False  \n",
       "889    man        True    C    Cherbourg   yes   True  \n",
       "890    man        True  NaN   Queenstown    no   True  \n",
       "\n",
       "[891 rows x 15 columns]"
      ]
     },
     "execution_count": 23,
     "metadata": {},
     "output_type": "execute_result"
    }
   ],
   "source": [
    "df1 = sns.load_dataset(\"titanic\")\n",
    "df1"
   ]
  },
  {
   "cell_type": "code",
   "execution_count": 24,
   "id": "4dcb159b",
   "metadata": {},
   "outputs": [
    {
     "data": {
      "text/html": [
       "<div>\n",
       "<style scoped>\n",
       "    .dataframe tbody tr th:only-of-type {\n",
       "        vertical-align: middle;\n",
       "    }\n",
       "\n",
       "    .dataframe tbody tr th {\n",
       "        vertical-align: top;\n",
       "    }\n",
       "\n",
       "    .dataframe thead th {\n",
       "        text-align: right;\n",
       "    }\n",
       "</style>\n",
       "<table border=\"1\" class=\"dataframe\">\n",
       "  <thead>\n",
       "    <tr style=\"text-align: right;\">\n",
       "      <th></th>\n",
       "      <th>survived</th>\n",
       "      <th>pclass</th>\n",
       "      <th>age</th>\n",
       "      <th>sibsp</th>\n",
       "      <th>parch</th>\n",
       "      <th>fare</th>\n",
       "      <th>adult_male</th>\n",
       "      <th>alone</th>\n",
       "    </tr>\n",
       "  </thead>\n",
       "  <tbody>\n",
       "    <tr>\n",
       "      <th>survived</th>\n",
       "      <td>1.000000</td>\n",
       "      <td>-0.338481</td>\n",
       "      <td>-0.077221</td>\n",
       "      <td>-0.035322</td>\n",
       "      <td>0.081629</td>\n",
       "      <td>0.257307</td>\n",
       "      <td>-0.557080</td>\n",
       "      <td>-0.203367</td>\n",
       "    </tr>\n",
       "    <tr>\n",
       "      <th>pclass</th>\n",
       "      <td>-0.338481</td>\n",
       "      <td>1.000000</td>\n",
       "      <td>-0.369226</td>\n",
       "      <td>0.083081</td>\n",
       "      <td>0.018443</td>\n",
       "      <td>-0.549500</td>\n",
       "      <td>0.094035</td>\n",
       "      <td>0.135207</td>\n",
       "    </tr>\n",
       "    <tr>\n",
       "      <th>age</th>\n",
       "      <td>-0.077221</td>\n",
       "      <td>-0.369226</td>\n",
       "      <td>1.000000</td>\n",
       "      <td>-0.308247</td>\n",
       "      <td>-0.189119</td>\n",
       "      <td>0.096067</td>\n",
       "      <td>0.280328</td>\n",
       "      <td>0.198270</td>\n",
       "    </tr>\n",
       "    <tr>\n",
       "      <th>sibsp</th>\n",
       "      <td>-0.035322</td>\n",
       "      <td>0.083081</td>\n",
       "      <td>-0.308247</td>\n",
       "      <td>1.000000</td>\n",
       "      <td>0.414838</td>\n",
       "      <td>0.159651</td>\n",
       "      <td>-0.253586</td>\n",
       "      <td>-0.584471</td>\n",
       "    </tr>\n",
       "    <tr>\n",
       "      <th>parch</th>\n",
       "      <td>0.081629</td>\n",
       "      <td>0.018443</td>\n",
       "      <td>-0.189119</td>\n",
       "      <td>0.414838</td>\n",
       "      <td>1.000000</td>\n",
       "      <td>0.216225</td>\n",
       "      <td>-0.349943</td>\n",
       "      <td>-0.583398</td>\n",
       "    </tr>\n",
       "    <tr>\n",
       "      <th>fare</th>\n",
       "      <td>0.257307</td>\n",
       "      <td>-0.549500</td>\n",
       "      <td>0.096067</td>\n",
       "      <td>0.159651</td>\n",
       "      <td>0.216225</td>\n",
       "      <td>1.000000</td>\n",
       "      <td>-0.182024</td>\n",
       "      <td>-0.271832</td>\n",
       "    </tr>\n",
       "    <tr>\n",
       "      <th>adult_male</th>\n",
       "      <td>-0.557080</td>\n",
       "      <td>0.094035</td>\n",
       "      <td>0.280328</td>\n",
       "      <td>-0.253586</td>\n",
       "      <td>-0.349943</td>\n",
       "      <td>-0.182024</td>\n",
       "      <td>1.000000</td>\n",
       "      <td>0.404744</td>\n",
       "    </tr>\n",
       "    <tr>\n",
       "      <th>alone</th>\n",
       "      <td>-0.203367</td>\n",
       "      <td>0.135207</td>\n",
       "      <td>0.198270</td>\n",
       "      <td>-0.584471</td>\n",
       "      <td>-0.583398</td>\n",
       "      <td>-0.271832</td>\n",
       "      <td>0.404744</td>\n",
       "      <td>1.000000</td>\n",
       "    </tr>\n",
       "  </tbody>\n",
       "</table>\n",
       "</div>"
      ],
      "text/plain": [
       "            survived    pclass       age     sibsp     parch      fare  \\\n",
       "survived    1.000000 -0.338481 -0.077221 -0.035322  0.081629  0.257307   \n",
       "pclass     -0.338481  1.000000 -0.369226  0.083081  0.018443 -0.549500   \n",
       "age        -0.077221 -0.369226  1.000000 -0.308247 -0.189119  0.096067   \n",
       "sibsp      -0.035322  0.083081 -0.308247  1.000000  0.414838  0.159651   \n",
       "parch       0.081629  0.018443 -0.189119  0.414838  1.000000  0.216225   \n",
       "fare        0.257307 -0.549500  0.096067  0.159651  0.216225  1.000000   \n",
       "adult_male -0.557080  0.094035  0.280328 -0.253586 -0.349943 -0.182024   \n",
       "alone      -0.203367  0.135207  0.198270 -0.584471 -0.583398 -0.271832   \n",
       "\n",
       "            adult_male     alone  \n",
       "survived     -0.557080 -0.203367  \n",
       "pclass        0.094035  0.135207  \n",
       "age           0.280328  0.198270  \n",
       "sibsp        -0.253586 -0.584471  \n",
       "parch        -0.349943 -0.583398  \n",
       "fare         -0.182024 -0.271832  \n",
       "adult_male    1.000000  0.404744  \n",
       "alone         0.404744  1.000000  "
      ]
     },
     "execution_count": 24,
     "metadata": {},
     "output_type": "execute_result"
    }
   ],
   "source": [
    "df1.corr()"
   ]
  },
  {
   "cell_type": "code",
   "execution_count": null,
   "id": "ac8de97b",
   "metadata": {},
   "outputs": [],
   "source": [
    "Z - test :- to compare is\n",
    "    \n",
    "conditions:- \n",
    "    1)n>30[samplesize>30]\n",
    "    2)population var&pop mean know\n",
    "    3)sample mean known\n",
    "    4)normality of distribution"
   ]
  },
  {
   "cell_type": "code",
   "execution_count": null,
   "id": "7b9412f7",
   "metadata": {},
   "outputs": [],
   "source": [
    "Alternate Hypothesis"
   ]
  },
  {
   "cell_type": "markdown",
   "id": "51373dd3",
   "metadata": {},
   "source": [
    "# p-value"
   ]
  },
  {
   "cell_type": "code",
   "execution_count": null,
   "id": "f31b65f6",
   "metadata": {},
   "outputs": [],
   "source": [
    "u =500\n",
    "n =100\n",
    "x =490\n",
    "s =30\n",
    "s.l=0.05"
   ]
  },
  {
   "cell_type": "code",
   "execution_count": 1,
   "id": "50c33f7c",
   "metadata": {},
   "outputs": [
    {
     "data": {
      "text/plain": [
       "473.3333333333333"
      ]
     },
     "execution_count": 1,
     "metadata": {},
     "output_type": "execute_result"
    }
   ],
   "source": [
    "490-500/30"
   ]
  },
  {
   "cell_type": "code",
   "execution_count": 2,
   "id": "57cb4687",
   "metadata": {},
   "outputs": [
    {
     "data": {
      "text/plain": [
       "1.99957"
      ]
     },
     "execution_count": 2,
     "metadata": {},
     "output_type": "execute_result"
    }
   ],
   "source": [
    "2*1-0.00043"
   ]
  },
  {
   "cell_type": "markdown",
   "id": "70f8c432",
   "metadata": {},
   "source": [
    "# z-test\n",
    "20-07-2022"
   ]
  },
  {
   "cell_type": "code",
   "execution_count": 1,
   "id": "55fd5580",
   "metadata": {},
   "outputs": [],
   "source": [
    "import numpy as np\n",
    "import pandas as pd\n",
    "import scipy.stats as st\n",
    "from statsmodels.stats.weightstats import ztest as zt"
   ]
  },
  {
   "cell_type": "code",
   "execution_count": 5,
   "id": "5bf10450",
   "metadata": {},
   "outputs": [
    {
     "data": {
      "text/html": [
       "<div>\n",
       "<style scoped>\n",
       "    .dataframe tbody tr th:only-of-type {\n",
       "        vertical-align: middle;\n",
       "    }\n",
       "\n",
       "    .dataframe tbody tr th {\n",
       "        vertical-align: top;\n",
       "    }\n",
       "\n",
       "    .dataframe thead th {\n",
       "        text-align: right;\n",
       "    }\n",
       "</style>\n",
       "<table border=\"1\" class=\"dataframe\">\n",
       "  <thead>\n",
       "    <tr style=\"text-align: right;\">\n",
       "      <th></th>\n",
       "      <th>patient</th>\n",
       "      <th>sex</th>\n",
       "      <th>agegrp</th>\n",
       "      <th>bp_before</th>\n",
       "      <th>bp_after</th>\n",
       "    </tr>\n",
       "  </thead>\n",
       "  <tbody>\n",
       "    <tr>\n",
       "      <th>0</th>\n",
       "      <td>1</td>\n",
       "      <td>Male</td>\n",
       "      <td>30-45</td>\n",
       "      <td>143</td>\n",
       "      <td>153</td>\n",
       "    </tr>\n",
       "    <tr>\n",
       "      <th>1</th>\n",
       "      <td>2</td>\n",
       "      <td>Male</td>\n",
       "      <td>30-45</td>\n",
       "      <td>163</td>\n",
       "      <td>170</td>\n",
       "    </tr>\n",
       "    <tr>\n",
       "      <th>2</th>\n",
       "      <td>3</td>\n",
       "      <td>Male</td>\n",
       "      <td>30-45</td>\n",
       "      <td>153</td>\n",
       "      <td>168</td>\n",
       "    </tr>\n",
       "    <tr>\n",
       "      <th>3</th>\n",
       "      <td>4</td>\n",
       "      <td>Male</td>\n",
       "      <td>30-45</td>\n",
       "      <td>153</td>\n",
       "      <td>142</td>\n",
       "    </tr>\n",
       "    <tr>\n",
       "      <th>4</th>\n",
       "      <td>5</td>\n",
       "      <td>Male</td>\n",
       "      <td>30-45</td>\n",
       "      <td>146</td>\n",
       "      <td>141</td>\n",
       "    </tr>\n",
       "    <tr>\n",
       "      <th>...</th>\n",
       "      <td>...</td>\n",
       "      <td>...</td>\n",
       "      <td>...</td>\n",
       "      <td>...</td>\n",
       "      <td>...</td>\n",
       "    </tr>\n",
       "    <tr>\n",
       "      <th>115</th>\n",
       "      <td>116</td>\n",
       "      <td>Female</td>\n",
       "      <td>60+</td>\n",
       "      <td>152</td>\n",
       "      <td>152</td>\n",
       "    </tr>\n",
       "    <tr>\n",
       "      <th>116</th>\n",
       "      <td>117</td>\n",
       "      <td>Female</td>\n",
       "      <td>60+</td>\n",
       "      <td>161</td>\n",
       "      <td>152</td>\n",
       "    </tr>\n",
       "    <tr>\n",
       "      <th>117</th>\n",
       "      <td>118</td>\n",
       "      <td>Female</td>\n",
       "      <td>60+</td>\n",
       "      <td>165</td>\n",
       "      <td>174</td>\n",
       "    </tr>\n",
       "    <tr>\n",
       "      <th>118</th>\n",
       "      <td>119</td>\n",
       "      <td>Female</td>\n",
       "      <td>60+</td>\n",
       "      <td>149</td>\n",
       "      <td>151</td>\n",
       "    </tr>\n",
       "    <tr>\n",
       "      <th>119</th>\n",
       "      <td>120</td>\n",
       "      <td>Female</td>\n",
       "      <td>60+</td>\n",
       "      <td>185</td>\n",
       "      <td>163</td>\n",
       "    </tr>\n",
       "  </tbody>\n",
       "</table>\n",
       "<p>120 rows × 5 columns</p>\n",
       "</div>"
      ],
      "text/plain": [
       "     patient     sex agegrp  bp_before  bp_after\n",
       "0          1    Male  30-45        143       153\n",
       "1          2    Male  30-45        163       170\n",
       "2          3    Male  30-45        153       168\n",
       "3          4    Male  30-45        153       142\n",
       "4          5    Male  30-45        146       141\n",
       "..       ...     ...    ...        ...       ...\n",
       "115      116  Female    60+        152       152\n",
       "116      117  Female    60+        161       152\n",
       "117      118  Female    60+        165       174\n",
       "118      119  Female    60+        149       151\n",
       "119      120  Female    60+        185       163\n",
       "\n",
       "[120 rows x 5 columns]"
      ]
     },
     "execution_count": 5,
     "metadata": {},
     "output_type": "execute_result"
    }
   ],
   "source": [
    "df = pd.read_csv(\"C:\\\\Users\\\\GOURAV NEGI\\\\madrid\\\\stats\\\\bloodpressure (1).csv\")\n",
    "df"
   ]
  },
  {
   "cell_type": "code",
   "execution_count": null,
   "id": "5e7d86f6",
   "metadata": {},
   "outputs": [],
   "source": []
  },
  {
   "cell_type": "code",
   "execution_count": 6,
   "id": "ca75a062",
   "metadata": {},
   "outputs": [],
   "source": [
    "pop_mean = df[\"bp_before\"].mean()"
   ]
  },
  {
   "cell_type": "code",
   "execution_count": 7,
   "id": "985320fa",
   "metadata": {},
   "outputs": [
    {
     "data": {
      "text/plain": [
       "156.45"
      ]
     },
     "execution_count": 7,
     "metadata": {},
     "output_type": "execute_result"
    }
   ],
   "source": [
    "pop_mean"
   ]
  },
  {
   "cell_type": "code",
   "execution_count": 8,
   "id": "23aede6d",
   "metadata": {},
   "outputs": [],
   "source": [
    "x = df[\"bp_before\"][0:40]"
   ]
  },
  {
   "cell_type": "code",
   "execution_count": 9,
   "id": "a5d0a0f1",
   "metadata": {},
   "outputs": [
    {
     "data": {
      "text/plain": [
       "40"
      ]
     },
     "execution_count": 9,
     "metadata": {},
     "output_type": "execute_result"
    }
   ],
   "source": [
    "len(x)"
   ]
  },
  {
   "cell_type": "code",
   "execution_count": 10,
   "id": "b5fdc518",
   "metadata": {},
   "outputs": [],
   "source": [
    "x_bar = x.mean()"
   ]
  },
  {
   "cell_type": "code",
   "execution_count": 11,
   "id": "e012c503",
   "metadata": {},
   "outputs": [
    {
     "data": {
      "text/plain": [
       "156.25"
      ]
     },
     "execution_count": 11,
     "metadata": {},
     "output_type": "execute_result"
    }
   ],
   "source": [
    "x_bar"
   ]
  },
  {
   "cell_type": "code",
   "execution_count": 12,
   "id": "f084ac8b",
   "metadata": {},
   "outputs": [
    {
     "data": {
      "text/plain": [
       "11.443842818806035"
      ]
     },
     "execution_count": 12,
     "metadata": {},
     "output_type": "execute_result"
    }
   ],
   "source": [
    "std = x.std()\n",
    "std"
   ]
  },
  {
   "cell_type": "code",
   "execution_count": 14,
   "id": "f856c6e9",
   "metadata": {},
   "outputs": [
    {
     "name": "stdout",
     "output_type": "stream",
     "text": [
      "-0.11053202006485188\n",
      "0.9119874571004282\n"
     ]
    }
   ],
   "source": [
    "zval,pval = zt(x1 = x,value = 156.45)\n",
    "print(zval)\n",
    "print(pval)"
   ]
  },
  {
   "cell_type": "code",
   "execution_count": 16,
   "id": "3af6d6b8",
   "metadata": {},
   "outputs": [
    {
     "name": "stdout",
     "output_type": "stream",
     "text": [
      "-2.0724753762160906\n",
      "0.04\n"
     ]
    }
   ],
   "source": [
    "zval,pval = zt(x1 = x,value = 160)\n",
    "print(zval)\n",
    "print(round(pval,2))"
   ]
  },
  {
   "cell_type": "code",
   "execution_count": 17,
   "id": "598173f2",
   "metadata": {},
   "outputs": [
    {
     "data": {
      "text/plain": [
       "(160.0, 152.5)"
      ]
     },
     "execution_count": 17,
     "metadata": {},
     "output_type": "execute_result"
    }
   ],
   "source": [
    "x_bar-(zval*(std/np.sqrt(40))),x_bar+(zval*(std/np.sqrt(40)))"
   ]
  },
  {
   "cell_type": "code",
   "execution_count": 24,
   "id": "07f82bf2",
   "metadata": {},
   "outputs": [
    {
     "name": "stdout",
     "output_type": "stream",
     "text": [
      "-0.11053202006485188\n",
      "0.9119874571004282\n"
     ]
    }
   ],
   "source": [
    "zval,pval = zt(x1 = x,value = 156.45,alternative = \"two-sided\")\n",
    "print(zval)\n",
    "print(pval)"
   ]
  },
  {
   "cell_type": "code",
   "execution_count": 25,
   "id": "4bb1452f",
   "metadata": {},
   "outputs": [
    {
     "data": {
      "text/plain": [
       "(156.45, 156.05)"
      ]
     },
     "execution_count": 25,
     "metadata": {},
     "output_type": "execute_result"
    }
   ],
   "source": [
    "x_bar-zval*(std/np.sqrt(40)),x_bar+zval*(std/np.sqrt(40))"
   ]
  },
  {
   "cell_type": "code",
   "execution_count": 42,
   "id": "66441b79",
   "metadata": {},
   "outputs": [
    {
     "name": "stdout",
     "output_type": "stream",
     "text": [
      "-0.11053202006485188\n",
      "0.91\n",
      "0.01\n",
      "Accept H0\n"
     ]
    }
   ],
   "source": [
    "zval,pval = zt(x1 = x,value = 156.45,alternative = \"two-sided\")\n",
    "print(zval)\n",
    "print(round(pval,2))\n",
    "alpha = np.random.choice([0.05,0.01,0.10])\n",
    "print(alpha)\n",
    "if pval>alpha:\n",
    "    print(\"Accept H0\")\n",
    "else:\n",
    "    print(\"reject H0\")"
   ]
  },
  {
   "cell_type": "markdown",
   "id": "46a5c23f",
   "metadata": {},
   "source": [
    " # TWO SAMPLE z Test"
   ]
  },
  {
   "cell_type": "code",
   "execution_count": 33,
   "id": "90b2b9de",
   "metadata": {},
   "outputs": [
    {
     "data": {
      "text/plain": [
       "151.85"
      ]
     },
     "execution_count": 33,
     "metadata": {},
     "output_type": "execute_result"
    }
   ],
   "source": [
    "df[\"bp_after\"][0:40].mean()"
   ]
  },
  {
   "cell_type": "code",
   "execution_count": 34,
   "id": "846c7ffa",
   "metadata": {},
   "outputs": [
    {
     "name": "stdout",
     "output_type": "stream",
     "text": [
      "1.4367589369629403\n",
      "0.15078650190868437\n"
     ]
    }
   ],
   "source": [
    "zval,pval = zt(x1 = x,x2 = df[\"bp_after\"][0:40],value = 0)\n",
    "print(zval)\n",
    "print(pval)"
   ]
  },
  {
   "cell_type": "code",
   "execution_count": 39,
   "id": "6b4e69c2",
   "metadata": {},
   "outputs": [
    {
     "name": "stdout",
     "output_type": "stream",
     "text": [
      "-0.19592167322221704\n",
      "0.8446714732313996\n"
     ]
    }
   ],
   "source": [
    "zval,pval = zt(x1 = x,x2 = df[\"bp_after\"][0:40],value = 5)\n",
    "print(zval)\n",
    "print(pval)"
   ]
  },
  {
   "cell_type": "code",
   "execution_count": 41,
   "id": "0e8f7fdf",
   "metadata": {},
   "outputs": [
    {
     "name": "stdout",
     "output_type": "stream",
     "text": [
      "-0.19592167322221704\n",
      "0.5776642633843002\n"
     ]
    }
   ],
   "source": [
    "zval,pval = zt(x1 = x,x2 = df[\"bp_after\"][0:40],value = 5,alternative = \"larger\")\n",
    "print(zval)\n",
    "print(pval)"
   ]
  },
  {
   "cell_type": "code",
   "execution_count": 45,
   "id": "7ac336ac",
   "metadata": {
    "scrolled": true
   },
   "outputs": [
    {
     "name": "stdout",
     "output_type": "stream",
     "text": [
      "-0.19592167322221704\n",
      "0.5776642633843002\n",
      "0.05\n",
      "Accept H0\n"
     ]
    }
   ],
   "source": [
    "zval,pval = zt(x1 = x,x2 = df[\"bp_after\"][0:40],value = 5,alternative = \"larger\")\n",
    "print(zval)\n",
    "print(pval)\n",
    "alpha = np.random.choice([0.05,0.01,0.10])\n",
    "print(alpha)\n",
    "if pval>alpha:\n",
    "    print(\"Accept H0\")\n",
    "else:\n",
    "    print(\"reject H0\")"
   ]
  },
  {
   "cell_type": "code",
   "execution_count": 57,
   "id": "7c81b1ff",
   "metadata": {},
   "outputs": [
    {
     "data": {
      "text/plain": [
       "151.85"
      ]
     },
     "execution_count": 57,
     "metadata": {},
     "output_type": "execute_result"
    }
   ],
   "source": [
    "x2_bar =df[\"bp_after\"][0:40].mean()\n",
    "x2_bar"
   ]
  },
  {
   "cell_type": "code",
   "execution_count": 58,
   "id": "ccb45231",
   "metadata": {},
   "outputs": [
    {
     "data": {
      "text/plain": [
       "15.626325584796037"
      ]
     },
     "execution_count": 58,
     "metadata": {},
     "output_type": "execute_result"
    }
   ],
   "source": [
    "std2 =df[\"bp_after\"][0:40].std()\n",
    "std2"
   ]
  },
  {
   "cell_type": "code",
   "execution_count": 60,
   "id": "e59d18f5",
   "metadata": {},
   "outputs": [
    {
     "data": {
      "text/plain": [
       "156.25"
      ]
     },
     "execution_count": 60,
     "metadata": {},
     "output_type": "execute_result"
    }
   ],
   "source": [
    "x_bar"
   ]
  },
  {
   "cell_type": "code",
   "execution_count": 61,
   "id": "273fb367",
   "metadata": {},
   "outputs": [
    {
     "data": {
      "text/plain": [
       "11.443842818806035"
      ]
     },
     "execution_count": 61,
     "metadata": {},
     "output_type": "execute_result"
    }
   ],
   "source": [
    "std"
   ]
  },
  {
   "cell_type": "code",
   "execution_count": 48,
   "id": "8ed90355",
   "metadata": {},
   "outputs": [],
   "source": [
    "ci = (x_bar - x2_bar)-zval*(np.sqrt((std**2/40+std2**2/40)))"
   ]
  },
  {
   "cell_type": "code",
   "execution_count": 56,
   "id": "bb4db988",
   "metadata": {},
   "outputs": [
    {
     "data": {
      "text/plain": [
       "(5.0, 3.8000000000000114)"
      ]
     },
     "execution_count": 56,
     "metadata": {},
     "output_type": "execute_result"
    }
   ],
   "source": [
    "ci = (x_bar - x2_bar)-zval*(np.sqrt((std**2/40+std2**2/40))),(x_bar - x2_bar)+zval*(np.sqrt((std**2/40+std2**2/40)))\n",
    "ci"
   ]
  },
  {
   "cell_type": "markdown",
   "id": "0269d0cc",
   "metadata": {},
   "source": [
    "# One sample T test"
   ]
  },
  {
   "cell_type": "code",
   "execution_count": 68,
   "id": "c53c1918",
   "metadata": {},
   "outputs": [
    {
     "data": {
      "text/plain": [
       "array([135.48325826, 119.3123998 ,  94.93931004, 110.32995651,\n",
       "       115.56490615, 113.58431069, 121.52504204,  68.87652696,\n",
       "        92.95041266, 125.82961485,  73.58425286,  67.16004093,\n",
       "       114.80984398,  90.03661352,  73.03192304, 105.62218639,\n",
       "        61.77364367,  97.6744259 ,  98.8720004 , 109.91964431,\n",
       "       109.53267221,  72.70764605,  83.72330725,  82.54998077,\n",
       "       108.09718224, 135.98712921, 113.58964978, 101.74111009,\n",
       "       103.41697824,  96.84797224, 101.38888094,  90.0074083 ,\n",
       "        88.40665296, 124.04474967,  98.00416002,  81.95595635,\n",
       "       118.91954333,  41.60231602,  67.7172948 ,  98.28445724,\n",
       "        96.09519337, 105.43901867, 113.84568591,  64.82542066,\n",
       "       121.64599824, 114.22341482,  71.72867798, 109.10848462,\n",
       "        97.33906683,  93.26351355])"
      ]
     },
     "execution_count": 68,
     "metadata": {},
     "output_type": "execute_result"
    }
   ],
   "source": [
    "x1 = np.random.normal(loc = 100,scale = 20,size = 50)\n",
    "x1"
   ]
  },
  {
   "cell_type": "code",
   "execution_count": null,
   "id": "8ddc0acf",
   "metadata": {},
   "outputs": [],
   "source": [
    "# loc is mean, mean 100 of array. scale is standard deviation"
   ]
  },
  {
   "cell_type": "code",
   "execution_count": 77,
   "id": "618ab672",
   "metadata": {},
   "outputs": [
    {
     "data": {
      "text/plain": [
       "104.06828850405041"
      ]
     },
     "execution_count": 77,
     "metadata": {},
     "output_type": "execute_result"
    }
   ],
   "source": [
    "x1 = np.random.normal(loc = 100,scale = 20,size = 50)\n",
    "x1.mean()"
   ]
  },
  {
   "cell_type": "code",
   "execution_count": 75,
   "id": "cee560de",
   "metadata": {},
   "outputs": [
    {
     "data": {
      "text/plain": [
       "-0.47589229309348074"
      ]
     },
     "execution_count": 75,
     "metadata": {},
     "output_type": "execute_result"
    }
   ],
   "source": [
    "pd.Series(x1).skew()"
   ]
  },
  {
   "cell_type": "code",
   "execution_count": 76,
   "id": "835ca3eb",
   "metadata": {},
   "outputs": [
    {
     "data": {
      "text/plain": [
       "-0.056906259175147245"
      ]
     },
     "execution_count": 76,
     "metadata": {},
     "output_type": "execute_result"
    }
   ],
   "source": [
    "pd.Series(x1).kurt()"
   ]
  },
  {
   "cell_type": "code",
   "execution_count": 72,
   "id": "92bbb613",
   "metadata": {},
   "outputs": [],
   "source": [
    "import seaborn as sns"
   ]
  },
  {
   "cell_type": "code",
   "execution_count": 66,
   "id": "ff2209b9",
   "metadata": {},
   "outputs": [
    {
     "name": "stderr",
     "output_type": "stream",
     "text": [
      "C:\\ProgramData\\Anaconda3\\lib\\site-packages\\seaborn\\distributions.py:2619: FutureWarning: `distplot` is a deprecated function and will be removed in a future version. Please adapt your code to use either `displot` (a figure-level function with similar flexibility) or `histplot` (an axes-level function for histograms).\n",
      "  warnings.warn(msg, FutureWarning)\n"
     ]
    },
    {
     "data": {
      "text/plain": [
       "<AxesSubplot:ylabel='Density'>"
      ]
     },
     "execution_count": 66,
     "metadata": {},
     "output_type": "execute_result"
    },
    {
     "data": {
      "image/png": "[encoded data removed]",
      "text/plain": [
       "<Figure size 432x288 with 1 Axes>"
      ]
     },
     "metadata": {
      "needs_background": "light"
     },
     "output_type": "display_data"
    }
   ],
   "source": [
    "sns.distplot(x1)"
   ]
  },
  {
   "cell_type": "code",
   "execution_count": 80,
   "id": "06344205",
   "metadata": {},
   "outputs": [
    {
     "name": "stdout",
     "output_type": "stream",
     "text": [
      "1.992865260282604\n",
      "0.07743826414165608\n"
     ]
    }
   ],
   "source": [
    "tval,pval = st.ttest_1samp(x1[:10],x1.mean())\n",
    "print(tval)\n",
    "print(pval)"
   ]
  },
  {
   "cell_type": "code",
   "execution_count": 82,
   "id": "6236a38f",
   "metadata": {},
   "outputs": [
    {
     "data": {
      "text/plain": [
       "118.82548878921462"
      ]
     },
     "execution_count": 82,
     "metadata": {},
     "output_type": "execute_result"
    }
   ],
   "source": [
    "x1[:10].mean()"
   ]
  },
  {
   "cell_type": "markdown",
   "id": "011821ec",
   "metadata": {},
   "source": [
    "# Anova"
   ]
  },
  {
   "cell_type": "code",
   "execution_count": null,
   "id": "e4833f69",
   "metadata": {},
   "outputs": [],
   "source": [
    "# 2 sai jadad chij ko comapare karne kai ia anova."
   ]
  },
  {
   "cell_type": "code",
   "execution_count": 8,
   "id": "dfad1d3c",
   "metadata": {},
   "outputs": [],
   "source": [
    "import seaborn as sns\n",
    "import pandas as pd"
   ]
  },
  {
   "cell_type": "code",
   "execution_count": 2,
   "id": "14f03c5a",
   "metadata": {},
   "outputs": [],
   "source": [
    "df1 = sns.load_dataset('iris')"
   ]
  },
  {
   "cell_type": "code",
   "execution_count": 3,
   "id": "f9b69e00",
   "metadata": {},
   "outputs": [
    {
     "data": {
      "text/plain": [
       "setosa        50\n",
       "versicolor    50\n",
       "virginica     50\n",
       "Name: species, dtype: int64"
      ]
     },
     "execution_count": 3,
     "metadata": {},
     "output_type": "execute_result"
    }
   ],
   "source": [
    "df1[\"species\"].value_counts()"
   ]
  },
  {
   "cell_type": "code",
   "execution_count": 4,
   "id": "b7604d00",
   "metadata": {},
   "outputs": [],
   "source": [
    "df_anova = df1[['petal_width','species']]"
   ]
  },
  {
   "cell_type": "code",
   "execution_count": 5,
   "id": "f414de89",
   "metadata": {},
   "outputs": [
    {
     "data": {
      "text/html": [
       "<div>\n",
       "<style scoped>\n",
       "    .dataframe tbody tr th:only-of-type {\n",
       "        vertical-align: middle;\n",
       "    }\n",
       "\n",
       "    .dataframe tbody tr th {\n",
       "        vertical-align: top;\n",
       "    }\n",
       "\n",
       "    .dataframe thead th {\n",
       "        text-align: right;\n",
       "    }\n",
       "</style>\n",
       "<table border=\"1\" class=\"dataframe\">\n",
       "  <thead>\n",
       "    <tr style=\"text-align: right;\">\n",
       "      <th></th>\n",
       "      <th>petal_width</th>\n",
       "      <th>species</th>\n",
       "    </tr>\n",
       "  </thead>\n",
       "  <tbody>\n",
       "    <tr>\n",
       "      <th>0</th>\n",
       "      <td>0.2</td>\n",
       "      <td>setosa</td>\n",
       "    </tr>\n",
       "    <tr>\n",
       "      <th>1</th>\n",
       "      <td>0.2</td>\n",
       "      <td>setosa</td>\n",
       "    </tr>\n",
       "    <tr>\n",
       "      <th>2</th>\n",
       "      <td>0.2</td>\n",
       "      <td>setosa</td>\n",
       "    </tr>\n",
       "    <tr>\n",
       "      <th>3</th>\n",
       "      <td>0.2</td>\n",
       "      <td>setosa</td>\n",
       "    </tr>\n",
       "    <tr>\n",
       "      <th>4</th>\n",
       "      <td>0.2</td>\n",
       "      <td>setosa</td>\n",
       "    </tr>\n",
       "    <tr>\n",
       "      <th>...</th>\n",
       "      <td>...</td>\n",
       "      <td>...</td>\n",
       "    </tr>\n",
       "    <tr>\n",
       "      <th>145</th>\n",
       "      <td>2.3</td>\n",
       "      <td>virginica</td>\n",
       "    </tr>\n",
       "    <tr>\n",
       "      <th>146</th>\n",
       "      <td>1.9</td>\n",
       "      <td>virginica</td>\n",
       "    </tr>\n",
       "    <tr>\n",
       "      <th>147</th>\n",
       "      <td>2.0</td>\n",
       "      <td>virginica</td>\n",
       "    </tr>\n",
       "    <tr>\n",
       "      <th>148</th>\n",
       "      <td>2.3</td>\n",
       "      <td>virginica</td>\n",
       "    </tr>\n",
       "    <tr>\n",
       "      <th>149</th>\n",
       "      <td>1.8</td>\n",
       "      <td>virginica</td>\n",
       "    </tr>\n",
       "  </tbody>\n",
       "</table>\n",
       "<p>150 rows × 2 columns</p>\n",
       "</div>"
      ],
      "text/plain": [
       "     petal_width    species\n",
       "0            0.2     setosa\n",
       "1            0.2     setosa\n",
       "2            0.2     setosa\n",
       "3            0.2     setosa\n",
       "4            0.2     setosa\n",
       "..           ...        ...\n",
       "145          2.3  virginica\n",
       "146          1.9  virginica\n",
       "147          2.0  virginica\n",
       "148          2.3  virginica\n",
       "149          1.8  virginica\n",
       "\n",
       "[150 rows x 2 columns]"
      ]
     },
     "execution_count": 5,
     "metadata": {},
     "output_type": "execute_result"
    }
   ],
   "source": [
    "df_anova"
   ]
  },
  {
   "cell_type": "code",
   "execution_count": 12,
   "id": "fed46808",
   "metadata": {},
   "outputs": [
    {
     "data": {
      "text/plain": [
       "setosa        50\n",
       "versicolor    50\n",
       "virginica     50\n",
       "Name: species, dtype: int64"
      ]
     },
     "execution_count": 12,
     "metadata": {},
     "output_type": "execute_result"
    }
   ],
   "source": [
    "df_anova['species'].value_counts()"
   ]
  },
  {
   "cell_type": "code",
   "execution_count": 6,
   "id": "daa09787",
   "metadata": {},
   "outputs": [
    {
     "data": {
      "text/plain": [
       "RangeIndex(start=0, stop=150, step=1)"
      ]
     },
     "execution_count": 6,
     "metadata": {},
     "output_type": "execute_result"
    }
   ],
   "source": [
    "df_anova.index"
   ]
  },
  {
   "cell_type": "code",
   "execution_count": 10,
   "id": "77b2ce05",
   "metadata": {},
   "outputs": [
    {
     "data": {
      "text/plain": [
       "array(['setosa', 'versicolor', 'virginica'], dtype=object)"
      ]
     },
     "execution_count": 10,
     "metadata": {},
     "output_type": "execute_result"
    }
   ],
   "source": [
    "df_anova['species'].unique()"
   ]
  },
  {
   "cell_type": "code",
   "execution_count": 9,
   "id": "7a90cb9a",
   "metadata": {},
   "outputs": [
    {
     "data": {
      "text/plain": [
       "array(['setosa', 'versicolor', 'virginica'], dtype=object)"
      ]
     },
     "execution_count": 9,
     "metadata": {},
     "output_type": "execute_result"
    }
   ],
   "source": [
    "pd.unique(df_anova.species.values)"
   ]
  },
  {
   "cell_type": "code",
   "execution_count": 14,
   "id": "feca6196",
   "metadata": {},
   "outputs": [
    {
     "data": {
      "text/plain": [
       "array(['setosa', 'versicolor', 'virginica'], dtype=object)"
      ]
     },
     "execution_count": 14,
     "metadata": {},
     "output_type": "execute_result"
    }
   ],
   "source": [
    "grps = pd.unique(df_anova.species.values)\n",
    "grps"
   ]
  },
  {
   "cell_type": "code",
   "execution_count": 16,
   "id": "a2906c86",
   "metadata": {},
   "outputs": [],
   "source": [
    "d_data = {grp:df_anova['petal_width'][df_anova.species == grp]for grp in grps}"
   ]
  },
  {
   "cell_type": "code",
   "execution_count": 17,
   "id": "39175410",
   "metadata": {
    "scrolled": true
   },
   "outputs": [
    {
     "data": {
      "text/plain": [
       "{'setosa': 0     0.2\n",
       " 1     0.2\n",
       " 2     0.2\n",
       " 3     0.2\n",
       " 4     0.2\n",
       " 5     0.4\n",
       " 6     0.3\n",
       " 7     0.2\n",
       " 8     0.2\n",
       " 9     0.1\n",
       " 10    0.2\n",
       " 11    0.2\n",
       " 12    0.1\n",
       " 13    0.1\n",
       " 14    0.2\n",
       " 15    0.4\n",
       " 16    0.4\n",
       " 17    0.3\n",
       " 18    0.3\n",
       " 19    0.3\n",
       " 20    0.2\n",
       " 21    0.4\n",
       " 22    0.2\n",
       " 23    0.5\n",
       " 24    0.2\n",
       " 25    0.2\n",
       " 26    0.4\n",
       " 27    0.2\n",
       " 28    0.2\n",
       " 29    0.2\n",
       " 30    0.2\n",
       " 31    0.4\n",
       " 32    0.1\n",
       " 33    0.2\n",
       " 34    0.2\n",
       " 35    0.2\n",
       " 36    0.2\n",
       " 37    0.1\n",
       " 38    0.2\n",
       " 39    0.2\n",
       " 40    0.3\n",
       " 41    0.3\n",
       " 42    0.2\n",
       " 43    0.6\n",
       " 44    0.4\n",
       " 45    0.3\n",
       " 46    0.2\n",
       " 47    0.2\n",
       " 48    0.2\n",
       " 49    0.2\n",
       " Name: petal_width, dtype: float64,\n",
       " 'versicolor': 50    1.4\n",
       " 51    1.5\n",
       " 52    1.5\n",
       " 53    1.3\n",
       " 54    1.5\n",
       " 55    1.3\n",
       " 56    1.6\n",
       " 57    1.0\n",
       " 58    1.3\n",
       " 59    1.4\n",
       " 60    1.0\n",
       " 61    1.5\n",
       " 62    1.0\n",
       " 63    1.4\n",
       " 64    1.3\n",
       " 65    1.4\n",
       " 66    1.5\n",
       " 67    1.0\n",
       " 68    1.5\n",
       " 69    1.1\n",
       " 70    1.8\n",
       " 71    1.3\n",
       " 72    1.5\n",
       " 73    1.2\n",
       " 74    1.3\n",
       " 75    1.4\n",
       " 76    1.4\n",
       " 77    1.7\n",
       " 78    1.5\n",
       " 79    1.0\n",
       " 80    1.1\n",
       " 81    1.0\n",
       " 82    1.2\n",
       " 83    1.6\n",
       " 84    1.5\n",
       " 85    1.6\n",
       " 86    1.5\n",
       " 87    1.3\n",
       " 88    1.3\n",
       " 89    1.3\n",
       " 90    1.2\n",
       " 91    1.4\n",
       " 92    1.2\n",
       " 93    1.0\n",
       " 94    1.3\n",
       " 95    1.2\n",
       " 96    1.3\n",
       " 97    1.3\n",
       " 98    1.1\n",
       " 99    1.3\n",
       " Name: petal_width, dtype: float64,\n",
       " 'virginica': 100    2.5\n",
       " 101    1.9\n",
       " 102    2.1\n",
       " 103    1.8\n",
       " 104    2.2\n",
       " 105    2.1\n",
       " 106    1.7\n",
       " 107    1.8\n",
       " 108    1.8\n",
       " 109    2.5\n",
       " 110    2.0\n",
       " 111    1.9\n",
       " 112    2.1\n",
       " 113    2.0\n",
       " 114    2.4\n",
       " 115    2.3\n",
       " 116    1.8\n",
       " 117    2.2\n",
       " 118    2.3\n",
       " 119    1.5\n",
       " 120    2.3\n",
       " 121    2.0\n",
       " 122    2.0\n",
       " 123    1.8\n",
       " 124    2.1\n",
       " 125    1.8\n",
       " 126    1.8\n",
       " 127    1.8\n",
       " 128    2.1\n",
       " 129    1.6\n",
       " 130    1.9\n",
       " 131    2.0\n",
       " 132    2.2\n",
       " 133    1.5\n",
       " 134    1.4\n",
       " 135    2.3\n",
       " 136    2.4\n",
       " 137    1.8\n",
       " 138    1.8\n",
       " 139    2.1\n",
       " 140    2.4\n",
       " 141    2.3\n",
       " 142    1.9\n",
       " 143    2.3\n",
       " 144    2.5\n",
       " 145    2.3\n",
       " 146    1.9\n",
       " 147    2.0\n",
       " 148    2.3\n",
       " 149    1.8\n",
       " Name: petal_width, dtype: float64}"
      ]
     },
     "execution_count": 17,
     "metadata": {},
     "output_type": "execute_result"
    }
   ],
   "source": [
    "d_data"
   ]
  },
  {
   "cell_type": "code",
   "execution_count": null,
   "id": "0d1ffa89",
   "metadata": {},
   "outputs": [],
   "source": [
    "# series \n",
    "index + value \n",
    "aati hai"
   ]
  },
  {
   "cell_type": "code",
   "execution_count": null,
   "id": "829209ef",
   "metadata": {},
   "outputs": [],
   "source": []
  },
  {
   "cell_type": "code",
   "execution_count": 23,
   "id": "e7607074",
   "metadata": {},
   "outputs": [],
   "source": [
    "import scipy.stats as st"
   ]
  },
  {
   "cell_type": "code",
   "execution_count": 30,
   "id": "c76ae3ad",
   "metadata": {
    "scrolled": true
   },
   "outputs": [],
   "source": [
    "f, p = st.f_oneway(d_data['setosa'], d_data['versicolor'], d_data['virginica'])"
   ]
  },
  {
   "cell_type": "code",
   "execution_count": null,
   "id": "e401f977",
   "metadata": {},
   "outputs": [],
   "source": [
    "Type -1 & Type - 2\n",
    "hypothoisis \n",
    "type = accept and reject"
   ]
  },
  {
   "cell_type": "code",
   "execution_count": null,
   "id": "a27679ad",
   "metadata": {},
   "outputs": [],
   "source": [
    "NULL hypothisis"
   ]
  },
  {
   "cell_type": "code",
   "execution_count": null,
   "id": "e7b88175",
   "metadata": {},
   "outputs": [],
   "source": []
  },
  {
   "cell_type": "code",
   "execution_count": null,
   "id": "b61a8b0f",
   "metadata": {},
   "outputs": [],
   "source": []
  },
  {
   "cell_type": "code",
   "execution_count": null,
   "id": "7fc6bf25",
   "metadata": {},
   "outputs": [],
   "source": []
  }
 ],
 "metadata": {
  "kernelspec": {
   "display_name": "Python 3 (ipykernel)",
   "language": "python",
   "name": "python3"
  },
  "language_info": {
   "codemirror_mode": {
    "name": "ipython",
    "version": 3
   },
   "file_extension": ".py",
   "mimetype": "text/x-python",
   "name": "python",
   "nbconvert_exporter": "python",
   "pygments_lexer": "ipython3",
   "version": "3.9.7"
  }
 },
 "nbformat": 4,
 "nbformat_minor": 5
}
