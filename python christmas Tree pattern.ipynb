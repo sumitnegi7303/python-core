{
 "cells": [
  {
   "cell_type": "code",
   "execution_count": 2,
   "id": "736150e7",
   "metadata": {},
   "outputs": [
    {
     "name": "stdout",
     "output_type": "stream",
     "text": [
      "         *\n",
      "        *|*\n",
      "       *|||*\n",
      "      *|||||*\n",
      "     *|||||||*\n",
      "    *|||||||||*\n",
      "   *|||||||||||*\n",
      "  *|||||||||||||*\n",
      " *|||||||||||||||*\n",
      "*|||||||||||||||||*\n"
     ]
    }
   ],
   "source": [
    "n = 10\n",
    "\n",
    "for i in range(0,n):\n",
    "    for j in range(1, n - i):\n",
    "        print(\" \", end=\"\")\n",
    "    print(\"*\",end=\"\")\n",
    "    for k in range(0,i):\n",
    "        print(\"|\", end =\"\")\n",
    "    for j in range(1,i):\n",
    "        print(\"|\", end=\"\")\n",
    "    if i >0:\n",
    "        print(\"*\", end=\"\")\n",
    "    print()"
   ]
  }
 ],
 "metadata": {
  "kernelspec": {
   "display_name": "Python 3 (ipykernel)",
   "language": "python",
   "name": "python3"
  },
  "language_info": {
   "codemirror_mode": {
    "name": "ipython",
    "version": 3
   },
   "file_extension": ".py",
   "mimetype": "text/x-python",
   "name": "python",
   "nbconvert_exporter": "python",
   "pygments_lexer": "ipython3",
   "version": "3.9.7"
  }
 },
 "nbformat": 4,
 "nbformat_minor": 5
}
