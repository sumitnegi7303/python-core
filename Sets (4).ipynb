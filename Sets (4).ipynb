{
 "cells": [
  {
   "cell_type": "markdown",
   "id": "b6a7907a",
   "metadata": {},
   "source": [
    "# Sets"
   ]
  },
  {
   "cell_type": "markdown",
   "id": "5e73dfb6",
   "metadata": {},
   "source": [
    "What is Sets?\n",
    "\n",
    "- Sets are unordered.\n",
    "- Set elements are unique. Duplicate elements are not allowed.\n",
    "- A set itself may be modified, but the elements contained in the set must be of an immutable type.\n",
    "- Sets can be used to perform mathematical set operations like union, intersection, symmetric difference etc."
   ]
  },
  {
   "cell_type": "code",
   "execution_count": 2,
   "id": "89bb6a1a",
   "metadata": {},
   "outputs": [
    {
     "name": "stdout",
     "output_type": "stream",
     "text": [
      "{'a', 'c', 'b'}\n",
      "<class 'set'>\n"
     ]
    }
   ],
   "source": [
    "myset = set([\"a\", \"b\", \"c\"])     # creating a set with set() function\n",
    "print(myset)\n",
    "print(type(myset))"
   ]
  },
  {
   "cell_type": "code",
   "execution_count": 7,
   "id": "08f519ba",
   "metadata": {},
   "outputs": [
    {
     "name": "stdout",
     "output_type": "stream",
     "text": [
      "[1, 3, 1, 5, 2, 6, 2, 6, 2, 7, 3, 7, 2, 6, 32, 6, 3, 3]\n",
      "{32, 1, 2, 3, 5, 6, 7}\n"
     ]
    }
   ],
   "source": [
    "y=[1,3,1,5,2,6,2,6,2,7,3,7,2,6,32,6,3,3]\n",
    "print(y)\n",
    "l=set(y)\n",
    "print(l)"
   ]
  },
  {
   "cell_type": "code",
   "execution_count": 3,
   "id": "536b2cf7",
   "metadata": {},
   "outputs": [
    {
     "name": "stdout",
     "output_type": "stream",
     "text": [
      "<class 'set'>\n"
     ]
    }
   ],
   "source": [
    "x={1,2,5,2,5,2,4}\n",
    "print(type(x))"
   ]
  },
  {
   "cell_type": "code",
   "execution_count": 6,
   "id": "e706177b",
   "metadata": {},
   "outputs": [
    {
     "name": "stdout",
     "output_type": "stream",
     "text": [
      "{1, 2, 3, 4, 5, 6, 7, 8, 9}\n",
      "{1, 2, 3, 4, 5, 6, 7, 8, 9}\n",
      "{2, 6, 72, 82, 6234552, 93}\n"
     ]
    }
   ],
   "source": [
    "q=set([1,2,3,4,5,6,7,8,9])\n",
    "print(q)\n",
    "s=set([1,2,3,4,5,6,7,8,9])\n",
    "print(s)\n",
    "d=set([93,82,72,6,2,6234552,6,2])\n",
    "print(d)"
   ]
  },
  {
   "cell_type": "code",
   "execution_count": 8,
   "id": "dea73469",
   "metadata": {},
   "outputs": [
    {
     "name": "stdout",
     "output_type": "stream",
     "text": [
      "<class 'dict'>\n"
     ]
    }
   ],
   "source": [
    "a={}\n",
    "print(type(a))"
   ]
  },
  {
   "cell_type": "code",
   "execution_count": 10,
   "id": "52cbd80b",
   "metadata": {},
   "outputs": [
    {
     "name": "stdout",
     "output_type": "stream",
     "text": [
      "<class 'set'> set()\n"
     ]
    }
   ],
   "source": [
    "z=set()\n",
    "print(type(z),z)"
   ]
  },
  {
   "cell_type": "code",
   "execution_count": 8,
   "id": "2fb77393",
   "metadata": {},
   "outputs": [
    {
     "name": "stdout",
     "output_type": "stream",
     "text": [
      "{0, 1, 2, 3, 4, 5, 6, 7, 8, 9}\n",
      "<class 'set'>\n"
     ]
    }
   ],
   "source": [
    "s={1,1,1,1,2,2,3,4,5,3,4,6,3,7,4,7,3,1,1,2,3,5,7,6,5,8,0,8,9,7,8,0,8,7,6,4,3}\n",
    "print(s)\n",
    "print(type(s))"
   ]
  },
  {
   "cell_type": "code",
   "execution_count": 38,
   "id": "c4aec0fb",
   "metadata": {},
   "outputs": [
    {
     "name": "stdout",
     "output_type": "stream",
     "text": [
      "[1, 2, 3, 4, 5, 6, 7, 8, 0, 9]\n"
     ]
    }
   ],
   "source": [
    "x=[1,1,1,1,2,2,3,4,5,3,4,6,3,7,4,7,3,1,1,2,3,5,7,6,5,8,0,8,9,7,8,0,8,7,6,4,3]\n",
    "L=[]\n",
    "for i in x:\n",
    "    if i not in L:\n",
    "        L.append(i)\n",
    "        \n",
    "print(L)"
   ]
  },
  {
   "cell_type": "code",
   "execution_count": 43,
   "id": "6e9d3252",
   "metadata": {},
   "outputs": [
    {
     "name": "stdout",
     "output_type": "stream",
     "text": [
      "[0, 1, 2, 3, 4, 5, 6, 7, 8, 9]\n"
     ]
    }
   ],
   "source": [
    "x=[1,1,1,1,2,2,3,4,5,3,4,6,3,7,4,7,3,1,1,2,3,5,7,6,5,8,0,8,9,7,8,0,8,7,6,4,3]\n",
    "print(list(set(x)))"
   ]
  },
  {
   "cell_type": "markdown",
   "id": "8448eada",
   "metadata": {},
   "source": [
    "### Set Functions"
   ]
  },
  {
   "cell_type": "markdown",
   "id": "e78d48a1",
   "metadata": {},
   "source": [
    "- Adding elements :-\n",
    "- Insertion in set is done through set.add() function."
   ]
  },
  {
   "cell_type": "code",
   "execution_count": 3,
   "id": "550f4138",
   "metadata": {},
   "outputs": [
    {
     "name": "stdout",
     "output_type": "stream",
     "text": [
      "{'a', 'c', 'b'}\n"
     ]
    }
   ],
   "source": [
    "print(myset)"
   ]
  },
  {
   "cell_type": "code",
   "execution_count": 4,
   "id": "66df86b2",
   "metadata": {},
   "outputs": [
    {
     "name": "stdout",
     "output_type": "stream",
     "text": [
      "{'a', 'c', 'b', 'd'}\n"
     ]
    }
   ],
   "source": [
    "myset.add(\"d\")   # Adding element to the set with add()\n",
    "print(myset)"
   ]
  },
  {
   "cell_type": "code",
   "execution_count": 5,
   "id": "90d3e158",
   "metadata": {},
   "outputs": [
    {
     "name": "stdout",
     "output_type": "stream",
     "text": [
      "{'c', 'a', 'A', 'd', 'b'}\n"
     ]
    }
   ],
   "source": [
    "myset.add(\"A\")   # Adding element to the set with add()\n",
    "print(myset)"
   ]
  },
  {
   "cell_type": "code",
   "execution_count": 6,
   "id": "1c294739",
   "metadata": {},
   "outputs": [
    {
     "name": "stdout",
     "output_type": "stream",
     "text": [
      "{'c', 'a', 'A', 'd', 'b', 'e'}\n"
     ]
    }
   ],
   "source": [
    "myset.add('e')\n",
    "print(myset)"
   ]
  },
  {
   "cell_type": "code",
   "execution_count": 7,
   "id": "cf05c6a0",
   "metadata": {},
   "outputs": [
    {
     "name": "stdout",
     "output_type": "stream",
     "text": [
      "{'c', 'a', 'A', 'd', 'b', 'e'}\n"
     ]
    }
   ],
   "source": [
    "print(myset)"
   ]
  },
  {
   "cell_type": "code",
   "execution_count": 8,
   "id": "0e639dfe",
   "metadata": {},
   "outputs": [
    {
     "name": "stdout",
     "output_type": "stream",
     "text": [
      "{'grapes', 'apple', 'mango'}\n"
     ]
    }
   ],
   "source": [
    "# Creating a Set\n",
    "fruits = {\"apple\", \"mango\", \"grapes\"}\n",
    " \n",
    "print(fruits)\n",
    " \n"
   ]
  },
  {
   "cell_type": "code",
   "execution_count": 9,
   "id": "d9191467",
   "metadata": {},
   "outputs": [
    {
     "name": "stdout",
     "output_type": "stream",
     "text": [
      "{'orange', 'grapes', 'apple', 'mango'}\n"
     ]
    }
   ],
   "source": [
    "# This will add  in the set\n",
    "fruits.add(\"orange\")\n",
    "\n",
    "print(fruits)\n",
    " \n"
   ]
  },
  {
   "cell_type": "code",
   "execution_count": 10,
   "id": "01105f4a",
   "metadata": {},
   "outputs": [
    {
     "name": "stdout",
     "output_type": "stream",
     "text": [
      "{1, 2, 3, 4, 5, 'mango', 'grapes', 'apple', 'orange'}\n"
     ]
    }
   ],
   "source": [
    "# Adding elements to the set using iterator\n",
    "for i in range(1, 6):\n",
    "    fruits.add(i)\n",
    "\n",
    "print(fruits)"
   ]
  },
  {
   "cell_type": "markdown",
   "id": "a4b16cea",
   "metadata": {},
   "source": [
    "- Union :-\n",
    "\n",
    "Two sets can be merged using union() function or | operator."
   ]
  },
  {
   "cell_type": "code",
   "execution_count": 12,
   "id": "968726b0",
   "metadata": {},
   "outputs": [],
   "source": [
    "fruits = {\"apple\", \"mango\", \"grapes\"}\n",
    "vegetables={'potato','onion','carrot'}\n",
    "dishes={'pizza','burger'}\n"
   ]
  },
  {
   "cell_type": "code",
   "execution_count": 13,
   "id": "4c5e8dca",
   "metadata": {},
   "outputs": [
    {
     "name": "stdout",
     "output_type": "stream",
     "text": [
      "{'carrot', 'grapes', 'apple', 'onion', 'potato', 'mango'}\n"
     ]
    }
   ],
   "source": [
    "# Union using union() function\n",
    "all_items=fruits.union(vegetables)\n",
    "print(all_items)"
   ]
  },
  {
   "cell_type": "code",
   "execution_count": 14,
   "id": "8490be34",
   "metadata": {},
   "outputs": [
    {
     "name": "stdout",
     "output_type": "stream",
     "text": [
      "{'grapes', 'apple', 'burger', 'pizza', 'mango'}\n"
     ]
    }
   ],
   "source": [
    "# Union using \"|\" operator\n",
    "all_items=fruits|dishes\n",
    "print(all_items)"
   ]
  },
  {
   "cell_type": "code",
   "execution_count": 22,
   "id": "8bc655a2",
   "metadata": {},
   "outputs": [
    {
     "name": "stdout",
     "output_type": "stream",
     "text": [
      "set()\n"
     ]
    }
   ],
   "source": [
    "x=set({})\n",
    "type(x)\n",
    "print(x)"
   ]
  },
  {
   "cell_type": "code",
   "execution_count": 15,
   "id": "3514c3b8",
   "metadata": {},
   "outputs": [
    {
     "name": "stdout",
     "output_type": "stream",
     "text": [
      "<class 'dict'>\n"
     ]
    }
   ],
   "source": [
    "s1={}\n",
    "print(type(s1))"
   ]
  },
  {
   "cell_type": "code",
   "execution_count": 17,
   "id": "b97f30fb",
   "metadata": {},
   "outputs": [
    {
     "name": "stdout",
     "output_type": "stream",
     "text": [
      "set()\n",
      "set()\n"
     ]
    }
   ],
   "source": [
    "# creation of empty set\n",
    "SET1=set()\n",
    "SET2=set()\n",
    "print(SET1)\n",
    "print(SET2)"
   ]
  },
  {
   "cell_type": "code",
   "execution_count": 27,
   "id": "d05e3076",
   "metadata": {},
   "outputs": [
    {
     "name": "stdout",
     "output_type": "stream",
     "text": [
      "<class 'set'>\n"
     ]
    }
   ],
   "source": [
    "print(type(SET1))"
   ]
  },
  {
   "cell_type": "code",
   "execution_count": 28,
   "id": "593cd1cd",
   "metadata": {},
   "outputs": [
    {
     "name": "stdout",
     "output_type": "stream",
     "text": [
      "set()\n"
     ]
    }
   ],
   "source": [
    "print(SET1)"
   ]
  },
  {
   "cell_type": "code",
   "execution_count": 18,
   "id": "3fa21824",
   "metadata": {},
   "outputs": [
    {
     "name": "stdout",
     "output_type": "stream",
     "text": [
      "{0, 1, 2, 3, 4}\n"
     ]
    }
   ],
   "source": [
    "for i in range(5):\n",
    "    SET1.add(i)\n",
    "print(SET1)"
   ]
  },
  {
   "cell_type": "code",
   "execution_count": 19,
   "id": "73b2fb3d",
   "metadata": {},
   "outputs": [
    {
     "name": "stdout",
     "output_type": "stream",
     "text": [
      "{3, 4, 5, 6}\n"
     ]
    }
   ],
   "source": [
    "for i in range(3,7):\n",
    "    SET2.add(i)\n",
    "print(SET2)"
   ]
  },
  {
   "cell_type": "markdown",
   "id": "075ee3e0",
   "metadata": {},
   "source": [
    "- Intersection :-\n",
    "\n",
    "This can be done through intersection() or & operator. Common Elements are selected."
   ]
  },
  {
   "cell_type": "code",
   "execution_count": 20,
   "id": "cba553ed",
   "metadata": {},
   "outputs": [
    {
     "name": "stdout",
     "output_type": "stream",
     "text": [
      "{3, 4}\n"
     ]
    }
   ],
   "source": [
    "# Intersection using intersection() function\n",
    "SET3 = SET2.intersection(SET1)\n",
    "print(SET3)"
   ]
  },
  {
   "cell_type": "code",
   "execution_count": 21,
   "id": "fdb2dd1f",
   "metadata": {},
   "outputs": [
    {
     "name": "stdout",
     "output_type": "stream",
     "text": [
      "{3, 4}\n"
     ]
    }
   ],
   "source": [
    "# Intersection using \"&\" operator\n",
    "# & ambersant\n",
    "SET3 = SET1 & SET2\n",
    "print(SET3)"
   ]
  },
  {
   "cell_type": "markdown",
   "id": "971853d2",
   "metadata": {},
   "source": [
    "- Difference :-\n",
    "\n",
    "To find difference in between sets. Similar to find difference in linked list. This is done through difference() or – operator."
   ]
  },
  {
   "cell_type": "code",
   "execution_count": 22,
   "id": "aa4eb6f0",
   "metadata": {},
   "outputs": [
    {
     "name": "stdout",
     "output_type": "stream",
     "text": [
      "{0, 1, 2, 3, 4}\n",
      "{3, 4, 5, 6}\n"
     ]
    }
   ],
   "source": [
    "print(SET1)\n",
    "print(SET2)"
   ]
  },
  {
   "cell_type": "code",
   "execution_count": 23,
   "id": "b302c01b",
   "metadata": {},
   "outputs": [
    {
     "name": "stdout",
     "output_type": "stream",
     "text": [
      "{0, 1, 2}\n"
     ]
    }
   ],
   "source": [
    "# Difference of two sets using difference() function\n",
    "SET3 = SET1.difference(SET2)\n",
    "# it returns elements that are in set 1 but not in set 2\n",
    "print(SET3)"
   ]
  },
  {
   "cell_type": "code",
   "execution_count": 24,
   "id": "40e5971b",
   "metadata": {},
   "outputs": [
    {
     "name": "stdout",
     "output_type": "stream",
     "text": [
      "{5, 6}\n"
     ]
    }
   ],
   "source": [
    "# Difference of two sets using '-' operator\n",
    "SET3 = SET2 - SET1\n",
    "print(SET3)"
   ]
  },
  {
   "cell_type": "markdown",
   "id": "46486be0",
   "metadata": {},
   "source": [
    "- Clearing sets :-\n",
    "\n",
    "Clear() method empties the whole set."
   ]
  },
  {
   "cell_type": "code",
   "execution_count": 39,
   "id": "a30102ce",
   "metadata": {},
   "outputs": [
    {
     "name": "stdout",
     "output_type": "stream",
     "text": [
      "{1, 2, 3, 4, 5, 6}\n",
      "set()\n",
      "set()\n"
     ]
    }
   ],
   "source": [
    "set1 = {1,2,3,4,5,6}\n",
    "SeT=set1\n",
    "print(set1)\n",
    " \n",
    "# # This method will remove all the elements of the set\n",
    "set1.clear()\n",
    " \n",
    "print(set1)\n",
    "print(SeT)"
   ]
  },
  {
   "cell_type": "code",
   "execution_count": null,
   "id": "fef01d8e",
   "metadata": {},
   "outputs": [],
   "source": []
  },
  {
   "cell_type": "code",
   "execution_count": 30,
   "id": "a099e847",
   "metadata": {},
   "outputs": [
    {
     "name": "stdout",
     "output_type": "stream",
     "text": [
      "set()\n"
     ]
    }
   ],
   "source": [
    "abc={1,2,5,2,5,2,4}\n",
    "abc.clear()\n",
    "print(abc)"
   ]
  },
  {
   "cell_type": "code",
   "execution_count": 31,
   "id": "ffb71781",
   "metadata": {},
   "outputs": [
    {
     "name": "stdout",
     "output_type": "stream",
     "text": [
      "set()\n"
     ]
    }
   ],
   "source": [
    "print(SeT)"
   ]
  },
  {
   "cell_type": "code",
   "execution_count": 24,
   "id": "d76e541f",
   "metadata": {},
   "outputs": [],
   "source": [
    "A = {'a', 'b', 'c', 'd'}"
   ]
  },
  {
   "cell_type": "code",
   "execution_count": 25,
   "id": "94d4ba82",
   "metadata": {},
   "outputs": [
    {
     "name": "stdout",
     "output_type": "stream",
     "text": [
      "{'a', 'c', 'b', 'd'}\n"
     ]
    }
   ],
   "source": [
    "print(A)"
   ]
  },
  {
   "cell_type": "code",
   "execution_count": 26,
   "id": "873cc4b4",
   "metadata": {},
   "outputs": [
    {
     "name": "stdout",
     "output_type": "stream",
     "text": [
      "a\n",
      "{'c', 'b', 'd'}\n"
     ]
    }
   ],
   "source": [
    "# pop it removes the item in set randomly\n",
    "\n",
    "removed_item = A.pop()\n",
    "print(removed_item)\n",
    "print(A)\n"
   ]
  },
  {
   "cell_type": "code",
   "execution_count": 28,
   "id": "baf2942d",
   "metadata": {},
   "outputs": [
    {
     "name": "stdout",
     "output_type": "stream",
     "text": [
      "False\n"
     ]
    }
   ],
   "source": [
    "# subset\n",
    "A = {1, 2, 3}\n",
    "B = {1, 2, 3, 4, 5}\n",
    "\n",
    "# all items of A are present in B\n",
    "# print(A.issubset(B))\n",
    "print(B.issubset(A))\n"
   ]
  },
  {
   "cell_type": "code",
   "execution_count": 30,
   "id": "eda0691c",
   "metadata": {},
   "outputs": [
    {
     "name": "stdout",
     "output_type": "stream",
     "text": [
      "False\n"
     ]
    }
   ],
   "source": [
    "A={1,2,3,4,5}\n",
    "B={5,6,7,8,9,10,11}\n",
    "print(A.isdisjoint(B))"
   ]
  },
  {
   "cell_type": "code",
   "execution_count": 17,
   "id": "e56a4fa8",
   "metadata": {},
   "outputs": [
    {
     "name": "stdout",
     "output_type": "stream",
     "text": [
      "2000\n",
      "2002\n",
      "2004\n",
      "2006\n",
      "2008\n",
      "2020\n",
      "2022\n",
      "2024\n",
      "2026\n",
      "2028\n",
      "2040\n",
      "2042\n",
      "2044\n",
      "2046\n",
      "2048\n",
      "2060\n",
      "2062\n",
      "2064\n",
      "2066\n",
      "2068\n",
      "2080\n",
      "2082\n",
      "2084\n",
      "2086\n",
      "2088\n",
      "2200\n",
      "2202\n",
      "2204\n",
      "2206\n",
      "2208\n",
      "2220\n",
      "2222\n",
      "2224\n",
      "2226\n",
      "2228\n",
      "2240\n",
      "2242\n",
      "2244\n",
      "2246\n",
      "2248\n",
      "2260\n",
      "2262\n",
      "2264\n",
      "2266\n",
      "2268\n",
      "2280\n",
      "2282\n",
      "2284\n",
      "2286\n",
      "2288\n",
      "2400\n",
      "2402\n",
      "2404\n",
      "2406\n",
      "2408\n",
      "2420\n",
      "2422\n",
      "2424\n",
      "2426\n",
      "2428\n",
      "2440\n",
      "2442\n",
      "2444\n",
      "2446\n",
      "2448\n",
      "2460\n",
      "2462\n",
      "2464\n",
      "2466\n",
      "2468\n",
      "2480\n",
      "2482\n",
      "2484\n",
      "2486\n",
      "2488\n",
      "2600\n",
      "2602\n",
      "2604\n",
      "2606\n",
      "2608\n",
      "2620\n",
      "2622\n",
      "2624\n",
      "2626\n",
      "2628\n",
      "2640\n",
      "2642\n",
      "2644\n",
      "2646\n",
      "2648\n",
      "2660\n",
      "2662\n",
      "2664\n",
      "2666\n",
      "2668\n",
      "2680\n",
      "2682\n",
      "2684\n",
      "2686\n",
      "2688\n",
      "2800\n",
      "2802\n",
      "2804\n",
      "2806\n",
      "2808\n",
      "2820\n",
      "2822\n",
      "2824\n",
      "2826\n",
      "2828\n",
      "2840\n",
      "2842\n",
      "2844\n",
      "2846\n",
      "2848\n",
      "2860\n",
      "2862\n",
      "2864\n",
      "2866\n",
      "2868\n",
      "2880\n",
      "2882\n",
      "2884\n",
      "2886\n",
      "2888\n"
     ]
    }
   ],
   "source": [
    "for i in range(1000,3001):\n",
    "    a=str(i)\n",
    "    if int(a[0])%2==0 and int(a[1])%2==0 and int(a[2])%2==0 and int(a[3])%2==0:\n",
    "        print(a)"
   ]
  },
  {
   "cell_type": "code",
   "execution_count": 20,
   "id": "5ab809ac",
   "metadata": {},
   "outputs": [
    {
     "data": {
      "text/plain": [
       "1"
      ]
     },
     "execution_count": 20,
     "metadata": {},
     "output_type": "execute_result"
    }
   ],
   "source": [
    "101%2"
   ]
  },
  {
   "cell_type": "code",
   "execution_count": null,
   "id": "d81281e0",
   "metadata": {},
   "outputs": [],
   "source": []
  },
  {
   "cell_type": "code",
   "execution_count": null,
   "id": "226558e6",
   "metadata": {},
   "outputs": [],
   "source": []
  },
  {
   "cell_type": "code",
   "execution_count": null,
   "id": "99cf53a4",
   "metadata": {},
   "outputs": [],
   "source": []
  },
  {
   "cell_type": "code",
   "execution_count": 2,
   "id": "c9f2c38d",
   "metadata": {},
   "outputs": [
    {
     "name": "stdout",
     "output_type": "stream",
     "text": [
      "enter asilent\n",
      "enterlistan\n",
      "anagram\n",
      "anagram\n",
      "anagram\n",
      "not anagram\n",
      "anagram\n",
      "anagram\n"
     ]
    }
   ],
   "source": [
    "# anagram\n",
    "# silent\n",
    "# listn\n",
    "a=input('enter a')\n",
    "b=input('enter')\n",
    "c=''\n",
    "d=''\n",
    "for i in a:\n",
    "    if i.isupper():\n",
    "        i=i.lower()\n",
    "        c+=i\n",
    "    else:\n",
    "        c+=i\n",
    "\n",
    "for j in b:\n",
    "    if j.isupper():\n",
    "        j=j.lower()\n",
    "        d+=j\n",
    "    else:\n",
    "        d+=j\n",
    "        \n",
    "        \n",
    "\n",
    "if len(c)==len(d):\n",
    "    for i in c:\n",
    "        if i in d:\n",
    "            for k in d:\n",
    "                if k in c:\n",
    "                    print('anagram')\n",
    "                    break\n",
    "                else:\n",
    "                    print('not anagram')\n",
    "        else:\n",
    "            print('not anagram' )\n",
    "            \n",
    "else:\n",
    "    print('not anagram')\n",
    "    \n",
    "\n",
    "\n",
    "\n",
    "\n"
   ]
  },
  {
   "cell_type": "code",
   "execution_count": 76,
   "id": "62483b97",
   "metadata": {},
   "outputs": [
    {
     "name": "stdout",
     "output_type": "stream",
     "text": [
      "Enter 1st stringSilant\n",
      "Enter 2nd stringlisten\n",
      "{'l', 'e', 's', 'n', 'i', 't'}\n",
      "{'S', 'a', 'l', 'n', 'i', 't'}\n",
      "{'S', 'a'}\n",
      "string is not equal\n"
     ]
    }
   ],
   "source": [
    "a=set()\n",
    "m=set()\n",
    "l=set()\n",
    "n=input(\"Enter 1st string\")\n",
    "b=input(\"Enter 2nd string\")\n",
    "for i in range(0,len(n)):\n",
    "    a.add(n[i])\n",
    "#     k+=1\n",
    "for z in range(0,len(b)):\n",
    "    m.add(b[z])\n",
    "#     t+=1\n",
    "print(m)\n",
    "print(a)\n",
    "l=a-m\n",
    "print(l)\n",
    "if(l==set()):\n",
    "    print(\"string is equal\")\n",
    "else:\n",
    "    print(\"string is not equal\")"
   ]
  },
  {
   "cell_type": "code",
   "execution_count": null,
   "id": "1e0eb63a",
   "metadata": {},
   "outputs": [],
   "source": [
    "5\n",
    "85\n",
    "45\n",
    "56\n",
    "65\n",
    "46 "
   ]
  },
  {
   "cell_type": "code",
   "execution_count": 68,
   "id": "cec3f158",
   "metadata": {},
   "outputs": [
    {
     "name": "stdout",
     "output_type": "stream",
     "text": [
      "5\n",
      "enter n85\n",
      "enter n45\n",
      "enter n15\n",
      "enter n25\n",
      "enter n35\n",
      "No\n"
     ]
    }
   ],
   "source": [
    "N=int(input())\n",
    "t=''\n",
    "for i in range(1,N+1):\n",
    "    n=int(input('enter n'))\n",
    "    t=t+str(n)[-1]\n",
    "if int(t)%10==0:\n",
    "    print('yes')\n",
    "else:\n",
    "    print('No')\n",
    "    \n",
    "    \n",
    "\n",
    "\n"
   ]
  },
  {
   "cell_type": "code",
   "execution_count": 74,
   "id": "168f9dd6",
   "metadata": {},
   "outputs": [
    {
     "name": "stdout",
     "output_type": "stream",
     "text": [
      "2\n"
     ]
    }
   ],
   "source": [
    "x='249374'\n",
    "y=int(x[0])\n",
    "z=y%10\n",
    "print(z)"
   ]
  },
  {
   "cell_type": "code",
   "execution_count": 75,
   "id": "211302d5",
   "metadata": {},
   "outputs": [
    {
     "data": {
      "text/plain": [
       "2"
      ]
     },
     "execution_count": 75,
     "metadata": {},
     "output_type": "execute_result"
    }
   ],
   "source": [
    "2%10"
   ]
  },
  {
   "cell_type": "code",
   "execution_count": 70,
   "id": "ade120dc",
   "metadata": {},
   "outputs": [
    {
     "name": "stdout",
     "output_type": "stream",
     "text": [
      "<class 'int'>\n"
     ]
    }
   ],
   "source": [
    "print(type(x))"
   ]
  },
  {
   "cell_type": "code",
   "execution_count": 3,
   "id": "e5541290",
   "metadata": {},
   "outputs": [
    {
     "name": "stdout",
     "output_type": "stream",
     "text": [
      "<class 'set'>\n"
     ]
    }
   ],
   "source": [
    "a=set()\n",
    "print(type(a))"
   ]
  },
  {
   "cell_type": "code",
   "execution_count": 4,
   "id": "8a27d943",
   "metadata": {},
   "outputs": [],
   "source": [
    "a.add('apple')"
   ]
  },
  {
   "cell_type": "code",
   "execution_count": 5,
   "id": "863a80ad",
   "metadata": {},
   "outputs": [
    {
     "name": "stdout",
     "output_type": "stream",
     "text": [
      "{'apple'}\n"
     ]
    }
   ],
   "source": [
    "print(a)"
   ]
  },
  {
   "cell_type": "code",
   "execution_count": 53,
   "id": "ac5ca107",
   "metadata": {},
   "outputs": [
    {
     "name": "stdout",
     "output_type": "stream",
     "text": [
      "2000,2002,2004,2006,2008,2020,2022,2024,2026,2028,2040,2042,2044,2046,2048,2060,2062,2064,2066,2068,2080,2082,2084,2086,2088,2200,2202,2204,2206,2208,2220,2222,2224,2226,2228,2240,2242,2244,2246,2248,2260,2262,2264,2266,2268,2280,2282,2284,2286,2288,2400,2402,2404,2406,2408,2420,2422,2424,2426,2428,2440,2442,2444,2446,2448,2460,2462,2464,2466,2468,2480,2482,2484,2486,2488,2600,2602,2604,2606,2608,2620,2622,2624,2626,2628,2640,2642,2644,2646,2648,2660,2662,2664,2666,2668,2680,2682,2684,2686,2688,2800,2802,2804,2806,2808,2820,2822,2824,2826,2828,2840,2842,2844,2846,2848,2860,2862,2864,2866,2868,2880,2882,2884,2886,2888,"
     ]
    }
   ],
   "source": [
    "for i in range(1000,3001):\n",
    "    a=str(i)\n",
    "    if int(a[0])%2==0 and int(a[1])%2==0 and int(a[2])%2==0 and int(a[3])%2==0:\n",
    "        print(a,end=',')\n",
    "    else:\n",
    "        pass\n",
    "    "
   ]
  },
  {
   "cell_type": "code",
   "execution_count": 69,
   "id": "70fe102e",
   "metadata": {},
   "outputs": [
    {
     "name": "stdout",
     "output_type": "stream",
     "text": [
      "87\n"
     ]
    }
   ],
   "source": []
  },
  {
   "cell_type": "code",
   "execution_count": 47,
   "id": "71f9cd66",
   "metadata": {},
   "outputs": [
    {
     "name": "stdout",
     "output_type": "stream",
     "text": [
      "[1, 2, 3, 4, 5, 6]\n"
     ]
    }
   ],
   "source": [
    "L=[1,1,2,1,2,4,2,4,3,6,2,5,2]\n",
    "print(list(set(L)))"
   ]
  },
  {
   "cell_type": "code",
   "execution_count": null,
   "id": "30cbf952",
   "metadata": {},
   "outputs": [],
   "source": [
    "l=[1,2,3,4,5,6]"
   ]
  },
  {
   "cell_type": "code",
   "execution_count": 83,
   "id": "f52be713",
   "metadata": {},
   "outputs": [
    {
     "name": "stdout",
     "output_type": "stream",
     "text": [
      "2000\n",
      "2002\n",
      "2004\n",
      "2006\n",
      "2008\n",
      "2020\n",
      "2022\n",
      "2024\n",
      "2026\n",
      "2028\n",
      "2040\n",
      "2042\n",
      "2044\n",
      "2046\n",
      "2048\n",
      "2060\n",
      "2062\n",
      "2064\n",
      "2066\n",
      "2068\n",
      "2080\n",
      "2082\n",
      "2084\n",
      "2086\n",
      "2088\n",
      "2200\n",
      "2202\n",
      "2204\n",
      "2206\n",
      "2208\n",
      "2220\n",
      "2222\n",
      "2224\n",
      "2226\n",
      "2228\n",
      "2240\n",
      "2242\n",
      "2244\n",
      "2246\n",
      "2248\n",
      "2260\n",
      "2262\n",
      "2264\n",
      "2266\n",
      "2268\n",
      "2280\n",
      "2282\n",
      "2284\n",
      "2286\n",
      "2288\n",
      "2400\n",
      "2402\n",
      "2404\n",
      "2406\n",
      "2408\n",
      "2420\n",
      "2422\n",
      "2424\n",
      "2426\n",
      "2428\n",
      "2440\n",
      "2442\n",
      "2444\n",
      "2446\n",
      "2448\n",
      "2460\n",
      "2462\n",
      "2464\n",
      "2466\n",
      "2468\n",
      "2480\n",
      "2482\n",
      "2484\n",
      "2486\n",
      "2488\n",
      "2600\n",
      "2602\n",
      "2604\n",
      "2606\n",
      "2608\n",
      "2620\n",
      "2622\n",
      "2624\n",
      "2626\n",
      "2628\n",
      "2640\n",
      "2642\n",
      "2644\n",
      "2646\n",
      "2648\n",
      "2660\n",
      "2662\n",
      "2664\n",
      "2666\n",
      "2668\n",
      "2680\n",
      "2682\n",
      "2684\n",
      "2686\n",
      "2688\n",
      "2800\n",
      "2802\n",
      "2804\n",
      "2806\n",
      "2808\n",
      "2820\n",
      "2822\n",
      "2824\n",
      "2826\n",
      "2828\n",
      "2840\n",
      "2842\n",
      "2844\n",
      "2846\n",
      "2848\n",
      "2860\n",
      "2862\n",
      "2864\n",
      "2866\n",
      "2868\n",
      "2880\n",
      "2882\n",
      "2884\n",
      "2886\n",
      "2888\n"
     ]
    }
   ],
   "source": [
    "for i in range(1000,3001):\n",
    "    a=str(i)\n",
    "    if int(a[0])%2==0 and int(a[1])%2==0 and int(a[2])%2==0 and int(a[3])%2==0:\n",
    "        print(int(a))"
   ]
  },
  {
   "cell_type": "code",
   "execution_count": null,
   "id": "af74e1e7",
   "metadata": {},
   "outputs": [],
   "source": []
  },
  {
   "cell_type": "code",
   "execution_count": 81,
   "id": "7dfd9c04",
   "metadata": {},
   "outputs": [
    {
     "data": {
      "text/plain": [
       "44"
      ]
     },
     "execution_count": 81,
     "metadata": {},
     "output_type": "execute_result"
    }
   ],
   "source": [
    "np.random.randint(1,100)"
   ]
  },
  {
   "cell_type": "code",
   "execution_count": 97,
   "id": "5e0d4fc8",
   "metadata": {},
   "outputs": [],
   "source": [
    "D='madamm'"
   ]
  },
  {
   "cell_type": "code",
   "execution_count": 98,
   "id": "fdf24246",
   "metadata": {},
   "outputs": [
    {
     "data": {
      "text/plain": [
       "{'M': 2, 'a': 2, 'd': 1}"
      ]
     },
     "execution_count": 98,
     "metadata": {},
     "output_type": "execute_result"
    }
   ],
   "source": [
    "{'M':2,'a':2,'d':1}"
   ]
  },
  {
   "cell_type": "code",
   "execution_count": 99,
   "id": "ca03cba4",
   "metadata": {},
   "outputs": [
    {
     "name": "stdout",
     "output_type": "stream",
     "text": [
      "{'m': 3, 'a': 2, 'd': 1}\n"
     ]
    }
   ],
   "source": [
    "x={i:D.count(i) for i in D }\n",
    "print(x)"
   ]
  },
  {
   "cell_type": "code",
   "execution_count": 100,
   "id": "ac95b2d2",
   "metadata": {},
   "outputs": [
    {
     "name": "stdout",
     "output_type": "stream",
     "text": [
      "{'m': 3, 'a': 2, 'd': 1}\n"
     ]
    }
   ],
   "source": [
    "Y={}\n",
    "for i in D:\n",
    "    Y[i]=D.count(i)\n",
    "print(Y)"
   ]
  },
  {
   "cell_type": "code",
   "execution_count": 106,
   "id": "e2e8785d",
   "metadata": {},
   "outputs": [
    {
     "name": "stdout",
     "output_type": "stream",
     "text": [
      "enter n 5\n",
      "enter a 22\n",
      "enter a 27\n",
      "enter a 65\n",
      "enter a 99\n",
      "enter a 11\n",
      "27591\n"
     ]
    }
   ],
   "source": [
    "# 6 input\n",
    "# 85\n",
    "# 86\n",
    "# 32\n",
    "# 21\n",
    "# 50\n",
    "\n",
    "# 56210 %10\n",
    "s=''\n",
    "n=int(input('enter n '))\n",
    "for i in range(n):\n",
    "    a=int(input('enter a '))\n",
    "#     a=str(a)\n",
    "\n",
    "    d=a%10\n",
    "    s=s+str(d)\n",
    "    \n",
    "print(s)\n",
    "if int(s)%10==    \n"
   ]
  },
  {
   "cell_type": "code",
   "execution_count": null,
   "id": "ae601b53",
   "metadata": {},
   "outputs": [],
   "source": [
    "n=[22,31,43,94,75,11]\n",
    "k=[22,31,43]\n",
    "m=[24,25,26]\n",
    "234456"
   ]
  },
  {
   "cell_type": "code",
   "execution_count": null,
   "id": "4c0514c6",
   "metadata": {},
   "outputs": [],
   "source": []
  },
  {
   "cell_type": "code",
   "execution_count": null,
   "id": "c41eae46",
   "metadata": {},
   "outputs": [],
   "source": []
  },
  {
   "cell_type": "code",
   "execution_count": null,
   "id": "2423e8d2",
   "metadata": {},
   "outputs": [],
   "source": [
    "# You are provided an list A of size N that contains non-negative integers. \n",
    "# Your task is to determine \n",
    "# whether the number that is formed by selecting the last digit of all the N numbers is divisible by 10\n",
    "# Input format\n",
    "# First line: A single integer N  denoting the size of array A\n",
    "# Second line: N space-separated integers.\n",
    "# Output format\n",
    "# If the number is divisible by 10, then print Yes. Otherwise, print No.\n",
    "# Sample Input\n",
    "# 85 25 65 21 84\n",
    "# Sample Output\n",
    "# No\n",
    "# Explanation\n",
    "# Last digit 85 of  is 5 .\n",
    "# Last digit of 25  is 5 .\n",
    "# Last digit of 65 is 5 .\n",
    "# Last digit of 21  is 1.\n",
    "# Last digit of 84 is 4.\n",
    "# Therefore the number formed is 55514 which is not divisible by 10 ."
   ]
  },
  {
   "cell_type": "code",
   "execution_count": 41,
   "id": "43f38d6c",
   "metadata": {},
   "outputs": [
    {
     "name": "stdout",
     "output_type": "stream",
     "text": [
      "85 25 65 21 84\n",
      "['85', '25', '65', '21', '84']\n"
     ]
    }
   ],
   "source": [
    "x=input().split(' ')\n",
    "print(x)"
   ]
  },
  {
   "cell_type": "code",
   "execution_count": null,
   "id": "e7fcfd26",
   "metadata": {},
   "outputs": [],
   "source": [
    "['85', '25', '65', '21', '84','55']"
   ]
  },
  {
   "cell_type": "code",
   "execution_count": null,
   "id": "1c49a5f3",
   "metadata": {},
   "outputs": [],
   "source": [
    "# You are given an array A  of size N  that contains integers. Here,  is an even number. \n",
    "# You are required to perform the following operations:\n",
    "\n",
    "# Divide the array of numbers in two equal halves\n",
    "# Note: Here, two equal parts of a test case are created by dividing the array into two equal parts.\n",
    "# Take the first digit of the numbers that are available in the first half of the array (first 50% of the test case)\n",
    "# Take the last digit of the numbers that are available in the second half of the array (second 50% of the test case)\n",
    "# Generate a number by using the digits that have been selected in the above steps\n",
    "# Your task is to determine whether the newly-generated number is divisible by 11.\n",
    "\n",
    "# Input format\n",
    "# First line: A single integer N denoting the size of array A \n",
    "# Second line: N space-separated integers denoting the elements of array A \n",
    "# Output format\n",
    "# If the newly-generated number is divisible by 11 , then print OUI . Otherwise, print NON ."
   ]
  },
  {
   "cell_type": "code",
   "execution_count": null,
   "id": "8c54958a",
   "metadata": {},
   "outputs": [],
   "source": []
  }
 ],
 "metadata": {
  "kernelspec": {
   "display_name": "Python 3 (ipykernel)",
   "language": "python",
   "name": "python3"
  },
  "language_info": {
   "codemirror_mode": {
    "name": "ipython",
    "version": 3
   },
   "file_extension": ".py",
   "mimetype": "text/x-python",
   "name": "python",
   "nbconvert_exporter": "python",
   "pygments_lexer": "ipython3",
   "version": "3.9.7"
  }
 },
 "nbformat": 4,
 "nbformat_minor": 5
}
